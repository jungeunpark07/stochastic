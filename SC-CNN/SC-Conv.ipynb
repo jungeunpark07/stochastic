{
 "cells": [
  {
   "cell_type": "markdown",
   "id": "a608e2c9-cfd4-48bb-a2f9-7f2a0ad9ba27",
   "metadata": {},
   "source": [
    "# SC-Conv model"
   ]
  },
  {
   "cell_type": "code",
   "execution_count": 1,
   "id": "6f5c33aa-5ec7-461e-abcf-1360c13c9f99",
   "metadata": {},
   "outputs": [],
   "source": [
    "import torch"
   ]
  },
  {
   "cell_type": "code",
   "execution_count": 2,
   "id": "e9bfc6a6-9a66-4993-84d3-9efbcd765e22",
   "metadata": {},
   "outputs": [
    {
     "name": "stderr",
     "output_type": "stream",
     "text": [
      "/usr/local/lib/python3.6/dist-packages/torchvision/io/image.py:11: UserWarning: Failed to load image Python extension: libc10_cuda.so: cannot open shared object file: No such file or directory\n",
      "  warn(f\"Failed to load image Python extension: {e}\")\n"
     ]
    }
   ],
   "source": [
    "import argparse\n",
    "from torchsummary import summary\n",
    "import tqdm\n",
    "from tqdm import tqdm_notebook as tq\n",
    "import os, time, math, copy ,random\n",
    "import numpy as np\n",
    "import torch\n",
    "import torch.nn as nn\n",
    "import torchvision.transforms as transforms\n",
    "import torchvision.datasets as datasets\n",
    "import torch.nn.functional as F\n",
    "import torch.optim as optim\n",
    "from torch.autograd import Variable\n",
    "from collections import namedtuple\n",
    "import matplotlib.pyplot as plt\n",
    "\n",
    "torch.set_printoptions(precision=8, linewidth=50000)\n",
    "import warnings\n",
    "warnings.filterwarnings(action='ignore')\n"
   ]
  },
  {
   "cell_type": "code",
   "execution_count": 3,
   "id": "62f268b1-5c6a-47e0-9bec-b58bf484e157",
   "metadata": {},
   "outputs": [],
   "source": [
    "parser = argparse.ArgumentParser(description='fixed_mac')\n",
    "parser.add_argument('--full_bits', type=int, default=16, help='Number of Quantization Bits')\n",
    "parser.add_argument('--frac_bits', type=int, default=8, help='Number of Quantization Bits')\n",
    "parser.add_argument('--bBW', type=int, default=7, help='Number of bit width')\n",
    "args = parser.parse_args(args=[])"
   ]
  },
  {
   "cell_type": "markdown",
   "id": "de8c9c86-ca75-42f7-b63d-cf6ac4e96869",
   "metadata": {},
   "source": [
    "## Definition"
   ]
  },
  {
   "cell_type": "code",
   "execution_count": 4,
   "id": "72ac58ea-22c4-453c-836c-4333ff64e052",
   "metadata": {},
   "outputs": [],
   "source": [
    "def int2bin(iIn,iBW):\n",
    "    iBW = iBW + 1\n",
    "    if iIn >= 0:\n",
    "        bOut = bin(iIn).replace('0b','').rjust(iBW,'0')\n",
    "    else :\n",
    "        bOut = bin(iIn & (pow(2,iBW)-1)).replace('0b','').rjust(iBW,'1')\n",
    "    return bOut[1:]"
   ]
  },
  {
   "cell_type": "code",
   "execution_count": 5,
   "id": "849a71d2-1522-4a96-98fa-2fde68e21442",
   "metadata": {},
   "outputs": [],
   "source": [
    "def XOR(iA,iB):\n",
    "    if iA != iB :\n",
    "        iOut = '1'\n",
    "    else : \n",
    "        iOut = '0'\n",
    "    return iOut"
   ]
  },
  {
   "cell_type": "code",
   "execution_count": 6,
   "id": "436d7f5f-4a71-41c4-bf8e-84387d5a9834",
   "metadata": {},
   "outputs": [],
   "source": [
    "def snum(a):\n",
    "    if a >= 0 :\n",
    "        return '0'\n",
    "    else :\n",
    "        return '1'"
   ]
  },
  {
   "cell_type": "code",
   "execution_count": 7,
   "id": "7a8a52d5-fef2-4ad0-bfa5-d6bc6de23ba5",
   "metadata": {},
   "outputs": [],
   "source": [
    "def binInv(bIn):\n",
    "    bOut = bin(int(bIn,2)^(pow(2,len(bIn))-1)).replace('0b','').rjust(len(bIn),'0')\n",
    "    return bOut"
   ]
  },
  {
   "cell_type": "code",
   "execution_count": 8,
   "id": "5269d280-d0ce-4cfe-abb4-d9b67b829c76",
   "metadata": {},
   "outputs": [],
   "source": [
    "class fxp:\n",
    "    def __init__(self, bIn, iBWF):\n",
    "        self.iFullBW = len(bIn)\n",
    "        self.iIntgBW = self.iFullBW - iBWF\n",
    "        self.bSign = bIn[0]\n",
    "        self.bIntg = bIn[:self.iIntgBW]\n",
    "        self.bFrac = bIn[self.iIntgBW:]\n",
    "        self.fFull = 0\n",
    "        try:\n",
    "            for idx, bit in enumerate(bIn):\n",
    "                if idx == 0:\n",
    "                    self.fFull = self.fFull + int(bit,2) * -pow(2, self.iIntgBW - 1)\n",
    "                else:\n",
    "                    self.fFull = self.fFull + int(bit,2) * pow(2, self.iIntgBW - 1 - idx)\n",
    "        except:\n",
    "            print(bIn)\n",
    "        self.dispFull = self.bIntg +\".\"+ self.bFrac \n",
    "        return"
   ]
  },
  {
   "cell_type": "code",
   "execution_count": 9,
   "id": "ee4aa4da-b45d-4d7b-871e-314d0e2721da",
   "metadata": {},
   "outputs": [],
   "source": [
    "class flp2fix:\n",
    "    def __init__(self, fIn, iBW, iBWF):\n",
    "        self.fMin = - 2 ** (iBW - iBWF - 1)\n",
    "        self.fMax = (2 ** (iBW-1) - 1) * (2 ** -iBWF)\n",
    "        self.fResol = 2 ** -iBWF\n",
    "        if fIn < self.fMin or fIn > self.fMax:\n",
    "            print(f'({fIn}): Out of input range ({self.fMax}/{self.fMin}) during flp -> fix converting ')\n",
    "        self.iBW = iBW\n",
    "        self.iBWI = iBW - iBWF\n",
    "        self.iBWF = iBWF\n",
    "\n",
    "        self.iFLP2INT = abs(int(fIn * 2 ** iBWF))\n",
    "        if fIn < 0:\n",
    "            self.iFLP2INT = 2 ** (iBW-1) - self.iFLP2INT\n",
    "\n",
    "        if fIn >= 0:\n",
    "            self.bFull = bin(self.iFLP2INT)[2:].rjust(iBW, '0')\n",
    "        else:\n",
    "            self.bFull = '1'+bin(self.iFLP2INT)[2:].rjust(iBW-1, '0')\n",
    "            if len(self.bFull) > iBW:\n",
    "                self.bFull = '0' * iBW\n",
    "\n",
    "        self.cssFxp = fxp(self.bFull, self.iBWF)\n",
    "        self.bSign = self.cssFxp.bSign\n",
    "        self.bIntg = self.cssFxp.bIntg\n",
    "        self.bFrac = self.cssFxp.bFrac\n",
    "        self.fFull = self.cssFxp.fFull\n",
    "        return"
   ]
  },
  {
   "cell_type": "code",
   "execution_count": 10,
   "id": "7bd82fa8-7685-4f4a-9bb9-d004713ae3a6",
   "metadata": {},
   "outputs": [],
   "source": [
    "def flp2fixTensor(fIn, iBW, iBWF):\n",
    "    fMin = - 2 ** (iBW - iBWF - 1)\n",
    "    fMax = (2 ** (iBW-1) - 1) * (2 ** -iBWF)\n",
    "    fList = []\n",
    "    for aTensor in fIn.view(-1):\n",
    "        fList.append(flp2fix(aTensor, iBW, iBWF).fFull)\n",
    "    return torch.tensor(fList).view(fIn.size())"
   ]
  },
  {
   "cell_type": "code",
   "execution_count": 11,
   "id": "e0d97fe4-1a09-4b86-84cc-5f38e58c7b7e",
   "metadata": {},
   "outputs": [],
   "source": [
    "class LFSR7:\n",
    "    def Random(self):\n",
    "        self.b0 = eval(f'str(random.randint(0,1))')\n",
    "        self.b1 = eval(f'str(random.randint(0,1))')\n",
    "        self.b2 = eval(f'str(random.randint(0,1))')\n",
    "        self.b3 = eval(f'str(random.randint(0,1))')\n",
    "        self.b4 = eval(f'str(random.randint(0,1))')\n",
    "        self.b5 = eval(f'str(random.randint(0,1))')\n",
    "        self.b6 = eval(f'str(random.randint(0,1))')\n",
    "        if int(self.b0) + int(self.b1) + int(self.b2) + int(self.b3) + int(self.b4) + int(self.b5) + int(self.b6) == 0 :\n",
    "            self.b0 = eval(f'str(random.randint(0,1))')\n",
    "            self.b1 = eval(f'str(random.randint(0,1))')\n",
    "            self.b2 = eval(f'str(random.randint(0,1))')\n",
    "            self.b3 = eval(f'str(random.randint(0,1))')\n",
    "            self.b4 = eval(f'str(random.randint(0,1))')\n",
    "            self.b5 = eval(f'str(random.randint(0,1))')\n",
    "            self.b6 = eval(f'str(random.randint(0,1))')\n",
    "        return self.b0 + self.b1 + self.b2 + self.b3 + self.b4 + self.b5 + self.b6\n",
    "    \n",
    "    def Normal(self,stream):\n",
    "        self.b0 = XOR(int(stream[5]),int(stream[6]))\n",
    "        self.b1 = stream[0]\n",
    "        self.b2 = stream[1]\n",
    "        self.b3 = stream[2]\n",
    "        self.b4 = stream[3]\n",
    "        self.b5 = stream[4]\n",
    "        self.b6 = stream[5]\n",
    "        \n",
    "        return self.b0 + self.b1 + self.b2 + self.b3 + self.b4 + self.b5 + self.b6\n",
    "    \n",
    "    def Allzero(self):\n",
    "        self.b0 = '0'\n",
    "        self.b1 = '0'\n",
    "        self.b2 = '0'\n",
    "        self.b3 = '0'\n",
    "        self.b4 = '0'\n",
    "        self.b5 = '0'\n",
    "        self.b6 = '0'\n",
    "        \n",
    "        return self.b0 + self.b1 + self.b2 + self.b3 + self.b4 + self.b5 + self.b6"
   ]
  },
  {
   "cell_type": "code",
   "execution_count": 12,
   "id": "60fbd06d-e1cc-40e2-b794-1dbc44c08a15",
   "metadata": {},
   "outputs": [],
   "source": [
    "def LFSRlist7():\n",
    "    lfsr = LFSR7()\n",
    "    lfsrlist = []\n",
    "    for k in range(2**(args.bBW)-1): #lfsr number generating\n",
    "        if k == 0:\n",
    "            lfsrlist.append(lfsr.Random())\n",
    "        else :\n",
    "            lfsrlist.append(lfsr.Normal(lfsrlist[k-1]))\n",
    "        if (k == 2**(args.bBW)-2):\n",
    "            lfsrlist.append(lfsr.Allzero())\n",
    "    \n",
    "    if (args.bBW) != args.frac_bits :\n",
    "        if args.bBW < args.frac_bits :\n",
    "            for i in range(len(lfsrlist)):\n",
    "                lfsrlist[i] = lfsrlist[i] + (args.frac_bits-args.bBW)*'0'\n",
    "        else :\n",
    "            print(\"it can't work\")\n",
    "            return 0\n",
    "    \n",
    "    return lfsrlist"
   ]
  },
  {
   "cell_type": "code",
   "execution_count": 13,
   "id": "5db66406-6269-4114-a3c9-2223c8101f92",
   "metadata": {},
   "outputs": [],
   "source": [
    "def Comp(a,lfsr,snum):\n",
    "    for com in range(0,len(a)):\n",
    "        oA = '0'\n",
    "        if a[com]!=lfsr[com]:\n",
    "            if(int(a[com]) > int(lfsr[com])):\n",
    "                oA = '1'\n",
    "            break\n",
    "    return XOR(oA,snum)"
   ]
  },
  {
   "cell_type": "code",
   "execution_count": 14,
   "id": "b2316dc0-4e40-42b0-b920-ae3f1d3f692d",
   "metadata": {},
   "outputs": [],
   "source": [
    "def perm(a):\n",
    "    al = len(a)\n",
    "    blist = []\n",
    "    if args.frac_bits == args.bBW : \n",
    "        for i in range(al) :\n",
    "            blist.append(a[al-i-1])\n",
    "    elif args.frac_bits > args.bBW :\n",
    "        for i in range(al-(args.frac_bits-args.bBW)) :\n",
    "            blist.append((a[al-(args.frac_bits-args.bBW)-i-1]))\n",
    "    b = \"\".join(blist)\n",
    "    b = b + ('0'*(args.frac_bits-args.bBW))\n",
    "    return b"
   ]
  },
  {
   "cell_type": "code",
   "execution_count": 15,
   "id": "d5728801-f7b8-4703-b1fb-406053624db9",
   "metadata": {},
   "outputs": [],
   "source": [
    "def findMaxMin(data):\n",
    "    max = torch.max(data)\n",
    "    min = torch.min(data)\n",
    "    SF=torch.max(abs(max),abs(min)).item()\n",
    "    return SF"
   ]
  },
  {
   "cell_type": "code",
   "execution_count": 16,
   "id": "dcdf083f-7b1b-430b-922c-07b2f0c49643",
   "metadata": {},
   "outputs": [],
   "source": [
    "def CountOne(nIn):\n",
    "    nlist = []\n",
    "    for num in nIn.reshape(-1):\n",
    "        n = 0\n",
    "        for a in num:\n",
    "            if a == '1' :\n",
    "                n += 1\n",
    "        if num[0] == '1' :\n",
    "            nlist.append(n-1)\n",
    "        else :\n",
    "            nlist.append(n)\n",
    "    return torch.tensor(nlist).view(nIn.shape)"
   ]
  },
  {
   "cell_type": "code",
   "execution_count": 17,
   "id": "283dd5d2-d285-44e3-b25c-de3af792c690",
   "metadata": {},
   "outputs": [],
   "source": [
    "def defSign(nIn):\n",
    "    nlist = []\n",
    "    for num in nIn.reshape(-1):\n",
    "        if num[0] == '1' :\n",
    "            nlist.append(-1)\n",
    "        else :\n",
    "            nlist.append(1)\n",
    "    return torch.tensor(nlist).view(nIn.shape)"
   ]
  },
  {
   "cell_type": "markdown",
   "id": "26476d31-c2cf-4fd5-86db-79b4987e2ff6",
   "metadata": {},
   "source": [
    "## SC-MAC"
   ]
  },
  {
   "cell_type": "markdown",
   "id": "d626517d-9ba5-4d89-8e5f-5d49b26a0edb",
   "metadata": {},
   "source": [
    "### SNG"
   ]
  },
  {
   "cell_type": "code",
   "execution_count": 18,
   "id": "5d53e33e-ef79-43ef-9b61-98a4476cb7fb",
   "metadata": {},
   "outputs": [],
   "source": [
    "def SNG(iIN,lfsr):\n",
    "    if iIN == 1:\n",
    "        iIN = 0.9999\n",
    "    sNUM = snum(iIN)\n",
    "    \n",
    "    bIN = flp2fix(iIN,args.full_bits,args.frac_bits).bFull\n",
    "    bFRAC = bIN[-(args.frac_bits):]\n",
    "    if sNUM == 1 :\n",
    "        bFRAC = bin(int(binInv(bFRAC),2)+1).replace('0b','').rjust(args.bBW,'0')\n",
    "    oAlist = []\n",
    "    \n",
    "    for k in range(2**(args.bBW)): #lfsr number generating\n",
    "        lNUM = lfsr[k]\n",
    "        a = Comp(bFRAC,lNUM,sNUM)\n",
    "        oAlist.append(a) #comparator of input a\n",
    "    \n",
    "    oAlist.insert(0,sNUM)\n",
    "    sA = \"\".join(oAlist)\n",
    "    if bIN == args.full_bits*'0' :\n",
    "        return '0'*(2**(args.bBW)+1)\n",
    "    else :\n",
    "        return sA"
   ]
  },
  {
   "cell_type": "code",
   "execution_count": 19,
   "id": "1fd694df-ae8f-4c27-bc75-5e40d80ebdc1",
   "metadata": {},
   "outputs": [],
   "source": [
    "def SngNumpy(fIn,lfsr):\n",
    "    sList = []\n",
    "    for aNumpy in fIn.view(-1):\n",
    "        sList.append(SNG(float(aNumpy),lfsr))\n",
    "                     \n",
    "    return np.array(sList).reshape(fIn.size())"
   ]
  },
  {
   "cell_type": "code",
   "execution_count": 20,
   "id": "e8bdfd32-38f6-4ace-b48e-d25c28174ef6",
   "metadata": {},
   "outputs": [],
   "source": [
    "def Sngp(iIN,lfsr):\n",
    "    if iIN == 1:\n",
    "        iIN = 0.9999\n",
    "    sNUM = snum(iIN)\n",
    "    \n",
    "    bIN = flp2fix(iIN,args.full_bits,args.frac_bits).bFull\n",
    "    bFRAC = bIN[-(args.frac_bits):]\n",
    "    if sNUM == 1 :\n",
    "        bFRAC = bin(int(binInv(bFRAC),2)+1).replace('0b','').rjust(args.bBW,'0')\n",
    "    oAlist = []\n",
    "    for k in range(2**(args.bBW)): #lfsr number generating    \n",
    "        lNUM = perm(lfsr[k])\n",
    "        a = Comp(bFRAC,lNUM,sNUM)\n",
    "        oAlist.append(a) #comparator of input a\n",
    "    \n",
    "    oAlist.insert(0,sNUM)\n",
    "    sA = \"\".join(oAlist)\n",
    "    \n",
    "    if bIN == args.full_bits*'0' :\n",
    "        return '0'*(2**(args.bBW)+1)\n",
    "    else :\n",
    "        return sA"
   ]
  },
  {
   "cell_type": "code",
   "execution_count": 21,
   "id": "e8b3941d-bcc2-4f82-bc6f-889c9057ec6d",
   "metadata": {},
   "outputs": [],
   "source": [
    "def SngpNumpy(fIn,lfsr):\n",
    "    sList = []\n",
    "    for aNumpy in fIn.view(-1):\n",
    "        sList.append(Sngp(float(aNumpy),lfsr))\n",
    "    return  np.array(sList).reshape(fIn.size())"
   ]
  },
  {
   "cell_type": "markdown",
   "id": "e4353bc9-cb09-4072-9c70-d0300453a12c",
   "metadata": {},
   "source": [
    "### Multiplier"
   ]
  },
  {
   "cell_type": "code",
   "execution_count": 22,
   "id": "2f528da6-2a35-4276-98f3-00f3a8987dfa",
   "metadata": {},
   "outputs": [],
   "source": [
    "def mul(a,b):\n",
    "    al = len(a)\n",
    "    bl = len(b)\n",
    "    \n",
    "    outlist = []\n",
    "    \n",
    "    if al != bl :\n",
    "        print(\"length of string is different\")\n",
    "        return 0\n",
    "    \n",
    "    outlist.append(XOR(a[0],b[0]))\n",
    "    \n",
    "    for i in range(al-1) :\n",
    "        outlist.append(str(int(a[i+1]) & int(b[i+1])))\n",
    "    \n",
    "    #print(outlist)\n",
    "    out = \"\".join(outlist)\n",
    "    \n",
    "    return out    "
   ]
  },
  {
   "cell_type": "code",
   "execution_count": 23,
   "id": "d980182c-e9a8-4f39-b059-8b0f813768dc",
   "metadata": {},
   "outputs": [],
   "source": [
    "def MulNumpy(aIn,wIn):\n",
    "    oList = []\n",
    "    for a,w in zip(aIn.reshape(-1),wIn.reshape(-1)):\n",
    "        oList.append(mul(a,w))\n",
    "    return np.array(oList)"
   ]
  },
  {
   "cell_type": "markdown",
   "id": "ecbf3b31-2702-4866-9c94-adc509d39456",
   "metadata": {},
   "source": [
    "### Converter"
   ]
  },
  {
   "cell_type": "code",
   "execution_count": 24,
   "id": "c9ef2d34-10cb-4716-afdf-ce31cf0832a2",
   "metadata": {},
   "outputs": [],
   "source": [
    "def Convert(sIn,SF):\n",
    "    s = defSign(sIn)\n",
    "    o = (CountOne(sIn)/(2**args.bBW))*SF*s\n",
    "    return o"
   ]
  },
  {
   "cell_type": "markdown",
   "id": "f8106a4b-cb4a-4a7f-bc20-f6538861ae24",
   "metadata": {},
   "source": [
    "## sc-mul module"
   ]
  },
  {
   "cell_type": "code",
   "execution_count": 25,
   "id": "ef6f30a1-0c7e-43c8-9f8b-5cb4e66738b8",
   "metadata": {},
   "outputs": [],
   "source": [
    "def SCmulTensor(aIn,wIn,aSF,wSF):\n",
    "    a = aIn/aSF\n",
    "    w = wIn/wSF\n",
    "    \n",
    "    lfsr = LFSRlist7()\n",
    "    \n",
    "    Sa = SngNumpy(a,lfsr)\n",
    "    Sw = SngpNumpy(w,lfsr)\n",
    "\n",
    "    \n",
    "    \n",
    "    Smul = MulNumpy(Sa,Sw)\n",
    "    \n",
    "    Bout = Convert(Smul,aSF*wSF)\n",
    "    \n",
    "    return Bout"
   ]
  },
  {
   "cell_type": "markdown",
   "id": "c4f87869-a5c0-43ba-a2ac-037889298e23",
   "metadata": {},
   "source": [
    "### TEST"
   ]
  },
  {
   "cell_type": "code",
   "execution_count": 35,
   "id": "039543ef-6236-4de4-b25e-89cd248e6a82",
   "metadata": {},
   "outputs": [],
   "source": [
    "act = torch.rand((6,1,32,32))-torch.randint(5,(6,1,32,32))+torch.randint(5,(6,1,32,32))\n",
    "wei = torch.rand((1,1,5,5))-torch.randint(5,(1,1,5,5))+torch.randint(5,(1,1,5,5))"
   ]
  },
  {
   "cell_type": "code",
   "execution_count": 36,
   "id": "cabf7926-e3f7-4cab-9eec-98eed3fa2cff",
   "metadata": {},
   "outputs": [],
   "source": [
    "aSF = findMaxMin(act)\n",
    "wSF = findMaxMin(wei)"
   ]
  },
  {
   "cell_type": "code",
   "execution_count": 37,
   "id": "9d1e1df8-a0a1-41e5-b693-c1b53c56e767",
   "metadata": {},
   "outputs": [],
   "source": [
    "out = SCmulTensor(act,wei,aSF,wSF)"
   ]
  },
  {
   "cell_type": "markdown",
   "id": "498106a6-b30e-4d0d-b8b9-66b340f4f40c",
   "metadata": {},
   "source": [
    "## SC-Conv"
   ]
  },
  {
   "cell_type": "code",
   "execution_count": 38,
   "id": "056df6f1-3dc4-4385-846e-6a81f7bb51ad",
   "metadata": {},
   "outputs": [],
   "source": [
    "def conv(X, filters, bias, stride=1, pad=0):\n",
    "    n, c, h, w = X.shape # 1, 1, 32, 32\n",
    "    n_f, _, filter_h, filter_w = filters.shape\n",
    "    out_h = (h+2*pad-filter_h)//stride + 1\n",
    "    out_w = (w+2*pad-filter_w)//stride + 1\n",
    "    # add padding to height and width.\n",
    "    in_X = F.pad(X,(0,0,0,0,pad,pad,pad,pad),\"constant\", 0)\n",
    "    out  = torch.zeros((n, n_f, out_h, out_w))\n",
    "    \n",
    "    for i in range(n): # for each image.\n",
    "        aSF = findMaxMin(in_X[i])\n",
    "        for c in range(n_f): # for each channel.\n",
    "            bSF = findMaxMin(filters[c])\n",
    "            for h in range(out_h): # slide the filter vertically.\n",
    "                h_start = h * stride\n",
    "                h_end = h_start + filter_h\n",
    "                for w in range(out_w): # slide the filter horizontally.\n",
    "                    w_start = w * stride\n",
    "                    w_end = w_start + filter_w\n",
    "                    # Element-wise multiplication.\n",
    "                    out[i, c, h, w] = torch.sum(in_X[i,:,h_start:h_end,w_start:w_end]*filters[c]) + bias[c]\n",
    "    \n",
    "    return out"
   ]
  },
  {
   "cell_type": "code",
   "execution_count": 39,
   "id": "cf144275-a965-4527-8bd2-30af4e102fcf",
   "metadata": {},
   "outputs": [],
   "source": [
    "c = conv(act, wei, (0,0), stride=1, pad=0)"
   ]
  },
  {
   "cell_type": "code",
   "execution_count": 40,
   "id": "d43c4a22-712c-4546-b8cc-f758775493c1",
   "metadata": {},
   "outputs": [],
   "source": [
    "def StoConv(X, filters, bias, stride=1, pad=0):\n",
    "    n, c, h, w = X.shape # 1, 1, 32, 32\n",
    "    n_f, _, filter_h, filter_w = filters.shape\n",
    "\n",
    "    out_h = (h+2*pad-filter_h)//stride + 1\n",
    "    out_w = (w+2*pad-filter_w)//stride + 1\n",
    "    # add padding to height and width.\n",
    "    in_X = F.pad(X,(0,0,0,0,pad,pad,pad,pad),\"constant\", 0)\n",
    "    out  = torch.zeros((n, n_f, out_h, out_w))\n",
    "    \n",
    "    for i in range(n): # for each image.\n",
    "        aSF = findMaxMin(in_X[i])\n",
    "        for c in range(n_f): # for each channel.\n",
    "            bSF = findMaxMin(filters[c])\n",
    "            for h in range(out_h): # slide the filter vertically.\n",
    "                h_start = h * stride\n",
    "                h_end = h_start + filter_h\n",
    "                for w in range(out_w): # slide the filter horizontally.\n",
    "                    w_start = w * stride\n",
    "                    w_end = w_start + filter_w\n",
    "                    # Element-wise multiplication.\n",
    "                    out[i, c, h, w] = torch.sum(SCmulTensor(in_X[i,:,h_start:h_end,w_start:w_end],filters[c],aSF,wSF)) + bias[c]\n",
    "    \n",
    "    return out"
   ]
  },
  {
   "cell_type": "code",
   "execution_count": 41,
   "id": "2b701f40-87d4-45a1-8a51-05d24ed935cf",
   "metadata": {},
   "outputs": [],
   "source": [
    "s = StoConv(act, wei, (0,0), stride=1, pad=0)"
   ]
  },
  {
   "cell_type": "code",
   "execution_count": 42,
   "id": "ba2ac8e9-46f0-4840-98c8-16eab70793c3",
   "metadata": {},
   "outputs": [
    {
     "name": "stdout",
     "output_type": "stream",
     "text": [
      "tensor([[[[ 3.37134132e+01,  2.03685226e+01,  2.87968750e+01,  ..., -1.33448925e+01,  1.40472574e+01, -1.17645769e+01],\n",
      "          [ 2.10708828e+01, -8.07717323e+00,  1.42228479e+01,  ...,  2.01929302e+01,  1.00086718e+01, -1.14133949e+01],\n",
      "          [ 5.47842979e+01, -4.21417665e+00,  3.16063309e+00,  ...,  3.58205032e+01, -4.91654015e+00,  3.44157753e+01],\n",
      "          ...,\n",
      "          [ 1.94905663e+01, -2.01929302e+01,  1.59787521e+01,  ...,  1.70322990e+01,  7.02362061e-01,  1.75590687e+01],\n",
      "          [ 1.22913599e+00,  1.80858383e+01,  3.31866379e+01,  ..., -4.74094677e+00, -1.21157579e+01,  9.13071632e+00],\n",
      "          [ 3.51181030e-01,  3.82787704e+01, -1.98417473e+01,  ..., -9.48189735e+00,  4.46000366e+01,  3.95079041e+01]]],\n",
      "\n",
      "\n",
      "        [[[ 5.42900038e+00,  1.83885460e+01,  2.04900932e+01,  ..., -3.76527367e+01,  4.22060890e+01,  1.06828690e+01],\n",
      "          [-3.85283947e+00,  3.39750290e+01,  3.32745075e+00,  ..., -1.57615852e+00,  2.57439613e+01, -8.05593300e+00],\n",
      "          [ 2.46931877e+01, -5.77925730e+00,  3.50258827e-01,  ..., -2.15408669e+01,  2.10154762e+01,  1.20838995e+01],\n",
      "          ...,\n",
      "          [ 2.06652222e+01,  2.27667713e+01, -7.53054714e+00,  ...,  3.39750290e+01, -2.45180607e+00,  4.55335426e+00],\n",
      "          [ 6.83003235e+00, -1.82134132e+01,  4.36071167e+01,  ...,  5.77925682e+00, -1.75127983e-01, -5.42899895e+00],\n",
      "          [ 1.92641907e+01, -2.36424141e+01,  1.64621239e+01,  ..., -6.65490198e+00,  3.50258026e+01,  8.58132172e+00]]],\n",
      "\n",
      "\n",
      "        [[[ 4.70786743e+01, -1.12426682e+01,  2.84580040e+01,  ..., -1.35263329e+01,  5.09433317e+00,  5.09433365e+00],\n",
      "          [ 4.09303398e+01,  3.86466694e+00,  2.81066704e+01,  ...,  1.45803356e+01, -1.73910027e+01,  8.08066750e+00],\n",
      "          [ 3.98763390e+01, -1.54586687e+01,  7.90500259e+00,  ...,  1.93233376e+01, -1.51073332e+01,  1.58099890e+00],\n",
      "          ...,\n",
      "          [-4.76837158e-07,  1.19453354e+01, -1.75666809e-01,  ...,  1.38776693e+01,  3.05660038e+01,  9.83733463e+00],\n",
      "          [ 4.98893394e+01,  1.58099937e+00,  1.58100033e+00,  ...,  2.00260010e+01,  2.72283363e+01,  2.81066799e+00],\n",
      "          [-5.97266769e+00,  2.38906708e+01,  2.45933437e+00,  ...,  5.26999950e-01, -1.15940008e+01,  2.77553387e+01]]],\n",
      "\n",
      "\n",
      "        [[[ 2.19877739e+01,  3.51458130e+01, -2.04295864e+01,  ...,  1.48893566e+01, -2.59698153e+00,  2.70086040e+01],\n",
      "          [-3.63577557e+00, -1.31580391e+01,  5.54022694e+00,  ..., -9.52226448e+00, -2.83936615e+01, -6.75214815e+00],\n",
      "          [ 6.75215244e+00, -3.46264172e+00,  1.10804539e+01,  ...,  2.11221142e+01, -8.65659714e-01,  4.22442322e+01],\n",
      "          ...,\n",
      "          [-1.90445209e+00,  1.55818892e+01, -5.19396424e-01,  ...,  1.73132095e+01,  1.59281511e+01,  1.24655104e+01],\n",
      "          [-2.59697914e+00,  2.44116249e+01,  1.26386452e+01,  ...,  1.93907967e+01,  8.31033993e+00,  4.24173622e+01],\n",
      "          [-1.29849072e+01, -9.17600250e+00, -1.90445244e+00,  ..., -1.21192455e+00,  1.33311710e+01,  6.05962420e+00]]],\n",
      "\n",
      "\n",
      "        [[[-2.28741951e+01,  5.06375694e+00,  2.30488091e+01,  ...,  1.76358299e+01,  7.15909958e+00, -1.39689541e+00],\n",
      "          [-3.92877426e+01,  3.98115768e+01,  3.00332985e+01,  ...,  1.81596661e+01, -2.09534645e+01,  3.89385185e+01],\n",
      "          [-1.34451418e+01,  2.44457073e+01, -1.88581181e+01,  ...,  3.12555828e+01, -5.93681526e+00,  3.91131325e+01],\n",
      "          ...,\n",
      "          [ 3.33509293e+01,  4.88914156e+00, -6.28603840e+00,  ...,  2.25249748e+01,  2.63664436e+01, -1.53658724e+01],\n",
      "          [-2.06042404e+01,  3.16048088e+01,  3.14301896e+00,  ...,  2.20011368e+01,  1.22228546e+01,  1.34451380e+01],\n",
      "          [-1.74611568e-01,  6.28604126e+00, -4.36530457e+01,  ...,  7.15909958e+00,  1.27466888e+01,  1.25720787e+01]]],\n",
      "\n",
      "\n",
      "        [[[-5.25780010e+00, -1.66497116e+01, -4.90728378e+00,  ...,  3.06705208e+01,  2.97942162e+00,  1.75260124e+01],\n",
      "          [ 1.08661270e+01, -1.48971109e+01,  7.01040649e+00,  ...,  2.03301735e+01, -5.08254337e+00,  2.36601143e+01],\n",
      "          [-2.45364189e+00, -3.17220840e+01,  2.13817348e+01,  ...,  3.15468216e+01, -2.52374592e+01,  8.76301765e-01],\n",
      "          ...,\n",
      "          [ 2.66395378e+01,  2.03301754e+01,  4.17119102e+01,  ...,  3.24231224e+01, -1.20929499e+01,  4.62686729e+01],\n",
      "          [-2.73405819e+01,  3.01447430e+01,  2.03301754e+01,  ...,  5.60832357e+00,  1.54228907e+01,  2.34848595e+01],\n",
      "          [-2.61137619e+01,  2.03301735e+01,  1.70002327e+01,  ...,  1.98043957e+01,  9.53674316e-07, -6.30936575e+00]]]])\n"
     ]
    }
   ],
   "source": [
    "print(s)"
   ]
  },
  {
   "cell_type": "code",
   "execution_count": 43,
   "id": "a85a284b-e040-4cd4-946d-078decf653f8",
   "metadata": {},
   "outputs": [
    {
     "name": "stdout",
     "output_type": "stream",
     "text": [
      "tensor([[[[ 2.96106339e+01,  1.61081638e+01,  2.51126690e+01,  ..., -1.70837860e+01,  1.10050697e+01, -1.55635862e+01],\n",
      "          [ 1.71955109e+01, -1.16305113e+01,  1.04683723e+01,  ...,  1.62587795e+01,  6.62597561e+00, -1.56415749e+01],\n",
      "          [ 5.05896225e+01, -7.79678726e+00, -7.27064133e-01,  ...,  3.30547142e+01, -8.40707016e+00,  3.09404850e+01],\n",
      "          ...,\n",
      "          [ 1.54782114e+01, -2.32445984e+01,  1.18737183e+01,  ...,  1.31983509e+01, -3.58203602e+00,  1.43653889e+01],\n",
      "          [-2.77177048e+00,  1.41450386e+01,  2.97059555e+01,  ..., -8.55652809e+00, -1.64323101e+01,  6.05891705e+00],\n",
      "          [-3.36800385e+00,  3.49712982e+01, -2.39026413e+01,  ..., -1.34600811e+01,  4.11933784e+01,  3.61611977e+01]]],\n",
      "\n",
      "\n",
      "        [[[ 9.88167763e-01,  1.36560631e+01,  1.59670439e+01,  ..., -4.19963722e+01,  3.90770149e+01,  6.64798260e+00],\n",
      "          [-8.00060558e+00,  3.03267326e+01, -1.43518066e+00,  ..., -5.36063004e+00,  2.18933048e+01, -1.19238358e+01],\n",
      "          [ 2.06110058e+01, -1.03210773e+01, -4.05997705e+00,  ..., -2.52595043e+01,  1.73691177e+01,  8.37873650e+00],\n",
      "          ...,\n",
      "          [ 1.66689453e+01,  1.92705936e+01, -1.18796968e+01,  ...,  3.02737045e+01, -5.45398045e+00,  5.17832756e-01],\n",
      "          [ 2.82163048e+00, -2.20813866e+01,  4.04242096e+01,  ...,  2.59487247e+00, -3.78797150e+00, -9.07043266e+00],\n",
      "          [ 1.52642679e+01, -2.79526863e+01,  1.27453623e+01,  ..., -1.04435234e+01,  3.18899899e+01,  4.72558832e+00]]],\n",
      "\n",
      "\n",
      "        [[[ 4.34937820e+01, -1.51595240e+01,  2.49799500e+01,  ..., -1.77480087e+01,  7.03286171e-01,  1.49308014e+00],\n",
      "          [ 3.68176804e+01,  1.04570389e-02,  2.39855938e+01,  ...,  1.15504732e+01, -2.07026424e+01,  4.70330238e+00],\n",
      "          [ 3.60725899e+01, -1.93712807e+01,  3.88291025e+00,  ...,  1.54355545e+01, -1.83987103e+01, -2.28778648e+00],\n",
      "          ...,\n",
      "          [-3.96067786e+00,  7.86293507e+00, -4.23877573e+00,  ...,  1.06534901e+01,  2.68847332e+01,  6.43167448e+00],\n",
      "          [ 4.57557220e+01, -2.74379730e+00, -2.12678194e+00,  ...,  1.67696304e+01,  2.37099876e+01, -1.31630135e+00],\n",
      "          [-9.93687153e+00,  1.91082954e+01, -1.39030075e+00,  ..., -3.22068715e+00, -1.58404303e+01,  2.35714264e+01]]],\n",
      "\n",
      "\n",
      "        [[[ 1.79821091e+01,  3.04241657e+01, -2.40598602e+01,  ...,  1.14814119e+01, -5.86809969e+00,  2.47606640e+01],\n",
      "          [-6.97712898e+00, -1.69768486e+01,  2.01774931e+00,  ..., -1.29535398e+01, -3.21159744e+01, -9.82255554e+00],\n",
      "          [ 3.33331394e+00, -7.64350700e+00,  7.43433809e+00,  ...,  1.75984058e+01, -4.65188599e+00,  3.91286240e+01],\n",
      "          ...,\n",
      "          [-5.57719660e+00,  1.20642796e+01, -4.02239466e+00,  ...,  1.39080868e+01,  1.21839113e+01,  8.80902004e+00],\n",
      "          [-6.51658821e+00,  2.11496258e+01,  8.99441242e+00,  ...,  1.55368385e+01,  4.64743710e+00,  3.82212296e+01],\n",
      "          [-1.68429432e+01, -1.32053947e+01, -5.25486946e+00,  ..., -4.78949165e+00,  9.32172775e+00,  1.88378000e+00]]],\n",
      "\n",
      "\n",
      "        [[[-2.67895489e+01,  1.64398384e+00,  1.96241894e+01,  ...,  1.28217583e+01,  3.35219097e+00, -4.92924404e+00],\n",
      "          [-4.32563782e+01,  3.62405243e+01,  2.70587788e+01,  ...,  1.38284245e+01, -2.50160446e+01,  3.56374969e+01],\n",
      "          [-1.70663166e+01,  2.01827812e+01, -2.20833206e+01,  ...,  2.73703384e+01, -1.07622089e+01,  3.52153168e+01],\n",
      "          ...,\n",
      "          [ 2.97972565e+01,  1.06968975e+00, -9.72085381e+00,  ...,  1.91751442e+01,  2.31949215e+01, -1.88662796e+01],\n",
      "          [-2.47297325e+01,  2.81729317e+01, -8.18567753e-01,  ...,  1.81486263e+01,  8.21785355e+00,  9.62130833e+00],\n",
      "          [-3.57185125e+00,  3.01777077e+00, -4.71854362e+01,  ...,  3.29053116e+00,  8.99885845e+00,  9.58508492e+00]]],\n",
      "\n",
      "\n",
      "        [[[-8.77686501e+00, -2.07159729e+01, -8.75444221e+00,  ...,  2.67388687e+01, -1.07165384e+00,  1.31900692e+01],\n",
      "          [ 7.64830399e+00, -1.82561493e+01,  3.48575783e+00,  ...,  1.68945236e+01, -8.62921333e+00,  1.96853447e+01],\n",
      "          [-6.00826168e+00, -3.53946838e+01,  1.79475746e+01,  ...,  2.82552452e+01, -2.92742634e+01, -2.70160961e+00],\n",
      "          ...,\n",
      "          [ 2.32784195e+01,  1.63862305e+01,  3.75368385e+01,  ...,  2.86280556e+01, -1.58827496e+01,  4.22276459e+01],\n",
      "          [-3.14262199e+01,  2.65050793e+01,  1.59374161e+01,  ...,  1.51225853e+00,  1.20275059e+01,  1.94080982e+01],\n",
      "          [-3.05042973e+01,  1.59033995e+01,  1.33481894e+01,  ...,  1.56416521e+01, -3.98060012e+00, -1.02498341e+01]]]])\n"
     ]
    }
   ],
   "source": [
    "print(c)"
   ]
  },
  {
   "cell_type": "code",
   "execution_count": null,
   "id": "177fc019-23c9-422a-bbab-3183a6bbed32",
   "metadata": {},
   "outputs": [],
   "source": []
  },
  {
   "cell_type": "code",
   "execution_count": null,
   "id": "cbd7a8e2-7300-4212-8eb7-bc824083ed7b",
   "metadata": {},
   "outputs": [],
   "source": []
  }
 ],
 "metadata": {
  "kernelspec": {
   "display_name": "Python 3",
   "language": "python",
   "name": "python3"
  },
  "language_info": {
   "codemirror_mode": {
    "name": "ipython",
    "version": 3
   },
   "file_extension": ".py",
   "mimetype": "text/x-python",
   "name": "python",
   "nbconvert_exporter": "python",
   "pygments_lexer": "ipython3",
   "version": "3.6.9"
  }
 },
 "nbformat": 4,
 "nbformat_minor": 5
}
