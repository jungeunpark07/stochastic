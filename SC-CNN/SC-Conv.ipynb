{
 "cells": [
  {
   "cell_type": "markdown",
   "id": "a608e2c9-cfd4-48bb-a2f9-7f2a0ad9ba27",
   "metadata": {},
   "source": [
    "# SC-Conv model"
   ]
  },
  {
   "cell_type": "code",
   "execution_count": 1,
   "id": "6f5c33aa-5ec7-461e-abcf-1360c13c9f99",
   "metadata": {},
   "outputs": [],
   "source": [
    "import torch"
   ]
  },
  {
   "cell_type": "code",
   "execution_count": 2,
   "id": "e9bfc6a6-9a66-4993-84d3-9efbcd765e22",
   "metadata": {},
   "outputs": [
    {
     "name": "stderr",
     "output_type": "stream",
     "text": [
      "/usr/local/lib/python3.6/dist-packages/torchvision/io/image.py:11: UserWarning: Failed to load image Python extension: libc10_cuda.so: cannot open shared object file: No such file or directory\n",
      "  warn(f\"Failed to load image Python extension: {e}\")\n"
     ]
    }
   ],
   "source": [
    "import argparse\n",
    "from torchsummary import summary\n",
    "import tqdm\n",
    "from tqdm import tqdm_notebook as tq\n",
    "import os, time, math, copy ,random\n",
    "import numpy as np\n",
    "import torch\n",
    "import torch.nn as nn\n",
    "import torchvision.transforms as transforms\n",
    "import torchvision.datasets as datasets\n",
    "import torch.nn.functional as F\n",
    "import torch.optim as optim\n",
    "from torch.autograd import Variable\n",
    "from collections import namedtuple\n",
    "import matplotlib.pyplot as plt\n",
    "\n",
    "torch.set_printoptions(precision=8, linewidth=50000)\n",
    "import warnings\n",
    "warnings.filterwarnings(action='ignore')\n"
   ]
  },
  {
   "cell_type": "code",
   "execution_count": 3,
   "id": "62f268b1-5c6a-47e0-9bec-b58bf484e157",
   "metadata": {},
   "outputs": [],
   "source": [
    "parser = argparse.ArgumentParser(description='fixed_mac')\n",
    "parser.add_argument('--full_bits', type=int, default=16, help='Number of Quantization Bits')\n",
    "parser.add_argument('--frac_bits', type=int, default=8, help='Number of Quantization Bits')\n",
    "parser.add_argument('--bBW', type=int, default=7, help='Number of bit width')\n",
    "args = parser.parse_args(args=[])"
   ]
  },
  {
   "cell_type": "markdown",
   "id": "de8c9c86-ca75-42f7-b63d-cf6ac4e96869",
   "metadata": {},
   "source": [
    "## Definition"
   ]
  },
  {
   "cell_type": "code",
   "execution_count": 4,
   "id": "72ac58ea-22c4-453c-836c-4333ff64e052",
   "metadata": {},
   "outputs": [],
   "source": [
    "def int2bin(iIn,iBW):\n",
    "    iBW = iBW + 1\n",
    "    if iIn >= 0:\n",
    "        bOut = bin(iIn).replace('0b','').rjust(iBW,'0')\n",
    "    else :\n",
    "        bOut = bin(iIn & (pow(2,iBW)-1)).replace('0b','').rjust(iBW,'1')\n",
    "    return bOut[1:]"
   ]
  },
  {
   "cell_type": "code",
   "execution_count": 5,
   "id": "849a71d2-1522-4a96-98fa-2fde68e21442",
   "metadata": {},
   "outputs": [],
   "source": [
    "def XOR(iA,iB):\n",
    "    if iA != iB :\n",
    "        iOut = '1'\n",
    "    else : \n",
    "        iOut = '0'\n",
    "    return iOut"
   ]
  },
  {
   "cell_type": "code",
   "execution_count": 6,
   "id": "436d7f5f-4a71-41c4-bf8e-84387d5a9834",
   "metadata": {},
   "outputs": [],
   "source": [
    "def snum(a):\n",
    "    if a >= 0 :\n",
    "        return '0'\n",
    "    else :\n",
    "        return '1'"
   ]
  },
  {
   "cell_type": "code",
   "execution_count": 7,
   "id": "7a8a52d5-fef2-4ad0-bfa5-d6bc6de23ba5",
   "metadata": {},
   "outputs": [],
   "source": [
    "def binInv(bIn):\n",
    "    bOut = bin(int(bIn,2)^(pow(2,len(bIn))-1)).replace('0b','').rjust(len(bIn),'0')\n",
    "    return bOut"
   ]
  },
  {
   "cell_type": "code",
   "execution_count": 8,
   "id": "5269d280-d0ce-4cfe-abb4-d9b67b829c76",
   "metadata": {},
   "outputs": [],
   "source": [
    "class fxp:\n",
    "    def __init__(self, bIn, iBWF):\n",
    "        self.iFullBW = len(bIn)\n",
    "        self.iIntgBW = self.iFullBW - iBWF\n",
    "        self.bSign = bIn[0]\n",
    "        self.bIntg = bIn[:self.iIntgBW]\n",
    "        self.bFrac = bIn[self.iIntgBW:]\n",
    "        self.fFull = 0\n",
    "        try:\n",
    "            for idx, bit in enumerate(bIn):\n",
    "                if idx == 0:\n",
    "                    self.fFull = self.fFull + int(bit,2) * -pow(2, self.iIntgBW - 1)\n",
    "                else:\n",
    "                    self.fFull = self.fFull + int(bit,2) * pow(2, self.iIntgBW - 1 - idx)\n",
    "        except:\n",
    "            print(bIn)\n",
    "        self.dispFull = self.bIntg +\".\"+ self.bFrac \n",
    "        return"
   ]
  },
  {
   "cell_type": "code",
   "execution_count": 9,
   "id": "ee4aa4da-b45d-4d7b-871e-314d0e2721da",
   "metadata": {},
   "outputs": [],
   "source": [
    "class flp2fix:\n",
    "    def __init__(self, fIn, iBW, iBWF):\n",
    "        self.fMin = - 2 ** (iBW - iBWF - 1)\n",
    "        self.fMax = (2 ** (iBW-1) - 1) * (2 ** -iBWF)\n",
    "        self.fResol = 2 ** -iBWF\n",
    "        if fIn < self.fMin or fIn > self.fMax:\n",
    "            print(f'({fIn}): Out of input range ({self.fMax}/{self.fMin}) during flp -> fix converting ')\n",
    "        self.iBW = iBW\n",
    "        self.iBWI = iBW - iBWF\n",
    "        self.iBWF = iBWF\n",
    "\n",
    "        self.iFLP2INT = abs(int(fIn * 2 ** iBWF))\n",
    "        if fIn < 0:\n",
    "            self.iFLP2INT = 2 ** (iBW-1) - self.iFLP2INT\n",
    "\n",
    "        if fIn >= 0:\n",
    "            self.bFull = bin(self.iFLP2INT)[2:].rjust(iBW, '0')\n",
    "        else:\n",
    "            self.bFull = '1'+bin(self.iFLP2INT)[2:].rjust(iBW-1, '0')\n",
    "            if len(self.bFull) > iBW:\n",
    "                self.bFull = '0' * iBW\n",
    "\n",
    "        self.cssFxp = fxp(self.bFull, self.iBWF)\n",
    "        self.bSign = self.cssFxp.bSign\n",
    "        self.bIntg = self.cssFxp.bIntg\n",
    "        self.bFrac = self.cssFxp.bFrac\n",
    "        self.fFull = self.cssFxp.fFull\n",
    "        return"
   ]
  },
  {
   "cell_type": "code",
   "execution_count": 10,
   "id": "7bd82fa8-7685-4f4a-9bb9-d004713ae3a6",
   "metadata": {},
   "outputs": [],
   "source": [
    "def flp2fixTensor(fIn, iBW, iBWF):\n",
    "    fMin = - 2 ** (iBW - iBWF - 1)\n",
    "    fMax = (2 ** (iBW-1) - 1) * (2 ** -iBWF)\n",
    "    fList = []\n",
    "    for aTensor in fIn.view(-1):\n",
    "        fList.append(flp2fix(aTensor, iBW, iBWF).fFull)\n",
    "    return torch.tensor(fList).view(fIn.size())"
   ]
  },
  {
   "cell_type": "code",
   "execution_count": 11,
   "id": "e0d97fe4-1a09-4b86-84cc-5f38e58c7b7e",
   "metadata": {},
   "outputs": [],
   "source": [
    "class LFSR7:\n",
    "    def Random(self):\n",
    "        self.b0 = eval(f'str(random.randint(0,1))')\n",
    "        self.b1 = eval(f'str(random.randint(0,1))')\n",
    "        self.b2 = eval(f'str(random.randint(0,1))')\n",
    "        self.b3 = eval(f'str(random.randint(0,1))')\n",
    "        self.b4 = eval(f'str(random.randint(0,1))')\n",
    "        self.b5 = eval(f'str(random.randint(0,1))')\n",
    "        self.b6 = eval(f'str(random.randint(0,1))')\n",
    "        if int(self.b0) + int(self.b1) + int(self.b2) + int(self.b3) + int(self.b4) + int(self.b5) + int(self.b6) == 0 :\n",
    "            self.b0 = eval(f'str(random.randint(0,1))')\n",
    "            self.b1 = eval(f'str(random.randint(0,1))')\n",
    "            self.b2 = eval(f'str(random.randint(0,1))')\n",
    "            self.b3 = eval(f'str(random.randint(0,1))')\n",
    "            self.b4 = eval(f'str(random.randint(0,1))')\n",
    "            self.b5 = eval(f'str(random.randint(0,1))')\n",
    "            self.b6 = eval(f'str(random.randint(0,1))')\n",
    "        return self.b0 + self.b1 + self.b2 + self.b3 + self.b4 + self.b5 + self.b6\n",
    "    \n",
    "    def Normal(self,stream):\n",
    "        self.b0 = XOR(int(stream[5]),int(stream[6]))\n",
    "        self.b1 = stream[0]\n",
    "        self.b2 = stream[1]\n",
    "        self.b3 = stream[2]\n",
    "        self.b4 = stream[3]\n",
    "        self.b5 = stream[4]\n",
    "        self.b6 = stream[5]\n",
    "        \n",
    "        return self.b0 + self.b1 + self.b2 + self.b3 + self.b4 + self.b5 + self.b6\n",
    "    \n",
    "    def Allzero(self):\n",
    "        self.b0 = '0'\n",
    "        self.b1 = '0'\n",
    "        self.b2 = '0'\n",
    "        self.b3 = '0'\n",
    "        self.b4 = '0'\n",
    "        self.b5 = '0'\n",
    "        self.b6 = '0'\n",
    "        \n",
    "        return self.b0 + self.b1 + self.b2 + self.b3 + self.b4 + self.b5 + self.b6"
   ]
  },
  {
   "cell_type": "code",
   "execution_count": 12,
   "id": "60fbd06d-e1cc-40e2-b794-1dbc44c08a15",
   "metadata": {},
   "outputs": [],
   "source": [
    "def LFSRlist7():\n",
    "    lfsr = LFSR7()\n",
    "    lfsrlist = []\n",
    "    for k in range(2**(args.bBW)-1): #lfsr number generating\n",
    "        if k == 0:\n",
    "            lfsrlist.append(lfsr.Random())\n",
    "        else :\n",
    "            lfsrlist.append(lfsr.Normal(lfsrlist[k-1]))\n",
    "        if (k == 2**(args.bBW)-2):\n",
    "            lfsrlist.append(lfsr.Allzero())\n",
    "    \n",
    "    if (args.bBW) != args.frac_bits :\n",
    "        if args.bBW < args.frac_bits :\n",
    "            for i in range(len(lfsrlist)):\n",
    "                lfsrlist[i] = lfsrlist[i] + (args.frac_bits-args.bBW)*'0'\n",
    "        else :\n",
    "            print(\"it can't work\")\n",
    "            return 0\n",
    "    \n",
    "    return lfsrlist"
   ]
  },
  {
   "cell_type": "code",
   "execution_count": 40,
   "id": "5db66406-6269-4114-a3c9-2223c8101f92",
   "metadata": {},
   "outputs": [],
   "source": [
    "def Comp(a,lfsr,snum):\n",
    "    for com in range(0,len(a)):\n",
    "        oA = '0'\n",
    "        if a[com]!=lfsr[com]:\n",
    "            if(int(a[com]) > int(lfsr[com])):\n",
    "                oA = '1'\n",
    "            else :\n",
    "                oA = '0'\n",
    "            break\n",
    "    return XOR(oA,snum)"
   ]
  },
  {
   "cell_type": "code",
   "execution_count": 14,
   "id": "b2316dc0-4e40-42b0-b920-ae3f1d3f692d",
   "metadata": {},
   "outputs": [],
   "source": [
    "def perm(a):\n",
    "    al = len(a)\n",
    "    blist = []\n",
    "    if args.frac_bits == args.bBW : \n",
    "        for i in range(al) :\n",
    "            blist.append(a[al-i-1])\n",
    "    elif args.frac_bits > args.bBW :\n",
    "        for i in range(al-(args.frac_bits-args.bBW)) :\n",
    "            blist.append((a[al-(args.frac_bits-args.bBW)-i-1]))\n",
    "    b = \"\".join(blist)\n",
    "    b = b + ('0'*(args.frac_bits-args.bBW))\n",
    "    return b"
   ]
  },
  {
   "cell_type": "code",
   "execution_count": 15,
   "id": "d5728801-f7b8-4703-b1fb-406053624db9",
   "metadata": {},
   "outputs": [],
   "source": [
    "def findMaxMin(data):\n",
    "    max = torch.max(data)\n",
    "    min = torch.min(data)\n",
    "    SF=torch.max(abs(max),abs(min)).item()\n",
    "    return SF"
   ]
  },
  {
   "cell_type": "code",
   "execution_count": 16,
   "id": "dcdf083f-7b1b-430b-922c-07b2f0c49643",
   "metadata": {},
   "outputs": [],
   "source": [
    "def CountOne(nIn):\n",
    "    nlist = []\n",
    "    for num in nIn.reshape(-1):\n",
    "        n = 0\n",
    "        for a in num:\n",
    "            if a == '1' :\n",
    "                n += 1\n",
    "        if num[0] == '1' :\n",
    "            nlist.append(n-1)\n",
    "        else :\n",
    "            nlist.append(n)\n",
    "    return torch.tensor(nlist).view(nIn.shape)"
   ]
  },
  {
   "cell_type": "code",
   "execution_count": 17,
   "id": "283dd5d2-d285-44e3-b25c-de3af792c690",
   "metadata": {},
   "outputs": [],
   "source": [
    "def defSign(nIn):\n",
    "    nlist = []\n",
    "    for num in nIn.reshape(-1):\n",
    "        if num[0] == '1' :\n",
    "            nlist.append(-1)\n",
    "        else :\n",
    "            nlist.append(1)\n",
    "    return torch.tensor(nlist).view(nIn.shape)"
   ]
  },
  {
   "cell_type": "code",
   "execution_count": 34,
   "id": "3b8f20ee-161f-4858-a0b3-c36d4bb30135",
   "metadata": {},
   "outputs": [],
   "source": [
    "lfsr = LFSRlist7()"
   ]
  },
  {
   "cell_type": "code",
   "execution_count": 39,
   "id": "b4b5caa2-43d9-48a7-abf1-9f859ca8962f",
   "metadata": {},
   "outputs": [
    {
     "data": {
      "text/plain": [
       "'1'"
      ]
     },
     "execution_count": 39,
     "metadata": {},
     "output_type": "execute_result"
    }
   ],
   "source": [
    "Comp('1000101','1100001',0) "
   ]
  },
  {
   "cell_type": "code",
   "execution_count": null,
   "id": "06c3afe6-2484-4748-97fb-07be2c337f1c",
   "metadata": {},
   "outputs": [],
   "source": []
  },
  {
   "cell_type": "markdown",
   "id": "26476d31-c2cf-4fd5-86db-79b4987e2ff6",
   "metadata": {},
   "source": [
    "## SC-MAC"
   ]
  },
  {
   "cell_type": "markdown",
   "id": "d626517d-9ba5-4d89-8e5f-5d49b26a0edb",
   "metadata": {},
   "source": [
    "### SNG"
   ]
  },
  {
   "cell_type": "code",
   "execution_count": 19,
   "id": "5d53e33e-ef79-43ef-9b61-98a4476cb7fb",
   "metadata": {},
   "outputs": [],
   "source": [
    "def SNG(iIN,lfsr):\n",
    "    if iIN == 1:\n",
    "        iIN = 0.9999\n",
    "    sNUM = snum(iIN)\n",
    "    \n",
    "    bIN = flp2fix(iIN,args.full_bits,args.frac_bits).bFull\n",
    "    bFRAC = bIN[-(args.frac_bits):]\n",
    "    if sNUM == 1 :\n",
    "        bFRAC = bin(int(binInv(bFRAC),2)+1).replace('0b','').rjust(args.bBW,'0')\n",
    "    oAlist = []\n",
    "    \n",
    "    for k in range(2**(args.bBW)): #lfsr number generating\n",
    "        lNUM = lfsr[k]\n",
    "        a = Comp(bFRAC,lNUM,sNUM)\n",
    "        oAlist.append(a) #comparator of input a\n",
    "    \n",
    "    oAlist.insert(0,sNUM)\n",
    "    sA = \"\".join(oAlist)\n",
    "    if bIN == args.full_bits*'0' :\n",
    "        return '0'*(2**(args.bBW)+1)\n",
    "    else :\n",
    "        return sA"
   ]
  },
  {
   "cell_type": "code",
   "execution_count": 20,
   "id": "1fd694df-ae8f-4c27-bc75-5e40d80ebdc1",
   "metadata": {},
   "outputs": [],
   "source": [
    "def SngNumpy(fIn,lfsr):\n",
    "    sList = []\n",
    "    for aNumpy in fIn.view(-1):\n",
    "        sList.append(SNG(float(aNumpy),lfsr))\n",
    "                     \n",
    "    return np.array(sList).reshape(fIn.size())"
   ]
  },
  {
   "cell_type": "code",
   "execution_count": 21,
   "id": "e8bdfd32-38f6-4ace-b48e-d25c28174ef6",
   "metadata": {},
   "outputs": [],
   "source": [
    "def Sngp(iIN,lfsr):\n",
    "    if iIN == 1:\n",
    "        iIN = 0.9999\n",
    "    sNUM = snum(iIN)\n",
    "    \n",
    "    bIN = flp2fix(iIN,args.full_bits,args.frac_bits).bFull\n",
    "    bFRAC = bIN[-(args.frac_bits):]\n",
    "    if sNUM == 1 :\n",
    "        bFRAC = bin(int(binInv(bFRAC),2)+1).replace('0b','').rjust(args.bBW,'0')\n",
    "    oAlist = []\n",
    "    for k in range(2**(args.bBW)): #lfsr number generating    \n",
    "        lNUM = perm(lfsr[k])\n",
    "        a = Comp(bFRAC,lNUM,sNUM)\n",
    "        oAlist.append(a) #comparator of input a\n",
    "    \n",
    "    oAlist.insert(0,sNUM)\n",
    "    sA = \"\".join(oAlist)\n",
    "    \n",
    "    if bIN == args.full_bits*'0' :\n",
    "        return '0'*(2**(args.bBW)+1)\n",
    "    else :\n",
    "        return sA"
   ]
  },
  {
   "cell_type": "code",
   "execution_count": 22,
   "id": "e8b3941d-bcc2-4f82-bc6f-889c9057ec6d",
   "metadata": {},
   "outputs": [],
   "source": [
    "def SngpNumpy(fIn,lfsr):\n",
    "    sList = []\n",
    "    for aNumpy in fIn.view(-1):\n",
    "        sList.append(Sngp(float(aNumpy),lfsr))\n",
    "    return  np.array(sList).reshape(fIn.size())"
   ]
  },
  {
   "cell_type": "markdown",
   "id": "e4353bc9-cb09-4072-9c70-d0300453a12c",
   "metadata": {},
   "source": [
    "### Multiplier"
   ]
  },
  {
   "cell_type": "code",
   "execution_count": 23,
   "id": "2f528da6-2a35-4276-98f3-00f3a8987dfa",
   "metadata": {},
   "outputs": [],
   "source": [
    "def mul(a,b):\n",
    "    al = len(a)\n",
    "    bl = len(b)\n",
    "    \n",
    "    outlist = []\n",
    "    \n",
    "    if al != bl :\n",
    "        print(\"length of string is different\")\n",
    "        return 0\n",
    "    \n",
    "    outlist.append(XOR(a[0],b[0]))\n",
    "    \n",
    "    for i in range(al-1) :\n",
    "        outlist.append(str(int(a[i+1]) & int(b[i+1])))\n",
    "    \n",
    "    #print(outlist)\n",
    "    out = \"\".join(outlist)\n",
    "    \n",
    "    return out    "
   ]
  },
  {
   "cell_type": "code",
   "execution_count": 24,
   "id": "d980182c-e9a8-4f39-b059-8b0f813768dc",
   "metadata": {},
   "outputs": [],
   "source": [
    "def MulNumpy(aIn,wIn):\n",
    "    oList = []\n",
    "    for a,w in zip(aIn.reshape(-1),wIn.reshape(-1)):\n",
    "        oList.append(mul(a,w))\n",
    "    return np.array(oList)"
   ]
  },
  {
   "cell_type": "markdown",
   "id": "ecbf3b31-2702-4866-9c94-adc509d39456",
   "metadata": {},
   "source": [
    "### Converter"
   ]
  },
  {
   "cell_type": "code",
   "execution_count": 25,
   "id": "c9ef2d34-10cb-4716-afdf-ce31cf0832a2",
   "metadata": {},
   "outputs": [],
   "source": [
    "def Convert(sIn,SF):\n",
    "    s = defSign(sIn)\n",
    "    o = (CountOne(sIn)/(2**args.bBW))*SF*s\n",
    "    return o"
   ]
  },
  {
   "cell_type": "markdown",
   "id": "f8106a4b-cb4a-4a7f-bc20-f6538861ae24",
   "metadata": {},
   "source": [
    "## sc-mul module"
   ]
  },
  {
   "cell_type": "code",
   "execution_count": 26,
   "id": "ef6f30a1-0c7e-43c8-9f8b-5cb4e66738b8",
   "metadata": {},
   "outputs": [],
   "source": [
    "def SCmulTensor(aIn,wIn,aSF,wSF):\n",
    "    a = aIn/aSF\n",
    "    w = wIn/wSF\n",
    "    \n",
    "    lfsr = LFSRlist7()\n",
    "    \n",
    "    Sa = SngNumpy(a,lfsr)\n",
    "    Sw = SngpNumpy(w,lfsr)\n",
    "\n",
    "    \n",
    "    \n",
    "    Smul = MulNumpy(Sa,Sw)\n",
    "    \n",
    "    Bout = Convert(Smul,aSF*wSF)\n",
    "    \n",
    "    return Bout"
   ]
  },
  {
   "cell_type": "markdown",
   "id": "c4f87869-a5c0-43ba-a2ac-037889298e23",
   "metadata": {},
   "source": [
    "### TEST"
   ]
  },
  {
   "cell_type": "code",
   "execution_count": 27,
   "id": "039543ef-6236-4de4-b25e-89cd248e6a82",
   "metadata": {},
   "outputs": [],
   "source": [
    "act = torch.rand((1,1,32,32))-torch.randint(5,(1,1,32,32))+torch.randint(5,(1,1,32,32))\n",
    "wei = torch.rand((6,1,5,5))-torch.randint(5,(6,1,5,5))+torch.randint(5,(6,1,5,5))"
   ]
  },
  {
   "cell_type": "code",
   "execution_count": 28,
   "id": "cabf7926-e3f7-4cab-9eec-98eed3fa2cff",
   "metadata": {},
   "outputs": [],
   "source": [
    "aSF = findMaxMin(act)\n",
    "wSF = findMaxMin(wei)"
   ]
  },
  {
   "cell_type": "code",
   "execution_count": 29,
   "id": "9d1e1df8-a0a1-41e5-b693-c1b53c56e767",
   "metadata": {},
   "outputs": [],
   "source": [
    "out = SCmulTensor(act,wei,aSF,wSF)"
   ]
  },
  {
   "cell_type": "markdown",
   "id": "498106a6-b30e-4d0d-b8b9-66b340f4f40c",
   "metadata": {},
   "source": [
    "## SC-Conv"
   ]
  },
  {
   "cell_type": "code",
   "execution_count": 30,
   "id": "056df6f1-3dc4-4385-846e-6a81f7bb51ad",
   "metadata": {},
   "outputs": [],
   "source": [
    "def conv(X, filters, bias, stride=1, pad=0):\n",
    "    n, c, h, w = X.shape # 1, 1, 32, 32\n",
    "    n_f, _, filter_h, filter_w = filters.shape\n",
    "    out_h = (h+2*pad-filter_h)//stride + 1\n",
    "    out_w = (w+2*pad-filter_w)//stride + 1\n",
    "    # add padding to height and width.\n",
    "    in_X = F.pad(X,(0,0,0,0,pad,pad,pad,pad),\"constant\", 0)\n",
    "    out  = torch.zeros((n, n_f, out_h, out_w))\n",
    "    \n",
    "    for i in range(n): # for each image.\n",
    "        aSF = findMaxMin(in_X[i])\n",
    "        for c in range(n_f): # for each channel.\n",
    "            bSF = findMaxMin(filters[c])\n",
    "            for h in range(out_h): # slide the filter vertically.\n",
    "                h_start = h * stride\n",
    "                h_end = h_start + filter_h\n",
    "                for w in range(out_w): # slide the filter horizontally.\n",
    "                    w_start = w * stride\n",
    "                    w_end = w_start + filter_w\n",
    "                    # Element-wise multiplication.\n",
    "                    out[i, c, h, w] = torch.sum(in_X[i,:,h_start:h_end,w_start:w_end]*filters[c])\n",
    "    return out"
   ]
  },
  {
   "cell_type": "code",
   "execution_count": 31,
   "id": "cf144275-a965-4527-8bd2-30af4e102fcf",
   "metadata": {},
   "outputs": [],
   "source": [
    "c = conv(act, wei, (0,0), stride=1, pad=0)"
   ]
  },
  {
   "cell_type": "code",
   "execution_count": 32,
   "id": "d43c4a22-712c-4546-b8cc-f758775493c1",
   "metadata": {},
   "outputs": [],
   "source": [
    "def StoConv(X, filters, bias, stride=1, pad=0):\n",
    "    n, c, h, w = X.shape # 1, 1, 32, 32\n",
    "    n_f, _, filter_h, filter_w = filters.shape\n",
    "\n",
    "    out_h = (h+2*pad-filter_h)//stride + 1\n",
    "    out_w = (w+2*pad-filter_w)//stride + 1\n",
    "    # add padding to height and width.\n",
    "    in_X = F.pad(X,(0,0,0,0,pad,pad,pad,pad),\"constant\", 0)\n",
    "    out  = torch.zeros((n, n_f, out_h, out_w))\n",
    "    \n",
    "    for i in range(n): # for each image.\n",
    "        aSF = findMaxMin(in_X[i])\n",
    "        for c in range(n_f): # for each channel.\n",
    "            bSF = findMaxMin(filters[c])\n",
    "            for h in range(out_h): # slide the filter vertically.\n",
    "                h_start = h * stride\n",
    "                h_end = h_start + filter_h\n",
    "                for w in range(out_w): # slide the filter horizontally.\n",
    "                    w_start = w * stride\n",
    "                    w_end = w_start + filter_w\n",
    "                    # Element-wise multiplication.\n",
    "                    out[i, c, h, w] = torch.sum(SCmulTensor(in_X[i,:,h_start:h_end,w_start:w_end],filters[c],aSF,wSF)) \n",
    "    return out"
   ]
  },
  {
   "cell_type": "code",
   "execution_count": 33,
   "id": "2b701f40-87d4-45a1-8a51-05d24ed935cf",
   "metadata": {},
   "outputs": [
    {
     "ename": "KeyboardInterrupt",
     "evalue": "",
     "output_type": "error",
     "traceback": [
      "\u001b[0;31m---------------------------------------------------------------------------\u001b[0m",
      "\u001b[0;31mKeyboardInterrupt\u001b[0m                         Traceback (most recent call last)",
      "\u001b[0;32m<ipython-input-33-badf71128927>\u001b[0m in \u001b[0;36m<module>\u001b[0;34m\u001b[0m\n\u001b[0;32m----> 1\u001b[0;31m \u001b[0ms\u001b[0m \u001b[0;34m=\u001b[0m \u001b[0mStoConv\u001b[0m\u001b[0;34m(\u001b[0m\u001b[0mact\u001b[0m\u001b[0;34m,\u001b[0m \u001b[0mwei\u001b[0m\u001b[0;34m,\u001b[0m \u001b[0;34m(\u001b[0m\u001b[0;36m0\u001b[0m\u001b[0;34m,\u001b[0m\u001b[0;36m0\u001b[0m\u001b[0;34m)\u001b[0m\u001b[0;34m,\u001b[0m \u001b[0mstride\u001b[0m\u001b[0;34m=\u001b[0m\u001b[0;36m1\u001b[0m\u001b[0;34m,\u001b[0m \u001b[0mpad\u001b[0m\u001b[0;34m=\u001b[0m\u001b[0;36m0\u001b[0m\u001b[0;34m)\u001b[0m\u001b[0;34m\u001b[0m\u001b[0;34m\u001b[0m\u001b[0m\n\u001b[0m",
      "\u001b[0;32m<ipython-input-32-ebf9a00585d6>\u001b[0m in \u001b[0;36mStoConv\u001b[0;34m(X, filters, bias, stride, pad)\u001b[0m\n\u001b[1;32m     20\u001b[0m                     \u001b[0mw_end\u001b[0m \u001b[0;34m=\u001b[0m \u001b[0mw_start\u001b[0m \u001b[0;34m+\u001b[0m \u001b[0mfilter_w\u001b[0m\u001b[0;34m\u001b[0m\u001b[0;34m\u001b[0m\u001b[0m\n\u001b[1;32m     21\u001b[0m                     \u001b[0;31m# Element-wise multiplication.\u001b[0m\u001b[0;34m\u001b[0m\u001b[0;34m\u001b[0m\u001b[0;34m\u001b[0m\u001b[0m\n\u001b[0;32m---> 22\u001b[0;31m                     \u001b[0mout\u001b[0m\u001b[0;34m[\u001b[0m\u001b[0mi\u001b[0m\u001b[0;34m,\u001b[0m \u001b[0mc\u001b[0m\u001b[0;34m,\u001b[0m \u001b[0mh\u001b[0m\u001b[0;34m,\u001b[0m \u001b[0mw\u001b[0m\u001b[0;34m]\u001b[0m \u001b[0;34m=\u001b[0m \u001b[0mtorch\u001b[0m\u001b[0;34m.\u001b[0m\u001b[0msum\u001b[0m\u001b[0;34m(\u001b[0m\u001b[0mSCmulTensor\u001b[0m\u001b[0;34m(\u001b[0m\u001b[0min_X\u001b[0m\u001b[0;34m[\u001b[0m\u001b[0mi\u001b[0m\u001b[0;34m,\u001b[0m\u001b[0;34m:\u001b[0m\u001b[0;34m,\u001b[0m\u001b[0mh_start\u001b[0m\u001b[0;34m:\u001b[0m\u001b[0mh_end\u001b[0m\u001b[0;34m,\u001b[0m\u001b[0mw_start\u001b[0m\u001b[0;34m:\u001b[0m\u001b[0mw_end\u001b[0m\u001b[0;34m]\u001b[0m\u001b[0;34m,\u001b[0m\u001b[0mfilters\u001b[0m\u001b[0;34m[\u001b[0m\u001b[0mc\u001b[0m\u001b[0;34m]\u001b[0m\u001b[0;34m,\u001b[0m\u001b[0maSF\u001b[0m\u001b[0;34m,\u001b[0m\u001b[0mwSF\u001b[0m\u001b[0;34m)\u001b[0m\u001b[0;34m)\u001b[0m\u001b[0;34m\u001b[0m\u001b[0;34m\u001b[0m\u001b[0m\n\u001b[0m\u001b[1;32m     23\u001b[0m     \u001b[0;32mreturn\u001b[0m \u001b[0mout\u001b[0m\u001b[0;34m\u001b[0m\u001b[0;34m\u001b[0m\u001b[0m\n",
      "\u001b[0;32m<ipython-input-26-8fb24868faa9>\u001b[0m in \u001b[0;36mSCmulTensor\u001b[0;34m(aIn, wIn, aSF, wSF)\u001b[0m\n\u001b[1;32m      5\u001b[0m     \u001b[0mlfsr\u001b[0m \u001b[0;34m=\u001b[0m \u001b[0mLFSRlist7\u001b[0m\u001b[0;34m(\u001b[0m\u001b[0;34m)\u001b[0m\u001b[0;34m\u001b[0m\u001b[0;34m\u001b[0m\u001b[0m\n\u001b[1;32m      6\u001b[0m \u001b[0;34m\u001b[0m\u001b[0m\n\u001b[0;32m----> 7\u001b[0;31m     \u001b[0mSa\u001b[0m \u001b[0;34m=\u001b[0m \u001b[0mSngNumpy\u001b[0m\u001b[0;34m(\u001b[0m\u001b[0ma\u001b[0m\u001b[0;34m,\u001b[0m\u001b[0mlfsr\u001b[0m\u001b[0;34m)\u001b[0m\u001b[0;34m\u001b[0m\u001b[0;34m\u001b[0m\u001b[0m\n\u001b[0m\u001b[1;32m      8\u001b[0m     \u001b[0mSw\u001b[0m \u001b[0;34m=\u001b[0m \u001b[0mSngpNumpy\u001b[0m\u001b[0;34m(\u001b[0m\u001b[0mw\u001b[0m\u001b[0;34m,\u001b[0m\u001b[0mlfsr\u001b[0m\u001b[0;34m)\u001b[0m\u001b[0;34m\u001b[0m\u001b[0;34m\u001b[0m\u001b[0m\n\u001b[1;32m      9\u001b[0m \u001b[0;34m\u001b[0m\u001b[0m\n",
      "\u001b[0;32m<ipython-input-20-7922ccdc5d27>\u001b[0m in \u001b[0;36mSngNumpy\u001b[0;34m(fIn, lfsr)\u001b[0m\n\u001b[1;32m      2\u001b[0m     \u001b[0msList\u001b[0m \u001b[0;34m=\u001b[0m \u001b[0;34m[\u001b[0m\u001b[0;34m]\u001b[0m\u001b[0;34m\u001b[0m\u001b[0;34m\u001b[0m\u001b[0m\n\u001b[1;32m      3\u001b[0m     \u001b[0;32mfor\u001b[0m \u001b[0maNumpy\u001b[0m \u001b[0;32min\u001b[0m \u001b[0mfIn\u001b[0m\u001b[0;34m.\u001b[0m\u001b[0mview\u001b[0m\u001b[0;34m(\u001b[0m\u001b[0;34m-\u001b[0m\u001b[0;36m1\u001b[0m\u001b[0;34m)\u001b[0m\u001b[0;34m:\u001b[0m\u001b[0;34m\u001b[0m\u001b[0;34m\u001b[0m\u001b[0m\n\u001b[0;32m----> 4\u001b[0;31m         \u001b[0msList\u001b[0m\u001b[0;34m.\u001b[0m\u001b[0mappend\u001b[0m\u001b[0;34m(\u001b[0m\u001b[0mSNG\u001b[0m\u001b[0;34m(\u001b[0m\u001b[0mfloat\u001b[0m\u001b[0;34m(\u001b[0m\u001b[0maNumpy\u001b[0m\u001b[0;34m)\u001b[0m\u001b[0;34m,\u001b[0m\u001b[0mlfsr\u001b[0m\u001b[0;34m)\u001b[0m\u001b[0;34m)\u001b[0m\u001b[0;34m\u001b[0m\u001b[0;34m\u001b[0m\u001b[0m\n\u001b[0m\u001b[1;32m      5\u001b[0m \u001b[0;34m\u001b[0m\u001b[0m\n\u001b[1;32m      6\u001b[0m     \u001b[0;32mreturn\u001b[0m \u001b[0mnp\u001b[0m\u001b[0;34m.\u001b[0m\u001b[0marray\u001b[0m\u001b[0;34m(\u001b[0m\u001b[0msList\u001b[0m\u001b[0;34m)\u001b[0m\u001b[0;34m.\u001b[0m\u001b[0mreshape\u001b[0m\u001b[0;34m(\u001b[0m\u001b[0mfIn\u001b[0m\u001b[0;34m.\u001b[0m\u001b[0msize\u001b[0m\u001b[0;34m(\u001b[0m\u001b[0;34m)\u001b[0m\u001b[0;34m)\u001b[0m\u001b[0;34m\u001b[0m\u001b[0;34m\u001b[0m\u001b[0m\n",
      "\u001b[0;32m<ipython-input-19-484c085fb5b2>\u001b[0m in \u001b[0;36mSNG\u001b[0;34m(iIN, lfsr)\u001b[0m\n\u001b[1;32m     12\u001b[0m     \u001b[0;32mfor\u001b[0m \u001b[0mk\u001b[0m \u001b[0;32min\u001b[0m \u001b[0mrange\u001b[0m\u001b[0;34m(\u001b[0m\u001b[0;36m2\u001b[0m\u001b[0;34m**\u001b[0m\u001b[0;34m(\u001b[0m\u001b[0margs\u001b[0m\u001b[0;34m.\u001b[0m\u001b[0mbBW\u001b[0m\u001b[0;34m)\u001b[0m\u001b[0;34m)\u001b[0m\u001b[0;34m:\u001b[0m \u001b[0;31m#lfsr number generating\u001b[0m\u001b[0;34m\u001b[0m\u001b[0;34m\u001b[0m\u001b[0m\n\u001b[1;32m     13\u001b[0m         \u001b[0mlNUM\u001b[0m \u001b[0;34m=\u001b[0m \u001b[0mlfsr\u001b[0m\u001b[0;34m[\u001b[0m\u001b[0mk\u001b[0m\u001b[0;34m]\u001b[0m\u001b[0;34m\u001b[0m\u001b[0;34m\u001b[0m\u001b[0m\n\u001b[0;32m---> 14\u001b[0;31m         \u001b[0ma\u001b[0m \u001b[0;34m=\u001b[0m \u001b[0mComp\u001b[0m\u001b[0;34m(\u001b[0m\u001b[0mbFRAC\u001b[0m\u001b[0;34m,\u001b[0m\u001b[0mlNUM\u001b[0m\u001b[0;34m,\u001b[0m\u001b[0msNUM\u001b[0m\u001b[0;34m)\u001b[0m\u001b[0;34m\u001b[0m\u001b[0;34m\u001b[0m\u001b[0m\n\u001b[0m\u001b[1;32m     15\u001b[0m         \u001b[0moAlist\u001b[0m\u001b[0;34m.\u001b[0m\u001b[0mappend\u001b[0m\u001b[0;34m(\u001b[0m\u001b[0ma\u001b[0m\u001b[0;34m)\u001b[0m \u001b[0;31m#comparator of input a\u001b[0m\u001b[0;34m\u001b[0m\u001b[0;34m\u001b[0m\u001b[0m\n\u001b[1;32m     16\u001b[0m \u001b[0;34m\u001b[0m\u001b[0m\n",
      "\u001b[0;32m<ipython-input-13-97df36d5d0e7>\u001b[0m in \u001b[0;36mComp\u001b[0;34m(a, lfsr, snum)\u001b[0m\n\u001b[1;32m      1\u001b[0m \u001b[0;32mdef\u001b[0m \u001b[0mComp\u001b[0m\u001b[0;34m(\u001b[0m\u001b[0ma\u001b[0m\u001b[0;34m,\u001b[0m\u001b[0mlfsr\u001b[0m\u001b[0;34m,\u001b[0m\u001b[0msnum\u001b[0m\u001b[0;34m)\u001b[0m\u001b[0;34m:\u001b[0m\u001b[0;34m\u001b[0m\u001b[0;34m\u001b[0m\u001b[0m\n\u001b[0;32m----> 2\u001b[0;31m     \u001b[0;32mfor\u001b[0m \u001b[0mcom\u001b[0m \u001b[0;32min\u001b[0m \u001b[0mrange\u001b[0m\u001b[0;34m(\u001b[0m\u001b[0;36m0\u001b[0m\u001b[0;34m,\u001b[0m\u001b[0mlen\u001b[0m\u001b[0;34m(\u001b[0m\u001b[0ma\u001b[0m\u001b[0;34m)\u001b[0m\u001b[0;34m)\u001b[0m\u001b[0;34m:\u001b[0m\u001b[0;34m\u001b[0m\u001b[0;34m\u001b[0m\u001b[0m\n\u001b[0m\u001b[1;32m      3\u001b[0m         \u001b[0moA\u001b[0m \u001b[0;34m=\u001b[0m \u001b[0;34m'0'\u001b[0m\u001b[0;34m\u001b[0m\u001b[0;34m\u001b[0m\u001b[0m\n\u001b[1;32m      4\u001b[0m         \u001b[0;32mif\u001b[0m \u001b[0ma\u001b[0m\u001b[0;34m[\u001b[0m\u001b[0mcom\u001b[0m\u001b[0;34m]\u001b[0m\u001b[0;34m!=\u001b[0m\u001b[0mlfsr\u001b[0m\u001b[0;34m[\u001b[0m\u001b[0mcom\u001b[0m\u001b[0;34m]\u001b[0m\u001b[0;34m:\u001b[0m\u001b[0;34m\u001b[0m\u001b[0;34m\u001b[0m\u001b[0m\n\u001b[1;32m      5\u001b[0m             \u001b[0;32mif\u001b[0m\u001b[0;34m(\u001b[0m\u001b[0mint\u001b[0m\u001b[0;34m(\u001b[0m\u001b[0ma\u001b[0m\u001b[0;34m[\u001b[0m\u001b[0mcom\u001b[0m\u001b[0;34m]\u001b[0m\u001b[0;34m)\u001b[0m \u001b[0;34m>\u001b[0m \u001b[0mint\u001b[0m\u001b[0;34m(\u001b[0m\u001b[0mlfsr\u001b[0m\u001b[0;34m[\u001b[0m\u001b[0mcom\u001b[0m\u001b[0;34m]\u001b[0m\u001b[0;34m)\u001b[0m\u001b[0;34m)\u001b[0m\u001b[0;34m:\u001b[0m\u001b[0;34m\u001b[0m\u001b[0;34m\u001b[0m\u001b[0m\n",
      "\u001b[0;31mKeyboardInterrupt\u001b[0m: "
     ]
    }
   ],
   "source": [
    "s = StoConv(act, wei, (0,0), stride=1, pad=0)"
   ]
  },
  {
   "cell_type": "code",
   "execution_count": null,
   "id": "3b645b13-572a-49ea-a56d-d0bbf426bb8c",
   "metadata": {},
   "outputs": [],
   "source": [
    "act.size()"
   ]
  },
  {
   "cell_type": "code",
   "execution_count": null,
   "id": "ce75710c-ad23-43ef-bef3-94152ccb40d7",
   "metadata": {},
   "outputs": [],
   "source": [
    "wei.size()"
   ]
  },
  {
   "cell_type": "code",
   "execution_count": null,
   "id": "255471d6-b4d8-4a65-9695-c1cbc8906fed",
   "metadata": {},
   "outputs": [],
   "source": [
    "s.size()"
   ]
  },
  {
   "cell_type": "code",
   "execution_count": null,
   "id": "ba2ac8e9-46f0-4840-98c8-16eab70793c3",
   "metadata": {},
   "outputs": [],
   "source": [
    "print(s)"
   ]
  },
  {
   "cell_type": "code",
   "execution_count": null,
   "id": "a85a284b-e040-4cd4-946d-078decf653f8",
   "metadata": {},
   "outputs": [],
   "source": [
    "print(c)"
   ]
  },
  {
   "cell_type": "code",
   "execution_count": null,
   "id": "177fc019-23c9-422a-bbab-3183a6bbed32",
   "metadata": {},
   "outputs": [],
   "source": []
  },
  {
   "cell_type": "code",
   "execution_count": null,
   "id": "cbd7a8e2-7300-4212-8eb7-bc824083ed7b",
   "metadata": {},
   "outputs": [],
   "source": []
  }
 ],
 "metadata": {
  "kernelspec": {
   "display_name": "Python 3",
   "language": "python",
   "name": "python3"
  },
  "language_info": {
   "codemirror_mode": {
    "name": "ipython",
    "version": 3
   },
   "file_extension": ".py",
   "mimetype": "text/x-python",
   "name": "python",
   "nbconvert_exporter": "python",
   "pygments_lexer": "ipython3",
   "version": "3.6.9"
  }
 },
 "nbformat": 4,
 "nbformat_minor": 5
}
