{
 "cells": [
  {
   "cell_type": "markdown",
   "id": "afacf477-15ca-4272-9ef4-50fe8b25c049",
   "metadata": {},
   "source": [
    "# TEST code"
   ]
  },
  {
   "cell_type": "markdown",
   "id": "960913e5-e961-4db4-9099-842bbcc11d64",
   "metadata": {},
   "source": [
    "fixed number to stochastic conversion & multiply & stochastic to fixed number conversion"
   ]
  },
  {
   "cell_type": "markdown",
   "id": "7f984cce-e977-4513-b0a6-166d637b3ee2",
   "metadata": {},
   "source": [
    "## Import"
   ]
  },
  {
   "cell_type": "code",
   "execution_count": 1,
   "id": "bdcc4eb8-eb20-495f-905c-8d69ccf0004b",
   "metadata": {},
   "outputs": [],
   "source": [
    "import random, struct, math\n",
    "import torch\n",
    "import numpy as np\n",
    "import torch.nn as nn \n",
    "import argparse\n",
    "import warnings\n",
    "warnings.simplefilter(action='ignore', category=FutureWarning)"
   ]
  },
  {
   "cell_type": "markdown",
   "id": "bf874b06-00d8-467a-a39a-f83b2848a131",
   "metadata": {},
   "source": [
    "## Parser"
   ]
  },
  {
   "cell_type": "code",
   "execution_count": 2,
   "id": "60f1fa45-99e9-4316-97bd-110193848caf",
   "metadata": {},
   "outputs": [],
   "source": [
    "parser = argparse.ArgumentParser(description='fixed_mac')\n",
    "parser.add_argument('--full_bits', type=int, default=8, help='Number of Quantization Bits')\n",
    "parser.add_argument('--frac_bits', type=int, default=5, help='Number of Quantization Bits')\n",
    "parser.add_argument('--bBW', type=int, default=5, help='Number of bit width')\n",
    "args = parser.parse_args(args=[])"
   ]
  },
  {
   "cell_type": "markdown",
   "id": "1f797a9d-6b00-4116-877f-0a71225be9b4",
   "metadata": {},
   "source": [
    "## Definition"
   ]
  },
  {
   "cell_type": "markdown",
   "id": "f8529249-9e0f-4d60-8c40-b9b3c52975ca",
   "metadata": {},
   "source": [
    "### int2bin : int number to binary number"
   ]
  },
  {
   "cell_type": "code",
   "execution_count": 3,
   "id": "5c99e84a-3245-4d68-ad2c-9d3c4e675aa7",
   "metadata": {},
   "outputs": [],
   "source": [
    "def int2bin(iIn,iBW):\n",
    "    iBW = iBW + 1\n",
    "    if iIn >= 0:\n",
    "        bOut = bin(iIn).replace('0b','').rjust(iBW,'0')\n",
    "    else :\n",
    "        bOut = bin(iIn & (pow(2,iBW)-1)).replace('0b','').rjust(iBW,'1')\n",
    "    return bOut[1:]"
   ]
  },
  {
   "cell_type": "markdown",
   "id": "95c7b4eb-1d2d-4010-be45-3a105fa58baa",
   "metadata": {},
   "source": [
    "### XOR : xor gate with string"
   ]
  },
  {
   "cell_type": "code",
   "execution_count": 4,
   "id": "017c485f-9342-44bc-b1b5-2bd809a0e6d3",
   "metadata": {},
   "outputs": [],
   "source": [
    "def XOR(iA,iB):\n",
    "    if iA != iB :\n",
    "        iOut = '1'\n",
    "    else : \n",
    "        iOut = '0'\n",
    "    return iOut"
   ]
  },
  {
   "cell_type": "markdown",
   "id": "f33ef61a-6fe2-47bf-82d8-ef6f749abd9b",
   "metadata": {},
   "source": [
    "### SNUM : sign number determination"
   ]
  },
  {
   "cell_type": "code",
   "execution_count": 5,
   "id": "315a5931-74d7-49ce-989e-65584b5b8162",
   "metadata": {},
   "outputs": [],
   "source": [
    "def snum(a):\n",
    "    if a >= 0 :\n",
    "        return '0'\n",
    "    else :\n",
    "        return '1'"
   ]
  },
  {
   "cell_type": "markdown",
   "id": "d9892b3a-04c5-480d-8574-9328d87f1459",
   "metadata": {},
   "source": [
    "## bInv : Binary Inversion"
   ]
  },
  {
   "cell_type": "code",
   "execution_count": 6,
   "id": "75a6f435-f0b0-4401-bda4-69962ea9f8d4",
   "metadata": {},
   "outputs": [],
   "source": [
    "def binInv(bIn):\n",
    "    bOut = bin(int(bIn,2)^(pow(2,len(bIn))-1)).replace('0b','').rjust(len(bIn),'0')\n",
    "    return bOut"
   ]
  },
  {
   "cell_type": "markdown",
   "id": "58fa9a22-a10e-40e4-b057-67055a68e33e",
   "metadata": {},
   "source": [
    "### fxp & flp2fix : floating number to fixed number conversion"
   ]
  },
  {
   "cell_type": "code",
   "execution_count": 7,
   "id": "1d11c5ea-e139-4b7c-bdc5-d297cf82579c",
   "metadata": {},
   "outputs": [],
   "source": [
    "class fxp:\n",
    "    def __init__(self, bIn, iBWF):\n",
    "        self.iFullBW = len(bIn)\n",
    "        self.iIntgBW = self.iFullBW - iBWF\n",
    "        self.bSign = bIn[0]\n",
    "        self.bIntg = bIn[:self.iIntgBW]\n",
    "        self.bFrac = bIn[self.iIntgBW:]\n",
    "        self.fFull = 0\n",
    "        try:\n",
    "            for idx, bit in enumerate(bIn):\n",
    "                if idx == 0:\n",
    "                    self.fFull = self.fFull + int(bit,2) * -pow(2, self.iIntgBW - 1)\n",
    "                else:\n",
    "                    self.fFull = self.fFull + int(bit,2) * pow(2, self.iIntgBW - 1 - idx)\n",
    "        except:\n",
    "            print(bIn)\n",
    "        self.dispFull = self.bIntg +\".\"+ self.bFrac \n",
    "        return"
   ]
  },
  {
   "cell_type": "code",
   "execution_count": 8,
   "id": "7c6aa085-7abf-4abe-acd9-9fa75a19a0bd",
   "metadata": {},
   "outputs": [],
   "source": [
    "class flp2fix:\n",
    "    def __init__(self, fIn, iBW, iBWF):\n",
    "        self.fMin = - 2 ** (iBW - iBWF - 1)\n",
    "        self.fMax = (2 ** (iBW-1) - 1) * (2 ** -iBWF)\n",
    "        self.fResol = 2 ** -iBWF\n",
    "        if fIn < self.fMin or fIn > self.fMax:\n",
    "            print(f'({fIn}): Out of input range ({self.fMax}/{self.fMin}) during flp -> fix converting ')\n",
    "        self.iBW = iBW\n",
    "        self.iBWI = iBW - iBWF\n",
    "        self.iBWF = iBWF\n",
    "\n",
    "        self.iFLP2INT = abs(int(fIn * 2 ** iBWF))\n",
    "        if fIn < 0:\n",
    "            self.iFLP2INT = 2 ** (iBW-1) - self.iFLP2INT\n",
    "\n",
    "        if fIn >= 0:\n",
    "            self.bFull = bin(self.iFLP2INT)[2:].rjust(iBW, '0')\n",
    "        else:\n",
    "            self.bFull = '1'+bin(self.iFLP2INT)[2:].rjust(iBW-1, '0')\n",
    "            if len(self.bFull) > iBW:\n",
    "                self.bFull = '0' * iBW\n",
    "\n",
    "        self.cssFxp = fxp(self.bFull, self.iBWF)\n",
    "        self.bSign = self.cssFxp.bSign\n",
    "        self.bIntg = self.cssFxp.bIntg\n",
    "        self.bFrac = self.cssFxp.bFrac\n",
    "        self.fFull = self.cssFxp.fFull\n",
    "        return"
   ]
  },
  {
   "cell_type": "markdown",
   "id": "1b0d04af-ae7a-4d24-a4cd-39c1d86c1580",
   "metadata": {},
   "source": [
    "### LFSR : make pseudorandom number bitstream"
   ]
  },
  {
   "cell_type": "code",
   "execution_count": 9,
   "id": "bfb2e170-fae0-4d5e-9fd4-12703e1202c7",
   "metadata": {},
   "outputs": [],
   "source": [
    "class LFSR5:\n",
    "    def Random(self):\n",
    "        self.b0 = eval(f'str(random.randint(0,1))')\n",
    "        self.b1 = eval(f'str(random.randint(0,1))')\n",
    "        self.b2 = eval(f'str(random.randint(0,1))')\n",
    "        self.b3 = eval(f'str(random.randint(0,1))')\n",
    "        self.b4 = eval(f'str(random.randint(0,1))')\n",
    "        \n",
    "        return self.b0 + self.b1 + self.b2 + self.b3 + self.b4\n",
    "    \n",
    "    def Normal(self,stream):\n",
    "        self.b0 = XOR(int(stream[2]),int(stream[4]))\n",
    "        self.b1 = stream[0]\n",
    "        self.b2 = stream[1]\n",
    "        self.b3 = stream[2]\n",
    "        self.b4 = stream[3]\n",
    "        \n",
    "        return self.b0 + self.b1 + self.b2 + self.b3 + self.b4\n",
    "    \n",
    "    def Allzero(self):\n",
    "        self.b0 = '0'\n",
    "        self.b1 = '0'\n",
    "        self.b2 = '0'\n",
    "        self.b3 = '0'\n",
    "        self.b4 = '0'\n",
    "        \n",
    "        return self.b0 + self.b1 + self.b2 + self.b3 + self.b4"
   ]
  },
  {
   "cell_type": "code",
   "execution_count": 10,
   "id": "8690a9d6-e020-46d3-a2ef-3154e4cd41ac",
   "metadata": {},
   "outputs": [],
   "source": [
    "class LFSR6:\n",
    "    def Random(self):\n",
    "        self.b0 = eval(f'str(random.randint(0,1))')\n",
    "        self.b1 = eval(f'str(random.randint(0,1))')\n",
    "        self.b2 = eval(f'str(random.randint(0,1))')\n",
    "        self.b3 = eval(f'str(random.randint(0,1))')\n",
    "        self.b4 = eval(f'str(random.randint(0,1))')\n",
    "        self.b5 = eval(f'str(random.randint(0,1))')\n",
    "        \n",
    "        return self.b0 + self.b1 + self.b2 + self.b3 + self.b4 + self.b5\n",
    "    \n",
    "    def Normal(self,stream):\n",
    "        self.b0 = XOR(int(stream[4]),int(stream[5]))\n",
    "        self.b1 = stream[0]\n",
    "        self.b2 = stream[1]\n",
    "        self.b3 = stream[2]\n",
    "        self.b4 = stream[3]\n",
    "        self.b5 = stream[4]\n",
    "        \n",
    "        return self.b0 + self.b1 + self.b2 + self.b3 + self.b4 + self.b5\n",
    "    \n",
    "    def Allzero(self):\n",
    "        self.b0 = '0'\n",
    "        self.b1 = '0'\n",
    "        self.b2 = '0'\n",
    "        self.b3 = '0'\n",
    "        self.b4 = '0'\n",
    "        self.b5 = '0'\n",
    "        \n",
    "        return self.b0 + self.b1 + self.b2 + self.b3 + self.b4 + self.b5"
   ]
  },
  {
   "cell_type": "code",
   "execution_count": 11,
   "id": "95ff8f5d-f0ae-412d-9558-e64913f49966",
   "metadata": {},
   "outputs": [],
   "source": [
    "class LFSR7:\n",
    "    def Random(self):\n",
    "        self.b0 = eval(f'str(random.randint(0,1))')\n",
    "        self.b1 = eval(f'str(random.randint(0,1))')\n",
    "        self.b2 = eval(f'str(random.randint(0,1))')\n",
    "        self.b3 = eval(f'str(random.randint(0,1))')\n",
    "        self.b4 = eval(f'str(random.randint(0,1))')\n",
    "        self.b5 = eval(f'str(random.randint(0,1))')\n",
    "        self.b6 = eval(f'str(random.randint(0,1))')\n",
    "        \n",
    "        return self.b0 + self.b1 + self.b2 + self.b3 + self.b4 + self.b5 + self.b6\n",
    "    \n",
    "    def Normal(self,stream):\n",
    "        self.b0 = XOR(int(stream[5]),int(stream[6]))\n",
    "        self.b1 = stream[0]\n",
    "        self.b2 = stream[1]\n",
    "        self.b3 = stream[2]\n",
    "        self.b4 = stream[3]\n",
    "        self.b5 = stream[4]\n",
    "        self.b6 = stream[5]\n",
    "        \n",
    "        return self.b0 + self.b1 + self.b2 + self.b3 + self.b4 + self.b5 + self.b6\n",
    "    \n",
    "    def Allzero(self):\n",
    "        self.b0 = '0'\n",
    "        self.b1 = '0'\n",
    "        self.b2 = '0'\n",
    "        self.b3 = '0'\n",
    "        self.b4 = '0'\n",
    "        self.b5 = '0'\n",
    "        self.b6 = '0'\n",
    "        \n",
    "        return self.b0 + self.b1 + self.b2 + self.b3 + self.b4 + self.b5 + self.b6"
   ]
  },
  {
   "cell_type": "code",
   "execution_count": 9,
   "id": "ea238f42-0914-4e3b-91cd-87c71052d7af",
   "metadata": {},
   "outputs": [],
   "source": [
    "class LFSR6:\n",
    "    def Random(self):\n",
    "        self.b0 = eval(f'str(random.randint(0,1))')\n",
    "        self.b1 = eval(f'str(random.randint(0,1))')\n",
    "        self.b2 = eval(f'str(random.randint(0,1))')\n",
    "        self.b3 = eval(f'str(random.randint(0,1))')\n",
    "        self.b4 = eval(f'str(random.randint(0,1))')\n",
    "        self.b5 = eval(f'str(random.randint(0,1))')\n",
    "        \n",
    "        return self.b0 + self.b1 + self.b2 + self.b3 + self.b4 + self.b5\n",
    "    \n",
    "    def Normal(self,stream):\n",
    "        self.b0 = XOR(int(stream[4]),int(stream[5]))\n",
    "        self.b1 = stream[0]\n",
    "        self.b2 = stream[1]\n",
    "        self.b3 = stream[2]\n",
    "        self.b4 = stream[3]\n",
    "        self.b5 = stream[4]\n",
    "        \n",
    "        return self.b0 + self.b1 + self.b2 + self.b3 + self.b4 + self.b5\n",
    "    \n",
    "    def Allzero(self):\n",
    "        self.b0 = '0'\n",
    "        self.b1 = '0'\n",
    "        self.b2 = '0'\n",
    "        self.b3 = '0'\n",
    "        self.b4 = '0'\n",
    "        self.b5 = '0'\n",
    "        \n",
    "        return self.b0 + self.b1 + self.b2 + self.b3 + self.b4 + self.b5"
   ]
  },
  {
   "cell_type": "code",
   "execution_count": 10,
   "id": "bbf0e185-d0e3-45c6-8b9f-81e6951af5cc",
   "metadata": {},
   "outputs": [],
   "source": [
    "class LFSR7:\n",
    "    def Random(self):\n",
    "        self.b0 = eval(f'str(random.randint(0,1))')\n",
    "        self.b1 = eval(f'str(random.randint(0,1))')\n",
    "        self.b2 = eval(f'str(random.randint(0,1))')\n",
    "        self.b3 = eval(f'str(random.randint(0,1))')\n",
    "        self.b4 = eval(f'str(random.randint(0,1))')\n",
    "        self.b5 = eval(f'str(random.randint(0,1))')\n",
    "        self.b6 = eval(f'str(random.randint(0,1))')\n",
    "        return self.b0 + self.b1 + self.b2 + self.b3 + self.b4 + self.b5 + self.b6\n",
    "    \n",
    "    def Normal(self,stream):\n",
    "        self.b0 = XOR(int(stream[5]),int(stream[6]))\n",
    "        self.b1 = stream[0]\n",
    "        self.b2 = stream[1]\n",
    "        self.b3 = stream[2]\n",
    "        self.b4 = stream[3]\n",
    "        self.b5 = stream[4]\n",
    "        self.b6 = stream[5]\n",
    "        \n",
    "        return self.b0 + self.b1 + self.b2 + self.b3 + self.b4 + self.b5 + self.b6\n",
    "    \n",
    "    def Allzero(self):\n",
    "        self.b0 = '0'\n",
    "        self.b1 = '0'\n",
    "        self.b2 = '0'\n",
    "        self.b3 = '0'\n",
    "        self.b4 = '0'\n",
    "        self.b5 = '0'\n",
    "        self.b6 = '0'\n",
    "        \n",
    "        return self.b0 + self.b1 + self.b2 + self.b3 + self.b4 + self.b5 + self.b6"
   ]
  },
  {
   "cell_type": "code",
   "execution_count": 12,
   "id": "b12b5e94-b2ad-42a6-9efb-c79901b0d5d1",
   "metadata": {},
   "outputs": [],
   "source": [
    "class LFSR8:\n",
    "    def Random(self):\n",
    "        self.b0 = eval(f'str(random.randint(0,1))')\n",
    "        self.b1 = eval(f'str(random.randint(0,1))')\n",
    "        self.b2 = eval(f'str(random.randint(0,1))')\n",
    "        self.b3 = eval(f'str(random.randint(0,1))')\n",
    "        self.b4 = eval(f'str(random.randint(0,1))')\n",
    "        self.b5 = eval(f'str(random.randint(0,1))')\n",
    "        self.b6 = eval(f'str(random.randint(0,1))')\n",
    "        self.b7 = eval(f'str(random.randint(0,1))')\n",
    "        return self.b0 + self.b1 + self.b2 + self.b3 + self.b4 + self.b5 + self.b6 + self.b7\n",
    "    \n",
    "    def Normal(self,stream):\n",
    "        self.b0 = XOR(int(XOR(int(stream[5]),int(XOR(int(stream[3]),int(stream[4]))))),int(stream[7]))\n",
    "        self.b1 = stream[0]\n",
    "        self.b2 = stream[1]\n",
    "        self.b3 = stream[2]\n",
    "        self.b4 = stream[3]\n",
    "        self.b5 = stream[4]\n",
    "        self.b6 = stream[5]\n",
    "        self.b7 = stream[6]\n",
    "        \n",
    "        return self.b0 + self.b1 + self.b2 + self.b3 + self.b4 + self.b5 + self.b6 + self.b7\n",
    "    \n",
    "    def Allzero(self):\n",
    "        self.b0 = '0'\n",
    "        self.b1 = '0'\n",
    "        self.b2 = '0'\n",
    "        self.b3 = '0'\n",
    "        self.b4 = '0'\n",
    "        self.b5 = '0'\n",
    "        self.b6 = '0'\n",
    "        self.b7 = '0'\n",
    "        \n",
    "        return self.b0 + self.b1 + self.b2 + self.b3 + self.b4 + self.b5 + self.b6 + self.b7"
   ]
  },
  {
   "cell_type": "code",
   "execution_count": 13,
   "id": "70871b6e-0c39-4916-b1e0-9a52b7bf825b",
   "metadata": {},
   "outputs": [],
   "source": [
    "class LFSR9:\n",
    "    def Random(self):\n",
    "        self.b0 = eval(f'str(random.randint(0,1))')\n",
    "        self.b1 = eval(f'str(random.randint(0,1))')\n",
    "        self.b2 = eval(f'str(random.randint(0,1))')\n",
    "        self.b3 = eval(f'str(random.randint(0,1))')\n",
    "        self.b4 = eval(f'str(random.randint(0,1))')\n",
    "        self.b5 = eval(f'str(random.randint(0,1))')\n",
    "        self.b6 = eval(f'str(random.randint(0,1))')\n",
    "        self.b7 = eval(f'str(random.randint(0,1))')\n",
    "        self.b8 = eval(f'str(random.randint(0,1))')\n",
    "        return self.b0 + self.b1 + self.b2 + self.b3 + self.b4 + self.b5 + self.b6 + self.b7 + self.b8\n",
    "    \n",
    "    def Normal(self,stream):\n",
    "        self.b0 = XOR(int(stream[4]),int(stream[8]))\n",
    "        self.b1 = stream[0]\n",
    "        self.b2 = stream[1]\n",
    "        self.b3 = stream[2]\n",
    "        self.b4 = stream[3]\n",
    "        self.b5 = stream[4]\n",
    "        self.b6 = stream[5]\n",
    "        self.b7 = stream[6]\n",
    "        self.b8 = stream[7]\n",
    "        \n",
    "        return self.b0 + self.b1 + self.b2 + self.b3 + self.b4 + self.b5 + self.b6 + self.b7 + self.b8\n",
    "    \n",
    "    def Allzero(self):\n",
    "        self.b0 = '0'\n",
    "        self.b1 = '0'\n",
    "        self.b2 = '0'\n",
    "        self.b3 = '0'\n",
    "        self.b4 = '0'\n",
    "        self.b5 = '0'\n",
    "        self.b6 = '0'\n",
    "        self.b7 = '0'\n",
    "        self.b8 = '0'\n",
    "        \n",
    "        return self.b0 + self.b1 + self.b2 + self.b3 + self.b4 + self.b5 + self.b6 + self.b7 + self.b8\n"
   ]
  },
  {
   "cell_type": "code",
   "execution_count": 14,
   "id": "43c7bd9c-89f6-49e3-8418-3a4548b9d5f0",
   "metadata": {},
   "outputs": [],
   "source": [
    "class LFSR10:\n",
    "    def Random(self):\n",
    "        self.b0 = eval(f'str(random.randint(0,1))')\n",
    "        self.b1 = eval(f'str(random.randint(0,1))')\n",
    "        self.b2 = eval(f'str(random.randint(0,1))')\n",
    "        self.b3 = eval(f'str(random.randint(0,1))')\n",
    "        self.b4 = eval(f'str(random.randint(0,1))')\n",
    "        self.b5 = eval(f'str(random.randint(0,1))')\n",
    "        self.b6 = eval(f'str(random.randint(0,1))')\n",
    "        self.b7 = eval(f'str(random.randint(0,1))')\n",
    "        self.b8 = eval(f'str(random.randint(0,1))')\n",
    "        self.b9 = eval(f'str(random.randint(0,1))')\n",
    "        return self.b0 + self.b1 + self.b2 + self.b3 + self.b4 + self.b5 + self.b6 + self.b7 + self.b8 + self.b9\n",
    "    \n",
    "    def Normal(self,stream):\n",
    "        self.b0 = XOR(int(stream[6]),int(stream[9]))\n",
    "        self.b1 = stream[0]\n",
    "        self.b2 = stream[1]\n",
    "        self.b3 = stream[2]\n",
    "        self.b4 = stream[3]\n",
    "        self.b5 = stream[4]\n",
    "        self.b6 = stream[5]\n",
    "        self.b7 = stream[6]\n",
    "        self.b8 = stream[7]\n",
    "        self.b9 = stream[8]\n",
    "        \n",
    "        return self.b0 + self.b1 + self.b2 + self.b3 + self.b4 + self.b5 + self.b6 + self.b7 + self.b8 + self.b9\n",
    "    \n",
    "    def Allzero(self):\n",
    "        self.b0 = '0'\n",
    "        self.b1 = '0'\n",
    "        self.b2 = '0'\n",
    "        self.b3 = '0'\n",
    "        self.b4 = '0'\n",
    "        self.b5 = '0'\n",
    "        self.b6 = '0'\n",
    "        self.b7 = '0'\n",
    "        self.b8 = '0'\n",
    "        self.b9 = '0'\n",
    "        \n",
    "        return self.b0 + self.b1 + self.b2 + self.b3 + self.b4 + self.b5 + self.b6 + self.b7 + self.b8 + self.b9\n"
   ]
  },
  {
   "cell_type": "markdown",
   "id": "5393f658-d697-44a5-a176-970ad07f72a8",
   "metadata": {},
   "source": [
    "### LFSRlist : make pseudorandom number bitstream with 2**bBW cycle"
   ]
  },
  {
   "cell_type": "code",
   "execution_count": 16,
   "id": "73dced22-c04e-41a1-a888-f2617dbccb61",
   "metadata": {},
   "outputs": [],
   "source": [
    "def LFSRlist5():\n",
    "    lfsr = LFSR5()\n",
    "    lfsrlist = []\n",
    "    for k in range(2**(5)-1): #lfsr number generating\n",
    "        if k == 0:\n",
    "            lfsrlist.append(lfsr.Random())\n",
    "        else :\n",
    "            lfsrlist.append(lfsr.Normal(lfsrlist[k-1]))\n",
    "        if (k == 2**(5)-2):\n",
    "            lfsrlist.append(lfsr.Allzero())\n",
    "    \n",
    "    if (args.bBW) != args.frac_bits :\n",
    "        if args.bBW < args.frac_bits :\n",
    "            for i in range(len(lfsrlist)):\n",
    "                lfsrlist[i] = lfsrlist[i] + (args.frac_bits-args.bBW)*'0'\n",
    "        else :\n",
    "            print(\"it can't work\")\n",
    "            return 0\n",
    "    \n",
    "    return lfsrlist"
   ]
  },
  {
   "cell_type": "code",
   "execution_count": 17,
   "id": "1fdbfb9f-fa17-46ea-b95c-f93d4a8820f3",
   "metadata": {},
   "outputs": [],
   "source": [
    "def LFSRlist6():\n",
    "    lfsr = LFSR6()\n",
    "    lfsrlist = []\n",
    "    for k in range(2**(6)-1): #lfsr number generating\n",
    "        if k == 0:\n",
    "            lfsrlist.append(lfsr.Random())\n",
    "        else :\n",
    "            lfsrlist.append(lfsr.Normal(lfsrlist[k-1]))\n",
    "        if (k == 2**(6)-2):\n",
    "            lfsrlist.append(lfsr.Allzero())\n",
    "    \n",
    "    if (args.bBW) != args.frac_bits :\n",
    "        if args.bBW < args.frac_bits :\n",
    "            for i in range(len(lfsrlist)):\n",
    "                lfsrlist[i] = lfsrlist[i] + (args.frac_bits-args.bBW)*'0'\n",
    "        else :\n",
    "            print(\"it can't work\")\n",
    "            return 0\n",
    "    \n",
    "    return lfsrlist"
   ]
  },
  {
   "cell_type": "code",
   "execution_count": 18,
   "id": "bd4053b4-e6c4-4ede-b0b1-6223b6057210",
   "metadata": {},
   "outputs": [],
   "source": [
    "def LFSRlist7():\n",
    "    lfsr = LFSR7()\n",
    "    lfsrlist = []\n",
    "    for k in range(2**(7)-1): #lfsr number generating\n",
    "        if k == 0:\n",
    "            lfsrlist.append(lfsr.Random())\n",
    "        else :\n",
    "            lfsrlist.append(lfsr.Normal(lfsrlist[k-1]))\n",
    "        if (k == 2**(7)-2):\n",
    "            lfsrlist.append(lfsr.Allzero())\n",
    "    \n",
    "    if (args.bBW) != args.frac_bits :\n",
    "        if args.bBW < args.frac_bits :\n",
    "            for i in range(len(lfsrlist)):\n",
    "                lfsrlist[i] = lfsrlist[i] + (args.frac_bits-args.bBW)*'0'\n",
    "        else :\n",
    "            print(\"it can't work\")\n",
    "            return 0\n",
    "    \n",
    "    return lfsrlist"
   ]
  },
  {
   "cell_type": "code",
   "execution_count": 19,
   "id": "a8328a30-96c5-4dcc-84be-824e943814c7",
   "metadata": {},
   "outputs": [],
   "source": [
    "def LFSRlist8():\n",
    "    lfsr = LFSR8()\n",
    "    lfsrlist = []\n",
    "    for k in range(2**(8)-1): #lfsr number generating\n",
    "        if k == 0:\n",
    "            lfsrlist.append(lfsr.Random())\n",
    "        else :\n",
    "            lfsrlist.append(lfsr.Normal(lfsrlist[k-1]))\n",
    "        if (k == 2**(8)-2):\n",
    "            lfsrlist.append(lfsr.Allzero())\n",
    "    \n",
    "    if (args.bBW) != args.frac_bits :\n",
    "        if args.bBW < args.frac_bits :\n",
    "            for i in range(len(lfsrlist)):\n",
    "                lfsrlist[i] = lfsrlist[i] + (args.frac_bits-args.bBW)*'0'\n",
    "        else :\n",
    "            print(\"it can't work\")\n",
    "            return 0\n",
    "    \n",
    "    return lfsrlist"
   ]
  },
  {
   "cell_type": "code",
   "execution_count": 20,
   "id": "6c8fb342-d24e-4b24-93ff-d8577d87e4d2",
   "metadata": {},
   "outputs": [],
   "source": [
    "def LFSRlist9():\n",
    "    lfsr = LFSR9()\n",
    "    lfsrlist = []\n",
    "    for k in range(2**(9)-1): #lfsr number generating\n",
    "        if k == 0:\n",
    "            lfsrlist.append(lfsr.Random())\n",
    "        else :\n",
    "            lfsrlist.append(lfsr.Normal(lfsrlist[k-1]))\n",
    "        if (k == 2**(9)-2):\n",
    "            lfsrlist.append(lfsr.Allzero())\n",
    "    \n",
    "    if (args.bBW) != args.frac_bits :\n",
    "        if args.bBW < args.frac_bits :\n",
    "            for i in range(len(lfsrlist)):\n",
    "                lfsrlist[i] = lfsrlist[i] + (args.frac_bits-args.bBW)*'0'\n",
    "        else :\n",
    "            print(\"it can't work\")\n",
    "            return 0\n",
    "    \n",
    "    return lfsrlist"
   ]
  },
  {
   "cell_type": "code",
   "execution_count": 21,
   "id": "aabf5144-47b2-49d2-8320-056a4db06b65",
   "metadata": {},
   "outputs": [],
   "source": [
    "def LFSRlist10():\n",
    "    lfsr = LFSR10()\n",
    "    lfsrlist = []\n",
    "    for k in range(2**(10)-1): #lfsr number generating\n",
    "        if k == 0:\n",
    "            lfsrlist.append(lfsr.Random())\n",
    "        else :\n",
    "            lfsrlist.append(lfsr.Normal(lfsrlist[k-1]))\n",
    "        if (k == 2**(10)-2):\n",
    "            lfsrlist.append(lfsr.Allzero())\n",
    "    \n",
    "    if (args.bBW) != args.frac_bits :\n",
    "        if args.bBW < args.frac_bits :\n",
    "            for i in range(len(lfsrlist)):\n",
    "                lfsrlist[i] = lfsrlist[i] + (args.frac_bits-args.bBW)*'0'\n",
    "        else :\n",
    "            print(\"it can't work\")\n",
    "            return 0\n",
    "    \n",
    "    return lfsrlist"
   ]
  },
  {
   "cell_type": "markdown",
   "id": "072408b7-569c-42d5-8c7b-04066a4a1638",
   "metadata": {},
   "source": [
    "### Comp : Comparator in SNG"
   ]
  },
  {
   "cell_type": "code",
   "execution_count": 23,
   "id": "ab250e95-c7ce-4bcc-8953-2c0d2e36dc55",
   "metadata": {},
   "outputs": [],
   "source": [
    "def Comp(a,lfsr,snum):\n",
    "    for com in range(0,len(a)):\n",
    "        oA = '0'\n",
    "        if a[com]!=lfsr[com]:\n",
    "            if(int(a[com]) > int(lfsr[com])):\n",
    "                oA = '1'\n",
    "            break\n",
    "    return XOR(oA,snum)"
   ]
  },
  {
   "cell_type": "markdown",
   "id": "5d9bd200-f244-4ea9-af57-b32365f4f14b",
   "metadata": {},
   "source": [
    "### Perm : module for permutation SNG "
   ]
  },
  {
   "cell_type": "code",
   "execution_count": 24,
   "id": "0a43b3af-b20e-49ac-b758-268d1cc4003a",
   "metadata": {},
   "outputs": [],
   "source": [
    "def perm(a):\n",
    "    al = len(a)\n",
    "    blist = []\n",
    "    for i in range(al) :\n",
    "        #print(al-i-1)\n",
    "        blist.append(a[al-i-1])\n",
    "    \n",
    "    b = \"\".join(blist)\n",
    "    \n",
    "    return b"
   ]
  },
  {
   "cell_type": "markdown",
   "id": "39526659-6ac2-4dcd-a1ed-d72083ab2bd2",
   "metadata": {
    "tags": []
   },
   "source": [
    "### findActMaxMin : find abs max value in act tensor"
   ]
  },
  {
   "cell_type": "code",
   "execution_count": 25,
   "id": "d64bb7c5-ddf2-49a8-a3ec-fcb1a2eef032",
   "metadata": {},
   "outputs": [],
   "source": [
    "def findActMaxMin():\n",
    "    SF = {}\n",
    "    for i in range(6):\n",
    "            max = torch.max(eval(f'act{i}'))\n",
    "            min = torch.min(eval(f'act{i}'))\n",
    "            exec(f\"SF['act{i}']=torch.max(abs(max),abs(min)).item()\")\n",
    "    return SF"
   ]
  },
  {
   "cell_type": "markdown",
   "id": "cdbb3cb1-e66c-404e-a41e-4ba573b20284",
   "metadata": {},
   "source": [
    "### findWeiMaxMin : find abs max balue in weight tensor --> it will be changed in MLP module"
   ]
  },
  {
   "cell_type": "code",
   "execution_count": 27,
   "id": "2f1520fc-4985-46af-84f1-d976aa930836",
   "metadata": {},
   "outputs": [],
   "source": [
    "def findWeiMaxMin():\n",
    "    SF = {}\n",
    "    for i in range(6):\n",
    "            max = torch.max(eval(f'wei{i}'))\n",
    "            min = torch.min(eval(f'wei{i}'))\n",
    "            exec(f\"SF['wei{i}']=torch.max(abs(max),abs(min)).item()\")\n",
    "    return SF"
   ]
  },
  {
   "cell_type": "markdown",
   "id": "9ab4ab89-9ed0-4ce1-ab63-af32bb54ed3d",
   "metadata": {},
   "source": [
    "### SNG : stochastic number generator module"
   ]
  },
  {
   "cell_type": "code",
   "execution_count": 52,
   "id": "6fee2d67-5eba-4d35-b553-621ab2c30620",
   "metadata": {},
   "outputs": [],
   "source": [
    "def SNG(iIN,lfsr):\n",
    "\n",
    "    sNUM = snum(iIN)\n",
    "    \n",
    "    bIN = flp2fix(iIN,args.full_bits,args.frac_bits).bFull\n",
    "    bFRAC = bIN[-(args.frac_bits):]\n",
    "    if sNUM == 1 :\n",
    "        bFRAC = bin(int(binInv(bFRAC),2)+1).replace('0b','').rjust(args.bBW,'0')\n",
    "    oAlist = []\n",
    "    \n",
    "    for k in range(2**(args.bBW)): #lfsr number generating\n",
    "        lNUM = lfsr[k]\n",
    "        a = Comp(bFRAC,lNUM,sNUM)\n",
    "        oAlist.append(a) #comparator of input a\n",
    "    \n",
    "    oAlist.insert(0,sNUM)\n",
    "    sA = \"\".join(oAlist)\n",
    "    if bIN == '0'*args.full_bits :\n",
    "        return '00000000000000000'\n",
    "    else :\n",
    "        return sA"
   ]
  },
  {
   "cell_type": "markdown",
   "id": "a1a5bae5-06a9-4dcd-a2f9-9a143cfd372e",
   "metadata": {},
   "source": [
    "### SNG_P : permutation stochastic number generator module"
   ]
  },
  {
   "cell_type": "code",
   "execution_count": 53,
   "id": "d2e43aba-6ff3-4d24-94ca-54f5f1c55065",
   "metadata": {
    "tags": []
   },
   "outputs": [],
   "source": [
    "def SNG_P(iIN,lfsr):\n",
    "    sNUM = snum(iIN)\n",
    "    \n",
    "    bIN = flp2fix(iIN,args.full_bits,args.frac_bits).bFull\n",
    "    bFRAC = bIN[-(args.frac_bits):]\n",
    "    if sNUM == 1 :\n",
    "        bFRAC = bin(int(binInv(bFRAC),2)+1).replace('0b','').rjust(args.bBW,'0')\n",
    "    oAlist = []\n",
    "    \n",
    "    for k in range(2**(args.bBW)): #lfsr number generating\n",
    "        if (args.bBW == args.frac_bits) :    \n",
    "            lNUM = perm(lfsr[k])\n",
    "        elif (args.bBW < args.frac_bits) :\n",
    "            lNUM = perm(lfsr[k][:args.bBW])+(args.frac_bits-args.bBW)*\"0\"\n",
    "        a = Comp(bFRAC,lNUM,sNUM)\n",
    "        oAlist.append(a) #comparator of input a\n",
    "    \n",
    "    oAlist.insert(0,sNUM)\n",
    "    sA = \"\".join(oAlist)\n",
    "    if bIN == '0'*args.full_bits :\n",
    "        return '00000000000000000'\n",
    "    else :\n",
    "        return sA"
   ]
  },
  {
   "cell_type": "markdown",
   "id": "74e9e15a-bd56-4d74-a36a-2df8aa9e1e6d",
   "metadata": {},
   "source": [
    "### SNGnumpy : SNG module with numpy"
   ]
  },
  {
   "cell_type": "code",
   "execution_count": 30,
   "id": "1f8320d3-8877-4616-a13b-6b53184d57e6",
   "metadata": {},
   "outputs": [],
   "source": [
    "def SNGnumpy(fIn,lfsr):\n",
    "    sList = []\n",
    "    for aNumpy in fIn.view(-1):\n",
    "        sList.append(SNG(float(aNumpy),lfsr))\n",
    "                     \n",
    "    return np.array(sList).reshape(fIn.size())"
   ]
  },
  {
   "cell_type": "markdown",
   "id": "4166a6fc-665f-45f0-949b-627c200980a2",
   "metadata": {},
   "source": [
    "### SNGpnumpy : permutation SNG module with numpy"
   ]
  },
  {
   "cell_type": "code",
   "execution_count": 31,
   "id": "23fe4aad-cdce-490e-bd7c-4fca61c88840",
   "metadata": {},
   "outputs": [],
   "source": [
    "def SNGpnumpy(fIn,lfsr):\n",
    "    sList = []\n",
    "    for aNumpy in fIn.view(-1):\n",
    "        sList.append(SNG_P(float(aNumpy),lfsr))\n",
    "                     \n",
    "    return  np.array(sList).reshape(fIn.size())"
   ]
  },
  {
   "cell_type": "markdown",
   "id": "b902bdca-2acc-46a0-89d9-4547652c045f",
   "metadata": {},
   "source": [
    "### CountOne : count 1 in stochastic number bit stream"
   ]
  },
  {
   "cell_type": "code",
   "execution_count": 32,
   "id": "a7e5f761-6341-459d-9780-46779c06c307",
   "metadata": {},
   "outputs": [],
   "source": [
    "def CountOne(nIn):\n",
    "    nlist = []\n",
    "    for num in nIn.reshape(-1):\n",
    "        n = 0\n",
    "        for a in num:\n",
    "            if a == '1' :\n",
    "                n += 1\n",
    "        if a[0] == '1' :\n",
    "            nlist.append(n-1)\n",
    "        else :\n",
    "            nlist.append(n)\n",
    "    return torch.tensor(nlist).view(nIn.shape)"
   ]
  },
  {
   "cell_type": "markdown",
   "id": "8ff8cd5f-14f1-403c-9595-53c3df503d42",
   "metadata": {},
   "source": [
    "### defSign : sign determination in S2N "
   ]
  },
  {
   "cell_type": "code",
   "execution_count": 33,
   "id": "0d2851f4-d19b-4d7d-800c-6cfd0c7a3d80",
   "metadata": {},
   "outputs": [],
   "source": [
    "def defSign(nIn):\n",
    "    nlist = []\n",
    "    for num in nIn.reshape(-1):\n",
    "        if num[0] == '1' :\n",
    "            nlist.append(-1)\n",
    "        else :\n",
    "            nlist.append(1)\n",
    "    return torch.tensor(nlist).view(nIn.shape)"
   ]
  },
  {
   "cell_type": "markdown",
   "id": "98e7c6eb-fa2b-4a3a-a5b6-53e62d8f5971",
   "metadata": {},
   "source": [
    "### Multiplier"
   ]
  },
  {
   "cell_type": "code",
   "execution_count": 34,
   "id": "3ef42b58-b198-4087-b476-4fddff483bcc",
   "metadata": {},
   "outputs": [],
   "source": [
    "def mul(a,b):\n",
    "    al = len(a)\n",
    "    bl = len(b)\n",
    "    \n",
    "    outlist = []\n",
    "    \n",
    "    if al != bl :\n",
    "        print(\"length of string is different\")\n",
    "        return 0\n",
    "    \n",
    "    outlist.append(XOR(a[0],b[0]))\n",
    "    \n",
    "    for i in range(al-1) :\n",
    "        outlist.append(str(int(a[i+1]) & int(b[i+1])))\n",
    "    \n",
    "    #print(outlist)\n",
    "    out = \"\".join(outlist)\n",
    "    \n",
    "    return out    "
   ]
  },
  {
   "cell_type": "code",
   "execution_count": 35,
   "id": "de3c2e46-3b8b-4d65-af25-b81e40a394e0",
   "metadata": {},
   "outputs": [],
   "source": [
    "def defSign1(nIn):\n",
    "    if nIn[0] == '1' :\n",
    "        return -1\n",
    "    else :\n",
    "        return 1"
   ]
  },
  {
   "cell_type": "code",
   "execution_count": 36,
   "id": "2e3ba222-e443-42c8-ae2d-cdd4d95e9cf4",
   "metadata": {},
   "outputs": [],
   "source": [
    "def CountOne1(nIn):\n",
    "    n = 0\n",
    "    for num in nIn:\n",
    "        if num == '1' :\n",
    "            n += 1\n",
    "    if nIn[0] == '1' :\n",
    "        return n-1\n",
    "    else :\n",
    "        return n"
   ]
  },
  {
   "cell_type": "code",
   "execution_count": 37,
   "id": "a9da0d82-0eea-4877-833f-397fee9f1132",
   "metadata": {},
   "outputs": [],
   "source": [
    "def S2None(sIn,SF):\n",
    "    s = defSign1(sIn)\n",
    "    o = (CountOne1(sIn)/(2**args.bBW))*SF*s\n",
    "    return o"
   ]
  },
  {
   "cell_type": "code",
   "execution_count": 38,
   "id": "257bae8b-5c30-493e-8067-75aca103f0e2",
   "metadata": {},
   "outputs": [],
   "source": [
    "def mulNumpy(aIn,bIn,aSF,wSF):\n",
    "    mList = []\n",
    "    for i in range(aIn.shape[0]):\n",
    "        for j in range(bIn.T.shape[1]):\n",
    "            sum = 0\n",
    "            for k in range(aIn.shape[1]):\n",
    "                sum += S2None(mul((aIn[i][k].astype(str)),(bIn.T)[k][j].astype(str)),aSF*wSF)\n",
    "            mList.append(sum)\n",
    "    return torch.tensor(mList).view(aIn.shape[0],bIn.T.shape[1])"
   ]
  },
  {
   "cell_type": "markdown",
   "id": "54840cc1-7914-4881-8c0e-0a034a285063",
   "metadata": {
    "tags": []
   },
   "source": [
    "## TEST"
   ]
  },
  {
   "cell_type": "code",
   "execution_count": 39,
   "id": "71b2c437-bbb2-412d-a8d2-5649887cea9d",
   "metadata": {},
   "outputs": [],
   "source": [
    "act0 = torch.rand((9,9))-torch.randint(4,(9,9))+torch.randint(4,(9,9))\n",
    "act1 = torch.rand((9,9))-torch.randint(4,(9,9))+torch.randint(4,(9,9))\n",
    "act2 = torch.rand((9,9))-torch.randint(4,(9,9))+torch.randint(4,(9,9))\n",
    "act3 = torch.rand((9,9))-torch.randint(4,(9,9))+torch.randint(4,(9,9))\n",
    "act4 = torch.rand((9,9))-torch.randint(4,(9,9))+torch.randint(4,(9,9))\n",
    "act5 = torch.rand((9,9))-torch.randint(4,(9,9))+torch.randint(4,(9,9))\n",
    "\n",
    "wei0 = torch.rand((9,9))-torch.randint(4,(9,9))+torch.randint(4,(9,9))\n",
    "wei1 = torch.rand((9,9))-torch.randint(4,(9,9))+torch.randint(4,(9,9))\n",
    "wei2 = torch.rand((9,9))-torch.randint(4,(9,9))+torch.randint(4,(9,9))\n",
    "wei3 = torch.rand((9,9))-torch.randint(4,(9,9))+torch.randint(4,(9,9))\n",
    "wei4 = torch.rand((9,9))-torch.randint(4,(9,9))+torch.randint(4,(9,9))\n",
    "wei5 = torch.rand((9,9))-torch.randint(4,(9,9))+torch.randint(4,(9,9))"
   ]
  },
  {
   "cell_type": "markdown",
   "id": "acc99703-3b8d-4692-ba17-5d533836b3b4",
   "metadata": {},
   "source": [
    "### number to stochastic conversion"
   ]
  },
  {
   "cell_type": "code",
   "execution_count": 40,
   "id": "7ff8d726-1fc5-4a93-ab86-80a82b38650f",
   "metadata": {},
   "outputs": [],
   "source": [
    "def N2S(act0,act1,act2,act3,act4,act5,wei0,wei1,wei2,wei3,wei4,wei5):\n",
    "    aSF = findActMaxMin()\n",
    "    wSF = findWeiMaxMin()\n",
    "    \n",
    "    lfsrlist0 = LFSRlist5()\n",
    "    lfsrlist1 = LFSRlist6()\n",
    "    lfsrlist2 = LFSRlist7()\n",
    "    lfsrlist3 = LFSRlist8()\n",
    "    lfsrlist4 = LFSRlist9()\n",
    "    lfsrlist5 = LFSRlist10()\n",
    "    \n",
    "    #LFSR error checking\n",
    "    for i in range(6):\n",
    "            exec(f'tt_lfsrlist{i} = dict.fromkeys(lfsrlist{i})')\n",
    "            exec(f't_lfsrlist{i} = list(tt_lfsrlist{i})')\n",
    "            exec(f\"if(lfsrlist{i} != t_lfsrlist{i}): print('lfsrlist{i} is error')\")\n",
    "    \n",
    "    \n",
    "    a0 = SNGnumpy(act0/aSF['act0'],lfsrlist0)\n",
    "    a1 = SNGnumpy(act1/aSF['act1'],lfsrlist1)\n",
    "    a2 = SNGnumpy(act2/aSF['act2'],lfsrlist2)\n",
    "    a3 = SNGnumpy(act3/aSF['act3'],lfsrlist3)\n",
    "    a4 = SNGnumpy(act4/aSF['act4'],lfsrlist4)\n",
    "    a5 = SNGnumpy(act5/aSF['act5'],lfsrlist5)\n",
    "    \n",
    "    print(act4)\n",
    "    print(aSF['act4'])\n",
    "    print(a4)\n",
    "    \n",
    "    w0 = SNGpnumpy(wei0/wSF['wei0'],lfsrlist0)\n",
    "    w1 = SNGpnumpy(wei1/wSF['wei1'],lfsrlist1)\n",
    "    w2 = SNGpnumpy(wei2/wSF['wei2'],lfsrlist2)\n",
    "    w3 = SNGpnumpy(wei3/wSF['wei3'],lfsrlist3)\n",
    "    w4 = SNGpnumpy(wei4/wSF['wei4'],lfsrlist4)\n",
    "    w5 = SNGpnumpy(wei5/wSF['wei5'],lfsrlist5)\n",
    "    \n",
    "    return a0,a1,a2,a3,a4,a5,w0,w1,w2,w3,w4,w5"
   ]
  },
  {
   "cell_type": "markdown",
   "id": "5d4bf4e8-8560-4a21-9bea-3faa9a1309e0",
   "metadata": {},
   "source": [
    "### stochastic to number conversion"
   ]
  },
  {
   "cell_type": "code",
   "execution_count": 41,
   "id": "581959f3-2da0-4a19-a574-3fa36f02a903",
   "metadata": {},
   "outputs": [],
   "source": [
    "def S2N(a0,a1,a2,a3,a4,a5,w0,w1,w2,w3,w4,w5):\n",
    "    aSF = findActMaxMin()\n",
    "    wSF = findWeiMaxMin()\n",
    "    \n",
    "    sa0 = defSign(a0)\n",
    "    sa1 = defSign(a1)\n",
    "    sa2 = defSign(a2)\n",
    "    sa3 = defSign(a3)\n",
    "    sa4 = defSign(a4)\n",
    "    sa5 = defSign(a5)\n",
    "    \n",
    "    sw0 = defSign(w0)\n",
    "    sw1 = defSign(w1)\n",
    "    sw2 = defSign(w2)\n",
    "    sw3 = defSign(w3)\n",
    "    sw4 = defSign(w4)\n",
    "    sw5 = defSign(w5)\n",
    "    \n",
    "    ca0 = (CountOne(a0)/(2**args.bBW)) * aSF['act0'] *sa0\n",
    "    ca1 = (CountOne(a1)/(2**args.bBW)) * aSF['act1'] *sa1\n",
    "    ca2 = (CountOne(a2)/(2**args.bBW)) * aSF['act2'] *sa2\n",
    "    ca3 = (CountOne(a3)/(2**args.bBW)) * aSF['act3'] *sa3\n",
    "    ca4 = (CountOne(a4)/(2**args.bBW)) * aSF['act4'] *sa4\n",
    "    ca5 = (CountOne(a5)/(2**args.bBW)) * aSF['act5'] *sa5\n",
    "    \n",
    "    cw0 = (CountOne(w0)/(2**args.bBW)) * wSF['wei0'] *sw0\n",
    "    cw1 = (CountOne(w1)/(2**args.bBW)) * wSF['wei1'] *sw1\n",
    "    cw2 = (CountOne(w2)/(2**args.bBW)) * wSF['wei2'] *sw2\n",
    "    cw3 = (CountOne(w3)/(2**args.bBW)) * wSF['wei3'] *sw3\n",
    "    cw4 = (CountOne(w4)/(2**args.bBW)) * wSF['wei4'] *sw4\n",
    "    cw5 = (CountOne(w5)/(2**args.bBW)) * wSF['wei5'] *sw5\n",
    "\n",
    "    return ca0,ca1,ca2,ca3,ca4,ca5,cw0,cw1,cw2,cw3,cw4,cw5"
   ]
  },
  {
   "cell_type": "code",
   "execution_count": 48,
   "id": "5d93924a-a26a-42cc-a123-0ceb5066bef8",
   "metadata": {},
   "outputs": [
    {
     "data": {
      "text/plain": [
       "'11110100'"
      ]
     },
     "execution_count": 48,
     "metadata": {},
     "output_type": "execute_result"
    }
   ],
   "source": [
    "flp2fix(-0.3806246849958625,args.full_bits,args.frac_bits).bFull"
   ]
  },
  {
   "cell_type": "code",
   "execution_count": 55,
   "id": "89b79d1d-062c-40b2-ad8f-65114841b318",
   "metadata": {},
   "outputs": [
    {
     "data": {
      "text/plain": [
       "'01100'"
      ]
     },
     "execution_count": 55,
     "metadata": {},
     "output_type": "execute_result"
    }
   ],
   "source": [
    "bin(int(binInv('10100'),2)+1).replace('0b','').rjust(args.bBW,'0')"
   ]
  },
  {
   "cell_type": "code",
   "execution_count": 42,
   "id": "2756ce7a-fffd-4488-9822-0b3c908a999a",
   "metadata": {},
   "outputs": [
    {
     "name": "stdout",
     "output_type": "stream",
     "text": [
      "tensor([[ 0.1784,  2.5072,  0.4235,  0.1162,  0.7462, -1.9597, -1.2789, -1.7016,\n",
      "          2.9584],\n",
      "        [-1.4842, -1.0828, -1.4118,  3.7616,  0.4332, -1.1799, -1.4257,  2.8708,\n",
      "          2.9893],\n",
      "        [ 0.5217, -1.6676, -0.8694, -0.8047, -1.1653,  0.8062, -0.5658, -0.7812,\n",
      "         -2.2837],\n",
      "        [-1.4975,  2.9023, -1.8244,  1.8123, -0.2650,  0.0401, -1.8314,  3.8199,\n",
      "          0.5761],\n",
      "        [ 0.3292,  2.3973, -0.3494,  0.9758,  1.6834, -2.2308, -0.7544,  0.3890,\n",
      "          0.8989],\n",
      "        [-0.0198,  0.3439,  1.8290,  1.9640, -0.6779,  0.1409,  3.3767,  2.6017,\n",
      "         -0.9622],\n",
      "        [-0.0627,  0.3848,  1.6136, -0.2585,  0.1061, -0.5340,  3.3247,  0.2828,\n",
      "          0.9648],\n",
      "        [ 0.8101,  0.4079,  3.8994,  1.5705,  1.4737,  1.0696, -0.0650,  0.6346,\n",
      "          3.4288],\n",
      "        [ 0.6233,  0.5031,  1.1399, -0.7384,  1.4458,  0.9238, -1.0715,  1.6762,\n",
      "          2.7402]])\n",
      "3.899379253387451\n",
      "[['000000011110000000000000000000000' '011111111111111111111011111111001'\n",
      "  '010001111110001100010000010000000' '00000000000000000'\n",
      "  '010011111110011100110000110010000' '101000000001000010001100001001110'\n",
      "  '100000000000000000000100000000110' '100000000000000000000100000000110'\n",
      "  '011111111111111111111011111111001']\n",
      " ['100000000000000000000100000000110' '100000000000000000000100000000110'\n",
      "  '100000000000000000000100000000110' '011111111111111111111111111111111'\n",
      "  '010001111110001100010000010000000' '100000000000000000000100000000110'\n",
      "  '100000000000000000000100000000110' '011111111111111111111011111111001'\n",
      "  '011111111111111111111011111111001']\n",
      " ['010001111110001100010000110000000' '100000000000000000000100000000110'\n",
      "  '100000000000000000000000000000110' '100000000000000000000000000000010'\n",
      "  '100000000000000000000100000000110' '010011111110011100110000110010000'\n",
      "  '100000000000000000000000000000010' '100000000000000000000000000000010'\n",
      "  '101000000001000010001100001001111']\n",
      " ['100000000000000000000100000000110' '011111111111111111111011111111001'\n",
      "  '100000000000000000000100000001110' '010111111110111101110011110110000'\n",
      "  '100000000000000000000000000000000' '00000000000000000'\n",
      "  '101000000000000000001100000001110' '011111111111111111111111111111111'\n",
      "  '010001111110001100010000110000000']\n",
      " ['000000111110000100000000010000000' '011111111111111111111011111111001'\n",
      "  '100000000000000000000000000000000' '010011111110011100110001110010000'\n",
      "  '010111111110111101110011110110000' '101000000001000010001100001001111'\n",
      "  '100000000000000000000000000000010' '010001111110001100010000010000000'\n",
      "  '010011111110011100110001110010000']\n",
      " ['00000000000000000' '000000111110000100000000010000000'\n",
      "  '010111111110111101110011110110001' '010111111110111101110011110110001'\n",
      "  '100000000000000000000000000000010' '000000011110000000000000000000000'\n",
      "  '011111111111111111111111111111101' '011111111111111111111011111111001'\n",
      "  '100000000000000000000000000000110']\n",
      " ['00000000000000000' '010001111110001100010000010000000'\n",
      "  '010111111110111101110011110110000' '100000000000000000000000000000000'\n",
      "  '00000000000000000' '100000000000000000000000000000010'\n",
      "  '011111111111111111111111111111101' '000000111110000100000000010000000'\n",
      "  '010011111110011100110001110010000']\n",
      " ['010011111110011100110000110010000' '010001111110001100010000010000000'\n",
      "  '000000000000000000000000000000000' '010111111110111101110001110110000'\n",
      "  '010111111110111101110001110110000' '010011111110011100110001110010000'\n",
      "  '00000000000000000' '010011111110011100110000110010000'\n",
      "  '011111111111111111111111111111101']\n",
      " ['010011111110011100110000110010000' '010001111110001100010000110000000'\n",
      "  '010111111110111101110001110110000' '100000000000000000000000000000010'\n",
      "  '010111111110111101110001110110000' '010011111110011100110001110010000'\n",
      "  '100000000000000000000100000000110' '010111111110111101110011110110000'\n",
      "  '011111111111111111111011111111001']]\n"
     ]
    }
   ],
   "source": [
    "a0,a1,a2,a3,a4,a5,w0,w1,w2,w3,w4,w5 = N2S(act0,act1,act2,act3,act4,act5,wei0,wei1,wei2,wei3,wei4,wei5)"
   ]
  },
  {
   "cell_type": "code",
   "execution_count": 43,
   "id": "a1cdf742-ff38-4934-8cb3-6d54ff129912",
   "metadata": {},
   "outputs": [],
   "source": [
    "ca0,ca1,ca2,ca3,ca4,ca5,cw0,cw1,cw2,cw3,cw4,cw5 = S2N(a0,a1,a2,a3,a4,a5,w0,w1,w2,w3,w4,w5)"
   ]
  },
  {
   "cell_type": "code",
   "execution_count": 44,
   "id": "592168b4-76f2-4485-bc57-56c9acd0c9b7",
   "metadata": {},
   "outputs": [],
   "source": [
    "def FindError(a,b):\n",
    "    error = 0\n",
    "    for anum,bnum in zip(a.view(-1),b.view(-1)):\n",
    "        e = (abs(bnum-anum)*100).item()\n",
    "        error += e\n",
    "    return error/(len(a.view(-1))+len(b.view(-1)))"
   ]
  },
  {
   "cell_type": "code",
   "execution_count": 45,
   "id": "6a4ca5fc-9b16-42de-bc82-dbc9f8b6248b",
   "metadata": {},
   "outputs": [],
   "source": [
    "ea0 = FindError(act0,ca0)\n",
    "ea1 = FindError(act1,ca1)\n",
    "ea2 = FindError(act2,ca2)\n",
    "ea3 = FindError(act3,ca3)\n",
    "ea4 = FindError(act4,ca4)\n",
    "ea5 = FindError(act5,ca5)\n",
    "\n",
    "\n",
    "ew0 = FindError(wei0,cw0)\n",
    "ew1 = FindError(wei1,cw1)\n",
    "ew2 = FindError(wei2,cw2)\n",
    "ew3 = FindError(wei3,cw3)\n",
    "ew4 = FindError(wei4,cw4)\n",
    "ew5 = FindError(wei5,cw5)"
   ]
  },
  {
   "cell_type": "code",
   "execution_count": 46,
   "id": "998833ae-b9d2-47b5-a102-bb4015ac6cd2",
   "metadata": {},
   "outputs": [
    {
     "name": "stdout",
     "output_type": "stream",
     "text": [
      "act0 error is 8.641447182054874\n",
      "act1 error is 11.435634136199951\n",
      "act2 error is 15.052506184872286\n",
      "act3 error is 9.01714900099201\n",
      "act4 error is 37.88986451537521\n",
      "act5 error is 7.889396735915431\n",
      "wei0 error is 8.376837954109098\n",
      "wei1 error is 9.941298319969649\n",
      "wei2 error is 7.944173421388791\n",
      "wei3 error is 8.42834410255338\n",
      "wei4 error is 46.74640228718887\n",
      "wei5 error is 17.900773919658896\n"
     ]
    }
   ],
   "source": [
    "print(f'act0 error is {ea0}')\n",
    "print(f'act1 error is {ea1}')\n",
    "print(f'act2 error is {ea2}')\n",
    "print(f'act3 error is {ea3}')\n",
    "print(f'act4 error is {ea4}')\n",
    "print(f'act5 error is {ea5}')\n",
    "\n",
    "\n",
    "print(f'wei0 error is {ew0}')\n",
    "print(f'wei1 error is {ew1}')\n",
    "print(f'wei2 error is {ew2}')\n",
    "print(f'wei3 error is {ew3}')\n",
    "print(f'wei4 error is {ew4}')\n",
    "print(f'wei5 error is {ew5}')"
   ]
  },
  {
   "cell_type": "markdown",
   "id": "763eaa7d-f857-4850-accc-de74980788ef",
   "metadata": {},
   "source": [
    "## Multiply test"
   ]
  },
  {
   "cell_type": "code",
   "execution_count": 47,
   "id": "482ca24d-a715-4646-9445-1661c73509b5",
   "metadata": {},
   "outputs": [
    {
     "ename": "TypeError",
     "evalue": "N2S() missing 6 required positional arguments: 'wei0', 'wei1', 'wei2', 'wei3', 'wei4', and 'wei5'",
     "output_type": "error",
     "traceback": [
      "\u001b[0;31m---------------------------------------------------------------------------\u001b[0m",
      "\u001b[0;31mTypeError\u001b[0m                                 Traceback (most recent call last)",
      "\u001b[0;32m<ipython-input-47-a9b1acbff0c9>\u001b[0m in \u001b[0;36m<module>\u001b[0;34m\u001b[0m\n\u001b[0;32m----> 1\u001b[0;31m \u001b[0ma0\u001b[0m\u001b[0;34m,\u001b[0m \u001b[0ma1\u001b[0m\u001b[0;34m,\u001b[0m \u001b[0ma2\u001b[0m\u001b[0;34m,\u001b[0m \u001b[0mw0\u001b[0m\u001b[0;34m,\u001b[0m \u001b[0mw1\u001b[0m\u001b[0;34m,\u001b[0m \u001b[0mw2\u001b[0m \u001b[0;34m=\u001b[0m \u001b[0mN2S\u001b[0m\u001b[0;34m(\u001b[0m\u001b[0mact0\u001b[0m\u001b[0;34m,\u001b[0m\u001b[0mact1\u001b[0m\u001b[0;34m,\u001b[0m\u001b[0mact2\u001b[0m\u001b[0;34m,\u001b[0m\u001b[0mwei0\u001b[0m\u001b[0;34m,\u001b[0m\u001b[0mwei1\u001b[0m\u001b[0;34m,\u001b[0m\u001b[0mwei2\u001b[0m\u001b[0;34m)\u001b[0m\u001b[0;34m\u001b[0m\u001b[0;34m\u001b[0m\u001b[0m\n\u001b[0m",
      "\u001b[0;31mTypeError\u001b[0m: N2S() missing 6 required positional arguments: 'wei0', 'wei1', 'wei2', 'wei3', 'wei4', and 'wei5'"
     ]
    }
   ],
   "source": [
    "a0, a1, a2, w0, w1, w2 = N2S(act0,act1,act2,wei0,wei1,wei2)"
   ]
  },
  {
   "cell_type": "code",
   "execution_count": null,
   "id": "4e700eef-0b6f-4687-b28e-5ccee3c6836a",
   "metadata": {},
   "outputs": [],
   "source": [
    "aSF = findActMaxMin()\n",
    "wSF = findWeiMaxMin()"
   ]
  },
  {
   "cell_type": "code",
   "execution_count": null,
   "id": "bf2dd44d-3972-4e23-b215-078ecd700f19",
   "metadata": {},
   "outputs": [],
   "source": [
    "def multest(aIn,wIn,aSF,wSF):\n",
    "    mlist=[]\n",
    "    sum=0\n",
    "    for i in range(aIn.shape[1]):\n",
    "        a = S2None(mul((aIn[0][i].astype(str)),(wIn.T)[i][0].astype(str)),aSF*wSF)\n",
    "        print(a)\n",
    "        sum += a\n",
    "    mlist.append(sum)\n",
    "    return torch.tensor(mlist).view(1,1)\n",
    "    "
   ]
  },
  {
   "cell_type": "code",
   "execution_count": null,
   "id": "52ffc7a9-c778-4e9b-ae41-48778149081e",
   "metadata": {},
   "outputs": [],
   "source": [
    "multest(a0,w0,aSF['act0'],wSF['wei0'])"
   ]
  },
  {
   "cell_type": "code",
   "execution_count": null,
   "id": "8ab4120c-862c-4a32-8046-718112a525a4",
   "metadata": {},
   "outputs": [],
   "source": [
    "def nummultest(aIn,wIn,aSF,wSF):\n",
    "    mlist=[]\n",
    "    sum=0\n",
    "    for i in range(aIn.shape[1]):\n",
    "        a = aIn[0][i]*(wIn.T)[i][0]\n",
    "        print(a)\n",
    "        sum += a\n",
    "    mlist.append(sum)\n",
    "    return torch.tensor(mlist).view(1,1)"
   ]
  },
  {
   "cell_type": "code",
   "execution_count": null,
   "id": "9d34c8fb-bc1f-4381-8fbd-e474dc35fc5a",
   "metadata": {},
   "outputs": [],
   "source": [
    "nummultest(act0,wei0,aSF['act0'],wSF['wei0'])"
   ]
  },
  {
   "cell_type": "code",
   "execution_count": null,
   "id": "e867d8d7-d9d4-47f3-a331-6d08aa288680",
   "metadata": {},
   "outputs": [],
   "source": [
    "sout0 = mulNumpy(a0,w0,aSF['act0'],wSF['wei0'])\n",
    "#sout1 = mulNumpy(a1,w1)\n",
    "#sout2 = mulNumpy(a2,w2)"
   ]
  },
  {
   "cell_type": "code",
   "execution_count": null,
   "id": "3a114db4-20f9-457e-a55e-ab4bf6611a0d",
   "metadata": {},
   "outputs": [],
   "source": []
  }
 ],
 "metadata": {
  "kernelspec": {
   "display_name": "Python 3",
   "language": "python",
   "name": "python3"
  },
  "language_info": {
   "codemirror_mode": {
    "name": "ipython",
    "version": 3
   },
   "file_extension": ".py",
   "mimetype": "text/x-python",
   "name": "python",
   "nbconvert_exporter": "python",
   "pygments_lexer": "ipython3",
   "version": "3.6.9"
  }
 },
 "nbformat": 4,
 "nbformat_minor": 5
}
