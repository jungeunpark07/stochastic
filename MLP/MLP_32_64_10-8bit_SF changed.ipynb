{
 "cells": [
  {
   "cell_type": "markdown",
   "id": "2406a7df-f282-4b93-8c2b-40f19a124858",
   "metadata": {},
   "source": [
    "# Module"
   ]
  },
  {
   "cell_type": "code",
   "execution_count": 1,
   "id": "8163a630-1c4d-4dc8-97ff-8540ed7b8c79",
   "metadata": {},
   "outputs": [],
   "source": [
    "import sys"
   ]
  },
  {
   "cell_type": "code",
   "execution_count": 2,
   "id": "d7774703-6107-4a6b-a887-5e9d15146291",
   "metadata": {},
   "outputs": [],
   "source": [
    "sys.path.remove('/home/jungeun/.local/lib/python3.6/site-packages')"
   ]
  },
  {
   "cell_type": "code",
   "execution_count": 3,
   "id": "8f9693f8-f091-4426-a2ca-0a7876787667",
   "metadata": {},
   "outputs": [],
   "source": [
    "import torch"
   ]
  },
  {
   "cell_type": "code",
   "execution_count": 4,
   "id": "6a97e973-bc3a-42d2-a2ae-ea8d2da98fee",
   "metadata": {},
   "outputs": [],
   "source": [
    "sys.path.append('/home/jungeun/.local/lib/python3.6/site-packages')"
   ]
  },
  {
   "cell_type": "code",
   "execution_count": 5,
   "id": "c465ce86-0999-4673-a94b-b34654a032f1",
   "metadata": {},
   "outputs": [],
   "source": [
    "import argparse\n",
    "from tqdm import tqdm_notebook as tq\n",
    "import tqdm\n",
    "import os, time, math, copy\n",
    "import numpy as np\n",
    "import torch.nn as nn\n",
    "import torchvision.transforms as transforms\n",
    "import torchvision.datasets as datasets\n",
    "import torch.nn.functional as F\n",
    "import torch.optim as optim\n",
    "from torch.autograd import Variable\n",
    "from collections import namedtuple\n",
    "import matplotlib.pyplot as plt\n",
    "import random\n",
    "import time\n",
    "import datetime\n",
    "torch.set_printoptions(precision=8, linewidth=50000)\n",
    "import warnings\n",
    "warnings.filterwarnings(action='ignore')"
   ]
  },
  {
   "cell_type": "markdown",
   "id": "d92c4219-8b88-463d-b57d-dd02e947a64f",
   "metadata": {},
   "source": [
    "# Print Colors"
   ]
  },
  {
   "cell_type": "code",
   "execution_count": 6,
   "id": "056d873c-4a0d-4de1-860d-6f604a48fa99",
   "metadata": {},
   "outputs": [],
   "source": [
    "BLACK\t= '\\033[30m'\n",
    "RED\t\t= '\\033[31m'\n",
    "GREEN\t= '\\033[32m'\n",
    "YELLOW\t= '\\033[33m'\n",
    "BLUE\t= '\\033[34m'\n",
    "MAGENTA\t= '\\033[35m'\n",
    "CYAN\t= '\\033[36m'\n",
    "RESET\t= '\\033[0m'\n",
    "SEL\t\t= '\\033[7m'"
   ]
  },
  {
   "cell_type": "code",
   "execution_count": 7,
   "id": "b64058b7-984f-4bd5-bc1c-3297042c62d2",
   "metadata": {},
   "outputs": [],
   "source": [
    "class fxp:\n",
    "    def __init__(self, bIn, iBWF):\n",
    "        self.iFullBW = len(bIn)\n",
    "        self.iIntgBW = self.iFullBW - iBWF\n",
    "        self.bSign   = bIn[0]\n",
    "        self.bIntg   = bIn[:self.iIntgBW]\n",
    "        self.bFrac   = bIn[self.iIntgBW:]\n",
    "        self.fFull   = 0\n",
    "        try:\n",
    "            for idx, bit in enumerate(bIn):\n",
    "                if idx == 0:\n",
    "                    self.fFull = self.fFull + int(bit,2) * -pow(2, self.iIntgBW - 1)\n",
    "                else:\n",
    "                    self.fFull = self.fFull + int(bit,2) * pow(2, self.iIntgBW - 1 - idx)\n",
    "        except:\n",
    "            print(bIn)\n",
    "        self.dispFull = RED + self.bIntg + BLUE + self.bFrac + RESET\n",
    "        return"
   ]
  },
  {
   "cell_type": "code",
   "execution_count": 8,
   "id": "ae69422b-795b-4e2b-9b2c-63702c4aa2ba",
   "metadata": {},
   "outputs": [],
   "source": [
    "class flp2fix:\n",
    "    def __init__(self, fIn, iBW, iBWF):\n",
    "        self.fMin = - 2 ** (iBW - iBWF - 1)\n",
    "        self.fMax = (2 ** (iBW-1) - 1) * (2 ** -iBWF)\n",
    "        self.fResol = 2 ** -iBWF\n",
    "        #if fIn < self.fMin or fIn > self.fMax:\n",
    "            #print(f'({fIn}): Out of input range ({self.fMax}/{self.fMin}) during flp -> fix converting ')\n",
    "        self.iBW = iBW\n",
    "        self.iBWI = iBW - iBWF\n",
    "        self.iBWF = iBWF\n",
    "\n",
    "        self.iFLP2INT = abs(int(fIn * 2 ** iBWF))\n",
    "        if fIn < 0:\n",
    "            self.iFLP2INT = 2 ** (iBW-1) - self.iFLP2INT\n",
    "\n",
    "        if fIn >= 0:\n",
    "            self.bFull = bin(self.iFLP2INT)[2:].rjust(iBW, '0')\n",
    "        else:\n",
    "            self.bFull = '1'+bin(self.iFLP2INT)[2:].rjust(iBW-1, '0')\n",
    "            if len(self.bFull) > iBW:\n",
    "                self.bFull = '0' * iBW\n",
    "\n",
    "        self.cssFxp = fxp(self.bFull, self.iBWF)\n",
    "        self.bSign = self.cssFxp.bSign\n",
    "        self.bIntg = self.cssFxp.bIntg\n",
    "        self.bFrac = self.cssFxp.bFrac\n",
    "        self.fFull = self.cssFxp.fFull\n",
    "        return"
   ]
  },
  {
   "cell_type": "code",
   "execution_count": 9,
   "id": "3d34d648-b811-4ee0-b518-3b10c97e7eb0",
   "metadata": {},
   "outputs": [],
   "source": [
    "def flp2fixTensor(fIn, iBW, iBWF,args):\n",
    "    fMin = - 2 ** (iBW - iBWF - 1)\n",
    "    fMax = (2 ** (iBW-1) - 1) * (2 ** -iBWF)\n",
    "    fList = []\n",
    "    for aTensor in fIn.view(-1):\n",
    "        fList.append(flp2fix(aTensor, iBW, iBWF).fFull)\n",
    "    return torch.tensor(fList).view(fIn.size())\n",
    "    fList = []\n",
    "    for aTensor in fIn.view(-1):\n",
    "        fList.append(flp2fix(aTensor, iBW, iBWF).fFull)\n",
    "    return (torch.tensor(fList).view(fIn.size())).to(args.device)"
   ]
  },
  {
   "cell_type": "code",
   "execution_count": 10,
   "id": "e49333bb-3bf3-4078-957f-ea7110fd2dd1",
   "metadata": {},
   "outputs": [],
   "source": [
    "def int2bin(iIn,iBW):\n",
    "    iBW = iBW + 1\n",
    "    if iIn >= 0:\n",
    "        bOut = bin(iIn).replace('0b','').rjust(iBW,'0')\n",
    "    else :\n",
    "        bOut = bin(iIn & (pow(2,iBW)-1)).replace('0b','').rjust(iBW,'1')\n",
    "    return bOut[1:]"
   ]
  },
  {
   "cell_type": "code",
   "execution_count": 11,
   "id": "8b891375-15ad-44ac-957c-145832d15d02",
   "metadata": {},
   "outputs": [],
   "source": [
    "def XOR(iA,iB):\n",
    "    if iA != iB :\n",
    "        iOut = '1'\n",
    "    else : \n",
    "        iOut = '0'\n",
    "    return iOut"
   ]
  },
  {
   "cell_type": "code",
   "execution_count": 12,
   "id": "cb90d9d5-0df3-4e35-aecd-02fbb4155536",
   "metadata": {},
   "outputs": [],
   "source": [
    "def snum(a):\n",
    "    if a >= 0 :\n",
    "        return '0'\n",
    "    else :\n",
    "        return '1'"
   ]
  },
  {
   "cell_type": "code",
   "execution_count": 13,
   "id": "c1e6dd7d-4dec-4df1-b407-5a10b4afbe8e",
   "metadata": {},
   "outputs": [],
   "source": [
    "def binInv(bIn):\n",
    "    bOut = bin(int(bIn,2)^(pow(2,len(bIn))-1)).replace('0b','').rjust(len(bIn),'0')\n",
    "    return bOut"
   ]
  },
  {
   "cell_type": "code",
   "execution_count": 14,
   "id": "3869b0bf-de94-4220-aff7-48a4611b8306",
   "metadata": {},
   "outputs": [],
   "source": [
    "def Comp(a,lfsr,snum):\n",
    "    for com in range(0,len(a)):\n",
    "        oA = '0'\n",
    "        if a[com]!=lfsr[com]:\n",
    "            if(int(a[com]) > int(lfsr[com])):\n",
    "                oA = '1'\n",
    "            else :\n",
    "                oA = '0'\n",
    "            break\n",
    "    return XOR(oA,snum)"
   ]
  },
  {
   "cell_type": "code",
   "execution_count": 15,
   "id": "59487c15-e2c4-488e-95a1-2effb6e33a7d",
   "metadata": {},
   "outputs": [],
   "source": [
    "def perm(a):\n",
    "    al = len(a)\n",
    "    blist = []\n",
    "    if args.frac_bits == args.bBW : \n",
    "        for i in range(al) :\n",
    "            blist.append(a[al-i-1])\n",
    "    elif args.frac_bits > args.bBW :\n",
    "        for i in range(al-(args.frac_bits-args.bBW)) :\n",
    "            blist.append((a[al-(args.frac_bits-args.bBW)-i-1]))\n",
    "    b = \"\".join(blist)\n",
    "    b = b + ('0'*(args.frac_bits-args.bBW))\n",
    "    return b"
   ]
  },
  {
   "cell_type": "code",
   "execution_count": 16,
   "id": "35d0931f-676a-4aef-9c5b-16616ccb422f",
   "metadata": {},
   "outputs": [],
   "source": [
    "class LFSR8:\n",
    "    def Random(self):\n",
    "        self.b0 = eval(f'str(random.randint(0,1))')\n",
    "        self.b1 = eval(f'str(random.randint(0,1))')\n",
    "        self.b2 = eval(f'str(random.randint(0,1))')\n",
    "        self.b3 = eval(f'str(random.randint(0,1))')\n",
    "        self.b4 = eval(f'str(random.randint(0,1))')\n",
    "        self.b5 = eval(f'str(random.randint(0,1))')\n",
    "        self.b6 = eval(f'str(random.randint(0,1))')\n",
    "        self.b7 = eval(f'str(random.randint(0,1))')\n",
    "        if int(self.b0) + int(self.b1) + int(self.b2) + int(self.b3) + int(self.b4) + int(self.b5) + int(self.b6) + int(self.b7) == 0 :\n",
    "            self.b0 = eval(f'str(random.randint(0,1))')\n",
    "            self.b1 = eval(f'str(random.randint(0,1))')\n",
    "            self.b2 = eval(f'str(random.randint(0,1))')\n",
    "            self.b3 = eval(f'str(random.randint(0,1))')\n",
    "            self.b4 = eval(f'str(random.randint(0,1))')\n",
    "            self.b5 = eval(f'str(random.randint(0,1))')\n",
    "            self.b6 = eval(f'str(random.randint(0,1))')\n",
    "            self.b7 = eval(f'str(random.randint(0,1))')\n",
    "        return self.b0 + self.b1 + self.b2 + self.b3 + self.b4 + self.b5 + self.b6 + self.b7\n",
    "    \n",
    "    def Normal(self,stream):\n",
    "        self.b0 = XOR(int(XOR(int(stream[5]),int(XOR(int(stream[3]),int(stream[4]))))),int(stream[7]))\n",
    "        self.b1 = stream[0]\n",
    "        self.b2 = stream[1]\n",
    "        self.b3 = stream[2]\n",
    "        self.b4 = stream[3]\n",
    "        self.b5 = stream[4]\n",
    "        self.b6 = stream[5]\n",
    "        self.b7 = stream[6]\n",
    "        \n",
    "        return self.b0 + self.b1 + self.b2 + self.b3 + self.b4 + self.b5 + self.b6 + self.b7\n",
    "    \n",
    "    def Allzero(self):\n",
    "        self.b0 = '0'\n",
    "        self.b1 = '0'\n",
    "        self.b2 = '0'\n",
    "        self.b3 = '0'\n",
    "        self.b4 = '0'\n",
    "        self.b5 = '0'\n",
    "        self.b6 = '0'\n",
    "        self.b7 = '0'\n",
    "        \n",
    "        return self.b0 + self.b1 + self.b2 + self.b3 + self.b4 + self.b5 + self.b6 + self.b7"
   ]
  },
  {
   "cell_type": "code",
   "execution_count": 17,
   "id": "802b5319-79e8-4f32-91b6-96661816dcdf",
   "metadata": {},
   "outputs": [],
   "source": [
    "def LFSRlist8():\n",
    "    lfsr = LFSR8()\n",
    "    lfsrlist = []\n",
    "    for k in range(2**(args.bBW)-1): #lfsr number generating\n",
    "        if k == 0:\n",
    "            lfsrlist.append(lfsr.Random())\n",
    "        else :\n",
    "            lfsrlist.append(lfsr.Normal(lfsrlist[k-1]))\n",
    "        if (k == 2**(args.bBW)-2):\n",
    "            lfsrlist.append(lfsr.Allzero())\n",
    "    \n",
    "    if (args.bBW) != args.frac_bits :\n",
    "        if args.bBW < args.frac_bits :\n",
    "            for i in range(len(lfsrlist)):\n",
    "                lfsrlist[i] = lfsrlist[i] + (args.frac_bits-args.bBW)*'0'\n",
    "        else :\n",
    "            print(\"it can't work\")\n",
    "            return 0\n",
    "    \n",
    "    return lfsrlist"
   ]
  },
  {
   "cell_type": "code",
   "execution_count": 18,
   "id": "2da49b81-c7fb-49f3-be8e-ad53f235524c",
   "metadata": {},
   "outputs": [],
   "source": [
    "def SNG(iIN,lfsr):\n",
    "\n",
    "    sNUM = snum(iIN)\n",
    "    \n",
    "    bIN = flp2fix(iIN,args.full_bits,args.frac_bits).bFull\n",
    "    bFRAC = bIN[-(args.frac_bits):]\n",
    "    oAlist = []\n",
    "    \n",
    "    for k in range(2**(args.bBW)): #lfsr number generating\n",
    "        lNUM = lfsr[k]\n",
    "        a = Comp(bFRAC,lNUM,sNUM)\n",
    "        oAlist.append(a) #comparator of input a\n",
    "    \n",
    "    oAlist.insert(0,sNUM)\n",
    "    sA = \"\".join(oAlist)\n",
    "    if bIN == '0'*args.full_bits :\n",
    "        return \"0\"*((2**(args.bBW))+1)\n",
    "    else :\n",
    "        return sA"
   ]
  },
  {
   "cell_type": "code",
   "execution_count": 19,
   "id": "1f914a70-d3b8-4b3e-a155-881c5e13ef0f",
   "metadata": {},
   "outputs": [],
   "source": [
    "def SNG_P(iIN,lfsr):\n",
    "    sNUM = snum(iIN)\n",
    "    \n",
    "    bIN = flp2fix(iIN,args.full_bits,args.frac_bits).bFull\n",
    "    bFRAC = bIN[-(args.frac_bits):]\n",
    "    oAlist = []\n",
    "    \n",
    "    for k in range(2**(args.bBW)): #lfsr number generating\n",
    "        if (args.bBW == args.frac_bits) :    \n",
    "            lNUM = perm(lfsr[k])\n",
    "        elif (args.bBW < args.frac_bits) :\n",
    "            lNUM = perm(lfsr[k][:args.bBW])+(args.frac_bits-args.bBW)*\"0\"\n",
    "        a = Comp(bFRAC,lNUM,sNUM)\n",
    "        oAlist.append(a) #comparator of input a\n",
    "    \n",
    "    oAlist.insert(0,sNUM)\n",
    "    sA = \"\".join(oAlist)\n",
    "    if bIN == '0'*args.full_bits :\n",
    "         return \"0\"*((2**(args.bBW))+1)\n",
    "    else :\n",
    "        return sA"
   ]
  },
  {
   "cell_type": "code",
   "execution_count": 20,
   "id": "768f28c4-8144-40d9-9971-041744c8c0ac",
   "metadata": {},
   "outputs": [],
   "source": [
    "def SNGnumpy(fIn,lfsr):\n",
    "    sList = []\n",
    "    for aNumpy in fIn.view(-1):\n",
    "        sList.append(SNG(float(aNumpy),lfsr))                \n",
    "    return np.array(sList).reshape(fIn.size())"
   ]
  },
  {
   "cell_type": "code",
   "execution_count": 21,
   "id": "401180c2-6048-49e4-b95b-6d46f1c47732",
   "metadata": {},
   "outputs": [],
   "source": [
    "def SNGpnumpy(fIn,lfsr):\n",
    "    sList = []\n",
    "    for aNumpy in fIn.view(-1):\n",
    "        sList.append(SNG_P(float(aNumpy),lfsr))                 \n",
    "    return  np.array(sList).reshape(fIn.size())"
   ]
  },
  {
   "cell_type": "code",
   "execution_count": 22,
   "id": "93e367c3-7dda-428d-b1da-67e0d398e9b4",
   "metadata": {},
   "outputs": [],
   "source": [
    "def CountOne(nIn):\n",
    "    nlist = []\n",
    "    for num in nIn.reshape(-1):\n",
    "        n = 0\n",
    "        for a in num:\n",
    "            if a == '1' :\n",
    "                n += 1\n",
    "        if a[0] == '1' :\n",
    "            nlist.append(n-1)\n",
    "        else :\n",
    "            nlist.append(n)\n",
    "    return torch.tensor(nlist).view(nIn.shape)"
   ]
  },
  {
   "cell_type": "code",
   "execution_count": 23,
   "id": "d2d99d32-f2ac-4339-b9ac-7a232e27e2d5",
   "metadata": {},
   "outputs": [],
   "source": [
    "def defSign(nIn):\n",
    "    nlist = []\n",
    "    for num in nIn.reshape(-1):\n",
    "        if num[0] == '1' :\n",
    "            nlist.append(-1)\n",
    "        else :\n",
    "            nlist.append(1)\n",
    "    return torch.tensor(nlist).view(nIn.shape)"
   ]
  },
  {
   "cell_type": "code",
   "execution_count": 24,
   "id": "7da63b88-346c-49c2-86e1-050f2fbf49ac",
   "metadata": {},
   "outputs": [],
   "source": [
    "def mul(a,b):\n",
    "    al = len(a)\n",
    "    bl = len(b)\n",
    "    \n",
    "    outlist = []\n",
    "    \n",
    "    if al != bl :\n",
    "        print(\"length of string is different\")\n",
    "        return 0\n",
    "    \n",
    "    outlist.append(XOR(a[0],b[0]))\n",
    "    \n",
    "    for i in range(al-1) :\n",
    "        outlist.append(str(int(a[i+1]) & int(b[i+1])))\n",
    "    \n",
    "    #print(outlist)\n",
    "    out = \"\".join(outlist)\n",
    "    return out    "
   ]
  },
  {
   "cell_type": "code",
   "execution_count": 25,
   "id": "af499f5c-68f8-4725-a17a-00da437ba12b",
   "metadata": {},
   "outputs": [],
   "source": [
    "def defSign1(nIn):\n",
    "    if nIn[0] == '1' :\n",
    "        return -1\n",
    "    else :\n",
    "        return 1"
   ]
  },
  {
   "cell_type": "code",
   "execution_count": 26,
   "id": "972f340f-39d5-46a9-bb84-d299b5c7bea2",
   "metadata": {},
   "outputs": [],
   "source": [
    "def CountOne1(nIn): #iteration 수 감소시키기\n",
    "    n = 0\n",
    "    for num in nIn:\n",
    "        if num == '1' :\n",
    "            n += 1\n",
    "    if nIn[0] == '1' :\n",
    "        return n-1\n",
    "    else :\n",
    "        return n"
   ]
  },
  {
   "cell_type": "code",
   "execution_count": 27,
   "id": "66d88b7d-6d0f-44e2-b4cf-22535d7be980",
   "metadata": {},
   "outputs": [],
   "source": [
    "def S2None(sIn,SF):\n",
    "    s = defSign1(sIn)\n",
    "    o = (CountOne1(sIn)/(2**args.bBW))*SF*s\n",
    "    end = time.time()\n",
    "    return o"
   ]
  },
  {
   "cell_type": "code",
   "execution_count": 28,
   "id": "81b910cf-65bd-4689-8e54-6daacf378992",
   "metadata": {},
   "outputs": [],
   "source": [
    "def mulNumpy(aIn,bIn,aSF,wSF):\n",
    "    mList = []\n",
    "    for i in range(aIn.shape[0]):\n",
    "        for j in range(bIn.T.shape[1]):\n",
    "            sum = 0\n",
    "            for k in range(aIn.shape[1]):\n",
    "                sum += S2None(mul((aIn[i][k].astype(str)),(bIn.T)[k][j].astype(str)),aSF*wSF)\n",
    "            mList.append(sum)\n",
    "    return (torch.tensor(mList).view(aIn.shape[0],bIn.T.shape[1])).to(args.device)"
   ]
  },
  {
   "cell_type": "code",
   "execution_count": 29,
   "id": "1b8ea8c4-b408-4508-984d-caa23b8027ec",
   "metadata": {},
   "outputs": [],
   "source": [
    "def findMaxMin(data):\n",
    "    \n",
    "    max = torch.max(data)\n",
    "    min = torch.min(data)\n",
    "    SF=torch.max(abs(max),abs(min)).item()\n",
    "\n",
    "    \n",
    "    return SF"
   ]
  },
  {
   "cell_type": "markdown",
   "id": "4b6562c1-c9bd-428a-9b1d-c19286c0bc9c",
   "metadata": {},
   "source": [
    "# User Define Variables"
   ]
  },
  {
   "cell_type": "code",
   "execution_count": 30,
   "id": "e84144fc-99bb-4e41-bdbf-5349ea1162e6",
   "metadata": {},
   "outputs": [],
   "source": [
    "data_path = '~/dataset'"
   ]
  },
  {
   "cell_type": "code",
   "execution_count": 49,
   "id": "ea932772-49ae-4b5b-bae7-a6188c2f3f68",
   "metadata": {},
   "outputs": [],
   "source": [
    "parser = argparse.ArgumentParser(description='PyTorch for MNIST dataset')\n",
    "parser.add_argument('--device', type=str, default='cuda', help='Device')\n",
    "parser.add_argument('--shuffle', action='store_true', default=False, help='enables data shuffle')\n",
    "parser.add_argument('--dataset', type=str, default='mnist', help='training dataset')\n",
    "parser.add_argument('--data_path', type=str, default=data_path, help='path to MNIST')\n",
    "parser.add_argument('--batch_size', type=int, default=64, help='batch size')\n",
    "parser.add_argument('--epochs', type=int, default=10, help='number of epochs to train')\n",
    "parser.add_argument('--lr', type=float, default=0.001, help='learning rate')\n",
    "parser.add_argument('--optimizer', type=str, default='adam', help='optimizer')\n",
    "parser.add_argument('--loss_func', type=str, default='cel', help='optimizer')\n",
    "parser.add_argument('--quant_opt', type=str, default='asym', help='Type of Quantization')\n",
    "parser.add_argument('--full_bits', type=int, default=16, help='Number of Quantization Bits')\n",
    "parser.add_argument('--frac_bits', type=int, default=8, help='Number of Quantization Bits')\n",
    "#parser.add_argument('--pretrained', type=bool, default=True, help='Pretrained Model')\n",
    "parser.add_argument('--act_quant', type=bool, default=False, help='Activation Quantization')\n",
    "parser.add_argument('--disp', type=bool, default=False, help='Display Model Information')\n",
    "parser.add_argument('--bBW',type=int,default=8,help='bit number')\n",
    "args = parser.parse_args(args=[])"
   ]
  },
  {
   "cell_type": "markdown",
   "id": "e302edf6-62d7-4b65-9ce5-6a3ac2c94aa0",
   "metadata": {},
   "source": [
    "# Preparing Data"
   ]
  },
  {
   "cell_type": "code",
   "execution_count": 32,
   "id": "0cbdfa0b-c8b1-4aaa-8984-cbcca3c5c3ac",
   "metadata": {},
   "outputs": [],
   "source": [
    "kwargs = {'num_workers': 1, 'pin_memory': True} if args.device == 'cuda' else {}\n",
    "if args.dataset == 'mnist':\n",
    "    train_loader = torch.utils.data.DataLoader(\n",
    "        dataset=datasets.MNIST(\n",
    "            root=args.data_path,\n",
    "            train=True,\n",
    "            download=True,\n",
    "            transform=transforms.ToTensor()\n",
    "        ),\n",
    "        batch_size=args.batch_size,\n",
    "        shuffle=args.shuffle,\n",
    "        **kwargs\n",
    "    )\n",
    "\n",
    "    test_loader = torch.utils.data.DataLoader(\n",
    "        dataset=datasets.MNIST(\n",
    "            root=args.data_path,\n",
    "            train=False,\n",
    "            download=True,\n",
    "            transform=transforms.ToTensor()\n",
    "        ),\n",
    "        batch_size=args.batch_size,\n",
    "        shuffle=args.shuffle,\n",
    "        **kwargs\n",
    "    )"
   ]
  },
  {
   "cell_type": "markdown",
   "id": "b293a232-6746-49e9-a243-92a946b05896",
   "metadata": {},
   "source": [
    "# Build Model"
   ]
  },
  {
   "cell_type": "code",
   "execution_count": 33,
   "id": "7361cc63-0614-40dc-ada6-d539efe1994c",
   "metadata": {},
   "outputs": [],
   "source": [
    "class MLP(nn.Module):\n",
    "    def __init__(self):\n",
    "        super(MLP, self).__init__()\n",
    "        self.flatten = nn.Flatten()\n",
    "        self.fc1 = nn.Linear(28*28, 32)\n",
    "        self.relu1 = nn.ReLU()\n",
    "        self.fc2 = nn.Linear(32, 64)\n",
    "        self.relu2 = nn.ReLU()\n",
    "        self.fc3 = nn.Linear(64, 10)\n",
    "        \n",
    "    def forward(self, x):\n",
    "        x = self.flatten(x)\n",
    "        x = self.fc1(x)\n",
    "        x = self.relu1(x)\n",
    "        x = self.fc2(x)\n",
    "        x = self.relu2(x)\n",
    "        logits = self.fc3(x)\n",
    "        return logits"
   ]
  },
  {
   "cell_type": "code",
   "execution_count": 34,
   "id": "6ed3f09d-808d-489d-a527-860dcf20bf4f",
   "metadata": {},
   "outputs": [],
   "source": [
    "def genOptimizer(model, args):\n",
    "    if args.optimizer == 'sgd':\n",
    "        optimizer = torch.optim.SGD(model.parameters(), lr=args.lr)\n",
    "    if args.optimizer == 'adam':\n",
    "        optimizer = torch.optim.Adam(model.parameters(), lr=args.lr)\n",
    "    return optimizer\n",
    "\n",
    "def genLossFunc(args):\n",
    "    if args.loss_func == 'cel':\n",
    "        loss_func = nn.CrossEntropyLoss()\n",
    "    return loss_func"
   ]
  },
  {
   "cell_type": "code",
   "execution_count": 35,
   "id": "348b7f57-d809-4d1b-91ab-64331e739a77",
   "metadata": {},
   "outputs": [],
   "source": [
    "def train(train_loader, model, epoch, args):\n",
    "    model.train()\n",
    "    loss_func = genLossFunc(args)\n",
    "    optimizer = genOptimizer(model, args)\n",
    "    max_batch_index = int(np.floor(len(train_loader.dataset)/args.batch_size))\n",
    "    running_loss = 0\n",
    "    for batch_index, (image, label) in enumerate(tq(train_loader, desc='Train', leave=False)):\n",
    "        image, label = image.to(args.device), label.to(args.device)\n",
    "        pred = model(image)\n",
    "        loss = loss_func(pred, label)\n",
    "        running_loss += loss.item()#*image.size(0)\n",
    "\n",
    "        optimizer.zero_grad()\n",
    "        loss.backward()\n",
    "        optimizer.step()\n",
    "\n",
    "    print(f'Epoch {epoch+1:<3d}: Avg. Loss: {running_loss/len(train_loader.dataset):.4f}', end = '\\t')"
   ]
  },
  {
   "cell_type": "code",
   "execution_count": 36,
   "id": "d67808af-a32c-4c73-a36f-7e8de8b0e4a7",
   "metadata": {},
   "outputs": [],
   "source": [
    "def test(test_loader, model, args):\n",
    "    model.eval()\n",
    "    with torch.no_grad():\n",
    "        loss_func = genLossFunc(args)\n",
    "        loss, correct = 0, 0\n",
    "#  for batch_index, (image, label) in enumerate(tq(test_loader, desc='Test', leave=False)):\n",
    "        for batch_index, (image, label) in enumerate(test_loader):\n",
    "            image, label = image.to(args.device), label.to(args.device)\n",
    "            pred = model(image)\n",
    "            loss += loss_func(pred, label).item()#*image.size(0)\n",
    "            correct += (pred.argmax(1) == label).type(torch.int).sum().item()\n",
    "    loss /= len(test_loader.dataset)\n",
    "    correct_rate = 100 * correct / len(test_loader.dataset)\n",
    "    print(f'Accuracy: {correct}/{len(test_loader.dataset)} ({correct_rate:>.1f}%)')"
   ]
  },
  {
   "cell_type": "code",
   "execution_count": 37,
   "id": "6be9b886-0a76-4d8d-baf7-987b4fdec1e5",
   "metadata": {},
   "outputs": [],
   "source": [
    "def main(model):\n",
    "    for epoch in range(args.epochs):\n",
    "        train(train_loader, model, epoch, args)\n",
    "        test(test_loader, model, args)\n",
    "    print(\"Done!\")\n",
    "    return model"
   ]
  },
  {
   "cell_type": "code",
   "execution_count": 38,
   "id": "32f8f899-6bb3-442a-a879-e204b693a944",
   "metadata": {},
   "outputs": [
    {
     "data": {
      "application/vnd.jupyter.widget-view+json": {
       "model_id": "",
       "version_major": 2,
       "version_minor": 0
      },
      "text/plain": [
       "Train:   0%|          | 0/938 [00:00<?, ?it/s]"
      ]
     },
     "metadata": {},
     "output_type": "display_data"
    },
    {
     "name": "stdout",
     "output_type": "stream",
     "text": [
      "Epoch 1  : Avg. Loss: 0.0071\tAccuracy: 9216/10000 (92.2%)\n"
     ]
    },
    {
     "data": {
      "application/vnd.jupyter.widget-view+json": {
       "model_id": "",
       "version_major": 2,
       "version_minor": 0
      },
      "text/plain": [
       "Train:   0%|          | 0/938 [00:00<?, ?it/s]"
      ]
     },
     "metadata": {},
     "output_type": "display_data"
    },
    {
     "name": "stdout",
     "output_type": "stream",
     "text": [
      "Epoch 2  : Avg. Loss: 0.0036\tAccuracy: 9341/10000 (93.4%)\n"
     ]
    },
    {
     "data": {
      "application/vnd.jupyter.widget-view+json": {
       "model_id": "",
       "version_major": 2,
       "version_minor": 0
      },
      "text/plain": [
       "Train:   0%|          | 0/938 [00:00<?, ?it/s]"
      ]
     },
     "metadata": {},
     "output_type": "display_data"
    },
    {
     "name": "stdout",
     "output_type": "stream",
     "text": [
      "Epoch 3  : Avg. Loss: 0.0027\tAccuracy: 9470/10000 (94.7%)\n"
     ]
    },
    {
     "data": {
      "application/vnd.jupyter.widget-view+json": {
       "model_id": "",
       "version_major": 2,
       "version_minor": 0
      },
      "text/plain": [
       "Train:   0%|          | 0/938 [00:00<?, ?it/s]"
      ]
     },
     "metadata": {},
     "output_type": "display_data"
    },
    {
     "name": "stdout",
     "output_type": "stream",
     "text": [
      "Epoch 4  : Avg. Loss: 0.0022\tAccuracy: 9551/10000 (95.5%)\n"
     ]
    },
    {
     "data": {
      "application/vnd.jupyter.widget-view+json": {
       "model_id": "",
       "version_major": 2,
       "version_minor": 0
      },
      "text/plain": [
       "Train:   0%|          | 0/938 [00:00<?, ?it/s]"
      ]
     },
     "metadata": {},
     "output_type": "display_data"
    },
    {
     "name": "stdout",
     "output_type": "stream",
     "text": [
      "Epoch 5  : Avg. Loss: 0.0019\tAccuracy: 9591/10000 (95.9%)\n"
     ]
    },
    {
     "data": {
      "application/vnd.jupyter.widget-view+json": {
       "model_id": "",
       "version_major": 2,
       "version_minor": 0
      },
      "text/plain": [
       "Train:   0%|          | 0/938 [00:00<?, ?it/s]"
      ]
     },
     "metadata": {},
     "output_type": "display_data"
    },
    {
     "name": "stdout",
     "output_type": "stream",
     "text": [
      "Epoch 6  : Avg. Loss: 0.0017\tAccuracy: 9627/10000 (96.3%)\n"
     ]
    },
    {
     "data": {
      "application/vnd.jupyter.widget-view+json": {
       "model_id": "",
       "version_major": 2,
       "version_minor": 0
      },
      "text/plain": [
       "Train:   0%|          | 0/938 [00:00<?, ?it/s]"
      ]
     },
     "metadata": {},
     "output_type": "display_data"
    },
    {
     "name": "stdout",
     "output_type": "stream",
     "text": [
      "Epoch 7  : Avg. Loss: 0.0015\tAccuracy: 9650/10000 (96.5%)\n"
     ]
    },
    {
     "data": {
      "application/vnd.jupyter.widget-view+json": {
       "model_id": "",
       "version_major": 2,
       "version_minor": 0
      },
      "text/plain": [
       "Train:   0%|          | 0/938 [00:00<?, ?it/s]"
      ]
     },
     "metadata": {},
     "output_type": "display_data"
    },
    {
     "name": "stdout",
     "output_type": "stream",
     "text": [
      "Epoch 8  : Avg. Loss: 0.0013\tAccuracy: 9657/10000 (96.6%)\n"
     ]
    },
    {
     "data": {
      "application/vnd.jupyter.widget-view+json": {
       "model_id": "",
       "version_major": 2,
       "version_minor": 0
      },
      "text/plain": [
       "Train:   0%|          | 0/938 [00:00<?, ?it/s]"
      ]
     },
     "metadata": {},
     "output_type": "display_data"
    },
    {
     "name": "stdout",
     "output_type": "stream",
     "text": [
      "Epoch 9  : Avg. Loss: 0.0012\tAccuracy: 9665/10000 (96.7%)\n"
     ]
    },
    {
     "data": {
      "application/vnd.jupyter.widget-view+json": {
       "model_id": "",
       "version_major": 2,
       "version_minor": 0
      },
      "text/plain": [
       "Train:   0%|          | 0/938 [00:00<?, ?it/s]"
      ]
     },
     "metadata": {},
     "output_type": "display_data"
    },
    {
     "name": "stdout",
     "output_type": "stream",
     "text": [
      "Epoch 10 : Avg. Loss: 0.0011\tAccuracy: 9652/10000 (96.5%)\n",
      "Done!\n"
     ]
    }
   ],
   "source": [
    "model = main(MLP().to(args.device))\n",
    "torch.save(model.state_dict(), 'preTrainedModel.pth')"
   ]
  },
  {
   "cell_type": "code",
   "execution_count": 39,
   "id": "d113cc44-8936-42f4-9edc-d5a9500c3ccd",
   "metadata": {},
   "outputs": [],
   "source": [
    "def model2fix(model, args):\n",
    "    for name, _ in model.named_parameters():\n",
    "        exec(f'model.{name}.data = flp2fixTensor(model.{name}.data, {args.full_bits}, {args.frac_bits}, args)')\n",
    "    return model"
   ]
  },
  {
   "cell_type": "code",
   "execution_count": 40,
   "id": "b983341b-d21d-4a96-b707-ace9dc5daad1",
   "metadata": {},
   "outputs": [],
   "source": [
    "def FindSF():\n",
    "    SF = {}\n",
    "    for param in ('x','w'):\n",
    "        for num in range(3):\n",
    "            exec(f'SF[\"{param}SF{num+1}\"] = torch.mean(torch.load(\"./SF/{param}SF{num+1}.pt\"))')\n",
    "    return SF"
   ]
  },
  {
   "cell_type": "code",
   "execution_count": 45,
   "id": "450e4437-1f3c-4976-bf36-f66da4b8fd2a",
   "metadata": {},
   "outputs": [],
   "source": [
    "def N2S2N(model, iX, iW, iB, xSF, wSF, args):\n",
    "    lfsr = LFSRlist8()\n",
    "\n",
    "    x = SNGnumpy(iX/xSF,lfsr)\n",
    "    w = SNGpnumpy(iW/wSF,lfsr)\n",
    "\n",
    "    sout = mulNumpy(x,w,xSF,wSF) + iB\n",
    "    \n",
    "    return sout.to(args.device)"
   ]
  },
  {
   "cell_type": "code",
   "execution_count": 46,
   "id": "96da7c28-a3b5-4d4a-85ce-495e2027cffe",
   "metadata": {},
   "outputs": [],
   "source": [
    "def quantFixForward(model, x, args):\n",
    "    cmodel = copy.deepcopy(model).to(args.device)\n",
    "    \n",
    "    SF = FindSF()\n",
    "    \n",
    "    with torch.no_grad():\n",
    "        i0 = cmodel.flatten(x)\n",
    "        act0 = N2S2N(cmodel,i0,cmodel.fc1.weight,cmodel.fc1.bias,SF['xSF1'],SF['wSF1'],args)\n",
    "\n",
    "        i1 = model.relu1(act0)\n",
    "        act1 = N2S2N(cmodel,i1,cmodel.fc2.weight,cmodel.fc2.bias,SF['xSF2'],SF['wSF2'],args)\n",
    "\n",
    "        i2 = cmodel.relu2(act1)\n",
    "        act2 = N2S2N(cmodel,i2,cmodel.fc3.weight,cmodel.fc3.bias,SF['xSF3'],SF['wSF3'],args)\n",
    "   \n",
    "        act3 = flp2fixTensor(act2, args.full_bits, args.frac_bits,args)\n",
    "\n",
    "    return cmodel, act0.to(args.device), act1.to(args.device), act2.to(args.device), act3.to(args.device) "
   ]
  },
  {
   "cell_type": "code",
   "execution_count": 47,
   "id": "a41e1a82-82ee-42fa-9f7f-8ff0981e3d79",
   "metadata": {},
   "outputs": [],
   "source": [
    "def testQuant(model, test_loader, args):\n",
    "    \n",
    "    qmodel = copy.deepcopy(model).to(args.device)\n",
    "    qmodel = model2fix(qmodel, args)\n",
    "    qmodel.eval()\n",
    "    \n",
    "    with torch.no_grad():\n",
    "        loss_func = genLossFunc(args)\n",
    "        loss, correct = 0, 0\n",
    "        for batch_index, (image, label) in enumerate(tq(test_loader,desc='Test',leave=False)):\n",
    "            start = time.time()\n",
    "            image, label = image.to(args.device), label.to(args.device)\n",
    "            qmodel, act0, act1, act2, act3  = quantFixForward(qmodel, image, args)\n",
    "            y = act3\n",
    "            loss += loss_func(y, label).item()#*image.size(0)\n",
    "            correct += (y.argmax(1) == label).type(torch.int).sum().item()\n",
    "    correct_rate = 100 * correct / len(test_loader.dataset)\n",
    "    print(f'Accuracy: {correct}/{len(test_loader.dataset)} ({correct_rate:>.1f}%) Loss: {loss/len(test_loader.dataset):.2f}')\n",
    "    \n",
    "    return qmodel, act0, act1, act2, act3"
   ]
  },
  {
   "cell_type": "code",
   "execution_count": 50,
   "id": "824c658d-8ac0-41cf-afec-21c721f67ade",
   "metadata": {},
   "outputs": [
    {
     "data": {
      "application/vnd.jupyter.widget-view+json": {
       "model_id": "",
       "version_major": 2,
       "version_minor": 0
      },
      "text/plain": [
       "Test:   0%|          | 0/157 [00:00<?, ?it/s]"
      ]
     },
     "metadata": {},
     "output_type": "display_data"
    },
    {
     "name": "stdout",
     "output_type": "stream",
     "text": [
      "Accuracy: 9376/10000 (93.8%) Loss: 0.00\n"
     ]
    }
   ],
   "source": [
    "qmodel, act0, act1, act2, act3 = testQuant(model, test_loader, args)"
   ]
  },
  {
   "cell_type": "code",
   "execution_count": null,
   "id": "9965ad3c-602c-44b4-9ca1-790563fdbfd8",
   "metadata": {},
   "outputs": [],
   "source": [
    "xSF1 = torch.tensor(xSF1_tensor)\n",
    "xSF2 = torch.tensor(xSF2_tensor)\n",
    "xSF3 = torch.tensor(xSF3_tensor)\n",
    "\n",
    "wSF1 = torch.tensor(wSF1_tensor)\n",
    "wSF2 = torch.tensor(wSF2_tensor)\n",
    "wSF3 = torch.tensor(wSF3_tensor)"
   ]
  },
  {
   "cell_type": "code",
   "execution_count": null,
   "id": "26bd8127-b864-4fc9-8eb4-bc1e81b9753b",
   "metadata": {},
   "outputs": [],
   "source": [
    "out_path = './SF/'\n",
    "\n",
    "torch.save(xSF1, out_path + 'xSF1.pt')\n",
    "torch.save(xSF2, out_path + 'xSF2.pt')\n",
    "torch.save(xSF3, out_path + 'xSF3.pt')\n",
    "\n",
    "torch.save(wSF1, out_path + 'wSF1.pt')\n",
    "torch.save(wSF2, out_path + 'wSF2.pt')\n",
    "torch.save(wSF3, out_path + 'wSF3.pt')"
   ]
  },
  {
   "cell_type": "code",
   "execution_count": null,
   "id": "e98452b1-286d-4b51-8b3e-540db7ffdaa5",
   "metadata": {},
   "outputs": [],
   "source": [
    "xSF1_mean = torch.mean(xSF1)\n",
    "print(xSF1_mean)"
   ]
  },
  {
   "cell_type": "code",
   "execution_count": null,
   "id": "4951d60d-0a82-4a99-ae8c-6c1a790cb1a5",
   "metadata": {},
   "outputs": [],
   "source": [
    "xSF2_mean = torch.mean(xSF2)\n",
    "print(xSF2_mean)"
   ]
  },
  {
   "cell_type": "code",
   "execution_count": null,
   "id": "cab2124d-2e4e-49fa-ab07-c90968ce6b98",
   "metadata": {},
   "outputs": [],
   "source": [
    "xSF3_mean = torch.mean(xSF3)\n",
    "print(xSF3_mean)"
   ]
  },
  {
   "cell_type": "code",
   "execution_count": null,
   "id": "c597c040-14cf-49e0-b964-f6a9b6d32073",
   "metadata": {},
   "outputs": [],
   "source": [
    "wSF1_mean = torch.mean(wSF1)\n",
    "print(wSF1_mean)"
   ]
  },
  {
   "cell_type": "code",
   "execution_count": null,
   "id": "dadab8aa-def3-4b0e-b25e-b244f764483a",
   "metadata": {},
   "outputs": [],
   "source": [
    "wSF2_mean = torch.mean(wSF2)\n",
    "print(wSF2_mean)"
   ]
  },
  {
   "cell_type": "code",
   "execution_count": null,
   "id": "59e269a2-bc57-45b4-a8de-7df2f2292af1",
   "metadata": {},
   "outputs": [],
   "source": [
    "wSF3_mean = torch.mean(wSF3)\n",
    "print(wSF3_mean)"
   ]
  },
  {
   "cell_type": "code",
   "execution_count": null,
   "id": "4d7f25a2-6023-4c35-a72f-0366d7143d0c",
   "metadata": {},
   "outputs": [],
   "source": []
  }
 ],
 "metadata": {
  "kernelspec": {
   "display_name": "Python 3",
   "language": "python",
   "name": "python3"
  },
  "language_info": {
   "codemirror_mode": {
    "name": "ipython",
    "version": 3
   },
   "file_extension": ".py",
   "mimetype": "text/x-python",
   "name": "python",
   "nbconvert_exporter": "python",
   "pygments_lexer": "ipython3",
   "version": "3.6.9"
  }
 },
 "nbformat": 4,
 "nbformat_minor": 5
}
