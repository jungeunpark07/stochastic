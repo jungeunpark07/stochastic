{
 "cells": [
  {
   "cell_type": "code",
   "execution_count": 42,
   "id": "bdcc4eb8-eb20-495f-905c-8d69ccf0004b",
   "metadata": {},
   "outputs": [],
   "source": [
    "import random, struct,math\n",
    "import argparse"
   ]
  },
  {
   "cell_type": "code",
   "execution_count": 43,
   "id": "5c99e84a-3245-4d68-ad2c-9d3c4e675aa7",
   "metadata": {},
   "outputs": [],
   "source": [
    "def int2bin(iIn,iBW):\n",
    "    iBW = iBW + 1\n",
    "    if iIn >= 0:\n",
    "        bOut = bin(iIn).replace('0b','').rjust(iBW,'0')\n",
    "    else :\n",
    "        bOut = bin(iIn & (pow(2,iBW)-1)).replace('0b','').rjust(iBW,'1')\n",
    "    return bOut[1:]"
   ]
  },
  {
   "cell_type": "code",
   "execution_count": 44,
   "id": "017c485f-9342-44bc-b1b5-2bd809a0e6d3",
   "metadata": {},
   "outputs": [],
   "source": [
    "def XOR(iA,iB):\n",
    "    if iA != iB :\n",
    "        iOut = '1'\n",
    "    else : \n",
    "        iOut = '0'\n",
    "    return iOut"
   ]
  },
  {
   "cell_type": "code",
   "execution_count": 45,
   "id": "89a0e74c-fa99-43f9-846b-deabfce6c40a",
   "metadata": {},
   "outputs": [],
   "source": [
    "parser = argparse.ArgumentParser(description='fixed_mac')\n",
    "parser.add_argument('--full_bits', type=int, default=8, help='Number of Quantization Bits')\n",
    "parser.add_argument('--frac_bits', type=int, default=6, help='Number of Quantization Bits')\n",
    "parser.add_argument('--bBW', type=int, default=2, help='Number of bit width')\n",
    "args = parser.parse_args(args=[])"
   ]
  },
  {
   "cell_type": "code",
   "execution_count": 52,
   "id": "1d11c5ea-e139-4b7c-bdc5-d297cf82579c",
   "metadata": {},
   "outputs": [],
   "source": [
    "class\tfxp:\n",
    "\tdef\t__init__(self, bIn, iBWF):\n",
    "\t\tself.iFullBW\t= len(bIn)\n",
    "\t\tself.iIntgBW\t= self.iFullBW - iBWF\n",
    "\t\tself.bSign\t\t= bIn[0]\n",
    "\t\tself.bIntg\t\t= bIn[:self.iIntgBW]\n",
    "\t\tself.bFrac\t\t= bIn[self.iIntgBW:]\n",
    "\t\tself.fFull\t\t= 0\n",
    "\t\ttry:\n",
    "\t\t\tfor idx, bit in enumerate(bIn):\n",
    "\t\t\t\tif\tidx == 0:\n",
    "\t\t\t\t\tself.fFull = self.fFull + int(bit,2) * -pow(2, self.iIntgBW - 1)\n",
    "\t\t\t\telse:\n",
    "\t\t\t\t\tself.fFull = self.fFull + int(bit,2) * pow(2, self.iIntgBW - 1 - idx)\n",
    "\t\texcept:\n",
    "\t\t\tprint(bIn)\n",
    "\t\tself.dispFull\t= self.bIntg +\".\"+ self.bFrac \n",
    "\t\treturn"
   ]
  },
  {
   "cell_type": "code",
   "execution_count": 53,
   "id": "7c6aa085-7abf-4abe-acd9-9fa75a19a0bd",
   "metadata": {},
   "outputs": [],
   "source": [
    "class flp2fix:\n",
    "    def __init__(self, fIn, iBW, iBWF):\n",
    "        self.fMin = - 2 ** (iBW - iBWF - 1)\n",
    "        self.fMax = (2 ** (iBW-1) - 1) * (2 ** -iBWF)\n",
    "        self.fResol\t\t= 2 ** -iBWF\n",
    "        if fIn < self.fMin or fIn > self.fMax:\n",
    "            print(f'({fIn}): Out of input range ({self.fMax}/{self.fMin}) during flp -> fix converting ')\n",
    "        self.iBW = iBW\n",
    "        self.iBWI = iBW - iBWF\n",
    "        self.iBWF = iBWF\n",
    "\n",
    "\t\tself.iFLP2INT\t= abs(int(fIn * 2 ** iBWF))\n",
    "\t\tif fIn < 0:\n",
    "\t\t\tself.iFLP2INT = 2 ** (iBW-1) - self.iFLP2INT\n",
    "\n",
    "\t\tif fIn >= 0:\n",
    "\t\t\tself.bFull = bin(self.iFLP2INT)[2:].rjust(iBW, '0')\n",
    "\t\telse:\n",
    "\t\t\tself.bFull = '1'+bin(self.iFLP2INT)[2:].rjust(iBW-1, '0')\n",
    "\t\t\tif len(self.bFull) > iBW:\n",
    "\t\t\t\tself.bFull = '0' * iBW\n",
    "\n",
    "\t\tself.cssFxp\t\t= fxp(self.bFull, self.iBWF)\n",
    "\t\tself.bSign\t\t= self.cssFxp.bSign\n",
    "\t\tself.bIntg\t\t= self.cssFxp.bIntg\n",
    "\t\tself.bFrac\t\t= self.cssFxp.bFrac\n",
    "\t\tself.fFull\t\t= self.cssFxp.fFull\n",
    "\t\treturn"
   ]
  },
  {
   "cell_type": "code",
   "execution_count": 54,
   "id": "e30eac0c-2f2b-431e-8637-15e66eaba86f",
   "metadata": {},
   "outputs": [],
   "source": [
    "a = flp2fix(0.3,args.full_bits,args.frac_bits).fFull"
   ]
  },
  {
   "cell_type": "code",
   "execution_count": 55,
   "id": "57fe3477-9f37-4e0e-96c6-52250a88a0ee",
   "metadata": {},
   "outputs": [
    {
     "name": "stdout",
     "output_type": "stream",
     "text": [
      "0.296875\n"
     ]
    }
   ],
   "source": [
    "print(a)"
   ]
  },
  {
   "cell_type": "code",
   "execution_count": 60,
   "id": "8d8c6451-97be-42b0-acf3-85fbaa857c93",
   "metadata": {},
   "outputs": [],
   "source": [
    "b = flp2fix(0.3,args.full_bits,args.frac_bits).bFull"
   ]
  },
  {
   "cell_type": "code",
   "execution_count": 61,
   "id": "4e35b667-c6a0-49c8-9fe2-a3c99d9cc8a1",
   "metadata": {},
   "outputs": [
    {
     "name": "stdout",
     "output_type": "stream",
     "text": [
      "00010011\n"
     ]
    }
   ],
   "source": [
    "print(b)"
   ]
  },
  {
   "cell_type": "code",
   "execution_count": 71,
   "id": "85c6661a-1df5-4eef-af80-1547eb503ac9",
   "metadata": {},
   "outputs": [
    {
     "name": "stdout",
     "output_type": "stream",
     "text": [
      "random number is : 0.28047818148533676\n",
      "changed fixed number is : 0.265625\n",
      "binary fixed number is : 010001\n",
      "--------------------------------------------\n",
      "random number is : 0.24747249720567366\n",
      "changed fixed number is : 0.234375\n",
      "binary fixed number is : 001111\n",
      "--------------------------------------------\n",
      "random number is : 0.04707222486282936\n",
      "changed fixed number is : 0.046875\n",
      "binary fixed number is : 000011\n",
      "--------------------------------------------\n",
      "random number is : 0.056665799891180924\n",
      "changed fixed number is : 0.046875\n",
      "binary fixed number is : 000011\n",
      "--------------------------------------------\n",
      "random number is : 0.4908722892525552\n",
      "changed fixed number is : 0.484375\n",
      "binary fixed number is : 011111\n",
      "--------------------------------------------\n",
      "random number is : 0.5019707026435921\n",
      "changed fixed number is : 0.5\n",
      "binary fixed number is : 100000\n",
      "--------------------------------------------\n",
      "random number is : 0.5662940754777158\n",
      "changed fixed number is : 0.5625\n",
      "binary fixed number is : 100100\n",
      "--------------------------------------------\n",
      "random number is : 0.876367503713022\n",
      "changed fixed number is : 0.875\n",
      "binary fixed number is : 111000\n",
      "--------------------------------------------\n",
      "random number is : 0.8356925853911732\n",
      "changed fixed number is : 0.828125\n",
      "binary fixed number is : 110101\n",
      "--------------------------------------------\n",
      "random number is : 0.48194933608696033\n",
      "changed fixed number is : 0.46875\n",
      "binary fixed number is : 011110\n",
      "--------------------------------------------\n"
     ]
    }
   ],
   "source": [
    "for i in range(10) :\n",
    "    a = random.random()\n",
    "    b = flp2fix(a,args.full_bits,args.frac_bits).fFull\n",
    "    c = flp2fix(a,args.full_bits,args.frac_bits).bFull\n",
    "    d = flp2fix(b,args.full_bits,args.frac_bits).fFull\n",
    "    print(f'random number is : {a}')\n",
    "    print(f'changed fixed number is : {b}')\n",
    "    print(f'binary fixed number is : {c[2:]}')\n",
    "    print(f'--------------------------------------------')"
   ]
  },
  {
   "cell_type": "code",
   "execution_count": null,
   "id": "bfb2e170-fae0-4d5e-9fd4-12703e1202c7",
   "metadata": {},
   "outputs": [],
   "source": []
  }
 ],
 "metadata": {
  "kernelspec": {
   "display_name": "Python 3",
   "language": "python",
   "name": "python3"
  },
  "language_info": {
   "codemirror_mode": {
    "name": "ipython",
    "version": 3
   },
   "file_extension": ".py",
   "mimetype": "text/x-python",
   "name": "python",
   "nbconvert_exporter": "python",
   "pygments_lexer": "ipython3",
   "version": "3.6.9"
  }
 },
 "nbformat": 4,
 "nbformat_minor": 5
}
