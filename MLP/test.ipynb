{
 "cells": [
  {
   "cell_type": "code",
   "execution_count": 1,
   "id": "bdcc4eb8-eb20-495f-905c-8d69ccf0004b",
   "metadata": {},
   "outputs": [],
   "source": [
    "import random, struct, math\n",
    "import torch\n",
    "import numpy as np\n",
    "import torch.nn as nn \n",
    "import argparse"
   ]
  },
  {
   "cell_type": "code",
   "execution_count": 2,
   "id": "5c99e84a-3245-4d68-ad2c-9d3c4e675aa7",
   "metadata": {},
   "outputs": [],
   "source": [
    "def int2bin(iIn,iBW):\n",
    "    iBW = iBW + 1\n",
    "    if iIn >= 0:\n",
    "        bOut = bin(iIn).replace('0b','').rjust(iBW,'0')\n",
    "    else :\n",
    "        bOut = bin(iIn & (pow(2,iBW)-1)).replace('0b','').rjust(iBW,'1')\n",
    "    return bOut[1:]"
   ]
  },
  {
   "cell_type": "code",
   "execution_count": 3,
   "id": "017c485f-9342-44bc-b1b5-2bd809a0e6d3",
   "metadata": {},
   "outputs": [],
   "source": [
    "def XOR(iA,iB):\n",
    "    if iA != iB :\n",
    "        iOut = '1'\n",
    "    else : \n",
    "        iOut = '0'\n",
    "    return iOut"
   ]
  },
  {
   "cell_type": "code",
   "execution_count": 4,
   "id": "315a5931-74d7-49ce-989e-65584b5b8162",
   "metadata": {},
   "outputs": [],
   "source": [
    "def snum(a):\n",
    "    if a > 0 :\n",
    "        return '0'\n",
    "    else :\n",
    "        return '1'"
   ]
  },
  {
   "cell_type": "code",
   "execution_count": 5,
   "id": "89a0e74c-fa99-43f9-846b-deabfce6c40a",
   "metadata": {},
   "outputs": [],
   "source": [
    "parser = argparse.ArgumentParser(description='fixed_mac')\n",
    "parser.add_argument('--full_bits', type=int, default=8, help='Number of Quantization Bits')\n",
    "parser.add_argument('--frac_bits', type=int, default=6, help='Number of Quantization Bits')\n",
    "parser.add_argument('--bBW', type=int, default=4, help='Number of bit width')\n",
    "args = parser.parse_args(args=[])"
   ]
  },
  {
   "cell_type": "code",
   "execution_count": 6,
   "id": "1d11c5ea-e139-4b7c-bdc5-d297cf82579c",
   "metadata": {},
   "outputs": [],
   "source": [
    "class\tfxp:\n",
    "\tdef\t__init__(self, bIn, iBWF):\n",
    "\t\tself.iFullBW\t= len(bIn)\n",
    "\t\tself.iIntgBW\t= self.iFullBW - iBWF\n",
    "\t\tself.bSign\t\t= bIn[0]\n",
    "\t\tself.bIntg\t\t= bIn[:self.iIntgBW]\n",
    "\t\tself.bFrac\t\t= bIn[self.iIntgBW:]\n",
    "\t\tself.fFull\t\t= 0\n",
    "\t\ttry:\n",
    "\t\t\tfor idx, bit in enumerate(bIn):\n",
    "\t\t\t\tif\tidx == 0:\n",
    "\t\t\t\t\tself.fFull = self.fFull + int(bit,2) * -pow(2, self.iIntgBW - 1)\n",
    "\t\t\t\telse:\n",
    "\t\t\t\t\tself.fFull = self.fFull + int(bit,2) * pow(2, self.iIntgBW - 1 - idx)\n",
    "\t\texcept:\n",
    "\t\t\tprint(bIn)\n",
    "\t\tself.dispFull\t= self.bIntg +\".\"+ self.bFrac \n",
    "\t\treturn"
   ]
  },
  {
   "cell_type": "code",
   "execution_count": 7,
   "id": "7c6aa085-7abf-4abe-acd9-9fa75a19a0bd",
   "metadata": {},
   "outputs": [],
   "source": [
    "class flp2fix:\n",
    "    def __init__(self, fIn, iBW, iBWF):\n",
    "        self.fMin = - 2 ** (iBW - iBWF - 1)\n",
    "        self.fMax = (2 ** (iBW-1) - 1) * (2 ** -iBWF)\n",
    "        self.fResol = 2 ** -iBWF\n",
    "        if fIn < self.fMin or fIn > self.fMax:\n",
    "            print(f'({fIn}): Out of input range ({self.fMax}/{self.fMin}) during flp -> fix converting ')\n",
    "        self.iBW = iBW\n",
    "        self.iBWI = iBW - iBWF\n",
    "        self.iBWF = iBWF\n",
    "\n",
    "        self.iFLP2INT = abs(int(fIn * 2 ** iBWF))\n",
    "        if fIn < 0:\n",
    "            self.iFLP2INT = 2 ** (iBW-1) - self.iFLP2INT\n",
    "\n",
    "        if fIn >= 0:\n",
    "            self.bFull = bin(self.iFLP2INT)[2:].rjust(iBW, '0')\n",
    "        else:\n",
    "            self.bFull = '1'+bin(self.iFLP2INT)[2:].rjust(iBW-1, '0')\n",
    "            if len(self.bFull) > iBW:\n",
    "                self.bFull = '0' * iBW\n",
    "\n",
    "        self.cssFxp = fxp(self.bFull, self.iBWF)\n",
    "        self.bSign = self.cssFxp.bSign\n",
    "        self.bIntg = self.cssFxp.bIntg\n",
    "        self.bFrac = self.cssFxp.bFrac\n",
    "        self.fFull = self.cssFxp.fFull\n",
    "        return"
   ]
  },
  {
   "cell_type": "code",
   "execution_count": 8,
   "id": "bfb2e170-fae0-4d5e-9fd4-12703e1202c7",
   "metadata": {},
   "outputs": [],
   "source": [
    "class LFSR:\n",
    "    def Random(self):\n",
    "        self.b0 = eval(f'str(random.randint(0,1))')\n",
    "        self.b1 = eval(f'str(random.randint(0,1))')\n",
    "        self.b2 = eval(f'str(random.randint(0,1))')\n",
    "        self.b3 = eval(f'str(random.randint(0,1))')\n",
    "        \n",
    "        return self.b0 + self.b1 + self.b2 + self.b3\n",
    "    \n",
    "    def Normal(self,stream):\n",
    "        self.b0 = XOR(int(stream[2]),int(stream[3]))\n",
    "        self.b1 = stream[0]\n",
    "        self.b2 = stream[1]\n",
    "        self.b3 = stream[2]\n",
    "        \n",
    "        return self.b0 + self.b1 + self.b2 + self.b3\n",
    "    \n",
    "    def Allzero(self):\n",
    "        self.b0 = '0'\n",
    "        self.b1 = '0'\n",
    "        self.b2 = '0'\n",
    "        self.b3 = '0'\n",
    "        \n",
    "        return self.b0 + self.b1 + self.b2 + self.b3"
   ]
  },
  {
   "cell_type": "code",
   "execution_count": 9,
   "id": "ab250e95-c7ce-4bcc-8953-2c0d2e36dc55",
   "metadata": {},
   "outputs": [],
   "source": [
    "def Comp(a,lfsr,snum):\n",
    "    for com in range(0,len(a)):\n",
    "        oA = '0'\n",
    "        if a[com]!=lfsr[com]:\n",
    "            if(int(a[com]) > int(lfsr[com])):\n",
    "                oA = '1'\n",
    "            break\n",
    "    return XOR(oA,snum)"
   ]
  },
  {
   "cell_type": "code",
   "execution_count": 10,
   "id": "0a43b3af-b20e-49ac-b758-268d1cc4003a",
   "metadata": {},
   "outputs": [],
   "source": [
    "def perm(a):\n",
    "    al = len(a)\n",
    "    blist = []\n",
    "    for i in range(al) :\n",
    "        #print(al-i-1)\n",
    "        blist.append(a[al-i-1])\n",
    "    \n",
    "    b = \"\".join(blist)\n",
    "    \n",
    "    return b"
   ]
  },
  {
   "cell_type": "code",
   "execution_count": 11,
   "id": "d64bb7c5-ddf2-49a8-a3ec-fcb1a2eef032",
   "metadata": {},
   "outputs": [],
   "source": [
    "def findActMaxMin():\n",
    "    SF = {}\n",
    "    for i in range(3):\n",
    "            max = torch.max(eval(f'act{i}'))\n",
    "            min = torch.min(eval(f'act{i}'))\n",
    "            exec(f\"SF['act{i}']=torch.max(abs(max),abs(min)).item()\")\n",
    "    return SF"
   ]
  },
  {
   "cell_type": "code",
   "execution_count": 12,
   "id": "2f1520fc-4985-46af-84f1-d976aa930836",
   "metadata": {},
   "outputs": [],
   "source": [
    "def findWeiMaxMin():\n",
    "    SF = {}\n",
    "    for i in range(3):\n",
    "            max = torch.max(eval(f'wei{i}'))\n",
    "            min = torch.min(eval(f'wei{i}'))\n",
    "            exec(f\"SF['wei{i}']=torch.max(abs(max),abs(min)).item()\")\n",
    "    return SF"
   ]
  },
  {
   "cell_type": "code",
   "execution_count": 13,
   "id": "ad0f0143-4da4-4ef2-9be1-776bbb399f99",
   "metadata": {},
   "outputs": [],
   "source": [
    "def LFSRlist():\n",
    "    lfsr = LFSR()\n",
    "    lfsrlist = []\n",
    "    for k in range(2**(args.bBW)-1): #lfsr number generating\n",
    "        if k == 0:\n",
    "            lfsrlist.append(lfsr.Random())\n",
    "        else :\n",
    "            lfsrlist.append(lfsr.Normal(lfsrlist[k-1]))\n",
    "        if (k == 2**(args.bBW)-2):\n",
    "            lfsrlist.append(lfsr.Allzero())\n",
    "    \n",
    "    if (args.bBW) != args.frac_bits :\n",
    "        if args.bBW < args.frac_bits :\n",
    "            for i in range(len(lfsrlist)):\n",
    "                lfsrlist[i] = lfsrlist[i] + (args.frac_bits-args.bBW)*'0'\n",
    "        else :\n",
    "            print(\"it can't work\")\n",
    "            return 0\n",
    "    \n",
    "    return lfsrlist"
   ]
  },
  {
   "cell_type": "code",
   "execution_count": 14,
   "id": "6fee2d67-5eba-4d35-b553-621ab2c30620",
   "metadata": {},
   "outputs": [],
   "source": [
    "def SNG(iIN,lfsr):\n",
    "\n",
    "    sNUM = snum(iIN)\n",
    "    \n",
    "    bIN = flp2fix(iIN,args.full_bits,args.frac_bits).bFull\n",
    "    oAlist = []\n",
    "    \n",
    "    for k in range(2**(args.bBW)): #lfsr number generating\n",
    "        lNUM = lfsr[k]\n",
    "        oAlist.append(Comp(bIN[-(args.frac_bits):],lNUM,sNUM)) #comparator of input a\n",
    "        \n",
    "    oAnum = oAlist.count('1')\n",
    "    \n",
    "    oAlist.insert(0,sNUM)\n",
    "    sA = \"\".join(oAlist)\n",
    "    return sA"
   ]
  },
  {
   "cell_type": "code",
   "execution_count": 15,
   "id": "d2e43aba-6ff3-4d24-94ca-54f5f1c55065",
   "metadata": {},
   "outputs": [],
   "source": [
    "def SNG_P(iIN,lfsr):\n",
    "    sNUM = snum(iIN)\n",
    "    \n",
    "    bIN = flp2fix(iIN,args.full_bits,args.frac_bits).bFull\n",
    "    oAlist = []\n",
    "    \n",
    "    for k in range(2**(args.bBW)): #lfsr number generating\n",
    "        lNUM = perm(lfsr[k])\n",
    "        oAlist.append(Comp(bIN[-(args.frac_bits):],lNUM,sNUM)) #comparator of input a\n",
    "        \n",
    "    oAnum = oAlist.count('1')\n",
    "    \n",
    "    oAlist.insert(0,sNUM)\n",
    "    sA = \"\".join(oAlist)\n",
    "    return sA"
   ]
  },
  {
   "cell_type": "code",
   "execution_count": 16,
   "id": "1f8320d3-8877-4616-a13b-6b53184d57e6",
   "metadata": {},
   "outputs": [],
   "source": [
    "def SNGnumpy(fIn,lfsr):\n",
    "    sList = []\n",
    "    for aNumpy in fIn.view(-1):\n",
    "        sList.append(SNG(float(aNumpy),lfsr))\n",
    "                     \n",
    "    return np.array(sList).reshape(fIn.size())"
   ]
  },
  {
   "cell_type": "code",
   "execution_count": 17,
   "id": "23fe4aad-cdce-490e-bd7c-4fca61c88840",
   "metadata": {},
   "outputs": [],
   "source": [
    "def SNGpnumpy(fIn,lfsr):\n",
    "    sList = []\n",
    "    for aNumpy in fIn.view(-1):\n",
    "        sList.append(SNG_P(float(aNumpy),lfsr))\n",
    "                     \n",
    "    return  np.array(sList).reshape(fIn.size())"
   ]
  },
  {
   "cell_type": "code",
   "execution_count": 117,
   "id": "a7e5f761-6341-459d-9780-46779c06c307",
   "metadata": {},
   "outputs": [],
   "source": [
    "def CountOne(nIn):\n",
    "    nlist = []\n",
    "    for num in nIn.reshape(-1):\n",
    "        n = 0\n",
    "        for a in num:\n",
    "            if a == '1' :\n",
    "                n += 1\n",
    "        if a[0] == '1' :\n",
    "            nlist.append(n-1)\n",
    "        else :\n",
    "            nlist.append(n)\n",
    "    return torch.tensor(nlist).view(nIn.shape)"
   ]
  },
  {
   "cell_type": "code",
   "execution_count": 118,
   "id": "1345e0b6-16f7-44aa-ba9b-ecef8d387147",
   "metadata": {},
   "outputs": [],
   "source": [
    "def defSign(nIn):\n",
    "    nlist = []\n",
    "    for num in nIn.reshape(-1):\n",
    "        if num[0] == '1' :\n",
    "            nlist.append(-1)\n",
    "        else :\n",
    "            nlist.append(1)\n",
    "    return torch.tensor(nlist).view(nIn.shape)"
   ]
  },
  {
   "cell_type": "code",
   "execution_count": 119,
   "id": "71b2c437-bbb2-412d-a8d2-5649887cea9d",
   "metadata": {},
   "outputs": [],
   "source": [
    "act0 = torch.rand((9,9))-torch.randint(4,(9,9))+torch.randint(4,(9,9))\n",
    "act1 = torch.rand((9,9))-torch.randint(4,(9,9))+torch.randint(4,(9,9))\n",
    "act2 = torch.rand((9,9))-torch.randint(4,(9,9))+torch.randint(4,(9,9))\n",
    "\n",
    "wei0 = torch.rand((9,9))-torch.randint(4,(9,9))+torch.randint(4,(9,9))\n",
    "wei1 = torch.rand((9,9))-torch.randint(4,(9,9))+torch.randint(4,(9,9))\n",
    "wei2 = torch.rand((9,9))-torch.randint(4,(9,9))+torch.randint(4,(9,9))"
   ]
  },
  {
   "cell_type": "code",
   "execution_count": 120,
   "id": "7ff8d726-1fc5-4a93-ab86-80a82b38650f",
   "metadata": {},
   "outputs": [],
   "source": [
    "def N2S(act0,act1,act2,wei0,wei1,wei2):\n",
    "    aSF = findActMaxMin()\n",
    "    wSF = findWeiMaxMin()\n",
    "    \n",
    "    lfsrlist0 = LFSRlist()\n",
    "    lfsrlist1 = LFSRlist()\n",
    "    lfsrlist2 = LFSRlist()\n",
    "    \n",
    "    a0 = SNGnumpy(act0/aSF['act0'],lfsrlist0)\n",
    "    a1 = SNGnumpy(act1/aSF['act1'],lfsrlist1)\n",
    "    a2 = SNGnumpy(act2/aSF['act2'],lfsrlist2)\n",
    "    \n",
    "    w0 = SNGpnumpy(wei0/wSF['wei0'],lfsrlist0)\n",
    "    w1 = SNGpnumpy(wei1/wSF['wei1'],lfsrlist1)\n",
    "    w2 = SNGpnumpy(wei2/wSF['wei2'],lfsrlist2)\n",
    "    \n",
    "    return a0,a1,a2,w0,w1,w2"
   ]
  },
  {
   "cell_type": "code",
   "execution_count": 121,
   "id": "581959f3-2da0-4a19-a574-3fa36f02a903",
   "metadata": {},
   "outputs": [],
   "source": [
    "def S2N(a0,a1,a2,w0,w1,w2):\n",
    "    aSF = findActMaxMin()\n",
    "    wSF = findWeiMaxMin()\n",
    "    \n",
    "    sa0 = defSign(a0)\n",
    "    sa1 = defSign(a1)\n",
    "    sa2 = defSign(a2)\n",
    "    sw0 = defSign(w0)\n",
    "    sw1 = defSign(w1)\n",
    "    sw2 = defSign(w2)\n",
    "    \n",
    "\n",
    "    ca0 = CountOne(a0)/(2**args.bBW) * aSF['act0'] *sa0\n",
    "    ca1 = CountOne(a1)/(2**args.bBW) * aSF['act1'] *sa1\n",
    "    ca2 = CountOne(a2)/(2**args.bBW) * aSF['act2'] *sa2\n",
    "    cw0 = CountOne(w0)/(2**args.bBW) * wSF['wei0'] *sw0\n",
    "    cw1 = CountOne(w1)/(2**args.bBW) * wSF['wei1'] *sw1\n",
    "    cw2 = CountOne(w2)/(2**args.bBW) * wSF['wei2'] *sw2\n",
    "\n",
    "    return ca0,ca1,ca2,cw0,cw1,cw2"
   ]
  },
  {
   "cell_type": "code",
   "execution_count": 122,
   "id": "2756ce7a-fffd-4488-9822-0b3c908a999a",
   "metadata": {},
   "outputs": [],
   "source": [
    "a0, a1, a2, w0, w1, w2 = N2S(act0,act1,act2,wei0,wei1,wei2)"
   ]
  },
  {
   "cell_type": "code",
   "execution_count": 123,
   "id": "a1cdf742-ff38-4934-8cb3-6d54ff129912",
   "metadata": {},
   "outputs": [],
   "source": [
    "ca0, ca1, ca2, cw0, cw1, cw2 = S2N(a0,a1,a2,w0,w1,w2)"
   ]
  },
  {
   "cell_type": "code",
   "execution_count": 124,
   "id": "8dc4291b-afa2-417f-ba1f-ce250d8695f8",
   "metadata": {},
   "outputs": [
    {
     "name": "stdout",
     "output_type": "stream",
     "text": [
      "[['01000010000011011' '10110101111000000' '01101010000111111'\n",
      "  '10110101111000000' '10010100111000000' '10010000111000000'\n",
      "  '01101010000111111' '01000000000011011' '10110101111000000']\n",
      " ['10010101111000000' '00000000000000000' '01000000000011001'\n",
      "  '10111111111100100' '10010100111000000' '10010000111000000'\n",
      "  '01101010000111111' '10010000111000000' '01101010000111111']\n",
      " ['01000000000001001' '01111111100111111' '00000000000001001'\n",
      "  '01111111000111111' '10111111111100100' '10000000001000000'\n",
      "  '01000000000011001' '00000000000001001' '01001010000111011']\n",
      " ['10111101111100100' '10010101111000000' '01001010000111011'\n",
      "  '01000000000011011' '01001010000111111' '01000000000001001'\n",
      "  '01000000000001001' '01001010000111111' '00000000000000000']\n",
      " ['10110101111100100' '10110101111000000' '01000010000011011'\n",
      "  '10110101111000100' '10000000111000000' '10000000111000000'\n",
      "  '10110101111000100' '10000000001000000' '10111111111100100']\n",
      " ['01111111111111111' '01111111110111111' '00000000000000001'\n",
      "  '01001010000111111' '10000000000000000' '01101011000111111'\n",
      "  '00000000000000001' '01001010000111011' '01000000000011001']\n",
      " ['10000000011000000' '01101111000111111' '01000000000011001'\n",
      "  '01001010000111111' '01000000000011001' '10000000111000000'\n",
      "  '01000000000001001' '01001010000111111' '10000000111000000']\n",
      " ['10110101111000100' '01000000000011001' '01111111110111111'\n",
      "  '10000000011000000' '01000000000011001' '10000000011000000'\n",
      "  '10000000011000000' '01001010000011011' '01000000000011011']\n",
      " ['10000000111000000' '10000000001000000' '00000000000000001'\n",
      "  '00000000000001001' '01101111000111111' '01000000000011001'\n",
      "  '00000000000000000' '10010101111000000' '01001010000111011']]\n"
     ]
    }
   ],
   "source": [
    "print(a0)"
   ]
  },
  {
   "cell_type": "code",
   "execution_count": 125,
   "id": "b0f1b5d8-a26c-46e7-bda0-2f06ba3958c5",
   "metadata": {},
   "outputs": [
    {
     "name": "stdout",
     "output_type": "stream",
     "text": [
      "tensor([[ 1.3203, -1.8813,  2.2693, -1.7178, -1.3540, -1.0659,  2.3939,  1.2291,\n",
      "         -1.7365],\n",
      "        [-1.4850,  3.7657,  0.7815, -2.6903, -1.2147, -1.0142,  2.2421, -0.9429,\n",
      "          2.3232],\n",
      "        [ 0.7570,  3.3001,  0.5164,  2.9171, -2.7603, -0.3146,  0.9761,  0.3926,\n",
      "          1.9125],\n",
      "        [-2.5010, -1.6019,  1.8423,  1.0435,  1.9623,  0.7016,  0.5911,  1.9841,\n",
      "          0.0142],\n",
      "        [-2.1889, -1.7319,  1.4073, -1.9775, -0.9190, -0.7879, -1.9521, -0.4280,\n",
      "         -2.7960],\n",
      "        [ 3.6417,  3.5225,  0.2619,  2.1692, -0.0894,  2.4622,  0.0818,  1.8878,\n",
      "          0.8327],\n",
      "        [-0.6412,  2.8229,  0.8840,  1.9618,  0.8510, -0.8657,  0.6282,  2.1382,\n",
      "         -0.7442],\n",
      "        [-1.9318,  0.7751,  3.4735, -0.5305,  0.8575, -0.5334, -0.4971,  1.6270,\n",
      "          1.1518],\n",
      "        [-0.8343, -0.4570,  0.0687,  0.5031,  2.7980,  0.7810,  0.0387, -1.6112,\n",
      "          1.8086]])\n",
      "tensor([[ 1.1768, -1.8829,  2.1182, -1.8829, -1.4122, -1.1768,  2.1182,  0.9414,\n",
      "         -1.8829],\n",
      "        [-1.6475,  0.0000,  0.7061, -2.8243, -1.4122, -1.1768,  2.1182, -1.1768,\n",
      "          2.1182],\n",
      "        [ 0.4707,  3.0597,  0.2354,  2.8243, -2.8243, -0.4707,  0.7061,  0.2354,\n",
      "          1.6475],\n",
      "        [-2.5889, -1.6475,  1.6475,  0.9414,  1.8829,  0.4707,  0.4707,  1.8829,\n",
      "          0.0000],\n",
      "        [-2.3536, -1.8829,  1.1768, -2.1182, -0.9414, -0.9414, -2.1182, -0.4707,\n",
      "         -2.8243],\n",
      "        [ 3.5304,  3.2950,  0.0000,  1.8829, -0.2354,  2.3536,  0.0000,  1.6475,\n",
      "          0.7061],\n",
      "        [-0.7061,  2.5889,  0.7061,  1.8829,  0.7061, -0.9414,  0.4707,  1.8829,\n",
      "         -0.9414],\n",
      "        [-2.1182,  0.7061,  3.2950, -0.7061,  0.7061, -0.7061, -0.7061,  1.4122,\n",
      "          0.9414],\n",
      "        [-0.9414, -0.4707,  0.0000,  0.2354,  2.5889,  0.7061,  0.0000, -1.6475,\n",
      "          1.6475]])\n"
     ]
    }
   ],
   "source": [
    "print(act0)\n",
    "print(ca0)"
   ]
  },
  {
   "cell_type": "code",
   "execution_count": null,
   "id": "592168b4-76f2-4485-bc57-56c9acd0c9b7",
   "metadata": {},
   "outputs": [],
   "source": []
  },
  {
   "cell_type": "code",
   "execution_count": null,
   "id": "6a4ca5fc-9b16-42de-bc82-dbc9f8b6248b",
   "metadata": {},
   "outputs": [],
   "source": []
  }
 ],
 "metadata": {
  "kernelspec": {
   "display_name": "Python 3",
   "language": "python",
   "name": "python3"
  },
  "language_info": {
   "codemirror_mode": {
    "name": "ipython",
    "version": 3
   },
   "file_extension": ".py",
   "mimetype": "text/x-python",
   "name": "python",
   "nbconvert_exporter": "python",
   "pygments_lexer": "ipython3",
   "version": "3.6.9"
  }
 },
 "nbformat": 4,
 "nbformat_minor": 5
}
