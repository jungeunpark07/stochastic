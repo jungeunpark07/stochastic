{
 "cells": [
  {
   "cell_type": "markdown",
   "id": "afacf477-15ca-4272-9ef4-50fe8b25c049",
   "metadata": {},
   "source": [
    "# Multiplier TEST code"
   ]
  },
  {
   "cell_type": "markdown",
   "id": "960913e5-e961-4db4-9099-842bbcc11d64",
   "metadata": {},
   "source": [
    "fixed number to stochastic conversion & multiply & stochastic to fixed number conversion"
   ]
  },
  {
   "cell_type": "markdown",
   "id": "7f984cce-e977-4513-b0a6-166d637b3ee2",
   "metadata": {},
   "source": [
    "## Import"
   ]
  },
  {
   "cell_type": "code",
   "execution_count": 1,
   "id": "bdcc4eb8-eb20-495f-905c-8d69ccf0004b",
   "metadata": {},
   "outputs": [],
   "source": [
    "import random, struct, math\n",
    "import torch\n",
    "import numpy as np\n",
    "import torch.nn as nn \n",
    "import argparse\n",
    "import warnings\n",
    "warnings.simplefilter(action='ignore', category=FutureWarning)"
   ]
  },
  {
   "cell_type": "markdown",
   "id": "bf874b06-00d8-467a-a39a-f83b2848a131",
   "metadata": {},
   "source": [
    "## Parser"
   ]
  },
  {
   "cell_type": "code",
   "execution_count": 2,
   "id": "60f1fa45-99e9-4316-97bd-110193848caf",
   "metadata": {},
   "outputs": [],
   "source": [
    "parser = argparse.ArgumentParser(description='fixed_mac')\n",
    "parser.add_argument('--full_bits', type=int, default=16, help='Number of Quantization Bits')\n",
    "parser.add_argument('--frac_bits', type=int, default=8, help='Number of Quantization Bits')\n",
    "parser.add_argument('--bBW', type=int, default=7, help='Number of bit width')\n",
    "args = parser.parse_args(args=[])"
   ]
  },
  {
   "cell_type": "markdown",
   "id": "1f797a9d-6b00-4116-877f-0a71225be9b4",
   "metadata": {},
   "source": [
    "## Definition"
   ]
  },
  {
   "cell_type": "markdown",
   "id": "f8529249-9e0f-4d60-8c40-b9b3c52975ca",
   "metadata": {},
   "source": [
    "### int2bin : int number to binary number"
   ]
  },
  {
   "cell_type": "code",
   "execution_count": 3,
   "id": "5c99e84a-3245-4d68-ad2c-9d3c4e675aa7",
   "metadata": {},
   "outputs": [],
   "source": [
    "def int2bin(iIn,iBW):\n",
    "    iBW = iBW + 1\n",
    "    if iIn >= 0:\n",
    "        bOut = bin(iIn).replace('0b','').rjust(iBW,'0')\n",
    "    else :\n",
    "        bOut = bin(iIn & (pow(2,iBW)-1)).replace('0b','').rjust(iBW,'1')\n",
    "    return bOut[1:]"
   ]
  },
  {
   "cell_type": "markdown",
   "id": "95c7b4eb-1d2d-4010-be45-3a105fa58baa",
   "metadata": {},
   "source": [
    "### XOR : xor gate with string"
   ]
  },
  {
   "cell_type": "code",
   "execution_count": 4,
   "id": "017c485f-9342-44bc-b1b5-2bd809a0e6d3",
   "metadata": {},
   "outputs": [],
   "source": [
    "def XOR(iA,iB):\n",
    "    if iA != iB :\n",
    "        iOut = '1'\n",
    "    else : \n",
    "        iOut = '0'\n",
    "    return iOut"
   ]
  },
  {
   "cell_type": "markdown",
   "id": "f33ef61a-6fe2-47bf-82d8-ef6f749abd9b",
   "metadata": {},
   "source": [
    "### SNUM : sign number determination"
   ]
  },
  {
   "cell_type": "code",
   "execution_count": 5,
   "id": "315a5931-74d7-49ce-989e-65584b5b8162",
   "metadata": {},
   "outputs": [],
   "source": [
    "def snum(a):\n",
    "    if a >= 0 :\n",
    "        return '0'\n",
    "    else :\n",
    "        return '1'"
   ]
  },
  {
   "cell_type": "markdown",
   "id": "ef6d8847-cdda-4a03-b241-11832b4db1e1",
   "metadata": {},
   "source": [
    "## binInv : binary Inversion"
   ]
  },
  {
   "cell_type": "code",
   "execution_count": 6,
   "id": "875a2ff8-c704-4be4-b95a-c6de4fad1806",
   "metadata": {},
   "outputs": [],
   "source": [
    "def binInv(bIn):\n",
    "    bOut = bin(int(bIn,2)^(pow(2,len(bIn))-1)).replace('0b','').rjust(len(bIn),'0')\n",
    "    return bOut"
   ]
  },
  {
   "cell_type": "markdown",
   "id": "58fa9a22-a10e-40e4-b057-67055a68e33e",
   "metadata": {},
   "source": [
    "### fxp & flp2fix : floating number to fixed number conversion"
   ]
  },
  {
   "cell_type": "code",
   "execution_count": 7,
   "id": "1d11c5ea-e139-4b7c-bdc5-d297cf82579c",
   "metadata": {},
   "outputs": [],
   "source": [
    "class fxp:\n",
    "    def __init__(self, bIn, iBWF):\n",
    "        self.iFullBW = len(bIn)\n",
    "        self.iIntgBW = self.iFullBW - iBWF\n",
    "        self.bSign = bIn[0]\n",
    "        self.bIntg = bIn[:self.iIntgBW]\n",
    "        self.bFrac = bIn[self.iIntgBW:]\n",
    "        self.fFull = 0\n",
    "        try:\n",
    "            for idx, bit in enumerate(bIn):\n",
    "                if idx == 0:\n",
    "                    self.fFull = self.fFull + int(bit,2) * -pow(2, self.iIntgBW - 1)\n",
    "                else:\n",
    "                    self.fFull = self.fFull + int(bit,2) * pow(2, self.iIntgBW - 1 - idx)\n",
    "        except:\n",
    "            print(bIn)\n",
    "        self.dispFull = self.bIntg +\".\"+ self.bFrac \n",
    "        return"
   ]
  },
  {
   "cell_type": "code",
   "execution_count": 8,
   "id": "7c6aa085-7abf-4abe-acd9-9fa75a19a0bd",
   "metadata": {},
   "outputs": [],
   "source": [
    "class flp2fix:\n",
    "    def __init__(self, fIn, iBW, iBWF):\n",
    "        self.fMin = - 2 ** (iBW - iBWF - 1)\n",
    "        self.fMax = (2 ** (iBW-1) - 1) * (2 ** -iBWF)\n",
    "        self.fResol = 2 ** -iBWF\n",
    "        if fIn < self.fMin or fIn > self.fMax:\n",
    "            print(f'({fIn}): Out of input range ({self.fMax}/{self.fMin}) during flp -> fix converting ')\n",
    "        self.iBW = iBW\n",
    "        self.iBWI = iBW - iBWF\n",
    "        self.iBWF = iBWF\n",
    "\n",
    "        self.iFLP2INT = abs(int(fIn * 2 ** iBWF))\n",
    "        if fIn < 0:\n",
    "            self.iFLP2INT = 2 ** (iBW-1) - self.iFLP2INT\n",
    "\n",
    "        if fIn >= 0:\n",
    "            self.bFull = bin(self.iFLP2INT)[2:].rjust(iBW, '0')\n",
    "        else:\n",
    "            self.bFull = '1'+bin(self.iFLP2INT)[2:].rjust(iBW-1, '0')\n",
    "            if len(self.bFull) > iBW:\n",
    "                self.bFull = '0' * iBW\n",
    "\n",
    "        self.cssFxp = fxp(self.bFull, self.iBWF)\n",
    "        self.bSign = self.cssFxp.bSign\n",
    "        self.bIntg = self.cssFxp.bIntg\n",
    "        self.bFrac = self.cssFxp.bFrac\n",
    "        self.fFull = self.cssFxp.fFull\n",
    "        return"
   ]
  },
  {
   "cell_type": "code",
   "execution_count": 9,
   "id": "e650843c-9a72-48ef-8e1f-c969a1d1a888",
   "metadata": {},
   "outputs": [],
   "source": [
    "def flp2fixTensor(fIn, iBW, iBWF):\n",
    "    fMin = - 2 ** (iBW - iBWF - 1)\n",
    "    fMax = (2 ** (iBW-1) - 1) * (2 ** -iBWF)\n",
    "    fList = []\n",
    "    for aTensor in fIn.view(-1):\n",
    "        fList.append(flp2fix(aTensor, iBW, iBWF).fFull)\n",
    "    return torch.tensor(fList).view(fIn.size())"
   ]
  },
  {
   "cell_type": "markdown",
   "id": "1b0d04af-ae7a-4d24-a4cd-39c1d86c1580",
   "metadata": {},
   "source": [
    "### LFSR : make pseudorandom number bitstream"
   ]
  },
  {
   "cell_type": "code",
   "execution_count": 10,
   "id": "bfb2e170-fae0-4d5e-9fd4-12703e1202c7",
   "metadata": {},
   "outputs": [],
   "source": [
    "class LFSR7:\n",
    "    def Random(self):\n",
    "        self.b0 = eval(f'str(random.randint(0,1))')\n",
    "        self.b1 = eval(f'str(random.randint(0,1))')\n",
    "        self.b2 = eval(f'str(random.randint(0,1))')\n",
    "        self.b3 = eval(f'str(random.randint(0,1))')\n",
    "        self.b4 = eval(f'str(random.randint(0,1))')\n",
    "        self.b5 = eval(f'str(random.randint(0,1))')\n",
    "        self.b6 = eval(f'str(random.randint(0,1))')\n",
    "        if int(self.b0) + int(self.b1) + int(self.b2) + int(self.b3) + int(self.b4) + int(self.b5) + int(self.b6) == 0 :\n",
    "            self.b0 = eval(f'str(random.randint(0,1))')\n",
    "            self.b1 = eval(f'str(random.randint(0,1))')\n",
    "            self.b2 = eval(f'str(random.randint(0,1))')\n",
    "            self.b3 = eval(f'str(random.randint(0,1))')\n",
    "            self.b4 = eval(f'str(random.randint(0,1))')\n",
    "            self.b5 = eval(f'str(random.randint(0,1))')\n",
    "            self.b6 = eval(f'str(random.randint(0,1))')\n",
    "        return self.b0 + self.b1 + self.b2 + self.b3 + self.b4 + self.b5 + self.b6\n",
    "    \n",
    "    def Normal(self,stream):\n",
    "        self.b0 = XOR(int(stream[5]),int(stream[6]))\n",
    "        self.b1 = stream[0]\n",
    "        self.b2 = stream[1]\n",
    "        self.b3 = stream[2]\n",
    "        self.b4 = stream[3]\n",
    "        self.b5 = stream[4]\n",
    "        self.b6 = stream[5]\n",
    "        \n",
    "        return self.b0 + self.b1 + self.b2 + self.b3 + self.b4 + self.b5 + self.b6\n",
    "    \n",
    "    def Allzero(self):\n",
    "        self.b0 = '0'\n",
    "        self.b1 = '0'\n",
    "        self.b2 = '0'\n",
    "        self.b3 = '0'\n",
    "        self.b4 = '0'\n",
    "        self.b5 = '0'\n",
    "        self.b6 = '0'\n",
    "        \n",
    "        return self.b0 + self.b1 + self.b2 + self.b3 + self.b4 + self.b5 + self.b6"
   ]
  },
  {
   "cell_type": "markdown",
   "id": "5393f658-d697-44a5-a176-970ad07f72a8",
   "metadata": {},
   "source": [
    "### LFSRlist : make pseudorandom number bitstream with 2**bBW cycle"
   ]
  },
  {
   "cell_type": "code",
   "execution_count": 11,
   "id": "73dced22-c04e-41a1-a888-f2617dbccb61",
   "metadata": {},
   "outputs": [],
   "source": [
    "def LFSRlist7():\n",
    "    lfsr = LFSR7()\n",
    "    lfsrlist = []\n",
    "    for k in range(2**(args.bBW)-1): #lfsr number generating\n",
    "        if k == 0:\n",
    "            lfsrlist.append(lfsr.Random())\n",
    "        else :\n",
    "            lfsrlist.append(lfsr.Normal(lfsrlist[k-1]))\n",
    "        if (k == 2**(args.bBW)-2):\n",
    "            lfsrlist.append(lfsr.Allzero())\n",
    "    \n",
    "    if (args.bBW) != args.frac_bits :\n",
    "        if args.bBW < args.frac_bits :\n",
    "            for i in range(len(lfsrlist)):\n",
    "                lfsrlist[i] = lfsrlist[i] + (args.frac_bits-args.bBW)*'0'\n",
    "        else :\n",
    "            print(\"it can't work\")\n",
    "            return 0\n",
    "    \n",
    "    return lfsrlist"
   ]
  },
  {
   "cell_type": "markdown",
   "id": "072408b7-569c-42d5-8c7b-04066a4a1638",
   "metadata": {},
   "source": [
    "### Comp : Comparator in SNG"
   ]
  },
  {
   "cell_type": "code",
   "execution_count": 12,
   "id": "ab250e95-c7ce-4bcc-8953-2c0d2e36dc55",
   "metadata": {},
   "outputs": [],
   "source": [
    "def Comp(a,lfsr,snum):\n",
    "    for com in range(0,len(a)):\n",
    "        oA = '0'\n",
    "        if a[com]!=lfsr[com]:\n",
    "            if(int(a[com]) > int(lfsr[com])):\n",
    "                oA = '1'\n",
    "            break\n",
    "    return XOR(oA,snum)"
   ]
  },
  {
   "cell_type": "markdown",
   "id": "5d9bd200-f244-4ea9-af57-b32365f4f14b",
   "metadata": {},
   "source": [
    "### Perm : module for permutation SNG "
   ]
  },
  {
   "cell_type": "code",
   "execution_count": 13,
   "id": "0a43b3af-b20e-49ac-b758-268d1cc4003a",
   "metadata": {},
   "outputs": [],
   "source": [
    "def perm(a):\n",
    "    al = len(a)\n",
    "    blist = []\n",
    "    if args.frac_bits == args.bBW : \n",
    "        for i in range(al) :\n",
    "            blist.append(a[al-i-1])\n",
    "    elif args.frac_bits > args.bBW :\n",
    "        for i in range(al-(args.frac_bits-args.bBW)) :\n",
    "            blist.append((a[al-(args.frac_bits-args.bBW)-i-1]))\n",
    "    b = \"\".join(blist)\n",
    "    b = b + ('0'*(args.frac_bits-args.bBW))\n",
    "    return b"
   ]
  },
  {
   "cell_type": "markdown",
   "id": "39526659-6ac2-4dcd-a1ed-d72083ab2bd2",
   "metadata": {},
   "source": [
    "### findMaxMin : find abs max value in act tensor"
   ]
  },
  {
   "cell_type": "code",
   "execution_count": 14,
   "id": "d64bb7c5-ddf2-49a8-a3ec-fcb1a2eef032",
   "metadata": {},
   "outputs": [],
   "source": [
    "def findMaxMin(data):\n",
    "    max = torch.max(data)\n",
    "    min = torch.min(data)\n",
    "    SF=torch.max(abs(max),abs(min)).item()\n",
    "    return SF"
   ]
  },
  {
   "cell_type": "markdown",
   "id": "9ab4ab89-9ed0-4ce1-ab63-af32bb54ed3d",
   "metadata": {},
   "source": [
    "### SNG : stochastic number generator module"
   ]
  },
  {
   "cell_type": "code",
   "execution_count": 15,
   "id": "6fee2d67-5eba-4d35-b553-621ab2c30620",
   "metadata": {},
   "outputs": [],
   "source": [
    "def SNG(iIN,lfsr):\n",
    "\n",
    "    sNUM = snum(iIN)\n",
    "    \n",
    "    bIN = flp2fix(iIN,args.full_bits,args.frac_bits).bFull\n",
    "    bFRAC = bIN[-(args.frac_bits):]\n",
    "    if sNUM == 1 :\n",
    "        bFRAC = bin(int(binInv(bFRAC),2)+1).replace('0b','').rjust(args.bBW,'0')\n",
    "    oAlist = []\n",
    "    \n",
    "    for k in range(2**(args.bBW)): #lfsr number generating\n",
    "        lNUM = lfsr[k]\n",
    "        a = Comp(bFRAC,lNUM,sNUM)\n",
    "        oAlist.append(a) #comparator of input a\n",
    "    \n",
    "    oAlist.insert(0,sNUM)\n",
    "    sA = \"\".join(oAlist)\n",
    "    if bIN == args.full_bits*'0' :\n",
    "        return '0'*(2**(args.bBW)+1)\n",
    "    else :\n",
    "        return sA"
   ]
  },
  {
   "cell_type": "markdown",
   "id": "a1a5bae5-06a9-4dcd-a2f9-9a143cfd372e",
   "metadata": {},
   "source": [
    "### SNG_P : permutation stochastic number generator module"
   ]
  },
  {
   "cell_type": "code",
   "execution_count": 16,
   "id": "d2e43aba-6ff3-4d24-94ca-54f5f1c55065",
   "metadata": {
    "tags": []
   },
   "outputs": [],
   "source": [
    "def SNG_P(iIN,lfsr):\n",
    "    sNUM = snum(iIN)\n",
    "    \n",
    "    bIN = flp2fix(iIN,args.full_bits,args.frac_bits).bFull\n",
    "    bFRAC = bIN[-(args.frac_bits):]\n",
    "    if sNUM == 1 :\n",
    "        bFRAC = bin(int(binInv(bFRAC),2)+1).replace('0b','').rjust(args.bBW,'0')\n",
    "    oAlist = []\n",
    "    \n",
    "    for k in range(2**(args.bBW)): #lfsr number generating    \n",
    "        lNUM = perm(lfsr[k])\n",
    "        a = Comp(bFRAC,lNUM,sNUM)\n",
    "        oAlist.append(a) #comparator of input a\n",
    "    \n",
    "    oAlist.insert(0,sNUM)\n",
    "    sA = \"\".join(oAlist)\n",
    "    \n",
    "    if bIN == args.full_bits*'0' :\n",
    "        return '0'*(2**(args.bBW)+1)\n",
    "    else :\n",
    "        return sA"
   ]
  },
  {
   "cell_type": "markdown",
   "id": "74e9e15a-bd56-4d74-a36a-2df8aa9e1e6d",
   "metadata": {},
   "source": [
    "### SNGnumpy : SNG module with numpy"
   ]
  },
  {
   "cell_type": "code",
   "execution_count": 17,
   "id": "1f8320d3-8877-4616-a13b-6b53184d57e6",
   "metadata": {},
   "outputs": [],
   "source": [
    "def SNGnumpy(fIn,lfsr):\n",
    "    sList = []\n",
    "    for aNumpy in fIn.view(-1):\n",
    "        sList.append(SNG(float(aNumpy),lfsr))\n",
    "                     \n",
    "    return np.array(sList).reshape(fIn.size())"
   ]
  },
  {
   "cell_type": "markdown",
   "id": "4166a6fc-665f-45f0-949b-627c200980a2",
   "metadata": {},
   "source": [
    "### SNGpnumpy : permutation SNG module with numpy"
   ]
  },
  {
   "cell_type": "code",
   "execution_count": 18,
   "id": "23fe4aad-cdce-490e-bd7c-4fca61c88840",
   "metadata": {},
   "outputs": [],
   "source": [
    "def SNGpnumpy(fIn,lfsr):\n",
    "    sList = []\n",
    "    for aNumpy in fIn.view(-1):\n",
    "        sList.append(SNG_P(float(aNumpy),lfsr))\n",
    "                     \n",
    "    return  np.array(sList).reshape(fIn.size())"
   ]
  },
  {
   "cell_type": "markdown",
   "id": "b902bdca-2acc-46a0-89d9-4547652c045f",
   "metadata": {},
   "source": [
    "### CountOne : count 1 in stochastic number bit stream"
   ]
  },
  {
   "cell_type": "code",
   "execution_count": 19,
   "id": "a7e5f761-6341-459d-9780-46779c06c307",
   "metadata": {},
   "outputs": [],
   "source": [
    "def CountOne(nIn):\n",
    "    nlist = []\n",
    "    for num in nIn.reshape(-1):\n",
    "        n = 0\n",
    "        for a in num:\n",
    "            if a == '1' :\n",
    "                n += 1\n",
    "        if num[0] == '1' :\n",
    "            nlist.append(n-1)\n",
    "        else :\n",
    "            nlist.append(n)\n",
    "    return torch.tensor(nlist).view(nIn.shape)"
   ]
  },
  {
   "cell_type": "markdown",
   "id": "8ff8cd5f-14f1-403c-9595-53c3df503d42",
   "metadata": {},
   "source": [
    "### defSign : sign determination in S2N "
   ]
  },
  {
   "cell_type": "code",
   "execution_count": 20,
   "id": "0d2851f4-d19b-4d7d-800c-6cfd0c7a3d80",
   "metadata": {},
   "outputs": [],
   "source": [
    "def defSign(nIn):\n",
    "    nlist = []\n",
    "    for num in nIn.reshape(-1):\n",
    "        if num[0] == '1' :\n",
    "            nlist.append(-1)\n",
    "        else :\n",
    "            nlist.append(1)\n",
    "    return torch.tensor(nlist).view(nIn.shape)"
   ]
  },
  {
   "cell_type": "markdown",
   "id": "98e7c6eb-fa2b-4a3a-a5b6-53e62d8f5971",
   "metadata": {},
   "source": [
    "### Multiplier"
   ]
  },
  {
   "cell_type": "code",
   "execution_count": 21,
   "id": "3ef42b58-b198-4087-b476-4fddff483bcc",
   "metadata": {},
   "outputs": [],
   "source": [
    "def mul(a,b):\n",
    "    al = len(a)\n",
    "    bl = len(b)\n",
    "    \n",
    "    outlist = []\n",
    "    \n",
    "    if al != bl :\n",
    "        print(\"length of string is different\")\n",
    "        return 0\n",
    "    \n",
    "    outlist.append(XOR(a[0],b[0]))\n",
    "    \n",
    "    for i in range(al-1) :\n",
    "        outlist.append(str(int(a[i+1]) & int(b[i+1])))\n",
    "    \n",
    "    #print(outlist)\n",
    "    out = \"\".join(outlist)\n",
    "    \n",
    "    return out    "
   ]
  },
  {
   "cell_type": "code",
   "execution_count": 22,
   "id": "de3c2e46-3b8b-4d65-af25-b81e40a394e0",
   "metadata": {},
   "outputs": [],
   "source": [
    "def defSign1(nIn):\n",
    "    if nIn[0] == '1' :\n",
    "        return -1\n",
    "    else :\n",
    "        return 1"
   ]
  },
  {
   "cell_type": "code",
   "execution_count": 23,
   "id": "2e3ba222-e443-42c8-ae2d-cdd4d95e9cf4",
   "metadata": {},
   "outputs": [],
   "source": [
    "def CountOne1(nIn):\n",
    "    n = 0\n",
    "    for num in nIn:\n",
    "        if num == '1' :\n",
    "            n += 1\n",
    "    if nIn[0] == '1' :\n",
    "        return n-1\n",
    "    else :\n",
    "        return n"
   ]
  },
  {
   "cell_type": "code",
   "execution_count": 24,
   "id": "a9da0d82-0eea-4877-833f-397fee9f1132",
   "metadata": {},
   "outputs": [],
   "source": [
    "def S2None(sIn,SF):\n",
    "    s = defSign1(sIn)\n",
    "    o = (CountOne1(sIn)/(2**args.bBW))*SF*s\n",
    "    return o"
   ]
  },
  {
   "cell_type": "code",
   "execution_count": 25,
   "id": "257bae8b-5c30-493e-8067-75aca103f0e2",
   "metadata": {},
   "outputs": [],
   "source": [
    "def mulNumpy(aIn,bIn,aSF,wSF):\n",
    "    mList = []\n",
    "    for i in range(aIn.shape[0]):\n",
    "        for j in range(bIn.T.shape[1]):\n",
    "            sum = 0\n",
    "            for k in range(aIn.shape[1]):\n",
    "                sum += S2None(mul((aIn[i][k].astype(str)),(bIn.T)[k][j].astype(str)),aSF*wSF)\n",
    "            mList.append(sum)\n",
    "    return torch.tensor(mList).view(aIn.shape[0],bIn.T.shape[1])"
   ]
  },
  {
   "cell_type": "code",
   "execution_count": 26,
   "id": "550a666f-53be-41d2-b037-7a2dca7b2c6d",
   "metadata": {},
   "outputs": [],
   "source": [
    "def FindError(a,b):\n",
    "    elist = []\n",
    "    for anum,bnum in zip(a.view(-1),b.view(-1)):\n",
    "        e = (abs(bnum-anum)*100).item()\n",
    "        elist.append(e)\n",
    "    return torch.tensor(elist).reshape(a.size())"
   ]
  },
  {
   "cell_type": "markdown",
   "id": "3855e3d3-fbc7-4834-8ebc-374bf09ae0b5",
   "metadata": {},
   "source": [
    "# FC layer"
   ]
  },
  {
   "cell_type": "code",
   "execution_count": 27,
   "id": "208c4782-d6ba-4095-b7c8-c4390df7f47e",
   "metadata": {},
   "outputs": [],
   "source": [
    "def fc(aIn,bIn):\n",
    "    out = torch.matmul(aIn,bIn.t())\n",
    "    return out"
   ]
  },
  {
   "cell_type": "markdown",
   "id": "54840cc1-7914-4881-8c0e-0a034a285063",
   "metadata": {
    "tags": []
   },
   "source": [
    "# TEST : LFSR 7 bit"
   ]
  },
  {
   "cell_type": "code",
   "execution_count": 28,
   "id": "71b2c437-bbb2-412d-a8d2-5649887cea9d",
   "metadata": {},
   "outputs": [],
   "source": [
    "act = torch.rand((10,15))-torch.randint(5,(10,15))+torch.randint(5,(10,15))\n",
    "wei = torch.rand((10,15))-torch.randint(5,(10,15))+torch.randint(5,(10,15))"
   ]
  },
  {
   "cell_type": "code",
   "execution_count": 29,
   "id": "c77f2401-a5d1-41a2-bf4b-cdc318f8650b",
   "metadata": {},
   "outputs": [
    {
     "name": "stdout",
     "output_type": "stream",
     "text": [
      "tensor([[-0.8614, -0.8044, -0.7357,  2.0421, -2.6428, -0.6090, -0.1689,  1.5182,\n",
      "         -1.7298, -1.7538,  1.4324,  1.6648, -0.7678,  0.7071, -2.2304],\n",
      "        [ 0.1408,  2.7688, -2.7196,  0.4878, -2.6609,  2.2840, -0.4772,  0.4100,\n",
      "         -1.2546,  0.2822, -0.9885,  0.5556,  2.2889,  0.0431, -3.4947],\n",
      "        [ 1.5013, -1.1554, -2.3211, -2.8488, -3.2711,  0.8157,  2.8162, -1.6564,\n",
      "          3.0228,  2.3369, -1.5484,  1.1102, -1.4387,  3.9506, -1.9146],\n",
      "        [-0.5203, -1.8882, -3.8050,  3.9029,  0.6186, -1.6763, -2.1122, -0.5420,\n",
      "         -0.6595,  0.7192, -2.9799, -0.1874, -2.3820, -0.3934, -2.2853],\n",
      "        [ 0.0513,  2.6443,  0.8183, -1.4914,  1.7596,  2.5000, -2.4687,  4.8590,\n",
      "          4.6708,  3.4636,  1.8609, -1.4690, -3.3426, -0.7574, -2.3322],\n",
      "        [ 3.5905,  0.1536, -0.1188,  4.4931, -0.5745,  0.5719, -3.9102, -1.4951,\n",
      "          0.8339,  2.1615, -0.6006,  2.7981,  1.6680, -2.2760, -0.0270],\n",
      "        [-0.9548,  1.4735, -3.4389, -0.5400,  0.1944,  3.9823, -0.3866,  3.6124,\n",
      "          0.5957, -2.3030,  2.9091, -0.1572, -1.0913,  0.4578, -0.6602],\n",
      "        [ 4.0109, -0.6705, -1.7810, -0.7560,  2.4974, -3.7977,  3.8305,  0.4043,\n",
      "          0.3171,  0.3313, -1.0794, -0.5747,  0.5813,  2.1782, -1.1600],\n",
      "        [ 1.5277,  3.1230,  4.3849,  0.9826,  0.7817,  0.6960,  1.2352,  2.8323,\n",
      "         -2.2311, -0.7265,  0.2434,  0.8079,  3.0693, -0.2101,  1.0212],\n",
      "        [ 1.9037,  1.0793, -1.4515,  3.0480, -3.0394,  0.2950, -0.3999,  1.1209,\n",
      "          2.3233,  2.6019, -1.4111,  0.4089, -1.3028, -1.4447,  3.5014]])\n"
     ]
    }
   ],
   "source": [
    "print(act)"
   ]
  },
  {
   "cell_type": "code",
   "execution_count": 30,
   "id": "693ab24a-bf11-4014-9913-0986b4c69089",
   "metadata": {},
   "outputs": [
    {
     "name": "stdout",
     "output_type": "stream",
     "text": [
      "tensor([[-2.5053e+00, -1.0698e+00,  1.1286e+00, -1.5828e+00,  4.1102e-01,\n",
      "         -3.5315e+00, -1.6925e+00,  2.8489e-01, -2.9325e+00,  3.3535e+00,\n",
      "          1.7221e+00,  4.0092e+00, -2.1529e+00,  1.1261e+00, -1.1460e-01],\n",
      "        [ 3.1122e+00,  2.5008e+00,  3.4723e-01,  5.1386e-01,  4.9498e-01,\n",
      "          9.5524e-02, -7.9540e-01,  9.0379e-01,  2.5149e+00, -8.7080e-01,\n",
      "          3.8315e-01,  2.7343e+00, -3.5191e-01,  1.3620e+00,  5.6243e-01],\n",
      "        [-3.9652e+00,  2.7907e-01,  3.3687e+00, -2.6016e+00, -3.6676e-01,\n",
      "         -8.1022e-01, -1.8222e+00, -7.5851e-02,  1.8441e+00,  1.1708e+00,\n",
      "         -1.0394e-01,  2.4734e+00, -3.3375e+00,  7.5191e-01, -1.5615e-01],\n",
      "        [ 2.1602e+00,  2.3404e+00, -3.4765e-01, -5.5353e-01, -2.6145e+00,\n",
      "         -3.1290e+00,  3.9532e+00,  8.4729e-01,  1.6484e+00, -1.9629e+00,\n",
      "          1.3868e-01,  2.5222e+00,  9.5968e-02,  1.3623e+00,  1.7605e+00],\n",
      "        [ 4.7020e+00,  2.6084e+00,  5.5257e-01,  2.5245e-01,  1.1148e+00,\n",
      "          2.4843e+00, -3.5008e-01, -3.4504e-01,  1.7713e+00,  9.1433e-02,\n",
      "         -2.0913e+00,  1.6597e-01,  2.3290e-01,  1.4197e+00,  2.4635e-01],\n",
      "        [ 3.9159e+00, -4.3032e-01,  1.2046e+00,  2.8429e+00, -1.7090e+00,\n",
      "         -7.8261e-01, -5.3198e-01,  4.2396e-03,  9.1622e-01,  6.3086e-02,\n",
      "          2.2660e-01,  4.8696e+00, -2.7350e+00,  2.8216e-01, -2.3297e+00],\n",
      "        [ 2.6263e+00,  9.9924e-01,  8.5877e-01,  1.0956e+00,  1.5626e+00,\n",
      "         -2.6079e+00, -1.1849e+00,  8.0710e-01,  7.7523e-01, -2.9372e+00,\n",
      "          2.0758e+00,  3.7445e+00,  4.8913e+00,  8.0366e-01, -1.1787e+00],\n",
      "        [ 1.9265e+00,  2.2201e-01, -8.7493e-01, -1.4983e+00, -3.5831e-01,\n",
      "          2.2724e+00, -6.2882e-01, -2.6409e+00,  8.3928e-01,  1.9349e+00,\n",
      "         -7.7852e-01,  6.9198e-01, -2.7533e+00, -1.8520e+00,  1.7675e+00],\n",
      "        [ 1.4144e+00,  3.3178e+00, -1.8103e+00,  1.5318e+00, -4.0675e-01,\n",
      "          3.5883e-01,  3.8021e+00, -7.1849e-02,  1.3398e+00, -3.0679e+00,\n",
      "          4.0499e-01, -3.0217e+00, -2.6833e+00,  1.9813e-01, -2.5065e+00],\n",
      "        [-5.0285e-01, -1.3535e+00,  1.4326e+00, -8.1602e-01, -1.8646e+00,\n",
      "          3.7677e+00, -2.6314e+00,  1.2353e+00, -6.3990e-02,  8.3914e-01,\n",
      "          3.5809e+00,  1.4734e+00, -2.1809e+00,  2.3922e+00,  5.2345e-01]])\n"
     ]
    }
   ],
   "source": [
    "print(wei)"
   ]
  },
  {
   "cell_type": "code",
   "execution_count": 31,
   "id": "0074487f-9e97-4ac3-aea8-926923356c6a",
   "metadata": {},
   "outputs": [],
   "source": [
    "o = fc(act,wei)"
   ]
  },
  {
   "cell_type": "code",
   "execution_count": 32,
   "id": "4fdb151a-3544-414f-83a4-bc6d81f3d6a7",
   "metadata": {},
   "outputs": [
    {
     "name": "stdout",
     "output_type": "stream",
     "text": [
      "tensor([[ 11.7761,  -1.5014,  -0.7767,   6.7680, -16.6314,  21.2140,   9.8833,\n",
      "         -16.5407,   7.0815,  12.1741],\n",
      "        [-14.7194,   1.3468, -17.8198,  -1.5010,   8.9342,   3.7297,   5.6933,\n",
      "          -4.0163,  13.1148,  -1.9052],\n",
      "        [ -1.5768,   7.0545,   8.1383,  23.5065,  13.8015,  16.4104, -19.4219,\n",
      "          16.8575,  12.9191,   8.9693],\n",
      "        [  5.8566,  -9.2425,  -8.9310, -19.7345,  -7.6151,  16.2440, -13.6257,\n",
      "           1.0644,   5.3319, -15.6428],\n",
      "        [ -0.3728,  18.0148,  28.4222, -19.2295,  16.6006,   4.3065, -17.4772,\n",
      "          10.6156,  11.0153,  28.7852],\n",
      "        [ -3.6331,  19.2888, -15.5206, -10.2241,  21.5629,  38.4809,  25.3306,\n",
      "          15.0971, -20.7066,   0.4541],\n",
      "        [-16.6603,   8.1153,  -7.0491,  -3.6901,   1.2840,  -8.3322,  -2.8042,\n",
      "          -3.3511,  22.7474,  25.4658],\n",
      "        [ -4.7225,   8.6248, -25.4318,  28.2258,  13.5002,   7.3632,  17.9418,\n",
      "          -9.0672,  20.1587, -32.7079],\n",
      "        [ -6.3921,  13.1546,  -9.8410,  13.2282,  15.4659,   1.2547,  29.7788,\n",
      "         -17.7928,  -3.4263,  -3.1689],\n",
      "        [-11.7833,  14.1557,  -7.3437,  15.4777,  14.7119,  18.0504, -14.8687,\n",
      "          20.4781,   1.0677,   1.0329]])\n",
      "torch.Size([10, 10])\n"
     ]
    }
   ],
   "source": [
    "print(o)\n",
    "print(o.size())"
   ]
  },
  {
   "cell_type": "code",
   "execution_count": 33,
   "id": "a16fc208-a034-4f4c-8c2f-ce01fcfe758b",
   "metadata": {},
   "outputs": [],
   "source": [
    "act_f = flp2fixTensor(act,args.full_bits,args.frac_bits)\n",
    "wei_f = flp2fixTensor(wei,args.full_bits,args.frac_bits)"
   ]
  },
  {
   "cell_type": "markdown",
   "id": "acc99703-3b8d-4692-ba17-5d533836b3b4",
   "metadata": {},
   "source": [
    "### number to stochastic conversion"
   ]
  },
  {
   "cell_type": "code",
   "execution_count": 34,
   "id": "561fbec1-2942-424d-875f-66ea20265c93",
   "metadata": {},
   "outputs": [],
   "source": [
    "aSF = findMaxMin(act_f)\n",
    "wSF = findMaxMin(wei_f)"
   ]
  },
  {
   "cell_type": "code",
   "execution_count": 35,
   "id": "7ff8d726-1fc5-4a93-ab86-80a82b38650f",
   "metadata": {},
   "outputs": [],
   "source": [
    "def N2S(act,wei,aSF,wSF):\n",
    "    \n",
    "    lfsrlist = LFSRlist7()\n",
    "    \n",
    "    a = SNGnumpy(act/aSF,lfsrlist)\n",
    "    w = SNGpnumpy(wei/wSF,lfsrlist)\n",
    "    \n",
    "    return a,w"
   ]
  },
  {
   "cell_type": "code",
   "execution_count": 36,
   "id": "d932a224-d9b0-4228-9dc6-fcb33a279f4e",
   "metadata": {},
   "outputs": [],
   "source": [
    "def N2Sone(data,SF):\n",
    "    lfsrlist = LFSRlist7()\n",
    "    \n",
    "    o = SNGnumpy(data/SF,lfsrlist)\n",
    "    \n",
    "    return o"
   ]
  },
  {
   "cell_type": "markdown",
   "id": "5d4bf4e8-8560-4a21-9bea-3faa9a1309e0",
   "metadata": {},
   "source": [
    "### stochastic to number conversion"
   ]
  },
  {
   "cell_type": "code",
   "execution_count": 37,
   "id": "2756ce7a-fffd-4488-9822-0b3c908a999a",
   "metadata": {},
   "outputs": [],
   "source": [
    "a,w = N2S(act,wei,aSF,wSF)"
   ]
  },
  {
   "cell_type": "code",
   "execution_count": 38,
   "id": "d12fb0c6-c5d8-480d-8bab-cd789b9c4960",
   "metadata": {},
   "outputs": [],
   "source": [
    "out = mulNumpy(a,w,aSF,wSF)"
   ]
  },
  {
   "cell_type": "code",
   "execution_count": 39,
   "id": "df5af5d5-aeb6-435e-a8ed-f5975a4018e2",
   "metadata": {},
   "outputs": [
    {
     "name": "stdout",
     "output_type": "stream",
     "text": [
      "torch.Size([10, 10])\n"
     ]
    }
   ],
   "source": [
    "print(out.size())"
   ]
  },
  {
   "cell_type": "code",
   "execution_count": 40,
   "id": "cb2c36e8-3a8e-42f9-aee0-4bdec611bacc",
   "metadata": {},
   "outputs": [],
   "source": [
    "#error = FindError(cc,act_f*wei_f)"
   ]
  },
  {
   "cell_type": "code",
   "execution_count": 41,
   "id": "41fa3c69-fc0c-4b1a-bbfd-1b76295ec919",
   "metadata": {
    "tags": []
   },
   "outputs": [],
   "source": [
    "#print(f'error mean value is : {torch.mean(error)}')\n",
    "#print(f'------------------------------------------------------------------------------------------')\n",
    "#for i in range(100):\n",
    "#    for j in range(150):\n",
    "#        print(f'act value is            : {act_f[i][j]:^25}( --> {ca[i][j]})')\n",
    "#        print(f'wei value is            : {wei_f[i][j]:^25}( --> {cw[i][j]})')\n",
    "#        print(f'stochastic mul value is : {cc[i][j]:^25}( --> {ca[i][j] * cw[i][j]})')\n",
    "#        print(f'fixed mul value is      : {act_f[i][j]*wei_f[i][j]:^25}')\n",
    "#        print(f'error is                : {error[i][j]:^25}')\n",
    "#        print(f'------------------------------------------------------------------------------------------')"
   ]
  },
  {
   "cell_type": "code",
   "execution_count": 42,
   "id": "c1888051-e98b-4596-bb41-1bb8c66dccf4",
   "metadata": {},
   "outputs": [
    {
     "name": "stdout",
     "output_type": "stream",
     "text": [
      "------------------------------------------------------------------------------------------\n",
      "stochastic FC value is            :    13.913833618164062    \n",
      "original FC value is              :    11.776119232177734    \n",
      "------------------------------------------------------------------------------------------\n",
      "stochastic FC value is            :     0.927588939666748    \n",
      "original FC value is              :     -1.50139319896698    \n",
      "------------------------------------------------------------------------------------------\n",
      "stochastic FC value is            :    1.2986245155334473    \n",
      "original FC value is              :    -0.7767124176025391   \n",
      "------------------------------------------------------------------------------------------\n",
      "stochastic FC value is            :     9.64692497253418     \n",
      "original FC value is              :     6.767990589141846    \n",
      "------------------------------------------------------------------------------------------\n",
      "stochastic FC value is            :    -13.54279899597168    \n",
      "original FC value is              :    -16.631404876708984   \n",
      "------------------------------------------------------------------------------------------\n",
      "stochastic FC value is            :     23.18972396850586    \n",
      "original FC value is              :    21.214019775390625    \n",
      "------------------------------------------------------------------------------------------\n",
      "stochastic FC value is            :    16.140047073364258    \n",
      "original FC value is              :     9.883268356323242    \n",
      "------------------------------------------------------------------------------------------\n",
      "stochastic FC value is            :    -14.09935188293457    \n",
      "original FC value is              :    -16.540687561035156   \n",
      "------------------------------------------------------------------------------------------\n",
      "stochastic FC value is            :     9.461406707763672    \n",
      "original FC value is              :     7.081495761871338    \n",
      "------------------------------------------------------------------------------------------\n",
      "stochastic FC value is            :     14.47038745880127    \n",
      "original FC value is              :    12.174129486083984    \n",
      "------------------------------------------------------------------------------------------\n",
      "stochastic FC value is            :    -12.429691314697266   \n",
      "original FC value is              :    -14.719439506530762   \n",
      "------------------------------------------------------------------------------------------\n",
      "stochastic FC value is            :     3.895873546600342    \n",
      "original FC value is              :     1.346835732460022    \n",
      "------------------------------------------------------------------------------------------\n",
      "stochastic FC value is            :    -15.954529762268066   \n",
      "original FC value is              :    -17.819761276245117   \n",
      "------------------------------------------------------------------------------------------\n",
      "stochastic FC value is            :    1.2986245155334473    \n",
      "original FC value is              :    -1.5010334253311157   \n",
      "------------------------------------------------------------------------------------------\n",
      "stochastic FC value is            :    11.316585540771484    \n",
      "original FC value is              :     8.934220314025879    \n",
      "------------------------------------------------------------------------------------------\n",
      "stochastic FC value is            :    5.9365692138671875    \n",
      "original FC value is              :    3.7296814918518066    \n",
      "------------------------------------------------------------------------------------------\n",
      "stochastic FC value is            :    -2.9682846069335938   \n",
      "original FC value is              :     5.693307399749756    \n",
      "------------------------------------------------------------------------------------------\n",
      "stochastic FC value is            :    -1.855177879333496    \n",
      "original FC value is              :    -4.016268253326416    \n",
      "------------------------------------------------------------------------------------------\n",
      "stochastic FC value is            :    15.212458610534668    \n",
      "original FC value is              :    13.114834785461426    \n",
      "------------------------------------------------------------------------------------------\n",
      "stochastic FC value is            :    0.1855177879333496    \n",
      "original FC value is              :    -1.9052202701568604   \n",
      "------------------------------------------------------------------------------------------\n",
      "stochastic FC value is            :    0.3710355758666992    \n",
      "original FC value is              :    -1.5768232345581055   \n",
      "------------------------------------------------------------------------------------------\n",
      "stochastic FC value is            :    10.017960548400879    \n",
      "original FC value is              :     7.054547309875488    \n",
      "------------------------------------------------------------------------------------------\n",
      "stochastic FC value is            :    10.574514389038086    \n",
      "original FC value is              :     8.138321876525879    \n",
      "------------------------------------------------------------------------------------------\n",
      "stochastic FC value is            :    25.786972045898438    \n",
      "original FC value is              :    23.506542205810547    \n",
      "------------------------------------------------------------------------------------------\n",
      "stochastic FC value is            :    15.954529762268066    \n",
      "original FC value is              :    13.801514625549316    \n",
      "------------------------------------------------------------------------------------------\n",
      "stochastic FC value is            :    18.366260528564453    \n",
      "original FC value is              :     16.41043472290039    \n",
      "------------------------------------------------------------------------------------------\n",
      "stochastic FC value is            :     -9.64692497253418    \n",
      "original FC value is              :    -19.421863555908203   \n",
      "------------------------------------------------------------------------------------------\n",
      "stochastic FC value is            :     19.10833168029785    \n",
      "original FC value is              :     16.85747718811035    \n",
      "------------------------------------------------------------------------------------------\n",
      "stochastic FC value is            :    16.140047073364258    \n",
      "original FC value is              :    12.919129371643066    \n",
      "------------------------------------------------------------------------------------------\n",
      "stochastic FC value is            :    11.687620162963867    \n",
      "original FC value is              :     8.969289779663086    \n",
      "------------------------------------------------------------------------------------------\n",
      "stochastic FC value is            :     8.162782669067383    \n",
      "original FC value is              :     5.85660982131958     \n",
      "------------------------------------------------------------------------------------------\n",
      "stochastic FC value is            :    -6.8641581535339355   \n",
      "original FC value is              :     -9.24254322052002    \n",
      "------------------------------------------------------------------------------------------\n",
      "stochastic FC value is            :    -7.420711517333984    \n",
      "original FC value is              :    -8.931015014648438    \n",
      "------------------------------------------------------------------------------------------\n",
      "stochastic FC value is            :    -16.69660186767578    \n",
      "original FC value is              :    -19.734533309936523   \n",
      "------------------------------------------------------------------------------------------\n",
      "stochastic FC value is            :    -5.0089802742004395   \n",
      "original FC value is              :    -7.615108966827393    \n",
      "------------------------------------------------------------------------------------------\n",
      "stochastic FC value is            :    18.366260528564453    \n",
      "original FC value is              :    16.243961334228516    \n",
      "------------------------------------------------------------------------------------------\n",
      "stochastic FC value is            :    0.5565533638000488    \n",
      "original FC value is              :    -13.625748634338379   \n",
      "------------------------------------------------------------------------------------------\n",
      "stochastic FC value is            :     2.782766819000244    \n",
      "original FC value is              :     1.06435227394104     \n",
      "------------------------------------------------------------------------------------------\n",
      "stochastic FC value is            :     7.420711517333984    \n",
      "original FC value is              :     5.331925392150879    \n",
      "------------------------------------------------------------------------------------------\n",
      "stochastic FC value is            :    -13.171762466430664   \n",
      "original FC value is              :    -15.642813682556152   \n",
      "------------------------------------------------------------------------------------------\n",
      "stochastic FC value is            :    1.1131067276000977    \n",
      "original FC value is              :    -0.3728218972682953   \n",
      "------------------------------------------------------------------------------------------\n",
      "stochastic FC value is            :    16.325565338134766    \n",
      "original FC value is              :    18.014799118041992    \n",
      "------------------------------------------------------------------------------------------\n",
      "stochastic FC value is            :    31.166988372802734    \n",
      "original FC value is              :    28.422239303588867    \n",
      "------------------------------------------------------------------------------------------\n",
      "stochastic FC value is            :    -20.963510513305664   \n",
      "original FC value is              :    -19.229455947875977   \n",
      "------------------------------------------------------------------------------------------\n",
      "stochastic FC value is            :     20.40695571899414    \n",
      "original FC value is              :    16.600616455078125    \n",
      "------------------------------------------------------------------------------------------\n",
      "stochastic FC value is            :     6.678640365600586    \n",
      "original FC value is              :     4.30647087097168     \n",
      "------------------------------------------------------------------------------------------\n",
      "stochastic FC value is            :    -2.5972490310668945   \n",
      "original FC value is              :    -17.477190017700195   \n",
      "------------------------------------------------------------------------------------------\n",
      "stochastic FC value is            :    25.972490310668945    \n",
      "original FC value is              :     10.61560344696045    \n",
      "------------------------------------------------------------------------------------------\n",
      "stochastic FC value is            :    13.913833618164062    \n",
      "original FC value is              :    11.015324592590332    \n",
      "------------------------------------------------------------------------------------------\n",
      "stochastic FC value is            :    25.601455688476562    \n",
      "original FC value is              :    28.785232543945312    \n",
      "------------------------------------------------------------------------------------------\n",
      "stochastic FC value is            :    -0.927588939666748    \n",
      "original FC value is              :    -3.6330676078796387   \n",
      "------------------------------------------------------------------------------------------\n",
      "stochastic FC value is            :    21.520063400268555    \n",
      "original FC value is              :     19.28877067565918    \n",
      "------------------------------------------------------------------------------------------\n",
      "stochastic FC value is            :    -13.357280731201172   \n",
      "original FC value is              :    -15.520628929138184   \n",
      "------------------------------------------------------------------------------------------\n",
      "stochastic FC value is            :    -7.420711517333984    \n",
      "original FC value is              :    -10.224065780639648   \n",
      "------------------------------------------------------------------------------------------\n",
      "stochastic FC value is            :    23.931795120239258    \n",
      "original FC value is              :     21.56288719177246    \n",
      "------------------------------------------------------------------------------------------\n",
      "stochastic FC value is            :     40.25735855102539    \n",
      "original FC value is              :    38.480918884277344    \n",
      "------------------------------------------------------------------------------------------\n",
      "stochastic FC value is            :    19.664886474609375    \n",
      "original FC value is              :     25.3305721282959     \n",
      "------------------------------------------------------------------------------------------\n",
      "stochastic FC value is            :    17.438671112060547    \n",
      "original FC value is              :    15.097103118896484    \n",
      "------------------------------------------------------------------------------------------\n",
      "stochastic FC value is            :    -18.73729705810547    \n",
      "original FC value is              :    -20.706619262695312   \n",
      "------------------------------------------------------------------------------------------\n",
      "stochastic FC value is            :    2.9682846069335938    \n",
      "original FC value is              :    0.4541409909725189    \n",
      "------------------------------------------------------------------------------------------\n",
      "stochastic FC value is            :    -14.09935188293457    \n",
      "original FC value is              :    -16.660255432128906   \n",
      "------------------------------------------------------------------------------------------\n",
      "stochastic FC value is            :    10.574514389038086    \n",
      "original FC value is              :     8.115273475646973    \n",
      "------------------------------------------------------------------------------------------\n",
      "stochastic FC value is            :    -5.194498062133789    \n",
      "original FC value is              :    -7.0491485595703125   \n",
      "------------------------------------------------------------------------------------------\n",
      "stochastic FC value is            :    -1.2986245155334473   \n",
      "original FC value is              :    -3.690103530883789    \n",
      "------------------------------------------------------------------------------------------\n",
      "stochastic FC value is            :     4.081391334533691    \n",
      "original FC value is              :    1.2840087413787842    \n",
      "------------------------------------------------------------------------------------------\n",
      "stochastic FC value is            :    -6.307604789733887    \n",
      "original FC value is              :    -8.332175254821777    \n",
      "------------------------------------------------------------------------------------------\n",
      "stochastic FC value is            :     4.82346248626709     \n",
      "original FC value is              :    -2.8042149543762207   \n",
      "------------------------------------------------------------------------------------------\n",
      "stochastic FC value is            :    -1.1131067276000977   \n",
      "original FC value is              :    -3.3511133193969727   \n",
      "------------------------------------------------------------------------------------------\n",
      "stochastic FC value is            :     24.85938262939453    \n",
      "original FC value is              :     22.74739646911621    \n",
      "------------------------------------------------------------------------------------------\n",
      "stochastic FC value is            :    27.827667236328125    \n",
      "original FC value is              :     25.46580696105957    \n",
      "------------------------------------------------------------------------------------------\n",
      "stochastic FC value is            :    -2.2262134552001953   \n",
      "original FC value is              :     -4.7225022315979     \n",
      "------------------------------------------------------------------------------------------\n",
      "stochastic FC value is            :    11.316585540771484    \n",
      "original FC value is              :     8.624789237976074    \n",
      "------------------------------------------------------------------------------------------\n",
      "stochastic FC value is            :    -23.18972396850586    \n",
      "original FC value is              :    -25.431758880615234   \n",
      "------------------------------------------------------------------------------------------\n",
      "stochastic FC value is            :    30.424917221069336    \n",
      "original FC value is              :    28.225828170776367    \n",
      "------------------------------------------------------------------------------------------\n",
      "stochastic FC value is            :    16.140047073364258    \n",
      "original FC value is              :    13.500242233276367    \n",
      "------------------------------------------------------------------------------------------\n",
      "stochastic FC value is            :    10.017960548400879    \n",
      "original FC value is              :     7.363203048706055    \n",
      "------------------------------------------------------------------------------------------\n",
      "stochastic FC value is            :    17.624189376831055    \n",
      "original FC value is              :    17.941791534423828    \n",
      "------------------------------------------------------------------------------------------\n",
      "stochastic FC value is            :    -6.678640365600586    \n",
      "original FC value is              :    -9.067216873168945    \n",
      "------------------------------------------------------------------------------------------\n",
      "stochastic FC value is            :    22.818687438964844    \n",
      "original FC value is              :    20.158723831176758    \n",
      "------------------------------------------------------------------------------------------\n",
      "stochastic FC value is            :    -30.053882598876953   \n",
      "original FC value is              :    -32.70791244506836    \n",
      "------------------------------------------------------------------------------------------\n",
      "stochastic FC value is            :    -3.710355758666992    \n",
      "original FC value is              :    -6.392129421234131    \n",
      "------------------------------------------------------------------------------------------\n",
      "stochastic FC value is            :    15.212458610534668    \n",
      "original FC value is              :     13.1546049118042     \n",
      "------------------------------------------------------------------------------------------\n",
      "stochastic FC value is            :    -7.049675941467285    \n",
      "original FC value is              :    -9.840993881225586    \n",
      "------------------------------------------------------------------------------------------\n",
      "stochastic FC value is            :    16.140047073364258    \n",
      "original FC value is              :    13.228227615356445    \n",
      "------------------------------------------------------------------------------------------\n",
      "stochastic FC value is            :    17.438671112060547    \n",
      "original FC value is              :    15.465923309326172    \n",
      "------------------------------------------------------------------------------------------\n",
      "stochastic FC value is            :    3.1538023948669434    \n",
      "original FC value is              :    1.2547248601913452    \n",
      "------------------------------------------------------------------------------------------\n",
      "stochastic FC value is            :    17.809707641601562    \n",
      "original FC value is              :     29.77881622314453    \n",
      "------------------------------------------------------------------------------------------\n",
      "stochastic FC value is            :    -15.026941299438477   \n",
      "original FC value is              :    -17.792802810668945   \n",
      "------------------------------------------------------------------------------------------\n",
      "stochastic FC value is            :    -0.3710355758666992   \n",
      "original FC value is              :    -3.426255941390991    \n",
      "------------------------------------------------------------------------------------------\n",
      "stochastic FC value is            :    -0.5565533638000488   \n",
      "original FC value is              :    -3.168879508972168    \n",
      "------------------------------------------------------------------------------------------\n",
      "stochastic FC value is            :     -9.27588939666748    \n",
      "original FC value is              :    -11.783315658569336   \n",
      "------------------------------------------------------------------------------------------\n",
      "stochastic FC value is            :     16.69660186767578    \n",
      "original FC value is              :     14.15565299987793    \n",
      "------------------------------------------------------------------------------------------\n",
      "stochastic FC value is            :    -5.194498062133789    \n",
      "original FC value is              :    -7.343682289123535    \n",
      "------------------------------------------------------------------------------------------\n",
      "stochastic FC value is            :    17.809707641601562    \n",
      "original FC value is              :    15.477685928344727    \n",
      "------------------------------------------------------------------------------------------\n",
      "stochastic FC value is            :    17.067636489868164    \n",
      "original FC value is              :     14.71186637878418    \n",
      "------------------------------------------------------------------------------------------\n",
      "stochastic FC value is            :     19.85040283203125    \n",
      "original FC value is              :    18.050399780273438    \n",
      "------------------------------------------------------------------------------------------\n",
      "stochastic FC value is            :    -5.751051425933838    \n",
      "original FC value is              :    -14.868711471557617   \n",
      "------------------------------------------------------------------------------------------\n",
      "stochastic FC value is            :     22.63317108154297    \n",
      "original FC value is              :    20.478107452392578    \n",
      "------------------------------------------------------------------------------------------\n",
      "stochastic FC value is            :    3.5248379707336426    \n",
      "original FC value is              :    1.0676946640014648    \n",
      "------------------------------------------------------------------------------------------\n",
      "stochastic FC value is            :     3.339320182800293    \n",
      "original FC value is              :     1.032909870147705    \n",
      "------------------------------------------------------------------------------------------\n"
     ]
    }
   ],
   "source": [
    "print(f'------------------------------------------------------------------------------------------')\n",
    "for i in range(10):\n",
    "    for j in range(10):\n",
    "        print(f'stochastic FC value is            : {out[i][j]:^25}')\n",
    "        print(f'original FC value is              : {o[i][j]:^25}')\n",
    "        print(f'------------------------------------------------------------------------------------------')"
   ]
  },
  {
   "cell_type": "markdown",
   "id": "a6cac55a-b385-42dc-8323-5a1b6c049395",
   "metadata": {},
   "source": [
    "## ERROR"
   ]
  },
  {
   "cell_type": "code",
   "execution_count": 43,
   "id": "376b3499-19ff-49e4-b02d-58d588db858b",
   "metadata": {},
   "outputs": [],
   "source": [
    "def MSE(a,b):\n",
    "    s = 0\n",
    "    n = 0\n",
    "\n",
    "    for i in range(a.size()[0]):\n",
    "        for j in range(b.size()[0]):\n",
    "            square = (((a[i][j])-b[i][j])**2).item()\n",
    "            s += square\n",
    "            n += 1\n",
    "    error = s/n\n",
    "    return error"
   ]
  },
  {
   "cell_type": "markdown",
   "id": "5df53d37-3850-43b6-b804-cb68dc12cddf",
   "metadata": {},
   "source": [
    "## ERROR : 7bit LFSR"
   ]
  },
  {
   "cell_type": "code",
   "execution_count": 44,
   "id": "90b473d1-45cf-4b9e-920c-0cbaf2a3faa0",
   "metadata": {},
   "outputs": [
    {
     "data": {
      "text/plain": [
       "17.035885625332593"
      ]
     },
     "execution_count": 44,
     "metadata": {},
     "output_type": "execute_result"
    }
   ],
   "source": [
    "MSE(out,o)"
   ]
  },
  {
   "cell_type": "code",
   "execution_count": null,
   "id": "0b63e7cc-4268-4ddb-bf0a-b694832a934d",
   "metadata": {},
   "outputs": [],
   "source": []
  }
 ],
 "metadata": {
  "kernelspec": {
   "display_name": "Python 3",
   "language": "python",
   "name": "python3"
  },
  "language_info": {
   "codemirror_mode": {
    "name": "ipython",
    "version": 3
   },
   "file_extension": ".py",
   "mimetype": "text/x-python",
   "name": "python",
   "nbconvert_exporter": "python",
   "pygments_lexer": "ipython3",
   "version": "3.6.9"
  }
 },
 "nbformat": 4,
 "nbformat_minor": 5
}
