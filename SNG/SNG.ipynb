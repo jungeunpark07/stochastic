{
 "cells": [
  {
   "cell_type": "markdown",
   "id": "649f8736-056e-48bc-8d5a-e4acf3c40360",
   "metadata": {},
   "source": [
    "## Basic set"
   ]
  },
  {
   "cell_type": "code",
   "execution_count": 95,
   "id": "5f21a223-5c4b-4be0-8551-9a92756a8634",
   "metadata": {},
   "outputs": [],
   "source": [
    "import os, sys, random, struct\n",
    "import numpy as np\n",
    "np.set_printoptions(precision=16)"
   ]
  },
  {
   "cell_type": "markdown",
   "id": "88e37b38-6755-46a7-8330-b02d99c4aa0a",
   "metadata": {},
   "source": [
    "## Integer -> Two's Complemenet Binary"
   ]
  },
  {
   "cell_type": "code",
   "execution_count": 96,
   "id": "c1cf8214-343c-4181-a79e-8616e4c4599a",
   "metadata": {},
   "outputs": [],
   "source": [
    "def int2bin(iIn,iBW):\n",
    "    iBW = iBW + 1\n",
    "    if iIn >= 0:\n",
    "        bOut = bin(iIn).replace('0b','').rjust(iBW,'0')\n",
    "    else :\n",
    "        bOut = bin(iIn & (pow(2,iBW)-1)).replace('0b','').rjust(iBW,'1')\n",
    "    return bOut[1:]"
   ]
  },
  {
   "cell_type": "markdown",
   "id": "e17e2ba8-6dec-4cea-bcec-25cf262e8180",
   "metadata": {},
   "source": [
    "## XOR gate"
   ]
  },
  {
   "cell_type": "code",
   "execution_count": 97,
   "id": "388ed6a8-4a4a-4c3f-b6e6-244a6bf4c4de",
   "metadata": {},
   "outputs": [],
   "source": [
    "def XOR(iA,iB):\n",
    "    if iA != iB :\n",
    "        iOut = '1'\n",
    "    else :\n",
    "        iOut = '0'\n",
    "    return iOut"
   ]
  },
  {
   "cell_type": "markdown",
   "id": "110bd17e-37c1-41e2-b9c2-d205ad3d4987",
   "metadata": {},
   "source": [
    "## Comparator"
   ]
  },
  {
   "cell_type": "code",
   "execution_count": null,
   "id": "f1da4ccc-7f0c-4749-9892-756171bb6381",
   "metadata": {},
   "outputs": [],
   "source": [
    "def Comp(a,lfsr,i):\n",
    "    for com in range(0,len(lfsr)):\n",
    "        oA = '0'\n",
    "        if a[com]!=lfsr[com]:\n",
    "            if(int(a[com]) > int(lfsr[com])):\n",
    "                oA = '1'\n",
    "            break\n",
    "    return XOR(oA,i)"
   ]
  },
  {
   "cell_type": "markdown",
   "id": "e8d0da2d-b94f-45da-a31a-e2cbdc855448",
   "metadata": {},
   "source": [
    "## LFSR"
   ]
  },
  {
   "cell_type": "code",
   "execution_count": 1,
   "id": "cf362ab0-e2ce-44b5-a89e-3a012fa7e795",
   "metadata": {},
   "outputs": [],
   "source": [
    "def olfsr(seed,flag,taps):\n",
    "    sr, xor = seed, 0\n",
    "    for t in taps :\n",
    "        xor += int(sr[t-1])\n",
    "        #print(xor)\n",
    "    if xor%2 == 0:\n",
    "        xor = 0\n",
    "    else :\n",
    "        xor = 1\n",
    "    sr, xor = str(xor) + sr[:-1], 0\n",
    "    num = int(sr,2)\n",
    "    if sr == flag[0]:\n",
    "        return len(seed)*\"0\"\n",
    "    else :\n",
    "        return sr"
   ]
  },
  {
   "cell_type": "markdown",
   "id": "047eaa8b-85aa-453c-b617-7079d520fb25",
   "metadata": {},
   "source": [
    "## SNG"
   ]
  },
  {
   "cell_type": "code",
   "execution_count": null,
   "id": "036389f4-148a-4b60-aa0b-ccdd12e4316f",
   "metadata": {},
   "outputs": [],
   "source": [
    "def SNGp(a):\n",
    "    #iA = int2bin(a,bBW)\n",
    "    #iB = int2bin(b,bBW)\n",
    "    \n",
    "    #sNUM = iB[0] #signed number\n",
    "    \n",
    "    oAlist = []\n",
    "    lfsrlist = []\n",
    "    ran = random.randint(1,math.pow(2,args.bBW)-1)\n",
    "    ranZP = args.bBW-len(bin(ran)[2:])\n",
    "    num = ranZP*'0'+bin(ran)[2:] #lfsr start number generate\n",
    "    #lfsr의 시작 number를 random하게 만들어줌\n",
    "    \n",
    "    for k in range(2**(args.bBW)): #lfsr number generating\n",
    "        if not lfsrlist:\n",
    "            lfsrlist.append(num)\n",
    "        else :\n",
    "            lfsrlist.append(olfsr(lfsrlist[k-1],lfsrlist,(0,1)))\n",
    "        alNUM = lfsrlist[k] #lfsr of input a --> number generating\n",
    "        \n",
    "        \n",
    "        oAlist.append(Comp(a[len(a)-args.frac_bits-args.bBW:len(a)-args.frac_bits],alNUM,a[0])) #comparator of input a\n",
    "        \n",
    "    oAnum = oAlist.count('1')\n",
    "    oBnum = oBlist.count('1')\n",
    "    \n",
    "    #if (oAnum != a) or (oBnum != b) :\n",
    "    #    print(\"SNG is fail\")\n",
    "    #    return 0\n",
    "    \n",
    "    oAlist.insert(0,a[0])\n",
    "    oBlist.insert(0,b[0])\n",
    "    sA = \"\".join(oAlist)\n",
    "    sB = \"\".join(oBlist)\n",
    "    return sA,sB"
   ]
  }
 ],
 "metadata": {
  "kernelspec": {
   "display_name": "Python 3",
   "language": "python",
   "name": "python3"
  },
  "language_info": {
   "codemirror_mode": {
    "name": "ipython",
    "version": 3
   },
   "file_extension": ".py",
   "mimetype": "text/x-python",
   "name": "python",
   "nbconvert_exporter": "python",
   "pygments_lexer": "ipython3",
   "version": "3.6.9"
  }
 },
 "nbformat": 4,
 "nbformat_minor": 5
}
