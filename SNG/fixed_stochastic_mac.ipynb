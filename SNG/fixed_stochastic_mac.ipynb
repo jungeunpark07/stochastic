{
 "cells": [
  {
   "cell_type": "code",
   "execution_count": 1,
   "id": "3e99f4bd-8e19-41a7-a827-353564af4c36",
   "metadata": {},
   "outputs": [],
   "source": [
    "import random, struct,math\n",
    "import argparse"
   ]
  },
  {
   "cell_type": "code",
   "execution_count": 2,
   "id": "a3cced51-303f-489f-aa48-fb8d5939f1cc",
   "metadata": {},
   "outputs": [],
   "source": [
    "BLACK\t= '\\033[30m'\n",
    "RED\t\t= '\\033[31m'\n",
    "GREEN\t= '\\033[32m'\n",
    "YELLOW\t= '\\033[33m'\n",
    "BLUE\t= '\\033[34m'\n",
    "MAGENTA\t= '\\033[35m'\n",
    "CYAN\t= '\\033[36m'\n",
    "RESET\t= '\\033[0m'\n",
    "SEL\t\t= '\\033[7m'"
   ]
  },
  {
   "cell_type": "code",
   "execution_count": 3,
   "id": "df48a9f4-bec3-46e2-95a1-6d0ed518ff6d",
   "metadata": {},
   "outputs": [],
   "source": [
    "parser = argparse.ArgumentParser(description='fixed_mac')\n",
    "parser.add_argument('--full_bits', type=int, default=16, help='Number of Quantization Bits')\n",
    "parser.add_argument('--frac_bits', type=int, default=4, help='Number of Quantization Bits')\n",
    "parser.add_argument('--bBW', type=int, default=4, help='Number of bit width')\n",
    "args = parser.parse_args(args=[])\n"
   ]
  },
  {
   "cell_type": "markdown",
   "id": "6312520a-b4df-4d21-b31f-3eeb85fa9575",
   "metadata": {},
   "source": [
    "## Integer -> Two's Complemenet Binary"
   ]
  },
  {
   "cell_type": "code",
   "execution_count": 4,
   "id": "e553d9cc-9249-4c3d-a210-469ab8f159c9",
   "metadata": {},
   "outputs": [],
   "source": [
    "def int2bin(iIn,iBW):\n",
    "    iBW = iBW + 1\n",
    "    if iIn >= 0:\n",
    "        bOut = bin(iIn).replace('0b','').rjust(iBW,'0')\n",
    "    else :\n",
    "        bOut = bin(iIn & (pow(2,iBW)-1)).replace('0b','').rjust(iBW,'1')\n",
    "    return bOut[1:]"
   ]
  },
  {
   "cell_type": "markdown",
   "id": "413bdd6d-cd83-42a9-ad29-a4af0b72f102",
   "metadata": {},
   "source": [
    "## XOR gate"
   ]
  },
  {
   "cell_type": "code",
   "execution_count": 5,
   "id": "09d95cc1-d676-4ed0-813d-7343b4dede4a",
   "metadata": {},
   "outputs": [],
   "source": [
    "def XOR(iA,iB):\n",
    "    if iA != iB :\n",
    "        iOut = '1'\n",
    "    else : \n",
    "        iOut = '0'\n",
    "    return iOut"
   ]
  },
  {
   "cell_type": "markdown",
   "id": "9ee4955e-50d6-4ac2-9ba8-d7c7b50b01e3",
   "metadata": {},
   "source": [
    "## LFSR funnction"
   ]
  },
  {
   "cell_type": "code",
   "execution_count": 6,
   "id": "e0bb6a99-3fe0-4f83-a5e6-f8e766a760c2",
   "metadata": {},
   "outputs": [],
   "source": [
    "def olfsr(seed,flag,taps):\n",
    "    sr, xor = seed, 0\n",
    "    for t in taps :\n",
    "        xor += int(sr[t-1])\n",
    "        #print(xor)\n",
    "    if xor%2 == 0:\n",
    "        xor = 0\n",
    "    else :\n",
    "        xor = 1\n",
    "    sr, xor = str(xor) + sr[:-1], 0\n",
    "    num = int(sr,2)\n",
    "    if sr == flag[0]:\n",
    "        return len(seed)*\"0\"\n",
    "    else :\n",
    "        return sr"
   ]
  },
  {
   "cell_type": "markdown",
   "id": "cd738b43-e066-4d71-8ddd-fac7a47d0496",
   "metadata": {},
   "source": [
    "### Comparator"
   ]
  },
  {
   "cell_type": "code",
   "execution_count": 7,
   "id": "049ff40d-4dcb-4c54-b729-63a1fb740220",
   "metadata": {},
   "outputs": [],
   "source": [
    "def Comp(a,lfsr):\n",
    "    for com in range(0,len(lfsr)):\n",
    "        oA = '0'\n",
    "        if a[com+1]!=lfsr[com]:\n",
    "            if(int(a[com+1]) > int(lfsr[com])):\n",
    "                oA = '1'\n",
    "            break\n",
    "    return XOR(oA,a[0])"
   ]
  },
  {
   "cell_type": "markdown",
   "id": "33f41483-e714-43a8-9aeb-e712cdff20cf",
   "metadata": {},
   "source": [
    "### lfsr shifter"
   ]
  },
  {
   "cell_type": "markdown",
   "id": "9de73b3b-ecda-44ef-ad26-62e2212ef3b6",
   "metadata": {},
   "source": [
    "k bit shifter : lfsr의 bit를 kbit만큼 shift 해서 자리 바꿔줌, 이 때 k는 lfsr 길이의 절반"
   ]
  },
  {
   "cell_type": "code",
   "execution_count": 8,
   "id": "ce93d07c-9a1d-4bf5-a151-1ae56ad31e49",
   "metadata": {},
   "outputs": [],
   "source": [
    "def kshift(a,k):\n",
    "    if type(a) != str :\n",
    "        print(\"input is not string type\")\n",
    "        return 0\n",
    "    b = (a[k:]+ a[:k])\n",
    "    return b"
   ]
  },
  {
   "cell_type": "markdown",
   "id": "b4a75226-82f2-4377-b710-0c7ad96edde2",
   "metadata": {},
   "source": [
    "## SNG"
   ]
  },
  {
   "cell_type": "code",
   "execution_count": 9,
   "id": "c2ff5fde-c625-49f3-9216-8c033c2839ab",
   "metadata": {},
   "outputs": [],
   "source": [
    "def SNG(a,b,aBW,bBW):\n",
    "    #iA = int2bin(a,bBW)\n",
    "    #iB = int2bin(b,bBW)\n",
    "    \n",
    "    #sNUM = iB[0] #signed number\n",
    "    \n",
    "    oAlist = []\n",
    "    oBlist = []\n",
    "    lfsrlist = []\n",
    "    ran = random.randint(1,math.pow(2,args.bBW)-1)\n",
    "    ranZP = args.bBW-len(bin(ran)[2:])\n",
    "    num = ranZP*'0'+bin(ran)[2:] #lfsr start number generate\n",
    "    for k in range(2**(args.bBW)): #lfsr number generating\n",
    "        if not lfsrlist:\n",
    "            lfsrlist.append(num)\n",
    "        else :\n",
    "            lfsrlist.append(olfsr(lfsrlist[k-1],lfsrlist,(0,1)))\n",
    "        alNUM = lfsrlist[k] #lfsr of input a --> number generating\n",
    "        blNUM = kshift(alNUM,len(alNUM)//2) #lfsr of input b --> k bit shifting\n",
    "        \n",
    "        oAlist.append(Comp(a[0]+a[len(a)-args.frac_bits-aBW:len(a)-args.frac_bits],alNUM)) #comparator of input a\n",
    "        oBlist.append(Comp(b[0]+b[len(b)-args.frac_bits-bBW:len(b)-args.frac_bits],blNUM)) #comparator of input b\n",
    "    \n",
    "    oAnum = oAlist.count('1')\n",
    "    oBnum = oBlist.count('1')\n",
    "    \n",
    "    \n",
    "    \n",
    "    #if (oAnum != a) or (oBnum != b) :\n",
    "    #    print(\"SNG is fail\")\n",
    "    #    return 0\n",
    "    \n",
    "    \n",
    "    oAlist.insert(0,a[0])\n",
    "    oBlist.insert(0,b[0])\n",
    "    sA = \"\".join(oAlist)\n",
    "    sB = \"\".join(oBlist)\n",
    "    return sA,sB"
   ]
  },
  {
   "cell_type": "code",
   "execution_count": 10,
   "id": "b0bb0693-2169-4f7d-a484-9fc3301e293b",
   "metadata": {},
   "outputs": [
    {
     "name": "stdout",
     "output_type": "stream",
     "text": [
      "0000\n"
     ]
    }
   ],
   "source": [
    "s = \"00000110100000000\"\n",
    "print(s[len(s)-args.frac_bits-args.bBW:len(s)-args.frac_bits])\n"
   ]
  },
  {
   "cell_type": "markdown",
   "id": "d58dcb19-c1fd-4fd3-a5b7-8836b9cc0598",
   "metadata": {},
   "source": [
    "## MAC"
   ]
  },
  {
   "cell_type": "markdown",
   "id": "908546de-7cab-46df-a013-5e8ea38eeb9c",
   "metadata": {},
   "source": [
    "### mult"
   ]
  },
  {
   "cell_type": "code",
   "execution_count": 11,
   "id": "3bb8012d-1e79-4af3-bbe5-dcf5f3b5318a",
   "metadata": {},
   "outputs": [],
   "source": [
    "def mul(a,b):\n",
    "    al = len(a)\n",
    "    bl = len(b)\n",
    "    \n",
    "    outlist = []\n",
    "    \n",
    "    if al != bl :\n",
    "        print(\"length of string is different\")\n",
    "        return 0\n",
    "    \n",
    "    for i in range(al) :\n",
    "        outlist.append(str(int(a[i]) & int(b[i])))\n",
    "    \n",
    "    #print(outlist)\n",
    "    out = \"\".join(outlist)\n",
    "    \n",
    "    return out    "
   ]
  },
  {
   "cell_type": "code",
   "execution_count": null,
   "id": "94cf1f88-d437-475e-82eb-f734324c415b",
   "metadata": {},
   "outputs": [],
   "source": [
    "def count1(sto):\n",
    "    n = 0\n",
    "    for i in range(len(sto)):\n",
    "        if sto[i] == '1' :\n",
    "                   n += 1\n",
    "    \n",
    "    return n"
   ]
  },
  {
   "cell_type": "markdown",
   "id": "23e14f1d-f4f9-4d29-837b-8d70cca3875e",
   "metadata": {},
   "source": [
    "# Fixed point test"
   ]
  },
  {
   "cell_type": "markdown",
   "id": "0013da8a-e3d5-4187-8aeb-4f89cee684b8",
   "metadata": {},
   "source": [
    "## fixed point function"
   ]
  },
  {
   "cell_type": "code",
   "execution_count": 13,
   "id": "1df14f2a-6437-4d73-ab96-f3f60db46895",
   "metadata": {},
   "outputs": [],
   "source": [
    "class\tfxp:\n",
    "\tdef\t__init__(self, bIn, iBWF):\n",
    "\t\tself.iFullBW\t= len(bIn)\n",
    "\t\tself.iIntgBW\t= self.iFullBW - iBWF\n",
    "\t\tself.bSign\t\t= bIn[0]\n",
    "\t\tself.bIntg\t\t= bIn[:self.iIntgBW]\n",
    "\t\tself.bFrac\t\t= bIn[self.iIntgBW:]\n",
    "\t\tself.fFull\t\t= 0\n",
    "\t\ttry:\n",
    "\t\t\tfor idx, bit in enumerate(bIn):\n",
    "\t\t\t\tif\tidx == 0:\n",
    "\t\t\t\t\tself.fFull = self.fFull + int(bit,2) * -pow(2, self.iIntgBW - 1)\n",
    "\t\t\t\telse:\n",
    "\t\t\t\t\tself.fFull = self.fFull + int(bit,2) * pow(2, self.iIntgBW - 1 - idx)\n",
    "\t\texcept:\n",
    "\t\t\tprint(bIn)\n",
    "\t\tself.dispFull\t= RED + self.bIntg + BLUE + self.bFrac + RESET\n",
    "\t\treturn"
   ]
  },
  {
   "cell_type": "code",
   "execution_count": 14,
   "id": "38a7182e-8b8c-4f5b-bf55-c8f69b3ad6c8",
   "metadata": {},
   "outputs": [],
   "source": [
    "class\tflp2fix:\n",
    "\tdef\t__init__(self, fIn, iBW, iBWF):\n",
    "\t\tself.fMin\t\t= - 2 ** (iBW - iBWF - 1)\n",
    "\t\tself.fMax\t\t= (2 ** (iBW-1) - 1) * (2 ** -iBWF)\n",
    "\t\tself.fResol\t\t= 2 ** -iBWF\n",
    "\t\tif fIn < self.fMin or fIn > self.fMax:\n",
    "\t\t\tprint(f'({fIn}): Out of input range ({self.fMax}/{self.fMin}) during flp -> fix converting ')\n",
    "\t\tself.iBW\t\t= iBW\n",
    "\t\tself.iBWI\t\t= iBW - iBWF\n",
    "\t\tself.iBWF\t\t= iBWF\n",
    "\n",
    "\t\tself.iFLP2INT\t= abs(int(fIn * 2 ** iBWF))\n",
    "\t\tif fIn < 0:\n",
    "\t\t\tself.iFLP2INT = 2 ** (iBW-1) - self.iFLP2INT\n",
    "\n",
    "\t\tif fIn >= 0:\n",
    "\t\t\tself.bFull = bin(self.iFLP2INT)[2:].rjust(iBW, '0')\n",
    "\t\telse:\n",
    "\t\t\tself.bFull = '1'+bin(self.iFLP2INT)[2:].rjust(iBW-1, '0')\n",
    "\t\t\tif len(self.bFull) > iBW:\n",
    "\t\t\t\tself.bFull = '0' * iBW\n",
    "\n",
    "\t\tself.cssFxp\t\t= fxp(self.bFull, self.iBWF)\n",
    "\t\tself.bSign\t\t= self.cssFxp.bSign\n",
    "\t\tself.bIntg\t\t= self.cssFxp.bIntg\n",
    "\t\tself.bFrac\t\t= self.cssFxp.bFrac\n",
    "\t\tself.fFull\t\t= self.cssFxp.fFull\n",
    "\t\treturn"
   ]
  },
  {
   "cell_type": "markdown",
   "id": "5d622c24-1fff-4983-811b-2d7d99eb54a7",
   "metadata": {},
   "source": [
    "## fixe point test"
   ]
  },
  {
   "cell_type": "code",
   "execution_count": 16,
   "id": "c63ffe98-af2b-457c-b5da-60d6228427f4",
   "metadata": {},
   "outputs": [],
   "source": [
    "n = 0\n",
    "for i in range (10000) :\n",
    "\n",
    "    Ra = random.randint(0,2**(args.bBW)-1)\n",
    "    Rb = random.randint(0,2**(args.bBW)-1)\n",
    "    Rresult = Ra * Rb\n",
    "    \n",
    "    aBW = len(int2bin(int(Ra),args.bBW))\n",
    "    bBW = len(int2bin(int(Rb),args.bBW))\n",
    "    rBW = len(int2bin(int(Rresult),args.bBW))\n",
    "    \n",
    "    \n",
    "    Fa = flp2fix(Ra,args.full_bits, args.frac_bits).bSign + flp2fix(Ra,args.full_bits, args.frac_bits).bFull\n",
    "    Fb = flp2fix(Rb,args.full_bits, args.frac_bits).bSign + flp2fix(Rb,args.full_bits, args.frac_bits).bFull\n",
    "    Fresult = flp2fix(Rresult,args.full_bits,args.frac_bits).fFull\n",
    "    \n",
    "    Sa,Sb = SNG(Fa,Fb,aBW,bBW) \n",
    "    \n",
    "    Sout = mul(Sa,Sb)\n",
    "    \n",
    "    Sresult = Sout[1:]*len(Sa[1:])\n",
    "    \n",
    "    NumOne = count1(Sresult)\n",
    " \n",
    "    FNumOne = flp2fix(NumOne,args.full_bits,args.frac_bits).fFull\n",
    "    \n",
    "    ResultValue = flp2fix(Rresult,args.full_bits,args.frac_bits).fFull/pow(2**(args.bBW),2)\n",
    "    StoValue = FNumOne/pow(2**(args.bBW),2)\n",
    "    \n",
    "    percent = abs(StoValue-ResultValue)*100\n",
    "    if (100-percent) > 95.0 :\n",
    "        n += 1\n",
    "    \n",
    "    #print(f'Ra : {Ra:>30n},{Sa}')\n",
    "    #print(f'Rb : {Rb:>30n},{Sb}')\n",
    "    \n",
    "    #print(f'result : {Rresult:>26n}')\n",
    "    #print(f'multiplier stohastic number is : {Sout:>20s}')\n",
    "    #print(f'NumOne is : {FNumOne:>23n}')\n",
    "    #print(f'ResultValue is : {ResultValue:>25f}')\n",
    "    #print(f'StoValue is : {StoValue:>28f}')\n",
    "    #print(f'percentage is : {100-percent:>26f}')\n",
    "    #print(f'----------------------------------------------------------')     \n"
   ]
  },
  {
   "cell_type": "code",
   "execution_count": 17,
   "id": "2931cb64-fd74-4d19-bf13-23341935ae8d",
   "metadata": {},
   "outputs": [
    {
     "name": "stdout",
     "output_type": "stream",
     "text": [
      " Succes is : 6562/10000\n"
     ]
    }
   ],
   "source": [
    "print(f' Succes is : {n}/{10000}')"
   ]
  },
  {
   "cell_type": "code",
   "execution_count": null,
   "id": "070e3e7e-973a-4eb6-af60-a316ff560b15",
   "metadata": {},
   "outputs": [],
   "source": []
  }
 ],
 "metadata": {
  "kernelspec": {
   "display_name": "Python 3",
   "language": "python",
   "name": "python3"
  },
  "language_info": {
   "codemirror_mode": {
    "name": "ipython",
    "version": 3
   },
   "file_extension": ".py",
   "mimetype": "text/x-python",
   "name": "python",
   "nbconvert_exporter": "python",
   "pygments_lexer": "ipython3",
   "version": "3.6.9"
  }
 },
 "nbformat": 4,
 "nbformat_minor": 5
}
