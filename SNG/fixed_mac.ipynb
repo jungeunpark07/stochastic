{
 "cells": [
  {
   "cell_type": "code",
   "execution_count": 14,
   "id": "3e99f4bd-8e19-41a7-a827-353564af4c36",
   "metadata": {},
   "outputs": [],
   "source": [
    "import random, struct,math"
   ]
  },
  {
   "cell_type": "markdown",
   "id": "6312520a-b4df-4d21-b31f-3eeb85fa9575",
   "metadata": {},
   "source": [
    "## Integer -> Two's Complemenet Binary"
   ]
  },
  {
   "cell_type": "code",
   "execution_count": 15,
   "id": "e553d9cc-9249-4c3d-a210-469ab8f159c9",
   "metadata": {},
   "outputs": [],
   "source": [
    "def int2bin(iIn,iBW):\n",
    "    iBW = iBW + 1\n",
    "    if iIn >= 0:\n",
    "        bOut = bin(iIn).replace('0b','').rjust(iBW,'0')\n",
    "    else :\n",
    "        bOut = bin(iIn & (pow(2,iBW)-1)).replace('0b','').rjust(iBW,'1')\n",
    "    return bOut[1:]"
   ]
  },
  {
   "cell_type": "markdown",
   "id": "413bdd6d-cd83-42a9-ad29-a4af0b72f102",
   "metadata": {},
   "source": [
    "## XOR gate"
   ]
  },
  {
   "cell_type": "code",
   "execution_count": 64,
   "id": "09d95cc1-d676-4ed0-813d-7343b4dede4a",
   "metadata": {},
   "outputs": [],
   "source": [
    "def XOR(iA,iB):\n",
    "    if iA != iB :\n",
    "        iOut = '1'\n",
    "    else : \n",
    "        iOut = '0'\n",
    "    return iOut"
   ]
  },
  {
   "cell_type": "markdown",
   "id": "9ee4955e-50d6-4ac2-9ba8-d7c7b50b01e3",
   "metadata": {},
   "source": [
    "## LFSR funnction"
   ]
  },
  {
   "cell_type": "code",
   "execution_count": 65,
   "id": "e0bb6a99-3fe0-4f83-a5e6-f8e766a760c2",
   "metadata": {},
   "outputs": [],
   "source": [
    "def olfsr(seed,flag,taps):\n",
    "    sr, xor = seed, 0\n",
    "    for t in taps :\n",
    "        xor += int(sr[t-1])\n",
    "        #print(xor)\n",
    "    if xor%2 == 0:\n",
    "        xor = 0\n",
    "    else :\n",
    "        xor = 1\n",
    "    sr, xor = str(xor) + sr[:-1], 0\n",
    "    num = int(sr,2)\n",
    "    if sr == flag[0]:\n",
    "        return len(seed)*\"0\"\n",
    "    else :\n",
    "        return sr"
   ]
  },
  {
   "cell_type": "markdown",
   "id": "b4a75226-82f2-4377-b710-0c7ad96edde2",
   "metadata": {},
   "source": [
    "## SNG"
   ]
  },
  {
   "cell_type": "code",
   "execution_count": 66,
   "id": "c2ff5fde-c625-49f3-9216-8c033c2839ab",
   "metadata": {},
   "outputs": [],
   "source": [
    "def SNG(a,bBW):\n",
    "    iB = int2bin(a,bBW) \n",
    "    sNUM = iB[0] #signed number\n",
    "    oAlist = []\n",
    "    lfsrlist = []\n",
    "    ran = random.randint(1,math.pow(2,bBW-1)-1)\n",
    "    ranZP = bBW-1-len(bin(ran)[2:])\n",
    "    num = ranZP*'0'+bin(ran)[2:] #lfsr start number generate\n",
    "    for k in range(2**(bBW-1)): #lfsr number generating\n",
    "        if not lfsrlist:\n",
    "            lfsrlist.append(num)\n",
    "        else :\n",
    "            lfsrlist.append(olfsr(lfsrlist[k-1],lfsrlist,(0,1)))\n",
    "        blNUM = lfsrlist[k]\n",
    "        for com in range(0,len(blNUM)): #\tcomparator\n",
    "            oA = '0'\n",
    "            if iB[com+1] != blNUM[com]:\n",
    "                if int(iB[com+1]) > int(blNUM[com]) :\n",
    "                    oA = '1'\n",
    "                break\n",
    "        oAlist.append(XOR(oA,sNUM))\t#XOR gating & appending\n",
    "    Onum = oAlist.count('1')\n",
    "    oAlist.insert(0,sNUM)\n",
    "    stochastic = \"\".join(oAlist)\n",
    "    return stochastic"
   ]
  },
  {
   "cell_type": "markdown",
   "id": "d58dcb19-c1fd-4fd3-a5b7-8836b9cc0598",
   "metadata": {},
   "source": [
    "## MAC"
   ]
  },
  {
   "cell_type": "markdown",
   "id": "908546de-7cab-46df-a013-5e8ea38eeb9c",
   "metadata": {},
   "source": [
    "### mult"
   ]
  },
  {
   "cell_type": "code",
   "execution_count": 67,
   "id": "3bb8012d-1e79-4af3-bbe5-dcf5f3b5318a",
   "metadata": {},
   "outputs": [],
   "source": [
    "def mul(a,b):\n",
    "    al = len(a)\n",
    "    bl = len(b)\n",
    "    \n",
    "    outlist = []\n",
    "    \n",
    "    if al != bl :\n",
    "        print(\"length of string is different\")\n",
    "        return 0\n",
    "    \n",
    "    for i in range(al) :\n",
    "        outlist.append(str(int(a[i]) & int(b[i])))\n",
    "    \n",
    "    print(outlist)\n",
    "    out = \"\".join(outlist)\n",
    "    \n",
    "    return out    "
   ]
  },
  {
   "cell_type": "code",
   "execution_count": 92,
   "id": "94cf1f88-d437-475e-82eb-f734324c415b",
   "metadata": {},
   "outputs": [],
   "source": [
    "def count1(sto):\n",
    "    n = 0\n",
    "    for i in range(len(sto)):\n",
    "        if sto[i] == '1' :\n",
    "                   n += 1\n",
    "    \n",
    "    return n"
   ]
  },
  {
   "cell_type": "markdown",
   "id": "7e7d5c14-e978-48d1-a8af-0e01cfa89460",
   "metadata": {},
   "source": [
    "## TEST"
   ]
  },
  {
   "cell_type": "code",
   "execution_count": 84,
   "id": "6a15c164-95ed-41c5-af9d-b5b978668153",
   "metadata": {},
   "outputs": [
    {
     "name": "stdout",
     "output_type": "stream",
     "text": [
      "96\n"
     ]
    }
   ],
   "source": [
    "a = 8\n",
    "b = 12\n",
    "result = a*b\n",
    "\n",
    "print(result)"
   ]
  },
  {
   "cell_type": "code",
   "execution_count": 95,
   "id": "f58d8ff5-8c08-46db-a62a-820f6b0d2b9e",
   "metadata": {},
   "outputs": [
    {
     "name": "stdout",
     "output_type": "stream",
     "text": [
      "01001101110000101\n",
      "01110111111100011\n"
     ]
    }
   ],
   "source": [
    "Sa = SNG(a,5)\n",
    "Sb = SNG(b,5)\n",
    "print(Sa)\n",
    "print(Sb)"
   ]
  },
  {
   "cell_type": "code",
   "execution_count": 96,
   "id": "8c0b5674-9aa6-4cd7-bae2-f5fd5673906e",
   "metadata": {},
   "outputs": [
    {
     "name": "stdout",
     "output_type": "stream",
     "text": [
      "['0', '1', '0', '0', '0', '1', '0', '1', '1', '1', '0', '0', '0', '0', '0', '0', '1']\n",
      "01000101110000001\n"
     ]
    }
   ],
   "source": [
    "Sout = mul(Sa,Sb)\n",
    "print(Sout)"
   ]
  },
  {
   "cell_type": "code",
   "execution_count": 97,
   "id": "39ece9a1-cb1b-48c7-a075-8c7c44e32218",
   "metadata": {},
   "outputs": [
    {
     "name": "stdout",
     "output_type": "stream",
     "text": [
      "6\n"
     ]
    }
   ],
   "source": [
    "print(count1(Sout))"
   ]
  },
  {
   "cell_type": "code",
   "execution_count": 98,
   "id": "4e1bf236-953c-4909-8915-eb80cc6f82a9",
   "metadata": {},
   "outputs": [],
   "source": [
    "Sresult = Sout[1:]*len(Sa[1:])"
   ]
  },
  {
   "cell_type": "code",
   "execution_count": 99,
   "id": "678ba59d-7e26-43f3-8bd7-280fa3c4929d",
   "metadata": {},
   "outputs": [
    {
     "name": "stdout",
     "output_type": "stream",
     "text": [
      "1000101110000001100010111000000110001011100000011000101110000001100010111000000110001011100000011000101110000001100010111000000110001011100000011000101110000001100010111000000110001011100000011000101110000001100010111000000110001011100000011000101110000001\n"
     ]
    }
   ],
   "source": [
    "print(Sresult)"
   ]
  },
  {
   "cell_type": "code",
   "execution_count": 100,
   "id": "7c8a1fb6-af23-460f-8242-4afc5276d55a",
   "metadata": {},
   "outputs": [],
   "source": [
    "NumOne = count1(Sresult)"
   ]
  },
  {
   "cell_type": "code",
   "execution_count": null,
   "id": "e6d45c7a-c648-4662-b5d2-d53acaacfe25",
   "metadata": {},
   "outputs": [],
   "source": [
    "if (NumOne == result ) :\n",
    "    print(\"Success!\")\n",
    "el"
   ]
  }
 ],
 "metadata": {
  "kernelspec": {
   "display_name": "Python 3",
   "language": "python",
   "name": "python3"
  },
  "language_info": {
   "codemirror_mode": {
    "name": "ipython",
    "version": 3
   },
   "file_extension": ".py",
   "mimetype": "text/x-python",
   "name": "python",
   "nbconvert_exporter": "python",
   "pygments_lexer": "ipython3",
   "version": "3.6.9"
  }
 },
 "nbformat": 4,
 "nbformat_minor": 5
}
