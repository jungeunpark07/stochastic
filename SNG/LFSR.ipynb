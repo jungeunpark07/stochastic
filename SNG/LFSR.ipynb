{
 "cells": [
  {
   "cell_type": "markdown",
   "id": "294c163d-e939-41d6-a7ca-5a635bc4f4ea",
   "metadata": {},
   "source": [
    "# LFSR"
   ]
  },
  {
   "cell_type": "code",
   "execution_count": 1,
   "id": "b963a5c4-1065-4e47-9bac-a479998a04b3",
   "metadata": {},
   "outputs": [],
   "source": [
    "import random, struct,math"
   ]
  },
  {
   "cell_type": "markdown",
   "id": "0b5173a2-1316-438c-ba52-ed0b5f124483",
   "metadata": {},
   "source": [
    "### Integer - Two's complement binary"
   ]
  },
  {
   "cell_type": "code",
   "execution_count": 4,
   "id": "b510207e-f214-4a53-bca3-5ff7431bfcac",
   "metadata": {},
   "outputs": [],
   "source": [
    "def\tint2bin(iIn, iBW):\n",
    "    iBW\t= iBW + 1\n",
    "    if iIn >= 0:\n",
    "        bOut = bin(iIn).replace('0b','').rjust(iBW, '0')\n",
    "    else:\n",
    "        bOut = bin(iIn & (pow(2,iBW)-1)).replace('0b','').rjust(iBW, '1')\n",
    "\n",
    "    return bOut[1:]"
   ]
  },
  {
   "cell_type": "markdown",
   "id": "f70ba032-c27c-4192-b39f-ae6dab6c2ea2",
   "metadata": {},
   "source": [
    "### XOR gate"
   ]
  },
  {
   "cell_type": "code",
   "execution_count": 5,
   "id": "d560faa3-3a82-4309-a504-2897099171ca",
   "metadata": {},
   "outputs": [],
   "source": [
    "def XOR(iA,iB):\n",
    "    if iA != iB :\n",
    "        iOut = '1'\n",
    "    else : \n",
    "        iOut = '0'\n",
    "    return iOut"
   ]
  },
  {
   "cell_type": "markdown",
   "id": "f3255eed-7b66-42f7-b355-cd098751f32a",
   "metadata": {},
   "source": [
    "### LFSR : function"
   ]
  },
  {
   "cell_type": "code",
   "execution_count": 6,
   "id": "5169becf-2f32-4199-bc41-8fec9d92e8c7",
   "metadata": {},
   "outputs": [],
   "source": [
    "def flfsr(seed):\n",
    "    sr, xor = seed, 0\n",
    "    taps =  (2,3,4,8)\n",
    "    value = []\n",
    "    while 1 :\n",
    "        for t in taps :\n",
    "            xor += int(sr[t-1])\n",
    "            if xor%2 == 0:\n",
    "                xor = 0\n",
    "            else :\n",
    "                xor = 1\n",
    "        #print(xor)\n",
    "        sr, xor = str(xor) + sr[:-1], 0\n",
    "        num = int(sr,2)\n",
    "        value.append(sr)\n",
    "        if sr == seed:\n",
    "            value.append(len(sr)*'0')\n",
    "            return value\n",
    "            break"
   ]
  },
  {
   "cell_type": "markdown",
   "id": "b9e743e5-1d3f-4f75-a498-0abffd4a26f3",
   "metadata": {},
   "source": [
    "### LFSR : one cycle function"
   ]
  },
  {
   "cell_type": "code",
   "execution_count": 7,
   "id": "1d581b8b-3df0-425c-bc13-9d8b40607868",
   "metadata": {},
   "outputs": [],
   "source": [
    "def olfsr(seed,flag,taps):\n",
    "    sr, xor = seed, 0\n",
    "    for t in taps :\n",
    "        xor += int(sr[t-1])\n",
    "        #print(xor)\n",
    "    if xor%2 == 0:\n",
    "        xor = 0\n",
    "    else :\n",
    "        xor = 1\n",
    "    sr, xor = str(xor) + sr[:-1], 0\n",
    "    num = int(sr,2)\n",
    "    if sr == flag[0]:\n",
    "        return len(seed)*\"0\"\n",
    "    else :\n",
    "        return sr"
   ]
  },
  {
   "cell_type": "markdown",
   "id": "1dc25ff8-986c-4c89-9aed-a8712db7ae4f",
   "metadata": {},
   "source": [
    "### SNG test"
   ]
  },
  {
   "cell_type": "code",
   "execution_count": null,
   "id": "c5de8403-feb3-4f55-ab65-35d332c4b04b",
   "metadata": {},
   "outputs": [],
   "source": [
    "bBW = 9\n",
    "for i in range(100):\n",
    "    #print(\"==================================\")\n",
    "    iA = random.randint(0,(((2**(bBW-1)-1))*2)+1)-(2**(bBW-1)) \t\n",
    "    cA = int2bin(iA,bBW) \n",
    "    sNUM = cA[0] #signed number\n",
    "    oAlist = []\n",
    "    lfsrlist = []\n",
    "    ran = random.randint(1,math.pow(2,bBW-1)-1)\n",
    "    ranZP = bBW-1-len(bin(ran)[2:])\n",
    "    num = ranZP*'0'+bin(ran)[2:]\n",
    "    #print(\"random number is : {i},{bi}\".format(i = int(num,2),bi=num))\n",
    "    for k in range(2**(bBW-1)): #lfsr number generating\n",
    "        if not lfsrlist:\n",
    "            lfsrlist.append(num)\n",
    "        else :\n",
    "            lfsrlist.append(olfsr(lfsrlist[k-1],lfsrlist,(2,3,4,8)))\n",
    "        blNUM = lfsrlist[k]\n",
    "        for com in range(0,len(blNUM)): #\tcomparator\n",
    "            oA = '0'\n",
    "            if cA[com+1] != blNUM[com]:\n",
    "                if int(cA[com+1]) > int(blNUM[com]) :\n",
    "                    oA = '1'\n",
    "                break\n",
    "        oAlist.append(XOR(oA,sNUM))\t#XOR gating & appending\n",
    "    Onum = oAlist.count('1')\n",
    "    oAlist.insert(0,sNUM)\n",
    "\tstochastic = \"\".join(oAlist)\n",
    "\t#print(\"==========={0}th===================\".format(i+1))\n",
    "\t#print(\"input A : {0}\".format(iA))\n",
    "\t#print(\"signed number is : %s\"%(sNUM))\n",
    "\t#print(\"Stochastic number is : {0}\".format(stochastic))\n",
    "\t#print(\"All bit stream length is : {0}\".format(len(stochastic)))\n",
    "\t#print(\"Probability is : {num}/{len}\".format(num=Onum,len=len(stochastic)-1))\n",
    "\n",
    "\tif abs(iA) != Onum :\n",
    "\t\tprint(\"error\")\n",
    "\t\tprint(\"input A : {0}\".format(iA))\n",
    "\t\tprint(\"signed number is : %s\"%(sNUM))\n",
    "\t\tprint(\"Stochastic number is : {0}\".format(stochastic))\n",
    "\t\tprint(\"All bit stream length is : {0}\".format(len(stochastic)))\n",
    "\t\tprint(\"Probability is : {num}/{len}\".format(num=Onum,len=len(stochastic)))\n",
    "\t\tprint(\"==================================\")\n",
    "\t\n",
    "print(\"==================================\")\n",
    "print(\"{0} cycle is done !\".format(i+1))"
   ]
  }
 ],
 "metadata": {
  "kernelspec": {
   "display_name": "Python 3",
   "language": "python",
   "name": "python3"
  },
  "language_info": {
   "codemirror_mode": {
    "name": "ipython",
    "version": 3
   },
   "file_extension": ".py",
   "mimetype": "text/x-python",
   "name": "python",
   "nbconvert_exporter": "python",
   "pygments_lexer": "ipython3",
   "version": "3.6.9"
  }
 },
 "nbformat": 4,
 "nbformat_minor": 5
}
