{
 "cells": [
  {
   "cell_type": "markdown",
   "id": "649f8736-056e-48bc-8d5a-e4acf3c40360",
   "metadata": {},
   "source": [
    "## Basic set"
   ]
  },
  {
   "cell_type": "code",
   "execution_count": 95,
   "id": "5f21a223-5c4b-4be0-8551-9a92756a8634",
   "metadata": {},
   "outputs": [],
   "source": [
    "import os, sys, random, struct\n",
    "import numpy as np\n",
    "np.set_printoptions(precision=16)"
   ]
  },
  {
   "cell_type": "markdown",
   "id": "88e37b38-6755-46a7-8330-b02d99c4aa0a",
   "metadata": {},
   "source": [
    "## Integer -> Two's Complemenet Binary"
   ]
  },
  {
   "cell_type": "code",
   "execution_count": 96,
   "id": "c1cf8214-343c-4181-a79e-8616e4c4599a",
   "metadata": {},
   "outputs": [],
   "source": [
    "def int2bin(iIn,iBW):\n",
    "    iBW = iBW + 1\n",
    "    if iIn >= 0:\n",
    "        bOut = bin(iIn).replace('0b','').rjust(iBW,'0')\n",
    "    else :\n",
    "        bOut = bin(iIn & (pow(2,iBW)-1)).replace('0b','').rjust(iBW,'1')\n",
    "    return bOut[1:]"
   ]
  },
  {
   "cell_type": "markdown",
   "id": "e17e2ba8-6dec-4cea-bcec-25cf262e8180",
   "metadata": {},
   "source": [
    "## XOR gate"
   ]
  },
  {
   "cell_type": "code",
   "execution_count": 97,
   "id": "388ed6a8-4a4a-4c3f-b6e6-244a6bf4c4de",
   "metadata": {},
   "outputs": [],
   "source": [
    "def XOR(iA,iB):\n",
    "    if iA != iB :\n",
    "        iOut = '1'\n",
    "    else :\n",
    "        iOut = '0'\n",
    "    return iOut"
   ]
  },
  {
   "cell_type": "markdown",
   "id": "13617216-3cc0-4595-aa22-d4cb8f9d9725",
   "metadata": {},
   "source": [
    "## SNG module"
   ]
  },
  {
   "cell_type": "code",
   "execution_count": 98,
   "id": "13ac3bc5-1c91-4738-9000-6c5793708b23",
   "metadata": {},
   "outputs": [],
   "source": [
    "bBW = 5\n",
    "#bit precision = 5, we can represent numbers -16 ~ 15(-2^(bBW-1) ~ 2^(bBW-1))"
   ]
  },
  {
   "cell_type": "markdown",
   "id": "1d3adb1e-f0e2-476a-907f-9d77fb618c3f",
   "metadata": {},
   "source": [
    "### version 1"
   ]
  },
  {
   "cell_type": "code",
   "execution_count": 100,
   "id": "ee68a272-162d-43f7-af52-64403cd435f8",
   "metadata": {},
   "outputs": [
    {
     "name": "stdout",
     "output_type": "stream",
     "text": [
      "error is : 0\n"
     ]
    }
   ],
   "source": [
    "e = 0\n",
    "for i in range(100000):\n",
    "    #print('==========={0}th===================='.format(i+1))\n",
    "    iA = random.randint(0,((2**(bBW-1)-1))*2)-(2**(bBW-1)-1) #random number generate -15 ~ 15\n",
    "    #print(\"input A : {0}\".format(iA))\n",
    "    cA = int2bin(iA,bBW) \n",
    "    sNUM = cA[0] #signed number\n",
    "    #print(\"signed number is : %s\"%(sNUM))\n",
    "    llist  = []\n",
    "    bllist = []\n",
    "    oAlist = []\n",
    "    for lfsr in range(2**(bBW-1)): #lfsr number generating\n",
    "        lNUM = random.randint(0,15)\n",
    "        while lNUM in llist:\n",
    "            lNUM = random.randint(0,15) #to avoid overlap value\n",
    "        llist.append(lNUM)\n",
    "        blNUM = bin(lNUM).replace('0b','').rjust(bBW-1, '0')\t\t#convert lfsr number\n",
    "        bllist.append(blNUM)\n",
    "        for com in range(0,len(blNUM)): #\tcomparator\n",
    "            oA = '0'\n",
    "            if cA[com+1] != blNUM[com]:\n",
    "                if int(cA[com+1]) > int(blNUM[com]) :\n",
    "                    oA = '1'\n",
    "                break\n",
    "        oAlist.append(XOR(oA,sNUM))\t#XOR gating & appending\n",
    "    Onum = oAlist.count('1')\n",
    "    oAlist.insert(0,sNUM)\n",
    "    stochastic = \"\".join(oAlist)\n",
    "    #print(\"Stochastic number is : {0}\".format(stochastic))\n",
    "    #print(\"All bit stream length is : {0}\".format(len(stochastic)))\n",
    "    #print(\"Probability is : {num}/{len}\".format(num=Onum,len=len(stochastic)))\n",
    "    pos = []\n",
    "    for a in range(len(oAlist)):\n",
    "        if oAlist[a] == '1' :\n",
    "            pos.append(a)\n",
    "    \n",
    "    if abs(iA) != Onum :\n",
    "        print(\"error\")\n",
    "        e = e + 1\n",
    "        print(\"input is : {0}\".format(iA))\n",
    "        print(\"converted input is : {0}\".format(cA))\n",
    "        print(\"stochastic number is : {0}\".format(stochastic))\n",
    "        print(\"probability is : {num}/{len}\".format(num=Onum,len=len(stochastic)))\n",
    "        print(\"one index is : {0}\".format(pos))\n",
    "        print(int(cA[1]),int(cA[2]),int(cA[3]),int(cA[4]))\n",
    "        #print(int(blNUM[0]),int(blNUM[1]),int(blNUM[2]),int(blNUM[3]))\n",
    "        for k in pos:\n",
    "            print(llist[k-1], bllist[k-1])\n",
    "            print(oA)\n",
    "print(\"error is : {0}\".format(e))"
   ]
  },
  {
   "cell_type": "markdown",
   "id": "20aa0f7b-0aae-4679-84c1-d1f2fffcebee",
   "metadata": {},
   "source": [
    "### version 2"
   ]
  },
  {
   "cell_type": "code",
   "execution_count": 101,
   "id": "d0edba7f-0284-4ce1-94d4-cbb239ebddb7",
   "metadata": {
    "tags": []
   },
   "outputs": [
    {
     "name": "stdout",
     "output_type": "stream",
     "text": [
      "error is : 0\n"
     ]
    }
   ],
   "source": [
    "ilist  = []\n",
    "cAlist = []\n",
    "slist  = []\n",
    "onlist = []\n",
    "e = 0\n",
    "for n in range(10000):\n",
    "    iA = random.randint(0,((2**(bBW-1)-1))*2)-(2**(bBW-1)-1) #random number generate -16 ~ 16\n",
    "    ilist.append(iA)\n",
    "    cA = int2bin(iA,bBW)\n",
    "    cAlist.append(cA)\n",
    "    sNUM = cA[0] #signed number\n",
    "    oAlist = [] #for make stochastic number\n",
    "    llist  = [] #for make lfsr\n",
    "    for lfsr in range(2**(bBW-1)): #lfsr number generating\n",
    "        lNUM = random.randint(0,15)\n",
    "        while lNUM in llist:\n",
    "            lNUM = random.randint(0,15) #to avoid overlap value\n",
    "        llist.append(lNUM)\n",
    "        blNUM = bin(lNUM).replace('0b','').rjust(bBW-1, '0') #convert lfsr number\n",
    "        for com in range(0,len(blNUM)): #\tcomparator\n",
    "            oA = '0'\n",
    "            if cA[com+1] != blNUM[com]:\n",
    "                if int(cA[com+1]) > int(blNUM[com]) :\n",
    "                    oA = '1'\n",
    "                break\n",
    "        oAlist.append(XOR(oA,sNUM))\t#XOR gating & appending\n",
    "    Onum = oAlist.count('1')\n",
    "    onlist.append(Onum)\n",
    "    oAlist.insert(0,sNUM)\n",
    "    stochastic = \"\".join(oAlist)\n",
    "    slist.append(stochastic)\n",
    "    if abs(iA) != Onum:\n",
    "        print(\"error\")\n",
    "        e = e + 1\n",
    "        print(\"========================================\")\n",
    "        print(\"input number is : {0}\".format(ilist[n]))\n",
    "        print(\"converted input number is : {0}\".format(cAlist[n]))\n",
    "        print(\"stochastic number is : {0}\".format(slist[n]))\n",
    "        print(\"probability is : {num}/{len}\".format(num = onlist[n],len=len(slist[n])))\n",
    "        print(\"========================================\")\n",
    "print(\"error is : {0}\".format(e))"
   ]
  },
  {
   "cell_type": "code",
   "execution_count": 102,
   "id": "41a0dab2-d3ce-4951-8d47-8357fc6b7d7a",
   "metadata": {},
   "outputs": [
    {
     "name": "stdout",
     "output_type": "stream",
     "text": [
      "========================================\n",
      "input number is : -13\n",
      "converted input number is : 10011\n",
      "stochastic number is : 10111111111101110\n",
      "probability is : 13/17\n",
      "========================================\n",
      "========================================\n",
      "input number is : -10\n",
      "converted input number is : 10110\n",
      "stochastic number is : 11111011101100100\n",
      "probability is : 10/17\n",
      "========================================\n",
      "========================================\n",
      "input number is : 10\n",
      "converted input number is : 01010\n",
      "stochastic number is : 00111001111001011\n",
      "probability is : 10/17\n",
      "========================================\n",
      "========================================\n",
      "input number is : 0\n",
      "converted input number is : 00000\n",
      "stochastic number is : 00000000000000000\n",
      "probability is : 0/17\n",
      "========================================\n",
      "========================================\n",
      "input number is : -5\n",
      "converted input number is : 11011\n",
      "stochastic number is : 10100110000100100\n",
      "probability is : 5/17\n",
      "========================================\n",
      "========================================\n",
      "input number is : -5\n",
      "converted input number is : 11011\n",
      "stochastic number is : 10010000001010011\n",
      "probability is : 5/17\n",
      "========================================\n",
      "========================================\n",
      "input number is : 6\n",
      "converted input number is : 00110\n",
      "stochastic number is : 01001100011100000\n",
      "probability is : 6/17\n",
      "========================================\n",
      "========================================\n",
      "input number is : -13\n",
      "converted input number is : 10011\n",
      "stochastic number is : 11111101111111100\n",
      "probability is : 13/17\n",
      "========================================\n",
      "========================================\n",
      "input number is : 0\n",
      "converted input number is : 00000\n",
      "stochastic number is : 00000000000000000\n",
      "probability is : 0/17\n",
      "========================================\n",
      "========================================\n",
      "input number is : 1\n",
      "converted input number is : 00001\n",
      "stochastic number is : 00000000000000100\n",
      "probability is : 1/17\n",
      "========================================\n"
     ]
    }
   ],
   "source": [
    "for n in range(10) :\n",
    "    print(\"========================================\")\n",
    "    print(\"input number is : {0}\".format(ilist[n]))\n",
    "    print(\"converted input number is : {0}\".format(cAlist[n]))\n",
    "    print(\"stochastic number is : {0}\".format(slist[n]))\n",
    "    print(\"probability is : {num}/{len}\".format(num = onlist[n],len=len(slist[n])))\n",
    "    print(\"========================================\")"
   ]
  },
  {
   "cell_type": "code",
   "execution_count": null,
   "id": "f1da4ccc-7f0c-4749-9892-756171bb6381",
   "metadata": {},
   "outputs": [],
   "source": []
  },
  {
   "cell_type": "code",
   "execution_count": null,
   "id": "2b8bdd34-c4d5-49e7-9441-afff3bfcdf22",
   "metadata": {},
   "outputs": [],
   "source": []
  }
 ],
 "metadata": {
  "kernelspec": {
   "display_name": "Python 3",
   "language": "python",
   "name": "python3"
  },
  "language_info": {
   "codemirror_mode": {
    "name": "ipython",
    "version": 3
   },
   "file_extension": ".py",
   "mimetype": "text/x-python",
   "name": "python",
   "nbconvert_exporter": "python",
   "pygments_lexer": "ipython3",
   "version": "3.6.9"
  }
 },
 "nbformat": 4,
 "nbformat_minor": 5
}
