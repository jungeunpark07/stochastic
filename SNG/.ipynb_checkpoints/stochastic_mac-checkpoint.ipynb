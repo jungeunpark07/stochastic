{
 "cells": [
  {
   "cell_type": "code",
   "execution_count": 1,
   "id": "3e99f4bd-8e19-41a7-a827-353564af4c36",
   "metadata": {},
   "outputs": [],
   "source": [
    "import random, struct,math\n",
    "import argparse"
   ]
  },
  {
   "cell_type": "code",
   "execution_count": 2,
   "id": "a3cced51-303f-489f-aa48-fb8d5939f1cc",
   "metadata": {},
   "outputs": [],
   "source": [
    "BLACK\t= '\\033[30m'\n",
    "RED\t\t= '\\033[31m'\n",
    "GREEN\t= '\\033[32m'\n",
    "YELLOW\t= '\\033[33m'\n",
    "BLUE\t= '\\033[34m'\n",
    "MAGENTA\t= '\\033[35m'\n",
    "CYAN\t= '\\033[36m'\n",
    "RESET\t= '\\033[0m'\n",
    "SEL\t\t= '\\033[7m'"
   ]
  },
  {
   "cell_type": "code",
   "execution_count": 3,
   "id": "df48a9f4-bec3-46e2-95a1-6d0ed518ff6d",
   "metadata": {},
   "outputs": [],
   "source": [
    "parser = argparse.ArgumentParser(description='fixed_mac')\n",
    "parser.add_argument('--full_bits', type=int, default=8, help='Number of Quantization Bits')\n",
    "parser.add_argument('--frac_bits', type=int, default=4, help='Number of Quantization Bits')\n",
    "parser.add_argument('--bBW', type=int, default=2, help='Number of bit width')\n",
    "args = parser.parse_args(args=[])\n"
   ]
  },
  {
   "cell_type": "markdown",
   "id": "6312520a-b4df-4d21-b31f-3eeb85fa9575",
   "metadata": {},
   "source": [
    "## Integer -> Two's Complemenet Binary"
   ]
  },
  {
   "cell_type": "code",
   "execution_count": 4,
   "id": "e553d9cc-9249-4c3d-a210-469ab8f159c9",
   "metadata": {},
   "outputs": [],
   "source": [
    "def int2bin(iIn,iBW):\n",
    "    iBW = iBW + 1\n",
    "    if iIn >= 0:\n",
    "        bOut = bin(iIn).replace('0b','').rjust(iBW,'0')\n",
    "    else :\n",
    "        bOut = bin(iIn & (pow(2,iBW)-1)).replace('0b','').rjust(iBW,'1')\n",
    "    return bOut[1:]"
   ]
  },
  {
   "cell_type": "markdown",
   "id": "413bdd6d-cd83-42a9-ad29-a4af0b72f102",
   "metadata": {},
   "source": [
    "## XOR gate"
   ]
  },
  {
   "cell_type": "code",
   "execution_count": 5,
   "id": "09d95cc1-d676-4ed0-813d-7343b4dede4a",
   "metadata": {},
   "outputs": [],
   "source": [
    "def XOR(iA,iB):\n",
    "    if iA != iB :\n",
    "        iOut = '1'\n",
    "    else : \n",
    "        iOut = '0'\n",
    "    return iOut"
   ]
  },
  {
   "cell_type": "markdown",
   "id": "9ee4955e-50d6-4ac2-9ba8-d7c7b50b01e3",
   "metadata": {},
   "source": [
    "## LFSR funnction"
   ]
  },
  {
   "cell_type": "code",
   "execution_count": 6,
   "id": "e0bb6a99-3fe0-4f83-a5e6-f8e766a760c2",
   "metadata": {},
   "outputs": [],
   "source": [
    "def olfsr(seed,flag,taps):\n",
    "    sr, xor = seed, 0\n",
    "    for t in taps :\n",
    "        xor += int(sr[t-1])\n",
    "        #print(xor)\n",
    "    if xor%2 == 0:\n",
    "        xor = 0\n",
    "    else :\n",
    "        xor = 1\n",
    "    sr, xor = str(xor) + sr[:-1], 0\n",
    "    num = int(sr,2)\n",
    "    if sr == flag[0]:\n",
    "        return len(seed)*\"0\"\n",
    "    else :\n",
    "        return sr"
   ]
  },
  {
   "cell_type": "markdown",
   "id": "cd738b43-e066-4d71-8ddd-fac7a47d0496",
   "metadata": {},
   "source": [
    "### Comparator"
   ]
  },
  {
   "cell_type": "code",
   "execution_count": 7,
   "id": "049ff40d-4dcb-4c54-b729-63a1fb740220",
   "metadata": {},
   "outputs": [],
   "source": [
    "def Comp(a,lfsr):\n",
    "    for com in range(0,len(lfsr)):\n",
    "        oA = '0'\n",
    "        if a[com+1]!=lfsr[com]:\n",
    "            if(int(a[com+1]) > int(lfsr[com])):\n",
    "                oA = '1'\n",
    "            break\n",
    "    return XOR(oA,a[0])"
   ]
  },
  {
   "cell_type": "markdown",
   "id": "33f41483-e714-43a8-9aeb-e712cdff20cf",
   "metadata": {},
   "source": [
    "### lfsr shifter"
   ]
  },
  {
   "cell_type": "markdown",
   "id": "9de73b3b-ecda-44ef-ad26-62e2212ef3b6",
   "metadata": {},
   "source": [
    "k bit shifter : lfsr의 bit를 kbit만큼 shift 해서 자리 바꿔줌, 이 때 k는 lfsr 길이의 절반"
   ]
  },
  {
   "cell_type": "code",
   "execution_count": 8,
   "id": "ce93d07c-9a1d-4bf5-a151-1ae56ad31e49",
   "metadata": {},
   "outputs": [],
   "source": [
    "def kshift(a,k):\n",
    "    if type(a) != str :\n",
    "        print(\"input is not string type\")\n",
    "        return 0\n",
    "    b = (a[k:]+ a[:k])\n",
    "    return b"
   ]
  },
  {
   "cell_type": "markdown",
   "id": "b4a75226-82f2-4377-b710-0c7ad96edde2",
   "metadata": {},
   "source": [
    "## SNG : use k-bit LFSR"
   ]
  },
  {
   "cell_type": "code",
   "execution_count": 15,
   "id": "c2ff5fde-c625-49f3-9216-8c033c2839ab",
   "metadata": {},
   "outputs": [],
   "source": [
    "def SNG_k(a,b,bBW):\n",
    "    iA = int2bin(a,bBW)\n",
    "    iB = int2bin(b,bBW)\n",
    "    #sNUM = iB[0] #signed number\n",
    "    \n",
    "    oAlist = []\n",
    "    oBlist = []\n",
    "    \n",
    "    lfsrlist = []\n",
    "    ran = random.randint(1,math.pow(2,bBW-1)-1)\n",
    "    ranZP = bBW-1-len(bin(ran)[2:])\n",
    "    num = ranZP*'0'+bin(ran)[2:] #lfsr start number generate\n",
    "    for k in range(2**(bBW-1)): #lfsr number generating\n",
    "        if not lfsrlist:\n",
    "            lfsrlist.append(num)\n",
    "        else :\n",
    "            lfsrlist.append(olfsr(lfsrlist[k-1],lfsrlist,(0,1)))\n",
    "        alNUM = lfsrlist[k] #lfsr of input a --> number generating\n",
    "        blNUM = kshift(alNUM,len(alNUM)//2) #lfsr of input b --> k bit shifting\n",
    "\n",
    "        oAlist.append(Comp(iA,alNUM)) #comparator of input a\n",
    "        oBlist.append(Comp(iB,blNUM)) #comparator of input b\n",
    "        \n",
    "    oAnum = oAlist.count('1')\n",
    "    oBnum = oBlist.count('1')\n",
    "    \n",
    "    if (oAnum != abs(a)) or (oBnum != abs(b)) :\n",
    "        print(\"SNG is fail\")\n",
    "        return 0\n",
    "    \n",
    "    oAlist.insert(0,iA[0])\n",
    "    oBlist.insert(0,iB[0])\n",
    "    sA = \"\".join(oAlist)\n",
    "    sB = \"\".join(oBlist)\n",
    "    return sA,sB"
   ]
  },
  {
   "cell_type": "markdown",
   "id": "7286106f-33c4-4cee-a0b8-167561af0d39",
   "metadata": {},
   "source": [
    "### permutation shifter"
   ]
  },
  {
   "cell_type": "code",
   "execution_count": 16,
   "id": "0a7cd0b7-ecf2-4a9d-8969-7592a0434916",
   "metadata": {},
   "outputs": [],
   "source": [
    "def perm(a):\n",
    "    al = len(a)\n",
    "    blist = []\n",
    "    for i in range(al) :\n",
    "        #print(al-i-1)\n",
    "        blist.append(a[al-i-1])\n",
    "    \n",
    "    b = \"\".join(blist)\n",
    "    \n",
    "    return b"
   ]
  },
  {
   "cell_type": "markdown",
   "id": "f499cb04-b498-4c08-953f-e137d1edef24",
   "metadata": {},
   "source": [
    "## SNG : using Permutation-based LFSR"
   ]
  },
  {
   "cell_type": "code",
   "execution_count": 17,
   "id": "aabf27e7-f29d-41f9-b75a-678d4ce23363",
   "metadata": {},
   "outputs": [],
   "source": [
    "def SNG_p(a,b,bBW):\n",
    "    iA = int2bin(a,bBW)\n",
    "    iB = int2bin(b,bBW)\n",
    "    #sNUM = iB[0] #signed number\n",
    "    \n",
    "    oAlist = []\n",
    "    oBlist = []\n",
    "    \n",
    "    lfsrlist = []\n",
    "    ran = random.randint(1,math.pow(2,bBW-1)-1)\n",
    "    ranZP = bBW-1-len(bin(ran)[2:])\n",
    "    num = ranZP*'0'+bin(ran)[2:] #lfsr start number generate\n",
    "    for k in range(2**(bBW-1)): #lfsr number generating\n",
    "        if not lfsrlist:\n",
    "            lfsrlist.append(num)\n",
    "        else :\n",
    "            lfsrlist.append(olfsr(lfsrlist[k-1],lfsrlist,(0,1)))\n",
    "        alNUM = lfsrlist[k] #lfsr of input a --> number generating\n",
    "        blNUM = perm(alNUM) #lfsr of input b --> k bit shifting\n",
    "\n",
    "        oAlist.append(Comp(iA,alNUM)) #comparator of input a\n",
    "        oBlist.append(Comp(iB,blNUM)) #comparator of input b\n",
    "        \n",
    "    oAnum = oAlist.count('1')\n",
    "    oBnum = oBlist.count('1')\n",
    "    \n",
    "    if (oAnum != abs(a)) or (oBnum != abs(b)) :\n",
    "        print(\"SNG is fail\")\n",
    "        return 0\n",
    "    \n",
    "    oAlist.insert(0,iA[0])\n",
    "    oBlist.insert(0,iB[0])\n",
    "    sA = \"\".join(oAlist)\n",
    "    sB = \"\".join(oBlist)\n",
    "    return sA,sB"
   ]
  },
  {
   "cell_type": "markdown",
   "id": "d58dcb19-c1fd-4fd3-a5b7-8836b9cc0598",
   "metadata": {},
   "source": [
    "## MAC"
   ]
  },
  {
   "cell_type": "markdown",
   "id": "908546de-7cab-46df-a013-5e8ea38eeb9c",
   "metadata": {},
   "source": [
    "### mult"
   ]
  },
  {
   "cell_type": "code",
   "execution_count": 18,
   "id": "3bb8012d-1e79-4af3-bbe5-dcf5f3b5318a",
   "metadata": {},
   "outputs": [],
   "source": [
    "def mul(a,b):\n",
    "    al = len(a)\n",
    "    bl = len(b)\n",
    "    \n",
    "    outlist = []\n",
    "    \n",
    "    if al != bl :\n",
    "        print(\"length of string is different\")\n",
    "        return 0\n",
    "    \n",
    "    for i in range(al) :\n",
    "        outlist.append(str(int(a[i]) & int(b[i])))\n",
    "    \n",
    "    #print(outlist)\n",
    "    out = \"\".join(outlist)\n",
    "    \n",
    "    return out    "
   ]
  },
  {
   "cell_type": "code",
   "execution_count": 19,
   "id": "94cf1f88-d437-475e-82eb-f734324c415b",
   "metadata": {},
   "outputs": [],
   "source": [
    "def count1(sto):\n",
    "    n = 0\n",
    "    for i in range(len(sto)):\n",
    "        if sto[i] == '1' :\n",
    "                   n += 1\n",
    "    \n",
    "    return n"
   ]
  },
  {
   "cell_type": "markdown",
   "id": "7e7d5c14-e978-48d1-a8af-0e01cfa89460",
   "metadata": {},
   "source": [
    "## TEST"
   ]
  },
  {
   "cell_type": "code",
   "execution_count": 36,
   "id": "76319659-158d-4cc4-9dcd-1a67abd0bee9",
   "metadata": {},
   "outputs": [
    {
     "name": "stdout",
     "output_type": "stream",
     "text": [
      "-2\n",
      "-1\n",
      "10000000110000000\n",
      "10000001100000000\n",
      "10000000010000000\n",
      "10000000100000000\n",
      "-2\n",
      "-1\n",
      "10000000110000000\n",
      "11100000000000000\n",
      "10000000010000000\n",
      "10100000000000000\n",
      "-2\n",
      "-1\n",
      "10000000110000000\n",
      "10000000001100000\n",
      "10000000010000000\n",
      "10000000000100000\n"
     ]
    }
   ],
   "source": [
    "k=0\n",
    "p=0\n",
    "\n",
    "bBW = 5\n",
    "for i in range (3) :\n",
    "\n",
    "    Ra = random.randint(0,(((2**(args.bBW-1)-1))*2)-1)-(2**(args.bBW-1)) \n",
    "    Rb = random.randint(0,(((2**(args.bBW-1)-1))*2)-1)-(2**(args.bBW-1)) \n",
    "    Rresult = Ra * Rb\n",
    "    \n",
    "    ka,kb = SNG_k(Ra,Rb,bBW) #k_shift\n",
    "    pa,pb = SNG_p(Ra,Rb,bBW) #permutation\n",
    "    \n",
    "    print(Ra)\n",
    "    print(Rb)\n",
    "    print(ka)\n",
    "    print(pa)\n",
    "    print(kb)\n",
    "    print(pb)\n",
    "    \n",
    "    kout = mul(ka,kb)\n",
    "    pout = mul(pa,pb)\n",
    "   \n",
    "    kresult = kout[1:]*len(ka[1:])\n",
    "    presult = pout[1:]*len(pa[1:])\n",
    "    \n",
    "    kNumOne = count1(kresult)\n",
    "    pNumOne = count1(presult)\n",
    " \n",
    "    ResultValue = Rresult/pow(2**(bBW-1),2)\n",
    "    \n",
    "    kValue = kNumOne/pow(2**(bBW-1),2)\n",
    "    pValue = pNumOne/pow(2**(bBW-1),2)\n",
    "    \n",
    "    \n",
    "    Kpercent = abs(kValue-ResultValue)*100\n",
    "    if (100-Kpercent) > 95.0 :\n",
    "        k += 1\n",
    "    \n",
    "    \n",
    "    Ppercent = abs(pValue-ResultValue)*100\n",
    "    if (100-Ppercent) > 94.5 :\n",
    "        p += 1\n",
    "    \n",
    "    #print(f'Ra : {Ra:>30n},{Sa}')\n",
    "    #print(f'Rb : {Rb:>30n},{Sb}')\n",
    "    \n",
    "    #print(f'result : {Rresult:>26n}')\n",
    "    #print(f'multiplier stohastic number is : {Sout:>20s}')\n",
    "    #print(f'NumOne is : {NumOne:>23n}')\n",
    "    #print(f'ResultValue is : {ResultValue:>25f}')\n",
    "    #print(f'StoValue is : {StoValue:>28f}')\n",
    "    #print(f'percentage is : {100-percent:>26f}')\n",
    "    #print(f'----------------------------------------------------------')  "
   ]
  },
  {
   "cell_type": "code",
   "execution_count": 37,
   "id": "2931cb64-fd74-4d19-bf13-23341935ae8d",
   "metadata": {},
   "outputs": [
    {
     "name": "stdout",
     "output_type": "stream",
     "text": [
      " k_shift success is : 0/10000\n",
      " permutation success is : 3/10000\n"
     ]
    }
   ],
   "source": [
    "print(f' k_shift success is : {k}/{10000}')\n",
    "print(f' permutation success is : {p}/{10000}')"
   ]
  },
  {
   "cell_type": "markdown",
   "id": "c6b983af-78af-4ee1-a5db-ad8bd7c3f8f0",
   "metadata": {},
   "source": [
    "k_shift와 permutation 비교했을 때, permutation이 더 error가 작음"
   ]
  },
  {
   "cell_type": "code",
   "execution_count": null,
   "id": "b423bf46-84b2-47d5-bb13-e4bf0c02f248",
   "metadata": {},
   "outputs": [],
   "source": []
  }
 ],
 "metadata": {
  "kernelspec": {
   "display_name": "Python 3",
   "language": "python",
   "name": "python3"
  },
  "language_info": {
   "codemirror_mode": {
    "name": "ipython",
    "version": 3
   },
   "file_extension": ".py",
   "mimetype": "text/x-python",
   "name": "python",
   "nbconvert_exporter": "python",
   "pygments_lexer": "ipython3",
   "version": "3.6.9"
  }
 },
 "nbformat": 4,
 "nbformat_minor": 5
}
