{
 "cells": [
  {
   "cell_type": "markdown",
   "id": "649f8736-056e-48bc-8d5a-e4acf3c40360",
   "metadata": {},
   "source": [
    "## Basic set"
   ]
  },
  {
   "cell_type": "code",
   "execution_count": 1,
   "id": "5f21a223-5c4b-4be0-8551-9a92756a8634",
   "metadata": {},
   "outputs": [],
   "source": [
    "import os, sys, random, struct, argparse\n",
    "import numpy as np\n",
    "np.set_printoptions(precision=16)"
   ]
  },
  {
   "cell_type": "code",
   "execution_count": 2,
   "id": "39908c56-f4cb-4d5d-a1ab-769fa3785b00",
   "metadata": {},
   "outputs": [],
   "source": [
    "sys.path.remove('/home/jungeun/.local/lib/python3.6/site-packages')"
   ]
  },
  {
   "cell_type": "code",
   "execution_count": 3,
   "id": "00c82aa4-a497-4855-a9eb-e4315526251b",
   "metadata": {},
   "outputs": [],
   "source": [
    "import torch\n",
    "sys.path.append('/home/jungeun/.local/lib/python3.6/site-packages')"
   ]
  },
  {
   "cell_type": "code",
   "execution_count": 4,
   "id": "4fd834e0-4da5-4e31-bc86-d646f70d6b52",
   "metadata": {},
   "outputs": [],
   "source": [
    "parser = argparse.ArgumentParser(description='fixed_mac')\n",
    "parser.add_argument('--full_bits', type=int, default=8, help='Number of Quantization Bits')\n",
    "parser.add_argument('--frac_bits', type=int, default=4, help='Number of Quantization Bits')\n",
    "parser.add_argument('--bBW', type=int, default=4, help='Number of bit width')\n",
    "args = parser.parse_args(args=[])"
   ]
  },
  {
   "cell_type": "markdown",
   "id": "88e37b38-6755-46a7-8330-b02d99c4aa0a",
   "metadata": {},
   "source": [
    "## Integer -> Two's Complemenet Binary"
   ]
  },
  {
   "cell_type": "code",
   "execution_count": 5,
   "id": "c1cf8214-343c-4181-a79e-8616e4c4599a",
   "metadata": {},
   "outputs": [],
   "source": [
    "def int2bin(iIn,iBW):\n",
    "    iBW = iBW + 1\n",
    "    if iIn >= 0:\n",
    "        bOut = bin(iIn).replace('0b','').rjust(iBW,'0')\n",
    "    else :\n",
    "        bOut = bin(iIn & (pow(2,iBW)-1)).replace('0b','').rjust(iBW,'1')\n",
    "    return bOut[1:]"
   ]
  },
  {
   "cell_type": "markdown",
   "id": "e17e2ba8-6dec-4cea-bcec-25cf262e8180",
   "metadata": {},
   "source": [
    "## XOR gate"
   ]
  },
  {
   "cell_type": "code",
   "execution_count": 6,
   "id": "388ed6a8-4a4a-4c3f-b6e6-244a6bf4c4de",
   "metadata": {},
   "outputs": [],
   "source": [
    "def XOR(iA,iB):\n",
    "    if iA != iB :\n",
    "        iOut = 1\n",
    "    else :\n",
    "        iOut = 0\n",
    "    return iOut"
   ]
  },
  {
   "cell_type": "code",
   "execution_count": 7,
   "id": "ea5bb26e-0d8b-4b1f-a9db-363563987eb7",
   "metadata": {},
   "outputs": [],
   "source": [
    "def binInv(bIn):\n",
    "    bOut = bin(int(bIn,2)^(pow(2,len(bIn))-1)).replace('0b','').rjust(len(bIn),'0')\n",
    "    return bOut"
   ]
  },
  {
   "cell_type": "code",
   "execution_count": 8,
   "id": "d05e63a6-dcf7-4d21-a70f-75e2cc7c8df1",
   "metadata": {},
   "outputs": [
    {
     "data": {
      "text/plain": [
       "0.5"
      ]
     },
     "execution_count": 8,
     "metadata": {},
     "output_type": "execute_result"
    }
   ],
   "source": [
    "2**-1"
   ]
  },
  {
   "cell_type": "code",
   "execution_count": 9,
   "id": "0d59d6ac-5f12-4482-837b-9afda117b181",
   "metadata": {},
   "outputs": [],
   "source": [
    "def FindFraction(bIn):\n",
    "    s = 0\n",
    "    for i in range(len(bIn)):\n",
    "        if bIn[i] == '1' :\n",
    "            s = s + 2**(-(i+1))\n",
    "    return s"
   ]
  },
  {
   "cell_type": "code",
   "execution_count": 10,
   "id": "402b25fc-cfb6-4bfe-a341-9da2930b5bdc",
   "metadata": {},
   "outputs": [
    {
     "data": {
      "text/plain": [
       "0.7265625"
      ]
     },
     "execution_count": 10,
     "metadata": {},
     "output_type": "execute_result"
    }
   ],
   "source": [
    "10111010\n",
    "FindFraction('10111010')"
   ]
  },
  {
   "cell_type": "markdown",
   "id": "0cbcc51b-6dda-484c-a5b9-3a9a95cd8e0d",
   "metadata": {
    "tags": []
   },
   "source": [
    "## Fixed"
   ]
  },
  {
   "cell_type": "code",
   "execution_count": 11,
   "id": "f2b9ef3e-47d5-4625-8f7a-a4bc929c3510",
   "metadata": {},
   "outputs": [],
   "source": [
    "class fxp:\n",
    "    def __init__(self, bIn, iBWF):\n",
    "        self.iFullBW = len(bIn)\n",
    "        self.iIntgBW = self.iFullBW - iBWF\n",
    "        self.bSign = bIn[0]\n",
    "        self.bIntg = bIn[:self.iIntgBW]\n",
    "        self.bFrac = bIn[self.iIntgBW:]\n",
    "        self.fFull = 0\n",
    "        try:\n",
    "            for idx, bit in enumerate(bIn):\n",
    "                if idx == 0:\n",
    "                    self.fFull = self.fFull + int(bit,2) * -pow(2, self.iIntgBW - 1)\n",
    "                else:\n",
    "                    self.fFull = self.fFull + int(bit,2) * pow(2, self.iIntgBW - 1 - idx)\n",
    "        except:\n",
    "            print(bIn)\n",
    "        self.dispFull = self.bIntg +\".\"+ self.bFrac \n",
    "        return"
   ]
  },
  {
   "cell_type": "code",
   "execution_count": 12,
   "id": "7d4fbbe4-2173-4bbc-b00c-ee09387d3959",
   "metadata": {},
   "outputs": [],
   "source": [
    "class flp2fix:\n",
    "    def __init__(self, fIn, iBW, iBWF):\n",
    "        self.fMin = - 2 ** (iBW - iBWF - 1)\n",
    "        self.fMax = (2 ** (iBW-1) - 1) * (2 ** -iBWF)\n",
    "        self.fResol\t\t= 2 ** -iBWF\n",
    "        if fIn < self.fMin or fIn > self.fMax:\n",
    "            print(f'({fIn}): Out of input range ({self.fMax}/{self.fMin}) during flp -> fix converting ')\n",
    "        self.iBW = iBW\n",
    "        self.iBWI = iBW - iBWF\n",
    "        self.iBWF = iBWF\n",
    "\n",
    "        self.iFLP2INT = abs(int(fIn * 2 ** iBWF))\n",
    "        if fIn < 0:\n",
    "            self.iFLP2INT = 2 ** (iBW-1) - self.iFLP2INT\n",
    "\n",
    "        if fIn >= 0:\n",
    "            self.bFull = bin(self.iFLP2INT)[2:].rjust(iBW, '0')\n",
    "        else:\n",
    "            self.bFull = '1'+bin(self.iFLP2INT)[2:].rjust(iBW-1, '0')\n",
    "            if len(self.bFull) > iBW:\n",
    "                self.bFull = '0' * iBW\n",
    "\n",
    "        self.cssFxp = fxp(self.bFull, self.iBWF)\n",
    "        self.bSign = self.cssFxp.bSign\n",
    "        self.bIntg = self.cssFxp.bIntg\n",
    "        self.bFrac = self.cssFxp.bFrac\n",
    "        self.fFull = self.cssFxp.fFull\n",
    "        return"
   ]
  },
  {
   "cell_type": "code",
   "execution_count": 13,
   "id": "acd8246c-8803-4c94-97ff-6e690cb54c9d",
   "metadata": {},
   "outputs": [],
   "source": [
    "class LFSR4:\n",
    "    def Random(self):\n",
    "        self.b0 = eval(f'str(random.randint(0,1))')\n",
    "        self.b1 = eval(f'str(random.randint(0,1))')\n",
    "        self.b2 = eval(f'str(random.randint(0,1))')\n",
    "        self.b3 = eval(f'str(random.randint(0,1))')\n",
    "        if int(self.b0) + int(self.b1) + int(self.b2) + int(self.b3)  == 0 :\n",
    "            self.b0 = eval(f'str(random.randint(0,1))')\n",
    "            self.b1 = eval(f'str(random.randint(0,1))')\n",
    "            self.b2 = eval(f'str(random.randint(0,1))')\n",
    "            self.b3 = eval(f'str(random.randint(0,1))')\n",
    "        return self.b0 + self.b1 + self.b2 + self.b3 \n",
    "    \n",
    "    def Normal(self,stream):\n",
    "        self.b0 = str(XOR(int(stream[2]),int(stream[3])))\n",
    "        self.b1 = str(stream[0])\n",
    "        self.b2 = str(stream[1])\n",
    "        self.b3 = str(stream[2])\n",
    "        \n",
    "        return self.b0 + self.b1 + self.b2 + self.b3 \n",
    "    \n",
    "    def Allzero(self):\n",
    "        self.b0 = '0'\n",
    "        self.b1 = '0'\n",
    "        self.b2 = '0'\n",
    "        self.b3 = '0'\n",
    "        \n",
    "        return self.b0 + self.b1 + self.b2 + self.b3 "
   ]
  },
  {
   "cell_type": "code",
   "execution_count": 14,
   "id": "35485a2e-bd73-4d93-9a33-7dc92f3f1027",
   "metadata": {},
   "outputs": [],
   "source": [
    "def LFSRlist4():\n",
    "    lfsr = LFSR4()\n",
    "    lfsrlist = []\n",
    "    for k in range(2**(args.bBW)-1): #lfsr number generating\n",
    "        if k == 0:\n",
    "            lfsrlist.append(lfsr.Random())\n",
    "        else :\n",
    "            lfsrlist.append(lfsr.Normal(lfsrlist[k-1]))\n",
    "        if (k == 2**(args.bBW)-2):\n",
    "            lfsrlist.append(lfsr.Allzero())\n",
    "    \n",
    "    if (args.bBW) != args.frac_bits :\n",
    "        if args.bBW < args.frac_bits :\n",
    "            for i in range(len(lfsrlist)):\n",
    "                lfsrlist[i] = lfsrlist[i] + (args.frac_bits-args.bBW)*'0'\n",
    "        else :\n",
    "            print(\"it can't work\")\n",
    "            return 0\n",
    "    \n",
    "    return lfsrlist"
   ]
  },
  {
   "cell_type": "markdown",
   "id": "ff905cf1-7a4e-4031-adfd-2b92191ac356",
   "metadata": {},
   "source": [
    "## Comparator"
   ]
  },
  {
   "cell_type": "code",
   "execution_count": 84,
   "id": "97d29923-b3ab-4884-b24f-ebd5085ef573",
   "metadata": {},
   "outputs": [],
   "source": [
    "def Comp(a,lfsr,snum): #lfsr number < origin number , output = 1\n",
    "    for com in range(0,len(a)):\n",
    "        oA = 0\n",
    "        if a[com]!=lfsr[com]:\n",
    "            if(int(a[com]) > int(lfsr[com])):\n",
    "                oA = 1\n",
    "            else :\n",
    "                oA = 0\n",
    "            break\n",
    "    return XOR(oA,snum)"
   ]
  },
  {
   "cell_type": "markdown",
   "id": "464bc3eb-8836-4922-9d0e-0b1ea41dbffb",
   "metadata": {},
   "source": [
    "## SNUM"
   ]
  },
  {
   "cell_type": "code",
   "execution_count": 85,
   "id": "ef5a357f-dd40-450f-b7d2-c5c8438191c7",
   "metadata": {},
   "outputs": [],
   "source": [
    "def snum(a):\n",
    "    if a >= 0 :\n",
    "        return 0\n",
    "    else :\n",
    "        return 1"
   ]
  },
  {
   "cell_type": "markdown",
   "id": "13617216-3cc0-4595-aa22-d4cb8f9d9725",
   "metadata": {},
   "source": [
    "## SNG module"
   ]
  },
  {
   "cell_type": "code",
   "execution_count": 86,
   "id": "f1da4ccc-7f0c-4749-9892-756171bb6381",
   "metadata": {},
   "outputs": [],
   "source": [
    "def SNG(iIN,lfsr):\n",
    "    if iIN == 1:\n",
    "        iIN = 0.9999\n",
    "    sNUM = snum(iIN)\n",
    "    \n",
    "    bIN = flp2fix(iIN,args.full_bits,args.frac_bits).bFull\n",
    "    bFRAC = bIN[-(args.frac_bits):]\n",
    "    oAlist = []\n",
    "    \n",
    "    for k in range(2**(args.bBW)): #lfsr number generating\n",
    "        lNUM = lfsr[k]\n",
    "        a = Comp(bFRAC,lNUM,sNUM)\n",
    "        oAlist.append(a) #comparator of input a\n",
    "    \n",
    "    oAlist.insert(0,sNUM)\n",
    "    #sA = \"\".join(oAlist)\n",
    "    if bIN == args.full_bits*'0' :\n",
    "        return '0'*(2**(args.bBW)+1)\n",
    "    else :\n",
    "        return torch.tensor(oAlist)"
   ]
  },
  {
   "cell_type": "code",
   "execution_count": 87,
   "id": "1c4ed459-6d0c-4184-a704-72c6e56d136a",
   "metadata": {},
   "outputs": [],
   "source": [
    "def CountOne1(nIn):\n",
    "    n = 0\n",
    "    for num in nIn:\n",
    "        if num == 1 :\n",
    "            n += 1\n",
    "    if nIn[0] == 1 :\n",
    "        return n-1\n",
    "    else :\n",
    "        return n"
   ]
  },
  {
   "cell_type": "code",
   "execution_count": 88,
   "id": "458fbc68-f545-42b6-a9e3-02ca0f472d84",
   "metadata": {},
   "outputs": [],
   "source": [
    "def defSign1(nIn):\n",
    "    if nIn[0] == 1 :\n",
    "        return -1\n",
    "    else :\n",
    "        return 1"
   ]
  },
  {
   "cell_type": "code",
   "execution_count": 89,
   "id": "7769d258-2b2b-45b1-a74a-919352a69273",
   "metadata": {},
   "outputs": [],
   "source": [
    "def S2None(sIn):\n",
    "    s = defSign1(sIn)\n",
    "    n = CountOne1(sIn)\n",
    "    o = (n/(2**args.bBW))*s\n",
    "    return o"
   ]
  },
  {
   "cell_type": "code",
   "execution_count": 90,
   "id": "0be83f07-7990-4a55-a58c-d0d31a18ea93",
   "metadata": {},
   "outputs": [
    {
     "name": "stdout",
     "output_type": "stream",
     "text": [
      "-0.125\n",
      "-0.125\n"
     ]
    }
   ],
   "source": [
    "a = -random.random()\n",
    "b = flp2fix(a,args.full_bits,args.frac_bits).fFull\n",
    "print(b)\n",
    "lfsr = LFSRlist4()\n",
    "e = SNG(b,lfsr)\n",
    "f = S2None(e)\n",
    "\n",
    "print(f)"
   ]
  },
  {
   "cell_type": "code",
   "execution_count": 91,
   "id": "2b8bdd34-c4d5-49e7-9441-afff3bfcdf22",
   "metadata": {},
   "outputs": [
    {
     "name": "stdout",
     "output_type": "stream",
     "text": [
      "-0.3125\n",
      "10000010100111000\n",
      "-0.3125\n",
      "-0.8125\n",
      "10110111111111110\n",
      "-0.8125\n",
      "-0.6875\n",
      "11111111110010010\n",
      "-0.6875\n",
      "-0.9375\n",
      "11111111111111110\n",
      "-0.9375\n",
      "-0.5625\n",
      "10010011010111110\n",
      "-0.5625\n",
      "-0.8125\n",
      "11110110111111110\n",
      "-0.8125\n",
      "-0.5\n",
      "10101111000100110\n",
      "-0.5\n",
      "-0.1875\n",
      "10000000011100000\n",
      "-0.1875\n",
      "-0.625\n",
      "11110111110010010\n",
      "-0.625\n",
      "-0.9375\n",
      "11111111111111110\n",
      "-0.9375\n",
      "-0.4375\n",
      "11100000011010110\n",
      "-0.4375\n",
      "-0.0625\n",
      "10010000000000000\n",
      "-0.0625\n",
      "-0.3125\n",
      "10000001010011100\n",
      "-0.3125\n",
      "-0.75\n",
      "11111100110111110\n",
      "-0.75\n",
      "-0.5625\n",
      "11011111001001100\n",
      "-0.5625\n",
      "-0.6875\n",
      "11001111111111000\n",
      "-0.6875\n",
      "0.0\n"
     ]
    },
    {
     "ename": "AttributeError",
     "evalue": "'str' object has no attribute 'item'",
     "output_type": "error",
     "traceback": [
      "\u001b[0;31m---------------------------------------------------------------------------\u001b[0m",
      "\u001b[0;31mAttributeError\u001b[0m                            Traceback (most recent call last)",
      "\u001b[0;32m<ipython-input-91-2c9d5d6316e2>\u001b[0m in \u001b[0;36m<module>\u001b[0;34m\u001b[0m\n\u001b[1;32m      9\u001b[0m     \u001b[0mprint\u001b[0m\u001b[0;34m(\u001b[0m\u001b[0mb\u001b[0m\u001b[0;34m)\u001b[0m\u001b[0;34m\u001b[0m\u001b[0;34m\u001b[0m\u001b[0m\n\u001b[1;32m     10\u001b[0m     \u001b[0;32mfor\u001b[0m \u001b[0mn\u001b[0m \u001b[0;32min\u001b[0m \u001b[0mrange\u001b[0m\u001b[0;34m(\u001b[0m\u001b[0mlen\u001b[0m\u001b[0;34m(\u001b[0m\u001b[0me\u001b[0m\u001b[0;34m)\u001b[0m\u001b[0;34m)\u001b[0m \u001b[0;34m:\u001b[0m\u001b[0;34m\u001b[0m\u001b[0;34m\u001b[0m\u001b[0m\n\u001b[0;32m---> 11\u001b[0;31m         \u001b[0mprint\u001b[0m\u001b[0;34m(\u001b[0m\u001b[0me\u001b[0m\u001b[0;34m[\u001b[0m\u001b[0mn\u001b[0m\u001b[0;34m]\u001b[0m\u001b[0;34m.\u001b[0m\u001b[0mitem\u001b[0m\u001b[0;34m(\u001b[0m\u001b[0;34m)\u001b[0m\u001b[0;34m,\u001b[0m \u001b[0mend\u001b[0m \u001b[0;34m=\u001b[0m \u001b[0;34m''\u001b[0m\u001b[0;34m)\u001b[0m\u001b[0;34m\u001b[0m\u001b[0;34m\u001b[0m\u001b[0m\n\u001b[0m\u001b[1;32m     12\u001b[0m     \u001b[0mf\u001b[0m \u001b[0;34m=\u001b[0m \u001b[0mS2None\u001b[0m\u001b[0;34m(\u001b[0m\u001b[0me\u001b[0m\u001b[0;34m)\u001b[0m\u001b[0;34m\u001b[0m\u001b[0;34m\u001b[0m\u001b[0m\n\u001b[1;32m     13\u001b[0m     \u001b[0mprint\u001b[0m\u001b[0;34m(\u001b[0m\u001b[0;34m''\u001b[0m\u001b[0;34m)\u001b[0m\u001b[0;34m\u001b[0m\u001b[0;34m\u001b[0m\u001b[0m\n",
      "\u001b[0;31mAttributeError\u001b[0m: 'str' object has no attribute 'item'"
     ]
    }
   ],
   "source": [
    "for i in range(100):\n",
    "    a = -random.random()\n",
    "    b = flp2fix(a,args.full_bits,args.frac_bits).fFull\n",
    "    c = flp2fix(a,args.full_bits,args.frac_bits).bFull\n",
    "    d = flp2fix(b,args.full_bits,args.frac_bits).fFull\n",
    "    lfsr = LFSRlist4()\n",
    "    \n",
    "    e = SNG(b,lfsr)\n",
    "    print(b)\n",
    "    for n in range(len(e)) :\n",
    "        print(e[n].item(), end = '')\n",
    "    f = S2None(e)\n",
    "    print('')\n",
    "    print(f)\n",
    "    \n",
    "    \n"
   ]
  },
  {
   "cell_type": "code",
   "execution_count": null,
   "id": "84ac53bc-9e7c-4e52-b922-435907072a6c",
   "metadata": {},
   "outputs": [],
   "source": []
  },
  {
   "cell_type": "code",
   "execution_count": null,
   "id": "4f8d2988-3f94-4dfa-b5e1-8b293df7ae26",
   "metadata": {},
   "outputs": [],
   "source": []
  }
 ],
 "metadata": {
  "kernelspec": {
   "display_name": "Python 3",
   "language": "python",
   "name": "python3"
  },
  "language_info": {
   "codemirror_mode": {
    "name": "ipython",
    "version": 3
   },
   "file_extension": ".py",
   "mimetype": "text/x-python",
   "name": "python",
   "nbconvert_exporter": "python",
   "pygments_lexer": "ipython3",
   "version": "3.6.9"
  }
 },
 "nbformat": 4,
 "nbformat_minor": 5
}
