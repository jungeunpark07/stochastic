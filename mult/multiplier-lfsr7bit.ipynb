{
 "cells": [
  {
   "cell_type": "markdown",
   "id": "afacf477-15ca-4272-9ef4-50fe8b25c049",
   "metadata": {},
   "source": [
    "# Multiplier TEST code"
   ]
  },
  {
   "cell_type": "markdown",
   "id": "960913e5-e961-4db4-9099-842bbcc11d64",
   "metadata": {},
   "source": [
    "fixed number to stochastic conversion & multiply & stochastic to fixed number conversion"
   ]
  },
  {
   "cell_type": "markdown",
   "id": "7f984cce-e977-4513-b0a6-166d637b3ee2",
   "metadata": {},
   "source": [
    "## Import"
   ]
  },
  {
   "cell_type": "code",
   "execution_count": 1,
   "id": "bdcc4eb8-eb20-495f-905c-8d69ccf0004b",
   "metadata": {},
   "outputs": [],
   "source": [
    "import random, struct, math\n",
    "import torch\n",
    "import numpy as np\n",
    "import torch.nn as nn \n",
    "import argparse\n",
    "import warnings\n",
    "warnings.simplefilter(action='ignore', category=FutureWarning)"
   ]
  },
  {
   "cell_type": "markdown",
   "id": "bf874b06-00d8-467a-a39a-f83b2848a131",
   "metadata": {},
   "source": [
    "## Parser"
   ]
  },
  {
   "cell_type": "code",
   "execution_count": 2,
   "id": "60f1fa45-99e9-4316-97bd-110193848caf",
   "metadata": {},
   "outputs": [],
   "source": [
    "parser = argparse.ArgumentParser(description='fixed_mac')\n",
    "parser.add_argument('--full_bits', type=int, default=16, help='Number of Quantization Bits')\n",
    "parser.add_argument('--frac_bits', type=int, default=7, help='Number of Quantization Bits')\n",
    "parser.add_argument('--bBW', type=int, default=7, help='Number of bit width')\n",
    "args = parser.parse_args(args=[])"
   ]
  },
  {
   "cell_type": "markdown",
   "id": "1f797a9d-6b00-4116-877f-0a71225be9b4",
   "metadata": {},
   "source": [
    "## Definition"
   ]
  },
  {
   "cell_type": "markdown",
   "id": "f8529249-9e0f-4d60-8c40-b9b3c52975ca",
   "metadata": {},
   "source": [
    "### int2bin : int number to binary number"
   ]
  },
  {
   "cell_type": "code",
   "execution_count": 3,
   "id": "5c99e84a-3245-4d68-ad2c-9d3c4e675aa7",
   "metadata": {},
   "outputs": [],
   "source": [
    "def int2bin(iIn,iBW):\n",
    "    iBW = iBW + 1\n",
    "    if iIn >= 0:\n",
    "        bOut = bin(iIn).replace('0b','').rjust(iBW,'0')\n",
    "    else :\n",
    "        bOut = bin(iIn & (pow(2,iBW)-1)).replace('0b','').rjust(iBW,'1')\n",
    "    return bOut[1:]"
   ]
  },
  {
   "cell_type": "markdown",
   "id": "95c7b4eb-1d2d-4010-be45-3a105fa58baa",
   "metadata": {},
   "source": [
    "### XOR : xor gate with string"
   ]
  },
  {
   "cell_type": "code",
   "execution_count": 4,
   "id": "017c485f-9342-44bc-b1b5-2bd809a0e6d3",
   "metadata": {},
   "outputs": [],
   "source": [
    "def XOR(iA,iB):\n",
    "    if iA != iB :\n",
    "        iOut = 1\n",
    "    else : \n",
    "        iOut = 0\n",
    "    return iOut"
   ]
  },
  {
   "cell_type": "markdown",
   "id": "f33ef61a-6fe2-47bf-82d8-ef6f749abd9b",
   "metadata": {},
   "source": [
    "### SNUM : sign number determination"
   ]
  },
  {
   "cell_type": "code",
   "execution_count": 5,
   "id": "315a5931-74d7-49ce-989e-65584b5b8162",
   "metadata": {},
   "outputs": [],
   "source": [
    "def snum(a):\n",
    "    if a >= 0 :\n",
    "        return 0\n",
    "    else :\n",
    "        return 1"
   ]
  },
  {
   "cell_type": "markdown",
   "id": "ef6d8847-cdda-4a03-b241-11832b4db1e1",
   "metadata": {},
   "source": [
    "## binInv : binary Inversion"
   ]
  },
  {
   "cell_type": "code",
   "execution_count": 6,
   "id": "875a2ff8-c704-4be4-b95a-c6de4fad1806",
   "metadata": {},
   "outputs": [],
   "source": [
    "def binInv(bIn):\n",
    "    bOut = bin(int(bIn,2)^(pow(2,len(bIn))-1)).replace('0b','').rjust(len(bIn),'0')\n",
    "    return bOut"
   ]
  },
  {
   "cell_type": "markdown",
   "id": "58fa9a22-a10e-40e4-b057-67055a68e33e",
   "metadata": {},
   "source": [
    "### fxp & flp2fix : floating number to fixed number conversion"
   ]
  },
  {
   "cell_type": "code",
   "execution_count": 7,
   "id": "1d11c5ea-e139-4b7c-bdc5-d297cf82579c",
   "metadata": {},
   "outputs": [],
   "source": [
    "class fxp:\n",
    "    def __init__(self, bIn, iBWF):\n",
    "        self.iFullBW = len(bIn)\n",
    "        self.iIntgBW = self.iFullBW - iBWF\n",
    "        self.bSign = bIn[0]\n",
    "        self.bIntg = bIn[:self.iIntgBW]\n",
    "        self.bFrac = bIn[self.iIntgBW:]\n",
    "        self.fFull = 0\n",
    "        try:\n",
    "            for idx, bit in enumerate(bIn):\n",
    "                if idx == 0:\n",
    "                    self.fFull = self.fFull + int(bit,2) * -pow(2, self.iIntgBW - 1)\n",
    "                else:\n",
    "                    self.fFull = self.fFull + int(bit,2) * pow(2, self.iIntgBW - 1 - idx)\n",
    "        except:\n",
    "            print(bIn)\n",
    "        self.dispFull = self.bIntg +\".\"+ self.bFrac \n",
    "        return"
   ]
  },
  {
   "cell_type": "code",
   "execution_count": 8,
   "id": "7c6aa085-7abf-4abe-acd9-9fa75a19a0bd",
   "metadata": {},
   "outputs": [],
   "source": [
    "class flp2fix:\n",
    "    def __init__(self, fIn, iBW, iBWF):\n",
    "        self.fMin = - 2 ** (iBW - iBWF - 1)\n",
    "        self.fMax = (2 ** (iBW-1) - 1) * (2 ** -iBWF)\n",
    "        self.fResol = 2 ** -iBWF\n",
    "        if fIn < self.fMin or fIn > self.fMax:\n",
    "            print(f'({fIn}): Out of input range ({self.fMax}/{self.fMin}) during flp -> fix converting ')\n",
    "        self.iBW = iBW\n",
    "        self.iBWI = iBW - iBWF\n",
    "        self.iBWF = iBWF\n",
    "\n",
    "        self.iFLP2INT = abs(int(fIn * 2 ** iBWF))\n",
    "        if fIn < 0:\n",
    "            self.iFLP2INT = 2 ** (iBW-1) - self.iFLP2INT\n",
    "\n",
    "        if fIn >= 0:\n",
    "            self.bFull = bin(self.iFLP2INT)[2:].rjust(iBW, '0')\n",
    "        else:\n",
    "            self.bFull = '1'+bin(self.iFLP2INT)[2:].rjust(iBW-1, '0')\n",
    "            if len(self.bFull) > iBW:\n",
    "                self.bFull = '0' * iBW\n",
    "\n",
    "        self.cssFxp = fxp(self.bFull, self.iBWF)\n",
    "        self.bSign = self.cssFxp.bSign\n",
    "        self.bIntg = self.cssFxp.bIntg\n",
    "        self.bFrac = self.cssFxp.bFrac\n",
    "        self.fFull = self.cssFxp.fFull\n",
    "        return"
   ]
  },
  {
   "cell_type": "code",
   "execution_count": 9,
   "id": "e650843c-9a72-48ef-8e1f-c969a1d1a888",
   "metadata": {},
   "outputs": [],
   "source": [
    "def flp2fixTensor(fIn, iBW, iBWF):\n",
    "    fMin = - 2 ** (iBW - iBWF - 1)\n",
    "    fMax = (2 ** (iBW-1) - 1) * (2 ** -iBWF)\n",
    "    fList = []\n",
    "    for aTensor in fIn.view(-1):\n",
    "        fList.append(flp2fix(aTensor, iBW, iBWF).fFull)\n",
    "    return torch.tensor(fList).view(fIn.size())"
   ]
  },
  {
   "cell_type": "markdown",
   "id": "1b0d04af-ae7a-4d24-a4cd-39c1d86c1580",
   "metadata": {},
   "source": [
    "### LFSR : make pseudorandom number bitstream"
   ]
  },
  {
   "cell_type": "code",
   "execution_count": 10,
   "id": "bfb2e170-fae0-4d5e-9fd4-12703e1202c7",
   "metadata": {},
   "outputs": [],
   "source": [
    "class LFSR7:\n",
    "    def Random(self):\n",
    "        self.b0 = eval(f'str(random.randint(0,1))')\n",
    "        self.b1 = eval(f'str(random.randint(0,1))')\n",
    "        self.b2 = eval(f'str(random.randint(0,1))')\n",
    "        self.b3 = eval(f'str(random.randint(0,1))')\n",
    "        self.b4 = eval(f'str(random.randint(0,1))')\n",
    "        self.b5 = eval(f'str(random.randint(0,1))')\n",
    "        self.b6 = eval(f'str(random.randint(0,1))')\n",
    "        if int(self.b0) + int(self.b1) + int(self.b2) + int(self.b3) + int(self.b4) + int(self.b5) + int(self.b6) == 0 :\n",
    "            self.b0 = eval(f'str(random.randint(0,1))')\n",
    "            self.b1 = eval(f'str(random.randint(0,1))')\n",
    "            self.b2 = eval(f'str(random.randint(0,1))')\n",
    "            self.b3 = eval(f'str(random.randint(0,1))')\n",
    "            self.b4 = eval(f'str(random.randint(0,1))')\n",
    "            self.b5 = eval(f'str(random.randint(0,1))')\n",
    "            self.b6 = eval(f'str(random.randint(0,1))')\n",
    "        return self.b0 + self.b1 + self.b2 + self.b3 + self.b4 + self.b5 + self.b6\n",
    "    \n",
    "    def Normal(self,stream):\n",
    "        self.b0 = str(XOR(int(stream[5]),int(stream[6])))\n",
    "        self.b1 = str(stream[0])\n",
    "        self.b2 = str(stream[1])\n",
    "        self.b3 = str(stream[2])\n",
    "        self.b4 = str(stream[3])\n",
    "        self.b5 = str(stream[4])\n",
    "        self.b6 = str(stream[5])\n",
    "        \n",
    "        return self.b0 + self.b1 + self.b2 + self.b3 + self.b4 + self.b5 + self.b6\n",
    "    \n",
    "    def Allzero(self):\n",
    "        self.b0 = '0'\n",
    "        self.b1 = '0'\n",
    "        self.b2 = '0'\n",
    "        self.b3 = '0'\n",
    "        self.b4 = '0'\n",
    "        self.b5 = '0'\n",
    "        self.b6 = '0'\n",
    "        \n",
    "        return self.b0 + self.b1 + self.b2 + self.b3 + self.b4 + self.b5 + self.b6"
   ]
  },
  {
   "cell_type": "markdown",
   "id": "5393f658-d697-44a5-a176-970ad07f72a8",
   "metadata": {},
   "source": [
    "### LFSRlist : make pseudorandom number bitstream with 2**bBW cycle"
   ]
  },
  {
   "cell_type": "code",
   "execution_count": 11,
   "id": "73dced22-c04e-41a1-a888-f2617dbccb61",
   "metadata": {},
   "outputs": [],
   "source": [
    "def LFSRlist7():\n",
    "    lfsr = LFSR7()\n",
    "    lfsrlist = []\n",
    "    for k in range(2**(args.bBW)-1): #lfsr number generating\n",
    "        if k == 0:\n",
    "            lfsrlist.append(lfsr.Random())\n",
    "        else :\n",
    "            lfsrlist.append(lfsr.Normal(lfsrlist[k-1]))\n",
    "        if (k == 2**(args.bBW)-2):\n",
    "            lfsrlist.append(lfsr.Allzero())\n",
    "    \n",
    "    if (args.bBW) != args.frac_bits :\n",
    "        if args.bBW < args.frac_bits :\n",
    "            for i in range(len(lfsrlist)):\n",
    "                lfsrlist[i] = lfsrlist[i] + (args.frac_bits-args.bBW)*'0'\n",
    "        else :\n",
    "            print(\"it can't work\")\n",
    "            return 0\n",
    "    \n",
    "    return lfsrlist"
   ]
  },
  {
   "cell_type": "markdown",
   "id": "072408b7-569c-42d5-8c7b-04066a4a1638",
   "metadata": {},
   "source": [
    "### Comp : Comparator in SNG"
   ]
  },
  {
   "cell_type": "code",
   "execution_count": 12,
   "id": "ab250e95-c7ce-4bcc-8953-2c0d2e36dc55",
   "metadata": {},
   "outputs": [],
   "source": [
    "def Comp(a,lfsr,snum): #lfsr number < origin number , output = 1\n",
    "    for com in range(0,len(a)):\n",
    "        oA = 0\n",
    "        if a[com]!=lfsr[com]:\n",
    "            if(int(a[com]) > int(lfsr[com])):\n",
    "                oA = 1\n",
    "            else :\n",
    "                oA = 0\n",
    "            break\n",
    "    return XOR(oA,snum)"
   ]
  },
  {
   "cell_type": "markdown",
   "id": "5d9bd200-f244-4ea9-af57-b32365f4f14b",
   "metadata": {},
   "source": [
    "### Perm : module for permutation SNG "
   ]
  },
  {
   "cell_type": "code",
   "execution_count": 13,
   "id": "0a43b3af-b20e-49ac-b758-268d1cc4003a",
   "metadata": {},
   "outputs": [],
   "source": [
    "def perm(a):\n",
    "    al = len(a)\n",
    "    blist = []\n",
    "    if args.frac_bits == args.bBW : \n",
    "        for i in range(al) :\n",
    "            blist.append(a[al-i-1])\n",
    "    elif args.frac_bits > args.bBW :\n",
    "        for i in range(al-(args.frac_bits-args.bBW)) :\n",
    "            blist.append((a[al-(args.frac_bits-args.bBW)-i-1]))\n",
    "    b = \"\".join(blist)\n",
    "    b = b + ('0'*(args.frac_bits-args.bBW))\n",
    "    return b"
   ]
  },
  {
   "cell_type": "markdown",
   "id": "39526659-6ac2-4dcd-a1ed-d72083ab2bd2",
   "metadata": {},
   "source": [
    "### findMaxMin : find abs max value in act tensor"
   ]
  },
  {
   "cell_type": "code",
   "execution_count": 14,
   "id": "d64bb7c5-ddf2-49a8-a3ec-fcb1a2eef032",
   "metadata": {},
   "outputs": [],
   "source": [
    "def findMaxMin(data):\n",
    "    max = torch.max(data)\n",
    "    min = torch.min(data)\n",
    "    SF=torch.max(abs(max),abs(min)).item()\n",
    "    return SF"
   ]
  },
  {
   "cell_type": "markdown",
   "id": "9ab4ab89-9ed0-4ce1-ab63-af32bb54ed3d",
   "metadata": {},
   "source": [
    "### SNG : stochastic number generator module"
   ]
  },
  {
   "cell_type": "code",
   "execution_count": 15,
   "id": "6fee2d67-5eba-4d35-b553-621ab2c30620",
   "metadata": {},
   "outputs": [],
   "source": [
    "def SNG(iIN,lfsr):\n",
    "    if iIN == 1:\n",
    "        iIN = 0.9999\n",
    "    sNUM = snum(iIN)\n",
    "    \n",
    "    bIN = flp2fix(iIN,args.full_bits,args.frac_bits).bFull\n",
    "    bFRAC = bIN[-(args.frac_bits):]\n",
    "    oAlist = []\n",
    "    \n",
    "    for k in range(2**(args.bBW)): #lfsr number generating\n",
    "        lNUM = lfsr[k]\n",
    "        a = Comp(bFRAC,lNUM,sNUM)\n",
    "        oAlist.append(a) #comparator of input a\n",
    "    \n",
    "    oAlist.insert(0,sNUM)\n",
    "    #sA = \"\".join(oAlist)\n",
    "    if bIN == args.full_bits*'0' :\n",
    "        return torch.zeros((2**args.bBW)+1)\n",
    "    else :\n",
    "        return torch.tensor(oAlist)"
   ]
  },
  {
   "cell_type": "markdown",
   "id": "a1a5bae5-06a9-4dcd-a2f9-9a143cfd372e",
   "metadata": {},
   "source": [
    "### SNG_P : permutation stochastic number generator module"
   ]
  },
  {
   "cell_type": "code",
   "execution_count": 16,
   "id": "d2e43aba-6ff3-4d24-94ca-54f5f1c55065",
   "metadata": {
    "tags": []
   },
   "outputs": [],
   "source": [
    "def SNG_P(iIN,lfsr):\n",
    "    if iIN == 1:\n",
    "        iIN = 0.9999\n",
    "    sNUM = snum(iIN)\n",
    "    \n",
    "    bIN = flp2fix(iIN,args.full_bits,args.frac_bits).bFull\n",
    "    bFRAC = bIN[-(args.frac_bits):]\n",
    "    oAlist = []\n",
    "    \n",
    "    for k in range(2**(args.bBW)): #lfsr number generating\n",
    "        lNUM = perm(lfsr[k])\n",
    "        a = Comp(bFRAC,lNUM,sNUM)\n",
    "        oAlist.append(a) #comparator of input a\n",
    "    \n",
    "    oAlist.insert(0,sNUM)\n",
    "    #sA = \"\".join(oAlist)\n",
    "    if bIN == args.full_bits*'0' :\n",
    "        return torch.zeros((2**args.bBW)+1)\n",
    "    else :\n",
    "        return torch.tensor(oAlist)"
   ]
  },
  {
   "cell_type": "markdown",
   "id": "74e9e15a-bd56-4d74-a36a-2df8aa9e1e6d",
   "metadata": {},
   "source": [
    "### SNGnumpy : SNG module with numpy"
   ]
  },
  {
   "cell_type": "code",
   "execution_count": 17,
   "id": "1f8320d3-8877-4616-a13b-6b53184d57e6",
   "metadata": {},
   "outputs": [],
   "source": [
    "def SNGtensor(fIn,lfsr):\n",
    "    sList = []\n",
    "    fsize = list(fIn.size())\n",
    "    fsize.insert(2,(2**args.bBW)+1)\n",
    "    for aTensor in fIn.view(-1):\n",
    "        sList.append(SNG(aTensor,lfsr))\n",
    "    \n",
    "    c = torch.stack(sList,0)\n",
    "    return c.view(fsize)"
   ]
  },
  {
   "cell_type": "markdown",
   "id": "4166a6fc-665f-45f0-949b-627c200980a2",
   "metadata": {},
   "source": [
    "### SNGpnumpy : permutation SNG module with numpy"
   ]
  },
  {
   "cell_type": "code",
   "execution_count": 18,
   "id": "23fe4aad-cdce-490e-bd7c-4fca61c88840",
   "metadata": {},
   "outputs": [],
   "source": [
    "def SNGPtensor(fIn,lfsr):\n",
    "    sList = []\n",
    "    fsize = list(fIn.size())\n",
    "    fsize.insert(2,(2**args.bBW)+1)\n",
    "    for aTensor in fIn.view(-1):\n",
    "        sList.append(SNG_P(aTensor,lfsr))\n",
    "    \n",
    "    c = torch.stack(sList,0)\n",
    "    return c.view(fsize)"
   ]
  },
  {
   "cell_type": "markdown",
   "id": "b902bdca-2acc-46a0-89d9-4547652c045f",
   "metadata": {},
   "source": [
    "### CountOne : count 1 in stochastic number bit stream"
   ]
  },
  {
   "cell_type": "code",
   "execution_count": 19,
   "id": "a7e5f761-6341-459d-9780-46779c06c307",
   "metadata": {},
   "outputs": [],
   "source": [
    "def CountOne(nIn):\n",
    "    nlist = []\n",
    "    for num in nIn.view(-1,nIn.size()[-1]):\n",
    "        n = 0\n",
    "        for a in num:\n",
    "            if a == 1 :\n",
    "                n += 1\n",
    "        if num[0] == 1 :\n",
    "            nlist.append(n-1)\n",
    "        else :\n",
    "            nlist.append(n)\n",
    "    return torch.tensor(nlist).view(nIn.size()[0],nIn.size()[1])"
   ]
  },
  {
   "cell_type": "code",
   "execution_count": 20,
   "id": "20d5ee3f-7481-4465-ac53-ff8d600d0f9e",
   "metadata": {},
   "outputs": [],
   "source": [
    "def CountOne1(nIn):\n",
    "    n = 0\n",
    "    for num in nIn :\n",
    "        if num.item() == 1 :\n",
    "            n += 1\n",
    "    if nIn[0].item() == 1 :\n",
    "        n = n - 1\n",
    "    return n"
   ]
  },
  {
   "cell_type": "markdown",
   "id": "8ff8cd5f-14f1-403c-9595-53c3df503d42",
   "metadata": {},
   "source": [
    "### defSign : sign determination in S2N "
   ]
  },
  {
   "cell_type": "code",
   "execution_count": 21,
   "id": "0d2851f4-d19b-4d7d-800c-6cfd0c7a3d80",
   "metadata": {},
   "outputs": [],
   "source": [
    "def defSign(nIn):\n",
    "    nlist = []\n",
    "    k = nIn.view(-1,nIn.size()[-1])\n",
    "    for num in nIn.view(-1,nIn.size()[-1]):\n",
    "        if num[0] == 1 :\n",
    "            nlist.append(-1)\n",
    "        else :\n",
    "            nlist.append(1)\n",
    "    return torch.tensor(nlist).view(nIn.size()[0],nIn.size()[1])"
   ]
  },
  {
   "cell_type": "code",
   "execution_count": 22,
   "id": "0004bf7e-4485-4c1a-8667-3ebb576911cc",
   "metadata": {},
   "outputs": [],
   "source": [
    "def defSign1(nIn):\n",
    "    if nIn[0].item() == 1 :\n",
    "        return -1\n",
    "    else :\n",
    "        return 1"
   ]
  },
  {
   "cell_type": "markdown",
   "id": "98e7c6eb-fa2b-4a3a-a5b6-53e62d8f5971",
   "metadata": {},
   "source": [
    "### Multiplier"
   ]
  },
  {
   "cell_type": "code",
   "execution_count": 23,
   "id": "3ac652ce-db79-4254-a26c-1483d18fb2a5",
   "metadata": {},
   "outputs": [
    {
     "name": "stdout",
     "output_type": "stream",
     "text": [
      "0\n"
     ]
    }
   ],
   "source": [
    "anum = 1\n",
    "bnum = 0\n",
    "print(anum&bnum)"
   ]
  },
  {
   "cell_type": "code",
   "execution_count": 24,
   "id": "3ef42b58-b198-4087-b476-4fddff483bcc",
   "metadata": {},
   "outputs": [],
   "source": [
    "def mul(a,b):\n",
    "    outlist = []\n",
    "    \n",
    "    if len(a) != len(b) :\n",
    "        print(\"length of string is different\")\n",
    "        return 0\n",
    "    \n",
    "    outlist.append(XOR(a[0],b[0]))\n",
    "    \n",
    "    for anum,bnum in zip(a[1:],b[1:]) :\n",
    "        try :\n",
    "            outlist.append(int(anum)&int(bnum))\n",
    "        except RuntimeError :\n",
    "            print(anum.type())\n",
    "            print(bnum.type())\n",
    "            \n",
    "    o = torch.tensor(outlist)\n",
    "    return o "
   ]
  },
  {
   "cell_type": "code",
   "execution_count": 25,
   "id": "bc5673fe-d92a-406e-99d6-89307f74a155",
   "metadata": {},
   "outputs": [],
   "source": [
    "def S2None(sIn,SF):\n",
    "    s = defSign1(sIn)\n",
    "    n = CountOne1(sIn)\n",
    "    o = (n/(2**args.bBW))*s*SF\n",
    "    return o"
   ]
  },
  {
   "cell_type": "code",
   "execution_count": 26,
   "id": "257bae8b-5c30-493e-8067-75aca103f0e2",
   "metadata": {},
   "outputs": [],
   "source": [
    "def multensor(aIn,bIn,aSF,wSF):\n",
    "    mList = []\n",
    "    a = aIn\n",
    "    b = bIn.view(bIn.size()[1],bIn.size()[0],-1)\n",
    "    print(a.size())\n",
    "    print(b.size())\n",
    "    for i in range(a.size()[0]):\n",
    "        for j in range(b.size()[1]):\n",
    "            sum = 0\n",
    "            for k in range(a.size()[1]):\n",
    "                sum += S2None(mul(a[i][k],b[k][j]),aSF*wSF)\n",
    "            mList.append(sum)\n",
    "    return torch.tensor(mList).view(a.shape[0],b.shape[1])"
   ]
  },
  {
   "cell_type": "code",
   "execution_count": 27,
   "id": "550a666f-53be-41d2-b037-7a2dca7b2c6d",
   "metadata": {},
   "outputs": [],
   "source": [
    "def FindError(a,b):\n",
    "    elist = []\n",
    "    for anum,bnum in zip(a.view(-1),b.view(-1)):\n",
    "        e = (abs(bnum-anum)*100).item()\n",
    "        elist.append(e)\n",
    "    return torch.tensor(elist).reshape(a.size())"
   ]
  },
  {
   "cell_type": "markdown",
   "id": "54840cc1-7914-4881-8c0e-0a034a285063",
   "metadata": {
    "tags": []
   },
   "source": [
    "# TEST : LFSR 7 bit"
   ]
  },
  {
   "cell_type": "code",
   "execution_count": 28,
   "id": "71b2c437-bbb2-412d-a8d2-5649887cea9d",
   "metadata": {},
   "outputs": [],
   "source": [
    "act = torch.rand((64,784))-torch.randint(5,(64,784))+torch.randint(5,(64,784))\n",
    "wei = torch.rand((32,784))-torch.randint(5,(32,784))+torch.randint(5,(32,784))"
   ]
  },
  {
   "cell_type": "code",
   "execution_count": 29,
   "id": "ec7e15e0-8734-453b-9de8-7a924c747c18",
   "metadata": {},
   "outputs": [],
   "source": [
    "aSF = findMaxMin(act)\n",
    "wSF = findMaxMin(wei)"
   ]
  },
  {
   "cell_type": "code",
   "execution_count": 30,
   "id": "10a18b20-8ba3-4833-9963-1e9aabaafd74",
   "metadata": {},
   "outputs": [
    {
     "name": "stdout",
     "output_type": "stream",
     "text": [
      "4.999833106994629\n"
     ]
    }
   ],
   "source": [
    "print(aSF)"
   ]
  },
  {
   "cell_type": "code",
   "execution_count": 31,
   "id": "a16fc208-a034-4f4c-8c2f-ce01fcfe758b",
   "metadata": {},
   "outputs": [],
   "source": [
    "act_f = flp2fixTensor(act,args.full_bits,args.frac_bits)\n",
    "wei_f = flp2fixTensor(wei,args.full_bits,args.frac_bits)"
   ]
  },
  {
   "cell_type": "markdown",
   "id": "acc99703-3b8d-4692-ba17-5d533836b3b4",
   "metadata": {},
   "source": [
    "### number to stochastic conversion"
   ]
  },
  {
   "cell_type": "code",
   "execution_count": 32,
   "id": "a09f13f6-d775-4b63-814a-415211520128",
   "metadata": {},
   "outputs": [],
   "source": [
    "def N2S(p,i,SF,lfsr):\n",
    "    if p == 0 : \n",
    "        o = SNGtensor(i/SF,lfsrlist)\n",
    "    else :\n",
    "        o = SNGPtensor(i/SF,lfsrlist)\n",
    "    return o"
   ]
  },
  {
   "cell_type": "markdown",
   "id": "1598cac1-76c3-438b-970f-7acf67b65a90",
   "metadata": {},
   "source": [
    "def N2S(act,wei,aSF,wSF):\n",
    "    \n",
    "    lfsrlist = LFSRlist7()\n",
    "    \n",
    "    a = SNGtensor(act/aSF,lfsrlist)\n",
    "    w = SNGPtensor(wei/wSF,lfsrlist)\n",
    "    \n",
    "    return a,w"
   ]
  },
  {
   "cell_type": "markdown",
   "id": "5d4bf4e8-8560-4a21-9bea-3faa9a1309e0",
   "metadata": {},
   "source": [
    "### stochastic to number conversion"
   ]
  },
  {
   "cell_type": "code",
   "execution_count": 33,
   "id": "d63d3f6e-7554-40a8-a1c4-18b9fbfd6786",
   "metadata": {},
   "outputs": [],
   "source": [
    "def S2N(i,SF):\n",
    "    s = defSign(i)\n",
    "    c = (CountOne(i)/(2**args.bBW))*SF*s\n",
    "    return c"
   ]
  },
  {
   "cell_type": "markdown",
   "id": "14410b71-d320-4c77-bb21-9d5706468b1d",
   "metadata": {},
   "source": [
    "def S2N(a,w,aSF,wSF):\n",
    "    \n",
    "    sa = defSign(a)\n",
    "    sw = defSign(w)\n",
    "\n",
    "    ca = (CountOne(a)/(2**args.bBW)) * aSF *sa\n",
    "    cw = (CountOne(w)/(2**args.bBW)) * wSF *sw\n",
    "\n",
    "    return ca,cw"
   ]
  },
  {
   "cell_type": "code",
   "execution_count": 34,
   "id": "91f8c467-1e85-43c9-87b4-9b67fec3f16e",
   "metadata": {},
   "outputs": [
    {
     "name": "stdout",
     "output_type": "stream",
     "text": [
      "4.999833106994629\n",
      "4.999783515930176\n"
     ]
    }
   ],
   "source": [
    "print(aSF)\n",
    "print(wSF)"
   ]
  },
  {
   "cell_type": "code",
   "execution_count": 35,
   "id": "d575aff2-f4b7-47cd-a980-a64264e06c4a",
   "metadata": {},
   "outputs": [],
   "source": [
    "lfsrlist = LFSRlist7()"
   ]
  },
  {
   "cell_type": "code",
   "execution_count": 36,
   "id": "2756ce7a-fffd-4488-9822-0b3c908a999a",
   "metadata": {},
   "outputs": [],
   "source": [
    "a = N2S(0,act,aSF,lfsrlist)\n",
    "w = N2S(1,wei,wSF,lfsrlist)"
   ]
  },
  {
   "cell_type": "code",
   "execution_count": 41,
   "id": "b43dce20-3009-423c-8b53-44fdf5833103",
   "metadata": {},
   "outputs": [],
   "source": [
    "ca = S2N(a,aSF*wSF)\n",
    "cw = S2N(w,aSF*wSF)"
   ]
  },
  {
   "cell_type": "code",
   "execution_count": 43,
   "id": "2d09a898-37a8-4715-96e5-5c8b0dd10759",
   "metadata": {},
   "outputs": [
    {
     "name": "stdout",
     "output_type": "stream",
     "text": [
      "tensor([0., 0., 0., 0., 0., 0., 0., 0., 1., 0., 0., 0., 0., 0., 0., 0., 0., 0.,\n",
      "        0., 0., 0., 0., 0., 0., 0., 0., 0., 0., 0., 0., 0., 0., 0., 0., 0., 0.,\n",
      "        0., 0., 0., 0., 0., 0., 0., 0., 0., 0., 0., 0., 0., 0., 0., 0., 0., 0.,\n",
      "        0., 0., 0., 0., 0., 0., 0., 0., 0., 0., 0., 0., 0., 0., 0., 0., 0., 0.,\n",
      "        0., 0., 0., 0., 0., 0., 0., 1., 1., 1., 0., 0., 0., 1., 1., 1., 0., 0.,\n",
      "        0., 0., 0., 1., 0., 0., 0., 0., 0., 1., 0., 0., 0., 0., 0., 0., 0., 0.,\n",
      "        0., 1., 0., 0., 0., 0., 0., 0., 0., 0., 0., 0., 0., 0., 0., 0., 0., 0.,\n",
      "        0., 0., 1.])\n"
     ]
    }
   ],
   "source": [
    "print(a[0][0])"
   ]
  },
  {
   "cell_type": "code",
   "execution_count": 45,
   "id": "e7e4afef-a13e-4a61-9e81-a2f08d1e7ec1",
   "metadata": {},
   "outputs": [
    {
     "name": "stdout",
     "output_type": "stream",
     "text": [
      "torch.Size([129])\n"
     ]
    }
   ],
   "source": [
    "print((a[0][0].size()))"
   ]
  },
  {
   "cell_type": "code",
   "execution_count": 39,
   "id": "bf2dd44d-3972-4e23-b215-078ecd700f19",
   "metadata": {},
   "outputs": [],
   "source": [
    "def multest(aIn,wIn):\n",
    "    olist = []\n",
    "    for a,w in zip(aIn.view(-1,aIn.size()[-1]),wIn.view(-1,wIn.size()[-1])):\n",
    "        o = mul(a,w)\n",
    "        olist.append(o)\n",
    "    out = torch.stack(olist,0)\n",
    "    return out.view(aIn.size()[0],wIn.size()[1],-1)"
   ]
  },
  {
   "cell_type": "code",
   "execution_count": 40,
   "id": "0af2ba34-0513-4e04-b008-3067d493f964",
   "metadata": {},
   "outputs": [
    {
     "ename": "RuntimeError",
     "evalue": "shape '[64, 784, -1]' is invalid for input of size 3236352",
     "output_type": "error",
     "traceback": [
      "\u001b[0;31m---------------------------------------------------------------------------\u001b[0m",
      "\u001b[0;31mRuntimeError\u001b[0m                              Traceback (most recent call last)",
      "\u001b[0;32m<ipython-input-40-e768fac06abe>\u001b[0m in \u001b[0;36m<module>\u001b[0;34m\u001b[0m\n\u001b[0;32m----> 1\u001b[0;31m \u001b[0mc\u001b[0m \u001b[0;34m=\u001b[0m \u001b[0mmultest\u001b[0m\u001b[0;34m(\u001b[0m\u001b[0ma\u001b[0m\u001b[0;34m,\u001b[0m\u001b[0mw\u001b[0m\u001b[0;34m)\u001b[0m\u001b[0;34m\u001b[0m\u001b[0;34m\u001b[0m\u001b[0m\n\u001b[0m",
      "\u001b[0;32m<ipython-input-39-b5c2b5698998>\u001b[0m in \u001b[0;36mmultest\u001b[0;34m(aIn, wIn)\u001b[0m\n\u001b[1;32m      5\u001b[0m         \u001b[0molist\u001b[0m\u001b[0;34m.\u001b[0m\u001b[0mappend\u001b[0m\u001b[0;34m(\u001b[0m\u001b[0mo\u001b[0m\u001b[0;34m)\u001b[0m\u001b[0;34m\u001b[0m\u001b[0;34m\u001b[0m\u001b[0m\n\u001b[1;32m      6\u001b[0m     \u001b[0mout\u001b[0m \u001b[0;34m=\u001b[0m \u001b[0mtorch\u001b[0m\u001b[0;34m.\u001b[0m\u001b[0mstack\u001b[0m\u001b[0;34m(\u001b[0m\u001b[0molist\u001b[0m\u001b[0;34m,\u001b[0m\u001b[0;36m0\u001b[0m\u001b[0;34m)\u001b[0m\u001b[0;34m\u001b[0m\u001b[0;34m\u001b[0m\u001b[0m\n\u001b[0;32m----> 7\u001b[0;31m     \u001b[0;32mreturn\u001b[0m \u001b[0mout\u001b[0m\u001b[0;34m.\u001b[0m\u001b[0mview\u001b[0m\u001b[0;34m(\u001b[0m\u001b[0maIn\u001b[0m\u001b[0;34m.\u001b[0m\u001b[0msize\u001b[0m\u001b[0;34m(\u001b[0m\u001b[0;34m)\u001b[0m\u001b[0;34m[\u001b[0m\u001b[0;36m0\u001b[0m\u001b[0;34m]\u001b[0m\u001b[0;34m,\u001b[0m\u001b[0mwIn\u001b[0m\u001b[0;34m.\u001b[0m\u001b[0msize\u001b[0m\u001b[0;34m(\u001b[0m\u001b[0;34m)\u001b[0m\u001b[0;34m[\u001b[0m\u001b[0;36m1\u001b[0m\u001b[0;34m]\u001b[0m\u001b[0;34m,\u001b[0m\u001b[0;34m-\u001b[0m\u001b[0;36m1\u001b[0m\u001b[0;34m)\u001b[0m\u001b[0;34m\u001b[0m\u001b[0;34m\u001b[0m\u001b[0m\n\u001b[0m",
      "\u001b[0;31mRuntimeError\u001b[0m: shape '[64, 784, -1]' is invalid for input of size 3236352"
     ]
    }
   ],
   "source": [
    "c = multest(a,w)"
   ]
  },
  {
   "cell_type": "code",
   "execution_count": null,
   "id": "52fd2478-4085-4ca0-ba79-adcfe052db4f",
   "metadata": {},
   "outputs": [],
   "source": [
    "print(c.size())"
   ]
  },
  {
   "cell_type": "code",
   "execution_count": null,
   "id": "2055226f-a656-4166-ae33-f11865082467",
   "metadata": {},
   "outputs": [],
   "source": [
    "o = S2N(c,aSF*wSF)"
   ]
  },
  {
   "cell_type": "code",
   "execution_count": null,
   "id": "cb2c36e8-3a8e-42f9-aee0-4bdec611bacc",
   "metadata": {},
   "outputs": [],
   "source": [
    "error = FindError(o,act_f*wei_f)"
   ]
  },
  {
   "cell_type": "code",
   "execution_count": null,
   "id": "41fa3c69-fc0c-4b1a-bbfd-1b76295ec919",
   "metadata": {
    "tags": []
   },
   "outputs": [],
   "source": [
    "print(f'error mean value is : {torch.mean(error)}')\n",
    "print(f'------------------------------------------------------------------------------------------')\n",
    "for i in range(10):\n",
    "    for j in range(15):\n",
    "        print(f'act value is            : {act_f[i][j]:^25}( --> {ca[i][j]})')\n",
    "        print(f'wei value is            : {wei_f[i][j]:^25}( --> {cw[i][j]})')\n",
    "        print(f'stochastic mul value is : {o[i][j]:^25}( --> {(ca[i][j]/aSF) * (cw[i][j]/wSF)})')\n",
    "        print(f'fixed mul value is      : {act_f[i][j]*wei_f[i][j]:^25}')\n",
    "        print(f'error is                : {error[i][j]:^25}')\n",
    "        print(f'------------------------------------------------------------------------------------------')"
   ]
  },
  {
   "cell_type": "markdown",
   "id": "a6cac55a-b385-42dc-8323-5a1b6c049395",
   "metadata": {},
   "source": [
    "## ERROR"
   ]
  },
  {
   "cell_type": "code",
   "execution_count": null,
   "id": "376b3499-19ff-49e4-b02d-58d588db858b",
   "metadata": {},
   "outputs": [],
   "source": [
    "def MSE(a,b):\n",
    "    s = 0\n",
    "    n = 0\n",
    "\n",
    "    for i in range(10):\n",
    "        for j in range(15):\n",
    "            square = (((a[i][j])-b[i][j])**2).item()\n",
    "            s += square\n",
    "            n   += 1\n",
    "    error = s/n\n",
    "    return error"
   ]
  },
  {
   "cell_type": "markdown",
   "id": "5df53d37-3850-43b6-b804-cb68dc12cddf",
   "metadata": {},
   "source": [
    "## ERROR : 7bit LFSR"
   ]
  },
  {
   "cell_type": "code",
   "execution_count": null,
   "id": "90b473d1-45cf-4b9e-920c-0cbaf2a3faa0",
   "metadata": {},
   "outputs": [],
   "source": [
    "MSE(act_f*wei_f,o)"
   ]
  },
  {
   "cell_type": "code",
   "execution_count": null,
   "id": "0b63e7cc-4268-4ddb-bf0a-b694832a934d",
   "metadata": {},
   "outputs": [],
   "source": []
  }
 ],
 "metadata": {
  "kernelspec": {
   "display_name": "Python 3",
   "language": "python",
   "name": "python3"
  },
  "language_info": {
   "codemirror_mode": {
    "name": "ipython",
    "version": 3
   },
   "file_extension": ".py",
   "mimetype": "text/x-python",
   "name": "python",
   "nbconvert_exporter": "python",
   "pygments_lexer": "ipython3",
   "version": "3.6.9"
  }
 },
 "nbformat": 4,
 "nbformat_minor": 5
}
